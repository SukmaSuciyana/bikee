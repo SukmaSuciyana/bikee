{
  "cells": [
    {
      "cell_type": "markdown",
      "metadata": {
        "id": "cP5zh7Ww85Fm"
      },
      "source": [
        "# **Proyek Analisis Data: Bike Sharing Dataset**\n",
        "- Nama: Sukma Suciyana\n",
        "- Email: sukmasuciyanaa@gmail.com\n",
        "- Id Dicoding: sukmasuci"
      ]
    },
    {
      "cell_type": "markdown",
      "metadata": {
        "id": "ggwOFmpI88dG"
      },
      "source": [
        "## **Menentukan Pertanyaan Bisnis**"
      ]
    },
    {
      "cell_type": "markdown",
      "metadata": {
        "id": "6irqmTtg8-IC"
      },
      "source": [
        "- Apakah cuaca buruk menyebabkan penurunan yang signifikan dalam jumlah penyewaan?  \n",
        "- Apakah terdapat peningkatan jumlah penyewaan seiring berjalannya waktu, atau apakah ada perbedaan yang signifikan antara tahun? \n",
        "- Apakah pengguna Registered lebih aktif pada hari kerja, sementara pengguna Casual lebih aktif pada hari libur atau akhir pekan?  \n",
        "- Apakah musim tertentu, seperti musim panas, lebih mendukung penyewaan oleh pengguna Registered dibandingkan dengan pengguna Casual? \n",
        "- Apakah kondisi cuaca yang lebih hangat dan kering cenderung meningkatkan jumlah penyewaan?  "
      ]
    },
    {
      "cell_type": "markdown",
      "metadata": {
        "id": "EueHsNk89AsY"
      },
      "source": [
        "## **Menyiapkan semua library yang dibutuhkan**"
      ]
    },
    {
      "cell_type": "markdown",
      "metadata": {
        "id": "s3ZACUZHhx_2"
      },
      "source": [
        "Sebelum memulai proyek, pastikan bahwa semua library yang dibutuhkan telah diimpor"
      ]
    },
    {
      "cell_type": "code",
      "execution_count": null,
      "metadata": {
        "id": "4cmWv4qc8xWu"
      },
      "outputs": [],
      "source": [
        "import numpy as np\n",
        "import pandas as pd\n",
        "import plotly.express as px\n",
        "from plotly.subplots import make_subplots\n",
        "import plotly.graph_objects as go\n",
        "from datetime import datetime"
      ]
    },
    {
      "cell_type": "markdown",
      "metadata": {
        "id": "7DwSpkkZ9BqV"
      },
      "source": [
        "## **Data Wrangling**"
      ]
    },
    {
      "cell_type": "markdown",
      "metadata": {
        "id": "ZuJuLGxe9D9O"
      },
      "source": [
        "### **Gathering Data**"
      ]
    },
    {
      "cell_type": "markdown",
      "metadata": {
        "id": "BsgkgIxEiMkt"
      },
      "source": [
        "Pada tahap ini kita akan mengumpulkan data yang telah kita kumpulkan. Karena saya memilih **Bike Sharing Dataset**, maka saya mengimpor file **day.csv** dan **hr.csv**"
      ]
    },
    {
      "cell_type": "markdown",
      "metadata": {
        "id": "muVsNbDsjdyz"
      },
      "source": [
        "### **Load tabel day**"
      ]
    },
    {
      "cell_type": "code",
      "execution_count": 3,
      "metadata": {
        "colab": {
          "base_uri": "https://localhost:8080/",
          "height": 206
        },
        "id": "Rg3wtvOr9DUm",
        "outputId": "807fd77f-b889-44ef-89a6-5b30dc2f3a63"
      },
      "outputs": [
        {
          "data": {
            "text/html": [
              "<div>\n",
              "<style scoped>\n",
              "    .dataframe tbody tr th:only-of-type {\n",
              "        vertical-align: middle;\n",
              "    }\n",
              "\n",
              "    .dataframe tbody tr th {\n",
              "        vertical-align: top;\n",
              "    }\n",
              "\n",
              "    .dataframe thead th {\n",
              "        text-align: right;\n",
              "    }\n",
              "</style>\n",
              "<table border=\"1\" class=\"dataframe\">\n",
              "  <thead>\n",
              "    <tr style=\"text-align: right;\">\n",
              "      <th></th>\n",
              "      <th>dteday</th>\n",
              "      <th>season</th>\n",
              "      <th>yr</th>\n",
              "      <th>mnth</th>\n",
              "      <th>holiday</th>\n",
              "      <th>weekday</th>\n",
              "      <th>workingday</th>\n",
              "      <th>weathersit</th>\n",
              "      <th>temp</th>\n",
              "      <th>atemp</th>\n",
              "      <th>hum</th>\n",
              "      <th>windspeed</th>\n",
              "      <th>casual</th>\n",
              "      <th>registered</th>\n",
              "      <th>cnt</th>\n",
              "    </tr>\n",
              "    <tr>\n",
              "      <th>instant</th>\n",
              "      <th></th>\n",
              "      <th></th>\n",
              "      <th></th>\n",
              "      <th></th>\n",
              "      <th></th>\n",
              "      <th></th>\n",
              "      <th></th>\n",
              "      <th></th>\n",
              "      <th></th>\n",
              "      <th></th>\n",
              "      <th></th>\n",
              "      <th></th>\n",
              "      <th></th>\n",
              "      <th></th>\n",
              "      <th></th>\n",
              "    </tr>\n",
              "  </thead>\n",
              "  <tbody>\n",
              "    <tr>\n",
              "      <th>1</th>\n",
              "      <td>2011-01-01</td>\n",
              "      <td>1</td>\n",
              "      <td>0</td>\n",
              "      <td>1</td>\n",
              "      <td>0</td>\n",
              "      <td>6</td>\n",
              "      <td>0</td>\n",
              "      <td>2</td>\n",
              "      <td>0.344167</td>\n",
              "      <td>0.363625</td>\n",
              "      <td>0.805833</td>\n",
              "      <td>0.160446</td>\n",
              "      <td>331</td>\n",
              "      <td>654</td>\n",
              "      <td>985</td>\n",
              "    </tr>\n",
              "    <tr>\n",
              "      <th>2</th>\n",
              "      <td>2011-01-02</td>\n",
              "      <td>1</td>\n",
              "      <td>0</td>\n",
              "      <td>1</td>\n",
              "      <td>0</td>\n",
              "      <td>0</td>\n",
              "      <td>0</td>\n",
              "      <td>2</td>\n",
              "      <td>0.363478</td>\n",
              "      <td>0.353739</td>\n",
              "      <td>0.696087</td>\n",
              "      <td>0.248539</td>\n",
              "      <td>131</td>\n",
              "      <td>670</td>\n",
              "      <td>801</td>\n",
              "    </tr>\n",
              "    <tr>\n",
              "      <th>3</th>\n",
              "      <td>2011-01-03</td>\n",
              "      <td>1</td>\n",
              "      <td>0</td>\n",
              "      <td>1</td>\n",
              "      <td>0</td>\n",
              "      <td>1</td>\n",
              "      <td>1</td>\n",
              "      <td>1</td>\n",
              "      <td>0.196364</td>\n",
              "      <td>0.189405</td>\n",
              "      <td>0.437273</td>\n",
              "      <td>0.248309</td>\n",
              "      <td>120</td>\n",
              "      <td>1229</td>\n",
              "      <td>1349</td>\n",
              "    </tr>\n",
              "    <tr>\n",
              "      <th>4</th>\n",
              "      <td>2011-01-04</td>\n",
              "      <td>1</td>\n",
              "      <td>0</td>\n",
              "      <td>1</td>\n",
              "      <td>0</td>\n",
              "      <td>2</td>\n",
              "      <td>1</td>\n",
              "      <td>1</td>\n",
              "      <td>0.200000</td>\n",
              "      <td>0.212122</td>\n",
              "      <td>0.590435</td>\n",
              "      <td>0.160296</td>\n",
              "      <td>108</td>\n",
              "      <td>1454</td>\n",
              "      <td>1562</td>\n",
              "    </tr>\n",
              "    <tr>\n",
              "      <th>5</th>\n",
              "      <td>2011-01-05</td>\n",
              "      <td>1</td>\n",
              "      <td>0</td>\n",
              "      <td>1</td>\n",
              "      <td>0</td>\n",
              "      <td>3</td>\n",
              "      <td>1</td>\n",
              "      <td>1</td>\n",
              "      <td>0.226957</td>\n",
              "      <td>0.229270</td>\n",
              "      <td>0.436957</td>\n",
              "      <td>0.186900</td>\n",
              "      <td>82</td>\n",
              "      <td>1518</td>\n",
              "      <td>1600</td>\n",
              "    </tr>\n",
              "  </tbody>\n",
              "</table>\n",
              "</div>"
            ],
            "text/plain": [
              "             dteday  season  yr  mnth  holiday  weekday  workingday  \\\n",
              "instant                                                               \n",
              "1        2011-01-01       1   0     1        0        6           0   \n",
              "2        2011-01-02       1   0     1        0        0           0   \n",
              "3        2011-01-03       1   0     1        0        1           1   \n",
              "4        2011-01-04       1   0     1        0        2           1   \n",
              "5        2011-01-05       1   0     1        0        3           1   \n",
              "\n",
              "         weathersit      temp     atemp       hum  windspeed  casual  \\\n",
              "instant                                                                \n",
              "1                 2  0.344167  0.363625  0.805833   0.160446     331   \n",
              "2                 2  0.363478  0.353739  0.696087   0.248539     131   \n",
              "3                 1  0.196364  0.189405  0.437273   0.248309     120   \n",
              "4                 1  0.200000  0.212122  0.590435   0.160296     108   \n",
              "5                 1  0.226957  0.229270  0.436957   0.186900      82   \n",
              "\n",
              "         registered   cnt  \n",
              "instant                    \n",
              "1               654   985  \n",
              "2               670   801  \n",
              "3              1229  1349  \n",
              "4              1454  1562  \n",
              "5              1518  1600  "
            ]
          },
          "execution_count": 3,
          "metadata": {},
          "output_type": "execute_result"
        }
      ],
      "source": [
        "day_df = pd.read_csv(\"data/day.csv\", index_col=\"instant\")\n",
        "day_df.head()"
      ]
    },
    {
      "cell_type": "markdown",
      "metadata": {
        "id": "iKit5fiCjiPQ"
      },
      "source": [
        "### **Load tabel hr**"
      ]
    },
    {
      "cell_type": "code",
      "execution_count": 4,
      "metadata": {
        "colab": {
          "base_uri": "https://localhost:8080/",
          "height": 206
        },
        "id": "KPPxJOvOilAq",
        "outputId": "c70d7eca-62cd-4a7a-c6c1-4456948ba3e4"
      },
      "outputs": [
        {
          "data": {
            "text/html": [
              "<div>\n",
              "<style scoped>\n",
              "    .dataframe tbody tr th:only-of-type {\n",
              "        vertical-align: middle;\n",
              "    }\n",
              "\n",
              "    .dataframe tbody tr th {\n",
              "        vertical-align: top;\n",
              "    }\n",
              "\n",
              "    .dataframe thead th {\n",
              "        text-align: right;\n",
              "    }\n",
              "</style>\n",
              "<table border=\"1\" class=\"dataframe\">\n",
              "  <thead>\n",
              "    <tr style=\"text-align: right;\">\n",
              "      <th></th>\n",
              "      <th>dteday</th>\n",
              "      <th>season</th>\n",
              "      <th>yr</th>\n",
              "      <th>mnth</th>\n",
              "      <th>hr</th>\n",
              "      <th>holiday</th>\n",
              "      <th>weekday</th>\n",
              "      <th>workingday</th>\n",
              "      <th>weathersit</th>\n",
              "      <th>temp</th>\n",
              "      <th>atemp</th>\n",
              "      <th>hum</th>\n",
              "      <th>windspeed</th>\n",
              "      <th>casual</th>\n",
              "      <th>registered</th>\n",
              "      <th>cnt</th>\n",
              "    </tr>\n",
              "    <tr>\n",
              "      <th>instant</th>\n",
              "      <th></th>\n",
              "      <th></th>\n",
              "      <th></th>\n",
              "      <th></th>\n",
              "      <th></th>\n",
              "      <th></th>\n",
              "      <th></th>\n",
              "      <th></th>\n",
              "      <th></th>\n",
              "      <th></th>\n",
              "      <th></th>\n",
              "      <th></th>\n",
              "      <th></th>\n",
              "      <th></th>\n",
              "      <th></th>\n",
              "      <th></th>\n",
              "    </tr>\n",
              "  </thead>\n",
              "  <tbody>\n",
              "    <tr>\n",
              "      <th>1</th>\n",
              "      <td>2011-01-01</td>\n",
              "      <td>1</td>\n",
              "      <td>0</td>\n",
              "      <td>1</td>\n",
              "      <td>0</td>\n",
              "      <td>0</td>\n",
              "      <td>6</td>\n",
              "      <td>0</td>\n",
              "      <td>1</td>\n",
              "      <td>0.24</td>\n",
              "      <td>0.2879</td>\n",
              "      <td>0.81</td>\n",
              "      <td>0.0</td>\n",
              "      <td>3</td>\n",
              "      <td>13</td>\n",
              "      <td>16</td>\n",
              "    </tr>\n",
              "    <tr>\n",
              "      <th>2</th>\n",
              "      <td>2011-01-01</td>\n",
              "      <td>1</td>\n",
              "      <td>0</td>\n",
              "      <td>1</td>\n",
              "      <td>1</td>\n",
              "      <td>0</td>\n",
              "      <td>6</td>\n",
              "      <td>0</td>\n",
              "      <td>1</td>\n",
              "      <td>0.22</td>\n",
              "      <td>0.2727</td>\n",
              "      <td>0.80</td>\n",
              "      <td>0.0</td>\n",
              "      <td>8</td>\n",
              "      <td>32</td>\n",
              "      <td>40</td>\n",
              "    </tr>\n",
              "    <tr>\n",
              "      <th>3</th>\n",
              "      <td>2011-01-01</td>\n",
              "      <td>1</td>\n",
              "      <td>0</td>\n",
              "      <td>1</td>\n",
              "      <td>2</td>\n",
              "      <td>0</td>\n",
              "      <td>6</td>\n",
              "      <td>0</td>\n",
              "      <td>1</td>\n",
              "      <td>0.22</td>\n",
              "      <td>0.2727</td>\n",
              "      <td>0.80</td>\n",
              "      <td>0.0</td>\n",
              "      <td>5</td>\n",
              "      <td>27</td>\n",
              "      <td>32</td>\n",
              "    </tr>\n",
              "    <tr>\n",
              "      <th>4</th>\n",
              "      <td>2011-01-01</td>\n",
              "      <td>1</td>\n",
              "      <td>0</td>\n",
              "      <td>1</td>\n",
              "      <td>3</td>\n",
              "      <td>0</td>\n",
              "      <td>6</td>\n",
              "      <td>0</td>\n",
              "      <td>1</td>\n",
              "      <td>0.24</td>\n",
              "      <td>0.2879</td>\n",
              "      <td>0.75</td>\n",
              "      <td>0.0</td>\n",
              "      <td>3</td>\n",
              "      <td>10</td>\n",
              "      <td>13</td>\n",
              "    </tr>\n",
              "    <tr>\n",
              "      <th>5</th>\n",
              "      <td>2011-01-01</td>\n",
              "      <td>1</td>\n",
              "      <td>0</td>\n",
              "      <td>1</td>\n",
              "      <td>4</td>\n",
              "      <td>0</td>\n",
              "      <td>6</td>\n",
              "      <td>0</td>\n",
              "      <td>1</td>\n",
              "      <td>0.24</td>\n",
              "      <td>0.2879</td>\n",
              "      <td>0.75</td>\n",
              "      <td>0.0</td>\n",
              "      <td>0</td>\n",
              "      <td>1</td>\n",
              "      <td>1</td>\n",
              "    </tr>\n",
              "  </tbody>\n",
              "</table>\n",
              "</div>"
            ],
            "text/plain": [
              "             dteday  season  yr  mnth  hr  holiday  weekday  workingday  \\\n",
              "instant                                                                   \n",
              "1        2011-01-01       1   0     1   0        0        6           0   \n",
              "2        2011-01-01       1   0     1   1        0        6           0   \n",
              "3        2011-01-01       1   0     1   2        0        6           0   \n",
              "4        2011-01-01       1   0     1   3        0        6           0   \n",
              "5        2011-01-01       1   0     1   4        0        6           0   \n",
              "\n",
              "         weathersit  temp   atemp   hum  windspeed  casual  registered  cnt  \n",
              "instant                                                                      \n",
              "1                 1  0.24  0.2879  0.81        0.0       3          13   16  \n",
              "2                 1  0.22  0.2727  0.80        0.0       8          32   40  \n",
              "3                 1  0.22  0.2727  0.80        0.0       5          27   32  \n",
              "4                 1  0.24  0.2879  0.75        0.0       3          10   13  \n",
              "5                 1  0.24  0.2879  0.75        0.0       0           1    1  "
            ]
          },
          "execution_count": 4,
          "metadata": {},
          "output_type": "execute_result"
        }
      ],
      "source": [
        "hr_df = pd.read_csv(\"data/hour.csv\", index_col=\"instant\")\n",
        "hr_df.head()"
      ]
    },
    {
      "cell_type": "markdown",
      "metadata": {
        "id": "BvZAfrSH9F2U"
      },
      "source": [
        "### Assessing Data"
      ]
    },
    {
      "cell_type": "markdown",
      "metadata": {
        "id": "ctCvHaW9jn7t"
      },
      "source": [
        "### **Menilai day_df**"
      ]
    },
    {
      "cell_type": "markdown",
      "metadata": {
        "id": "vPss7RTjpHCn"
      },
      "source": [
        "1. Mengecek tipe data day_df"
      ]
    },
    {
      "cell_type": "code",
      "execution_count": 5,
      "metadata": {
        "colab": {
          "base_uri": "https://localhost:8080/"
        },
        "id": "fx7PaLsV9G8M",
        "outputId": "9b44562e-d81c-4e24-9a21-63db71dcbbd3"
      },
      "outputs": [
        {
          "name": "stdout",
          "output_type": "stream",
          "text": [
            "<class 'pandas.core.frame.DataFrame'>\n",
            "Int64Index: 731 entries, 1 to 731\n",
            "Data columns (total 15 columns):\n",
            " #   Column      Non-Null Count  Dtype  \n",
            "---  ------      --------------  -----  \n",
            " 0   dteday      731 non-null    object \n",
            " 1   season      731 non-null    int64  \n",
            " 2   yr          731 non-null    int64  \n",
            " 3   mnth        731 non-null    int64  \n",
            " 4   holiday     731 non-null    int64  \n",
            " 5   weekday     731 non-null    int64  \n",
            " 6   workingday  731 non-null    int64  \n",
            " 7   weathersit  731 non-null    int64  \n",
            " 8   temp        731 non-null    float64\n",
            " 9   atemp       731 non-null    float64\n",
            " 10  hum         731 non-null    float64\n",
            " 11  windspeed   731 non-null    float64\n",
            " 12  casual      731 non-null    int64  \n",
            " 13  registered  731 non-null    int64  \n",
            " 14  cnt         731 non-null    int64  \n",
            "dtypes: float64(4), int64(10), object(1)\n",
            "memory usage: 91.4+ KB\n"
          ]
        }
      ],
      "source": [
        "day_df.info()"
      ]
    },
    {
      "cell_type": "markdown",
      "metadata": {
        "id": "aehGEBWCkA2U"
      },
      "source": [
        "Dapat kita lihat diatas, terdapat 1 tipe data berdasarkan kolomnya yang tidak sesuai. Data yang perlu diperbaiki adalah: dteday -> datetime"
      ]
    },
    {
      "cell_type": "markdown",
      "metadata": {
        "id": "bAqLYE6apJuU"
      },
      "source": [
        "2. Mengecek apakah ada missing values"
      ]
    },
    {
      "cell_type": "code",
      "execution_count": 6,
      "metadata": {
        "colab": {
          "base_uri": "https://localhost:8080/"
        },
        "id": "yAuILIlYpNob",
        "outputId": "2d90ad5c-3d6c-4637-dfd2-51e69eba8dee"
      },
      "outputs": [
        {
          "data": {
            "text/plain": [
              "dteday        0\n",
              "season        0\n",
              "yr            0\n",
              "mnth          0\n",
              "holiday       0\n",
              "weekday       0\n",
              "workingday    0\n",
              "weathersit    0\n",
              "temp          0\n",
              "atemp         0\n",
              "hum           0\n",
              "windspeed     0\n",
              "casual        0\n",
              "registered    0\n",
              "cnt           0\n",
              "dtype: int64"
            ]
          },
          "execution_count": 6,
          "metadata": {},
          "output_type": "execute_result"
        }
      ],
      "source": [
        "day_df.isna().sum()"
      ]
    },
    {
      "cell_type": "markdown",
      "metadata": {
        "id": "7DBZ61QHphyj"
      },
      "source": [
        "Dapat kita simpulkan bahwa tabel day_df tidak ada missing values, berarti aman."
      ]
    },
    {
      "cell_type": "markdown",
      "metadata": {
        "id": "3DNowUifptLY"
      },
      "source": [
        "3. Mengecek apakah ada duplicate data"
      ]
    },
    {
      "cell_type": "code",
      "execution_count": 7,
      "metadata": {
        "colab": {
          "base_uri": "https://localhost:8080/"
        },
        "id": "fXnuxiD5pA8L",
        "outputId": "4b21a63e-2a6a-4a15-df8a-15c2c4294439"
      },
      "outputs": [
        {
          "name": "stdout",
          "output_type": "stream",
          "text": [
            "Jumlah duplikasi data:  0\n"
          ]
        }
      ],
      "source": [
        "print(\"Jumlah duplikasi data: \", day_df.duplicated().sum())"
      ]
    },
    {
      "cell_type": "markdown",
      "metadata": {
        "id": "ltdz1GLdp_1c"
      },
      "source": [
        "Pada tabel day_df terdapat 0 data yang double, artinya semua data bersifat unik."
      ]
    },
    {
      "cell_type": "markdown",
      "metadata": {
        "id": "qfYOgQSqqZIv"
      },
      "source": [
        "4. Mengecek apakah terdapat keanehan pada nilai statistiknya"
      ]
    },
    {
      "cell_type": "code",
      "execution_count": 8,
      "metadata": {
        "colab": {
          "base_uri": "https://localhost:8080/",
          "height": 320
        },
        "id": "-O50DO_aqgKP",
        "outputId": "5314537d-ea47-4c28-a372-2bd46f88bc7c"
      },
      "outputs": [
        {
          "data": {
            "text/html": [
              "<div>\n",
              "<style scoped>\n",
              "    .dataframe tbody tr th:only-of-type {\n",
              "        vertical-align: middle;\n",
              "    }\n",
              "\n",
              "    .dataframe tbody tr th {\n",
              "        vertical-align: top;\n",
              "    }\n",
              "\n",
              "    .dataframe thead th {\n",
              "        text-align: right;\n",
              "    }\n",
              "</style>\n",
              "<table border=\"1\" class=\"dataframe\">\n",
              "  <thead>\n",
              "    <tr style=\"text-align: right;\">\n",
              "      <th></th>\n",
              "      <th>season</th>\n",
              "      <th>yr</th>\n",
              "      <th>mnth</th>\n",
              "      <th>holiday</th>\n",
              "      <th>weekday</th>\n",
              "      <th>workingday</th>\n",
              "      <th>weathersit</th>\n",
              "      <th>temp</th>\n",
              "      <th>atemp</th>\n",
              "      <th>hum</th>\n",
              "      <th>windspeed</th>\n",
              "      <th>casual</th>\n",
              "      <th>registered</th>\n",
              "      <th>cnt</th>\n",
              "    </tr>\n",
              "  </thead>\n",
              "  <tbody>\n",
              "    <tr>\n",
              "      <th>count</th>\n",
              "      <td>731.000000</td>\n",
              "      <td>731.000000</td>\n",
              "      <td>731.000000</td>\n",
              "      <td>731.000000</td>\n",
              "      <td>731.000000</td>\n",
              "      <td>731.000000</td>\n",
              "      <td>731.000000</td>\n",
              "      <td>731.000000</td>\n",
              "      <td>731.000000</td>\n",
              "      <td>731.000000</td>\n",
              "      <td>731.000000</td>\n",
              "      <td>731.000000</td>\n",
              "      <td>731.000000</td>\n",
              "      <td>731.000000</td>\n",
              "    </tr>\n",
              "    <tr>\n",
              "      <th>mean</th>\n",
              "      <td>2.496580</td>\n",
              "      <td>0.500684</td>\n",
              "      <td>6.519836</td>\n",
              "      <td>0.028728</td>\n",
              "      <td>2.997264</td>\n",
              "      <td>0.683995</td>\n",
              "      <td>1.395349</td>\n",
              "      <td>0.495385</td>\n",
              "      <td>0.474354</td>\n",
              "      <td>0.627894</td>\n",
              "      <td>0.190486</td>\n",
              "      <td>848.176471</td>\n",
              "      <td>3656.172367</td>\n",
              "      <td>4504.348837</td>\n",
              "    </tr>\n",
              "    <tr>\n",
              "      <th>std</th>\n",
              "      <td>1.110807</td>\n",
              "      <td>0.500342</td>\n",
              "      <td>3.451913</td>\n",
              "      <td>0.167155</td>\n",
              "      <td>2.004787</td>\n",
              "      <td>0.465233</td>\n",
              "      <td>0.544894</td>\n",
              "      <td>0.183051</td>\n",
              "      <td>0.162961</td>\n",
              "      <td>0.142429</td>\n",
              "      <td>0.077498</td>\n",
              "      <td>686.622488</td>\n",
              "      <td>1560.256377</td>\n",
              "      <td>1937.211452</td>\n",
              "    </tr>\n",
              "    <tr>\n",
              "      <th>min</th>\n",
              "      <td>1.000000</td>\n",
              "      <td>0.000000</td>\n",
              "      <td>1.000000</td>\n",
              "      <td>0.000000</td>\n",
              "      <td>0.000000</td>\n",
              "      <td>0.000000</td>\n",
              "      <td>1.000000</td>\n",
              "      <td>0.059130</td>\n",
              "      <td>0.079070</td>\n",
              "      <td>0.000000</td>\n",
              "      <td>0.022392</td>\n",
              "      <td>2.000000</td>\n",
              "      <td>20.000000</td>\n",
              "      <td>22.000000</td>\n",
              "    </tr>\n",
              "    <tr>\n",
              "      <th>25%</th>\n",
              "      <td>2.000000</td>\n",
              "      <td>0.000000</td>\n",
              "      <td>4.000000</td>\n",
              "      <td>0.000000</td>\n",
              "      <td>1.000000</td>\n",
              "      <td>0.000000</td>\n",
              "      <td>1.000000</td>\n",
              "      <td>0.337083</td>\n",
              "      <td>0.337842</td>\n",
              "      <td>0.520000</td>\n",
              "      <td>0.134950</td>\n",
              "      <td>315.500000</td>\n",
              "      <td>2497.000000</td>\n",
              "      <td>3152.000000</td>\n",
              "    </tr>\n",
              "    <tr>\n",
              "      <th>50%</th>\n",
              "      <td>3.000000</td>\n",
              "      <td>1.000000</td>\n",
              "      <td>7.000000</td>\n",
              "      <td>0.000000</td>\n",
              "      <td>3.000000</td>\n",
              "      <td>1.000000</td>\n",
              "      <td>1.000000</td>\n",
              "      <td>0.498333</td>\n",
              "      <td>0.486733</td>\n",
              "      <td>0.626667</td>\n",
              "      <td>0.180975</td>\n",
              "      <td>713.000000</td>\n",
              "      <td>3662.000000</td>\n",
              "      <td>4548.000000</td>\n",
              "    </tr>\n",
              "    <tr>\n",
              "      <th>75%</th>\n",
              "      <td>3.000000</td>\n",
              "      <td>1.000000</td>\n",
              "      <td>10.000000</td>\n",
              "      <td>0.000000</td>\n",
              "      <td>5.000000</td>\n",
              "      <td>1.000000</td>\n",
              "      <td>2.000000</td>\n",
              "      <td>0.655417</td>\n",
              "      <td>0.608602</td>\n",
              "      <td>0.730209</td>\n",
              "      <td>0.233214</td>\n",
              "      <td>1096.000000</td>\n",
              "      <td>4776.500000</td>\n",
              "      <td>5956.000000</td>\n",
              "    </tr>\n",
              "    <tr>\n",
              "      <th>max</th>\n",
              "      <td>4.000000</td>\n",
              "      <td>1.000000</td>\n",
              "      <td>12.000000</td>\n",
              "      <td>1.000000</td>\n",
              "      <td>6.000000</td>\n",
              "      <td>1.000000</td>\n",
              "      <td>3.000000</td>\n",
              "      <td>0.861667</td>\n",
              "      <td>0.840896</td>\n",
              "      <td>0.972500</td>\n",
              "      <td>0.507463</td>\n",
              "      <td>3410.000000</td>\n",
              "      <td>6946.000000</td>\n",
              "      <td>8714.000000</td>\n",
              "    </tr>\n",
              "  </tbody>\n",
              "</table>\n",
              "</div>"
            ],
            "text/plain": [
              "           season          yr        mnth     holiday     weekday  workingday  \\\n",
              "count  731.000000  731.000000  731.000000  731.000000  731.000000  731.000000   \n",
              "mean     2.496580    0.500684    6.519836    0.028728    2.997264    0.683995   \n",
              "std      1.110807    0.500342    3.451913    0.167155    2.004787    0.465233   \n",
              "min      1.000000    0.000000    1.000000    0.000000    0.000000    0.000000   \n",
              "25%      2.000000    0.000000    4.000000    0.000000    1.000000    0.000000   \n",
              "50%      3.000000    1.000000    7.000000    0.000000    3.000000    1.000000   \n",
              "75%      3.000000    1.000000   10.000000    0.000000    5.000000    1.000000   \n",
              "max      4.000000    1.000000   12.000000    1.000000    6.000000    1.000000   \n",
              "\n",
              "       weathersit        temp       atemp         hum   windspeed  \\\n",
              "count  731.000000  731.000000  731.000000  731.000000  731.000000   \n",
              "mean     1.395349    0.495385    0.474354    0.627894    0.190486   \n",
              "std      0.544894    0.183051    0.162961    0.142429    0.077498   \n",
              "min      1.000000    0.059130    0.079070    0.000000    0.022392   \n",
              "25%      1.000000    0.337083    0.337842    0.520000    0.134950   \n",
              "50%      1.000000    0.498333    0.486733    0.626667    0.180975   \n",
              "75%      2.000000    0.655417    0.608602    0.730209    0.233214   \n",
              "max      3.000000    0.861667    0.840896    0.972500    0.507463   \n",
              "\n",
              "            casual   registered          cnt  \n",
              "count   731.000000   731.000000   731.000000  \n",
              "mean    848.176471  3656.172367  4504.348837  \n",
              "std     686.622488  1560.256377  1937.211452  \n",
              "min       2.000000    20.000000    22.000000  \n",
              "25%     315.500000  2497.000000  3152.000000  \n",
              "50%     713.000000  3662.000000  4548.000000  \n",
              "75%    1096.000000  4776.500000  5956.000000  \n",
              "max    3410.000000  6946.000000  8714.000000  "
            ]
          },
          "execution_count": 8,
          "metadata": {},
          "output_type": "execute_result"
        }
      ],
      "source": [
        "day_df.describe()"
      ]
    },
    {
      "cell_type": "markdown",
      "metadata": {
        "id": "GaYS5rfFrEvx"
      },
      "source": [
        "Dapat kita lihat diatas, tidak ada keanehan pada nilai statistiknya."
      ]
    },
    {
      "cell_type": "markdown",
      "metadata": {
        "id": "I331x435rKGz"
      },
      "source": [
        "### **Menilai hr_df**"
      ]
    },
    {
      "cell_type": "markdown",
      "metadata": {
        "id": "Hb4726QmrSWJ"
      },
      "source": [
        "1. Mengecek info hr_df"
      ]
    },
    {
      "cell_type": "code",
      "execution_count": 9,
      "metadata": {
        "colab": {
          "base_uri": "https://localhost:8080/"
        },
        "id": "VnzWhMFrrVU2",
        "outputId": "98d81675-1a68-4921-d21a-927db271a538"
      },
      "outputs": [
        {
          "name": "stdout",
          "output_type": "stream",
          "text": [
            "<class 'pandas.core.frame.DataFrame'>\n",
            "Int64Index: 17379 entries, 1 to 17379\n",
            "Data columns (total 16 columns):\n",
            " #   Column      Non-Null Count  Dtype  \n",
            "---  ------      --------------  -----  \n",
            " 0   dteday      17379 non-null  object \n",
            " 1   season      17379 non-null  int64  \n",
            " 2   yr          17379 non-null  int64  \n",
            " 3   mnth        17379 non-null  int64  \n",
            " 4   hr          17379 non-null  int64  \n",
            " 5   holiday     17379 non-null  int64  \n",
            " 6   weekday     17379 non-null  int64  \n",
            " 7   workingday  17379 non-null  int64  \n",
            " 8   weathersit  17379 non-null  int64  \n",
            " 9   temp        17379 non-null  float64\n",
            " 10  atemp       17379 non-null  float64\n",
            " 11  hum         17379 non-null  float64\n",
            " 12  windspeed   17379 non-null  float64\n",
            " 13  casual      17379 non-null  int64  \n",
            " 14  registered  17379 non-null  int64  \n",
            " 15  cnt         17379 non-null  int64  \n",
            "dtypes: float64(4), int64(11), object(1)\n",
            "memory usage: 2.3+ MB\n"
          ]
        }
      ],
      "source": [
        "hr_df.info()"
      ]
    },
    {
      "cell_type": "markdown",
      "metadata": {
        "id": "o-cusj4priX7"
      },
      "source": [
        "Dapat kita lihat diatas, terdapat 1 tipe data berdasarkan kolomnya yang tidak sesuai. Data yang perlu diperbaiki adalah: dteday -> datetime"
      ]
    },
    {
      "cell_type": "markdown",
      "metadata": {
        "id": "nAUwIgsnr6kU"
      },
      "source": [
        "2. Mengecek apakah ada missing values"
      ]
    },
    {
      "cell_type": "code",
      "execution_count": 10,
      "metadata": {
        "colab": {
          "base_uri": "https://localhost:8080/"
        },
        "id": "tmkCxpy5r-dI",
        "outputId": "ad9c4493-2772-40c1-9735-d5c3e2641211"
      },
      "outputs": [
        {
          "data": {
            "text/plain": [
              "dteday        0\n",
              "season        0\n",
              "yr            0\n",
              "mnth          0\n",
              "hr            0\n",
              "holiday       0\n",
              "weekday       0\n",
              "workingday    0\n",
              "weathersit    0\n",
              "temp          0\n",
              "atemp         0\n",
              "hum           0\n",
              "windspeed     0\n",
              "casual        0\n",
              "registered    0\n",
              "cnt           0\n",
              "dtype: int64"
            ]
          },
          "execution_count": 10,
          "metadata": {},
          "output_type": "execute_result"
        }
      ],
      "source": [
        "hr_df.isna().sum()"
      ]
    },
    {
      "cell_type": "markdown",
      "metadata": {
        "id": "XrdbcgojsJw1"
      },
      "source": [
        "Dapat kita simpulkan bahwa tabel hr_df tidak ada missing values, berarti aman."
      ]
    },
    {
      "cell_type": "markdown",
      "metadata": {
        "id": "otnf-COvsOyL"
      },
      "source": [
        "3. Mengecek apakah ada duplicate data"
      ]
    },
    {
      "cell_type": "code",
      "execution_count": 11,
      "metadata": {
        "colab": {
          "base_uri": "https://localhost:8080/"
        },
        "id": "XrBsRXemsVrO",
        "outputId": "508a33f8-44a9-43b2-d4fd-1763660adab6"
      },
      "outputs": [
        {
          "name": "stdout",
          "output_type": "stream",
          "text": [
            "Jumlah data duplikasi :  0\n"
          ]
        }
      ],
      "source": [
        "print(\"Jumlah data duplikasi : \", hr_df.duplicated().sum())"
      ]
    },
    {
      "cell_type": "markdown",
      "metadata": {
        "id": "PspYBv-bFlQU"
      },
      "source": [
        "4. Mengecek apakah terdapat keanehan pada nilai statistiknya"
      ]
    },
    {
      "cell_type": "code",
      "execution_count": 12,
      "metadata": {
        "colab": {
          "base_uri": "https://localhost:8080/",
          "height": 320
        },
        "id": "88TeXHajFrnj",
        "outputId": "73610e8a-762e-4507-e73c-03a86d219100"
      },
      "outputs": [
        {
          "data": {
            "text/html": [
              "<div>\n",
              "<style scoped>\n",
              "    .dataframe tbody tr th:only-of-type {\n",
              "        vertical-align: middle;\n",
              "    }\n",
              "\n",
              "    .dataframe tbody tr th {\n",
              "        vertical-align: top;\n",
              "    }\n",
              "\n",
              "    .dataframe thead th {\n",
              "        text-align: right;\n",
              "    }\n",
              "</style>\n",
              "<table border=\"1\" class=\"dataframe\">\n",
              "  <thead>\n",
              "    <tr style=\"text-align: right;\">\n",
              "      <th></th>\n",
              "      <th>season</th>\n",
              "      <th>yr</th>\n",
              "      <th>mnth</th>\n",
              "      <th>hr</th>\n",
              "      <th>holiday</th>\n",
              "      <th>weekday</th>\n",
              "      <th>workingday</th>\n",
              "      <th>weathersit</th>\n",
              "      <th>temp</th>\n",
              "      <th>atemp</th>\n",
              "      <th>hum</th>\n",
              "      <th>windspeed</th>\n",
              "      <th>casual</th>\n",
              "      <th>registered</th>\n",
              "      <th>cnt</th>\n",
              "    </tr>\n",
              "  </thead>\n",
              "  <tbody>\n",
              "    <tr>\n",
              "      <th>count</th>\n",
              "      <td>17379.000000</td>\n",
              "      <td>17379.000000</td>\n",
              "      <td>17379.000000</td>\n",
              "      <td>17379.000000</td>\n",
              "      <td>17379.000000</td>\n",
              "      <td>17379.000000</td>\n",
              "      <td>17379.000000</td>\n",
              "      <td>17379.000000</td>\n",
              "      <td>17379.000000</td>\n",
              "      <td>17379.000000</td>\n",
              "      <td>17379.000000</td>\n",
              "      <td>17379.000000</td>\n",
              "      <td>17379.000000</td>\n",
              "      <td>17379.000000</td>\n",
              "      <td>17379.000000</td>\n",
              "    </tr>\n",
              "    <tr>\n",
              "      <th>mean</th>\n",
              "      <td>2.501640</td>\n",
              "      <td>0.502561</td>\n",
              "      <td>6.537775</td>\n",
              "      <td>11.546752</td>\n",
              "      <td>0.028770</td>\n",
              "      <td>3.003683</td>\n",
              "      <td>0.682721</td>\n",
              "      <td>1.425283</td>\n",
              "      <td>0.496987</td>\n",
              "      <td>0.475775</td>\n",
              "      <td>0.627229</td>\n",
              "      <td>0.190098</td>\n",
              "      <td>35.676218</td>\n",
              "      <td>153.786869</td>\n",
              "      <td>189.463088</td>\n",
              "    </tr>\n",
              "    <tr>\n",
              "      <th>std</th>\n",
              "      <td>1.106918</td>\n",
              "      <td>0.500008</td>\n",
              "      <td>3.438776</td>\n",
              "      <td>6.914405</td>\n",
              "      <td>0.167165</td>\n",
              "      <td>2.005771</td>\n",
              "      <td>0.465431</td>\n",
              "      <td>0.639357</td>\n",
              "      <td>0.192556</td>\n",
              "      <td>0.171850</td>\n",
              "      <td>0.192930</td>\n",
              "      <td>0.122340</td>\n",
              "      <td>49.305030</td>\n",
              "      <td>151.357286</td>\n",
              "      <td>181.387599</td>\n",
              "    </tr>\n",
              "    <tr>\n",
              "      <th>min</th>\n",
              "      <td>1.000000</td>\n",
              "      <td>0.000000</td>\n",
              "      <td>1.000000</td>\n",
              "      <td>0.000000</td>\n",
              "      <td>0.000000</td>\n",
              "      <td>0.000000</td>\n",
              "      <td>0.000000</td>\n",
              "      <td>1.000000</td>\n",
              "      <td>0.020000</td>\n",
              "      <td>0.000000</td>\n",
              "      <td>0.000000</td>\n",
              "      <td>0.000000</td>\n",
              "      <td>0.000000</td>\n",
              "      <td>0.000000</td>\n",
              "      <td>1.000000</td>\n",
              "    </tr>\n",
              "    <tr>\n",
              "      <th>25%</th>\n",
              "      <td>2.000000</td>\n",
              "      <td>0.000000</td>\n",
              "      <td>4.000000</td>\n",
              "      <td>6.000000</td>\n",
              "      <td>0.000000</td>\n",
              "      <td>1.000000</td>\n",
              "      <td>0.000000</td>\n",
              "      <td>1.000000</td>\n",
              "      <td>0.340000</td>\n",
              "      <td>0.333300</td>\n",
              "      <td>0.480000</td>\n",
              "      <td>0.104500</td>\n",
              "      <td>4.000000</td>\n",
              "      <td>34.000000</td>\n",
              "      <td>40.000000</td>\n",
              "    </tr>\n",
              "    <tr>\n",
              "      <th>50%</th>\n",
              "      <td>3.000000</td>\n",
              "      <td>1.000000</td>\n",
              "      <td>7.000000</td>\n",
              "      <td>12.000000</td>\n",
              "      <td>0.000000</td>\n",
              "      <td>3.000000</td>\n",
              "      <td>1.000000</td>\n",
              "      <td>1.000000</td>\n",
              "      <td>0.500000</td>\n",
              "      <td>0.484800</td>\n",
              "      <td>0.630000</td>\n",
              "      <td>0.194000</td>\n",
              "      <td>17.000000</td>\n",
              "      <td>115.000000</td>\n",
              "      <td>142.000000</td>\n",
              "    </tr>\n",
              "    <tr>\n",
              "      <th>75%</th>\n",
              "      <td>3.000000</td>\n",
              "      <td>1.000000</td>\n",
              "      <td>10.000000</td>\n",
              "      <td>18.000000</td>\n",
              "      <td>0.000000</td>\n",
              "      <td>5.000000</td>\n",
              "      <td>1.000000</td>\n",
              "      <td>2.000000</td>\n",
              "      <td>0.660000</td>\n",
              "      <td>0.621200</td>\n",
              "      <td>0.780000</td>\n",
              "      <td>0.253700</td>\n",
              "      <td>48.000000</td>\n",
              "      <td>220.000000</td>\n",
              "      <td>281.000000</td>\n",
              "    </tr>\n",
              "    <tr>\n",
              "      <th>max</th>\n",
              "      <td>4.000000</td>\n",
              "      <td>1.000000</td>\n",
              "      <td>12.000000</td>\n",
              "      <td>23.000000</td>\n",
              "      <td>1.000000</td>\n",
              "      <td>6.000000</td>\n",
              "      <td>1.000000</td>\n",
              "      <td>4.000000</td>\n",
              "      <td>1.000000</td>\n",
              "      <td>1.000000</td>\n",
              "      <td>1.000000</td>\n",
              "      <td>0.850700</td>\n",
              "      <td>367.000000</td>\n",
              "      <td>886.000000</td>\n",
              "      <td>977.000000</td>\n",
              "    </tr>\n",
              "  </tbody>\n",
              "</table>\n",
              "</div>"
            ],
            "text/plain": [
              "             season            yr          mnth            hr       holiday  \\\n",
              "count  17379.000000  17379.000000  17379.000000  17379.000000  17379.000000   \n",
              "mean       2.501640      0.502561      6.537775     11.546752      0.028770   \n",
              "std        1.106918      0.500008      3.438776      6.914405      0.167165   \n",
              "min        1.000000      0.000000      1.000000      0.000000      0.000000   \n",
              "25%        2.000000      0.000000      4.000000      6.000000      0.000000   \n",
              "50%        3.000000      1.000000      7.000000     12.000000      0.000000   \n",
              "75%        3.000000      1.000000     10.000000     18.000000      0.000000   \n",
              "max        4.000000      1.000000     12.000000     23.000000      1.000000   \n",
              "\n",
              "            weekday    workingday    weathersit          temp         atemp  \\\n",
              "count  17379.000000  17379.000000  17379.000000  17379.000000  17379.000000   \n",
              "mean       3.003683      0.682721      1.425283      0.496987      0.475775   \n",
              "std        2.005771      0.465431      0.639357      0.192556      0.171850   \n",
              "min        0.000000      0.000000      1.000000      0.020000      0.000000   \n",
              "25%        1.000000      0.000000      1.000000      0.340000      0.333300   \n",
              "50%        3.000000      1.000000      1.000000      0.500000      0.484800   \n",
              "75%        5.000000      1.000000      2.000000      0.660000      0.621200   \n",
              "max        6.000000      1.000000      4.000000      1.000000      1.000000   \n",
              "\n",
              "                hum     windspeed        casual    registered           cnt  \n",
              "count  17379.000000  17379.000000  17379.000000  17379.000000  17379.000000  \n",
              "mean       0.627229      0.190098     35.676218    153.786869    189.463088  \n",
              "std        0.192930      0.122340     49.305030    151.357286    181.387599  \n",
              "min        0.000000      0.000000      0.000000      0.000000      1.000000  \n",
              "25%        0.480000      0.104500      4.000000     34.000000     40.000000  \n",
              "50%        0.630000      0.194000     17.000000    115.000000    142.000000  \n",
              "75%        0.780000      0.253700     48.000000    220.000000    281.000000  \n",
              "max        1.000000      0.850700    367.000000    886.000000    977.000000  "
            ]
          },
          "execution_count": 12,
          "metadata": {},
          "output_type": "execute_result"
        }
      ],
      "source": [
        "hr_df.describe()"
      ]
    },
    {
      "cell_type": "markdown",
      "metadata": {
        "id": "whVHKiPIGHbR"
      },
      "source": [
        "Dapat kita lihat diatas, tidak ada keanehan pada nilai statistiknya."
      ]
    },
    {
      "cell_type": "markdown",
      "metadata": {
        "id": "Uz5dgcJm9HW5"
      },
      "source": [
        "### **Cleaning Data**"
      ]
    },
    {
      "cell_type": "markdown",
      "metadata": {
        "id": "tlFcZd1PIbIB"
      },
      "source": [
        "1. Penghapus tabel yang tidak diperlukan\n",
        "\n",
        "Tabel hr akan dihapus sebelum melanjutkan ke langkah berikutnya.  Tabel ini dihapus karena tidak relevan dengan pertanyaan bisnis yang telah diminta.  Selain itu, hampir semua kolom tabel hr dan day sama, kecuali kolom hr, yang menjadi perbedaan utama. Oleh karena itu, tabel hr tidak diperlukan untuk analisis lebih lanjut."
      ]
    },
    {
      "cell_type": "code",
      "execution_count": 13,
      "metadata": {
        "id": "ddrzMvOUGsu_"
      },
      "outputs": [],
      "source": [
        "del hr_df"
      ]
    },
    {
      "cell_type": "markdown",
      "metadata": {
        "id": "szj41GktHpb3"
      },
      "source": [
        "2. Penghapus beberapa kolom yang tidak akan digunakan\n",
        "\n",
        "Berdasarkan pertanyaan bisnis yang sudah ada, maka untuk kolom yang akan didrop, yakni:\n",
        "- windspeed: Tidak ada pertanyaan bisnis yang terkait dengan efek kecepatan angin terhadap jumlah penyewa sepeda."
      ]
    },
    {
      "cell_type": "code",
      "execution_count": 14,
      "metadata": {
        "colab": {
          "base_uri": "https://localhost:8080/",
          "height": 206
        },
        "id": "CCszTdXD9Ivf",
        "outputId": "581d9f39-cac7-4efb-fb54-8c239f45c0ed"
      },
      "outputs": [
        {
          "data": {
            "text/html": [
              "<div>\n",
              "<style scoped>\n",
              "    .dataframe tbody tr th:only-of-type {\n",
              "        vertical-align: middle;\n",
              "    }\n",
              "\n",
              "    .dataframe tbody tr th {\n",
              "        vertical-align: top;\n",
              "    }\n",
              "\n",
              "    .dataframe thead th {\n",
              "        text-align: right;\n",
              "    }\n",
              "</style>\n",
              "<table border=\"1\" class=\"dataframe\">\n",
              "  <thead>\n",
              "    <tr style=\"text-align: right;\">\n",
              "      <th></th>\n",
              "      <th>dteday</th>\n",
              "      <th>season</th>\n",
              "      <th>yr</th>\n",
              "      <th>mnth</th>\n",
              "      <th>holiday</th>\n",
              "      <th>weekday</th>\n",
              "      <th>workingday</th>\n",
              "      <th>weathersit</th>\n",
              "      <th>temp</th>\n",
              "      <th>atemp</th>\n",
              "      <th>hum</th>\n",
              "      <th>casual</th>\n",
              "      <th>registered</th>\n",
              "      <th>cnt</th>\n",
              "    </tr>\n",
              "    <tr>\n",
              "      <th>instant</th>\n",
              "      <th></th>\n",
              "      <th></th>\n",
              "      <th></th>\n",
              "      <th></th>\n",
              "      <th></th>\n",
              "      <th></th>\n",
              "      <th></th>\n",
              "      <th></th>\n",
              "      <th></th>\n",
              "      <th></th>\n",
              "      <th></th>\n",
              "      <th></th>\n",
              "      <th></th>\n",
              "      <th></th>\n",
              "    </tr>\n",
              "  </thead>\n",
              "  <tbody>\n",
              "    <tr>\n",
              "      <th>1</th>\n",
              "      <td>2011-01-01</td>\n",
              "      <td>1</td>\n",
              "      <td>0</td>\n",
              "      <td>1</td>\n",
              "      <td>0</td>\n",
              "      <td>6</td>\n",
              "      <td>0</td>\n",
              "      <td>2</td>\n",
              "      <td>0.344167</td>\n",
              "      <td>0.363625</td>\n",
              "      <td>0.805833</td>\n",
              "      <td>331</td>\n",
              "      <td>654</td>\n",
              "      <td>985</td>\n",
              "    </tr>\n",
              "    <tr>\n",
              "      <th>2</th>\n",
              "      <td>2011-01-02</td>\n",
              "      <td>1</td>\n",
              "      <td>0</td>\n",
              "      <td>1</td>\n",
              "      <td>0</td>\n",
              "      <td>0</td>\n",
              "      <td>0</td>\n",
              "      <td>2</td>\n",
              "      <td>0.363478</td>\n",
              "      <td>0.353739</td>\n",
              "      <td>0.696087</td>\n",
              "      <td>131</td>\n",
              "      <td>670</td>\n",
              "      <td>801</td>\n",
              "    </tr>\n",
              "    <tr>\n",
              "      <th>3</th>\n",
              "      <td>2011-01-03</td>\n",
              "      <td>1</td>\n",
              "      <td>0</td>\n",
              "      <td>1</td>\n",
              "      <td>0</td>\n",
              "      <td>1</td>\n",
              "      <td>1</td>\n",
              "      <td>1</td>\n",
              "      <td>0.196364</td>\n",
              "      <td>0.189405</td>\n",
              "      <td>0.437273</td>\n",
              "      <td>120</td>\n",
              "      <td>1229</td>\n",
              "      <td>1349</td>\n",
              "    </tr>\n",
              "    <tr>\n",
              "      <th>4</th>\n",
              "      <td>2011-01-04</td>\n",
              "      <td>1</td>\n",
              "      <td>0</td>\n",
              "      <td>1</td>\n",
              "      <td>0</td>\n",
              "      <td>2</td>\n",
              "      <td>1</td>\n",
              "      <td>1</td>\n",
              "      <td>0.200000</td>\n",
              "      <td>0.212122</td>\n",
              "      <td>0.590435</td>\n",
              "      <td>108</td>\n",
              "      <td>1454</td>\n",
              "      <td>1562</td>\n",
              "    </tr>\n",
              "    <tr>\n",
              "      <th>5</th>\n",
              "      <td>2011-01-05</td>\n",
              "      <td>1</td>\n",
              "      <td>0</td>\n",
              "      <td>1</td>\n",
              "      <td>0</td>\n",
              "      <td>3</td>\n",
              "      <td>1</td>\n",
              "      <td>1</td>\n",
              "      <td>0.226957</td>\n",
              "      <td>0.229270</td>\n",
              "      <td>0.436957</td>\n",
              "      <td>82</td>\n",
              "      <td>1518</td>\n",
              "      <td>1600</td>\n",
              "    </tr>\n",
              "  </tbody>\n",
              "</table>\n",
              "</div>"
            ],
            "text/plain": [
              "             dteday  season  yr  mnth  holiday  weekday  workingday  \\\n",
              "instant                                                               \n",
              "1        2011-01-01       1   0     1        0        6           0   \n",
              "2        2011-01-02       1   0     1        0        0           0   \n",
              "3        2011-01-03       1   0     1        0        1           1   \n",
              "4        2011-01-04       1   0     1        0        2           1   \n",
              "5        2011-01-05       1   0     1        0        3           1   \n",
              "\n",
              "         weathersit      temp     atemp       hum  casual  registered   cnt  \n",
              "instant                                                                      \n",
              "1                 2  0.344167  0.363625  0.805833     331         654   985  \n",
              "2                 2  0.363478  0.353739  0.696087     131         670   801  \n",
              "3                 1  0.196364  0.189405  0.437273     120        1229  1349  \n",
              "4                 1  0.200000  0.212122  0.590435     108        1454  1562  \n",
              "5                 1  0.226957  0.229270  0.436957      82        1518  1600  "
            ]
          },
          "execution_count": 14,
          "metadata": {},
          "output_type": "execute_result"
        }
      ],
      "source": [
        "drop_col = ['windspeed']\n",
        "\n",
        "for i in day_df.columns:\n",
        "  if i in drop_col:\n",
        "    day_df.drop(labels=i, axis=1, inplace=True)\n",
        "\n",
        "day_df.head()"
      ]
    },
    {
      "cell_type": "markdown",
      "metadata": {
        "id": "-s138dPIK9rp"
      },
      "source": [
        "3. Mengubah beberapa detail tentang kolom\n",
        "\n",
        "Saya akan merapikan kolom-kolom data agar lebih mudah dipahami. Nama-nama kolom akan diubah agar seragam, beberapa kolom angka akan dijadikan kategori, dan tipe data kolom lainnya akan diperbaiki agar lebih sesuai dengan isinya"
      ]
    },
    {
      "cell_type": "code",
      "execution_count": 15,
      "metadata": {
        "colab": {
          "base_uri": "https://localhost:8080/",
          "height": 206
        },
        "id": "7RYNcLaQOwFV",
        "outputId": "020f0cfa-9683-47a6-d6fa-09ad81f71033"
      },
      "outputs": [
        {
          "data": {
            "text/html": [
              "<div>\n",
              "<style scoped>\n",
              "    .dataframe tbody tr th:only-of-type {\n",
              "        vertical-align: middle;\n",
              "    }\n",
              "\n",
              "    .dataframe tbody tr th {\n",
              "        vertical-align: top;\n",
              "    }\n",
              "\n",
              "    .dataframe thead th {\n",
              "        text-align: right;\n",
              "    }\n",
              "</style>\n",
              "<table border=\"1\" class=\"dataframe\">\n",
              "  <thead>\n",
              "    <tr style=\"text-align: right;\">\n",
              "      <th></th>\n",
              "      <th>dateday</th>\n",
              "      <th>season</th>\n",
              "      <th>year</th>\n",
              "      <th>month</th>\n",
              "      <th>holiday</th>\n",
              "      <th>weekday</th>\n",
              "      <th>workingday</th>\n",
              "      <th>weather_cond</th>\n",
              "      <th>temp</th>\n",
              "      <th>atemp</th>\n",
              "      <th>hum</th>\n",
              "      <th>casual</th>\n",
              "      <th>registered</th>\n",
              "      <th>count</th>\n",
              "    </tr>\n",
              "    <tr>\n",
              "      <th>instant</th>\n",
              "      <th></th>\n",
              "      <th></th>\n",
              "      <th></th>\n",
              "      <th></th>\n",
              "      <th></th>\n",
              "      <th></th>\n",
              "      <th></th>\n",
              "      <th></th>\n",
              "      <th></th>\n",
              "      <th></th>\n",
              "      <th></th>\n",
              "      <th></th>\n",
              "      <th></th>\n",
              "      <th></th>\n",
              "    </tr>\n",
              "  </thead>\n",
              "  <tbody>\n",
              "    <tr>\n",
              "      <th>1</th>\n",
              "      <td>2011-01-01</td>\n",
              "      <td>1</td>\n",
              "      <td>0</td>\n",
              "      <td>1</td>\n",
              "      <td>0</td>\n",
              "      <td>6</td>\n",
              "      <td>0</td>\n",
              "      <td>2</td>\n",
              "      <td>0.344167</td>\n",
              "      <td>0.363625</td>\n",
              "      <td>0.805833</td>\n",
              "      <td>331</td>\n",
              "      <td>654</td>\n",
              "      <td>985</td>\n",
              "    </tr>\n",
              "    <tr>\n",
              "      <th>2</th>\n",
              "      <td>2011-01-02</td>\n",
              "      <td>1</td>\n",
              "      <td>0</td>\n",
              "      <td>1</td>\n",
              "      <td>0</td>\n",
              "      <td>0</td>\n",
              "      <td>0</td>\n",
              "      <td>2</td>\n",
              "      <td>0.363478</td>\n",
              "      <td>0.353739</td>\n",
              "      <td>0.696087</td>\n",
              "      <td>131</td>\n",
              "      <td>670</td>\n",
              "      <td>801</td>\n",
              "    </tr>\n",
              "    <tr>\n",
              "      <th>3</th>\n",
              "      <td>2011-01-03</td>\n",
              "      <td>1</td>\n",
              "      <td>0</td>\n",
              "      <td>1</td>\n",
              "      <td>0</td>\n",
              "      <td>1</td>\n",
              "      <td>1</td>\n",
              "      <td>1</td>\n",
              "      <td>0.196364</td>\n",
              "      <td>0.189405</td>\n",
              "      <td>0.437273</td>\n",
              "      <td>120</td>\n",
              "      <td>1229</td>\n",
              "      <td>1349</td>\n",
              "    </tr>\n",
              "    <tr>\n",
              "      <th>4</th>\n",
              "      <td>2011-01-04</td>\n",
              "      <td>1</td>\n",
              "      <td>0</td>\n",
              "      <td>1</td>\n",
              "      <td>0</td>\n",
              "      <td>2</td>\n",
              "      <td>1</td>\n",
              "      <td>1</td>\n",
              "      <td>0.200000</td>\n",
              "      <td>0.212122</td>\n",
              "      <td>0.590435</td>\n",
              "      <td>108</td>\n",
              "      <td>1454</td>\n",
              "      <td>1562</td>\n",
              "    </tr>\n",
              "    <tr>\n",
              "      <th>5</th>\n",
              "      <td>2011-01-05</td>\n",
              "      <td>1</td>\n",
              "      <td>0</td>\n",
              "      <td>1</td>\n",
              "      <td>0</td>\n",
              "      <td>3</td>\n",
              "      <td>1</td>\n",
              "      <td>1</td>\n",
              "      <td>0.226957</td>\n",
              "      <td>0.229270</td>\n",
              "      <td>0.436957</td>\n",
              "      <td>82</td>\n",
              "      <td>1518</td>\n",
              "      <td>1600</td>\n",
              "    </tr>\n",
              "  </tbody>\n",
              "</table>\n",
              "</div>"
            ],
            "text/plain": [
              "            dateday  season  year  month  holiday  weekday  workingday  \\\n",
              "instant                                                                  \n",
              "1        2011-01-01       1     0      1        0        6           0   \n",
              "2        2011-01-02       1     0      1        0        0           0   \n",
              "3        2011-01-03       1     0      1        0        1           1   \n",
              "4        2011-01-04       1     0      1        0        2           1   \n",
              "5        2011-01-05       1     0      1        0        3           1   \n",
              "\n",
              "         weather_cond      temp     atemp       hum  casual  registered  count  \n",
              "instant                                                                         \n",
              "1                   2  0.344167  0.363625  0.805833     331         654    985  \n",
              "2                   2  0.363478  0.353739  0.696087     131         670    801  \n",
              "3                   1  0.196364  0.189405  0.437273     120        1229   1349  \n",
              "4                   1  0.200000  0.212122  0.590435     108        1454   1562  \n",
              "5                   1  0.226957  0.229270  0.436957      82        1518   1600  "
            ]
          },
          "execution_count": 15,
          "metadata": {},
          "output_type": "execute_result"
        }
      ],
      "source": [
        "# Mengubah nama judul kolom\n",
        "day_df.rename(columns={\n",
        "    'dteday': 'dateday',\n",
        "    'yr': 'year',\n",
        "    'mnth': 'month',\n",
        "    'weathersit': 'weather_cond',\n",
        "    'cnt': 'count'\n",
        "}, inplace=True)\n",
        "\n",
        "day_df.head()"
      ]
    },
    {
      "cell_type": "code",
      "execution_count": 16,
      "metadata": {
        "id": "ey0OrZDeQRwP"
      },
      "outputs": [],
      "source": [
        "# Mengubah angka menjadi keterangan\n",
        "day_df['month'] = day_df['month'].map({\n",
        "    1: 'Jan', 2: 'Feb', 3: 'Mar', 4: 'Apr', 5: 'May', 6: 'Jun',\n",
        "    7: 'Jul', 8: 'Aug', 9: 'Sep', 10: 'Oct', 11: 'Nov', 12: 'Dec'\n",
        "})\n",
        "day_df['season'] = day_df['season'].map({\n",
        "    1: 'Spring', 2: 'Summer', 3: 'Fall', 4: 'Winter'\n",
        "})\n",
        "day_df['weekday'] = day_df['weekday'].map({\n",
        "    0: 'Sun', 1: 'Mon', 2: 'Tue', 3: 'Wed', 4: 'Thu', 5: 'Fri', 6: 'Sat'\n",
        "})\n",
        "day_df['weather_cond'] = day_df['weather_cond'].map({\n",
        "    1: 'Clear/Partly Cloudy',\n",
        "    2: 'Misty/Cloudy',\n",
        "    3: 'Light Snow/Rain',\n",
        "    4: 'Severe Weather'\n",
        "})"
      ]
    },
    {
      "cell_type": "code",
      "execution_count": 17,
      "metadata": {
        "colab": {
          "base_uri": "https://localhost:8080/",
          "height": 206
        },
        "id": "viYvYTZwTrf-",
        "outputId": "8a8a08fa-d35f-41cf-afc6-72701667e279"
      },
      "outputs": [
        {
          "data": {
            "text/html": [
              "<div>\n",
              "<style scoped>\n",
              "    .dataframe tbody tr th:only-of-type {\n",
              "        vertical-align: middle;\n",
              "    }\n",
              "\n",
              "    .dataframe tbody tr th {\n",
              "        vertical-align: top;\n",
              "    }\n",
              "\n",
              "    .dataframe thead th {\n",
              "        text-align: right;\n",
              "    }\n",
              "</style>\n",
              "<table border=\"1\" class=\"dataframe\">\n",
              "  <thead>\n",
              "    <tr style=\"text-align: right;\">\n",
              "      <th></th>\n",
              "      <th>dateday</th>\n",
              "      <th>season</th>\n",
              "      <th>year</th>\n",
              "      <th>month</th>\n",
              "      <th>holiday</th>\n",
              "      <th>weekday</th>\n",
              "      <th>workingday</th>\n",
              "      <th>weather_cond</th>\n",
              "      <th>temp</th>\n",
              "      <th>atemp</th>\n",
              "      <th>hum</th>\n",
              "      <th>casual</th>\n",
              "      <th>registered</th>\n",
              "      <th>count</th>\n",
              "    </tr>\n",
              "    <tr>\n",
              "      <th>instant</th>\n",
              "      <th></th>\n",
              "      <th></th>\n",
              "      <th></th>\n",
              "      <th></th>\n",
              "      <th></th>\n",
              "      <th></th>\n",
              "      <th></th>\n",
              "      <th></th>\n",
              "      <th></th>\n",
              "      <th></th>\n",
              "      <th></th>\n",
              "      <th></th>\n",
              "      <th></th>\n",
              "      <th></th>\n",
              "    </tr>\n",
              "  </thead>\n",
              "  <tbody>\n",
              "    <tr>\n",
              "      <th>1</th>\n",
              "      <td>2011-01-01</td>\n",
              "      <td>Spring</td>\n",
              "      <td>0</td>\n",
              "      <td>Jan</td>\n",
              "      <td>0</td>\n",
              "      <td>Sat</td>\n",
              "      <td>0</td>\n",
              "      <td>Misty/Cloudy</td>\n",
              "      <td>0.344167</td>\n",
              "      <td>0.363625</td>\n",
              "      <td>0.805833</td>\n",
              "      <td>331</td>\n",
              "      <td>654</td>\n",
              "      <td>985</td>\n",
              "    </tr>\n",
              "    <tr>\n",
              "      <th>2</th>\n",
              "      <td>2011-01-02</td>\n",
              "      <td>Spring</td>\n",
              "      <td>0</td>\n",
              "      <td>Jan</td>\n",
              "      <td>0</td>\n",
              "      <td>Sun</td>\n",
              "      <td>0</td>\n",
              "      <td>Misty/Cloudy</td>\n",
              "      <td>0.363478</td>\n",
              "      <td>0.353739</td>\n",
              "      <td>0.696087</td>\n",
              "      <td>131</td>\n",
              "      <td>670</td>\n",
              "      <td>801</td>\n",
              "    </tr>\n",
              "    <tr>\n",
              "      <th>3</th>\n",
              "      <td>2011-01-03</td>\n",
              "      <td>Spring</td>\n",
              "      <td>0</td>\n",
              "      <td>Jan</td>\n",
              "      <td>0</td>\n",
              "      <td>Mon</td>\n",
              "      <td>1</td>\n",
              "      <td>Clear/Partly Cloudy</td>\n",
              "      <td>0.196364</td>\n",
              "      <td>0.189405</td>\n",
              "      <td>0.437273</td>\n",
              "      <td>120</td>\n",
              "      <td>1229</td>\n",
              "      <td>1349</td>\n",
              "    </tr>\n",
              "    <tr>\n",
              "      <th>4</th>\n",
              "      <td>2011-01-04</td>\n",
              "      <td>Spring</td>\n",
              "      <td>0</td>\n",
              "      <td>Jan</td>\n",
              "      <td>0</td>\n",
              "      <td>Tue</td>\n",
              "      <td>1</td>\n",
              "      <td>Clear/Partly Cloudy</td>\n",
              "      <td>0.200000</td>\n",
              "      <td>0.212122</td>\n",
              "      <td>0.590435</td>\n",
              "      <td>108</td>\n",
              "      <td>1454</td>\n",
              "      <td>1562</td>\n",
              "    </tr>\n",
              "    <tr>\n",
              "      <th>5</th>\n",
              "      <td>2011-01-05</td>\n",
              "      <td>Spring</td>\n",
              "      <td>0</td>\n",
              "      <td>Jan</td>\n",
              "      <td>0</td>\n",
              "      <td>Wed</td>\n",
              "      <td>1</td>\n",
              "      <td>Clear/Partly Cloudy</td>\n",
              "      <td>0.226957</td>\n",
              "      <td>0.229270</td>\n",
              "      <td>0.436957</td>\n",
              "      <td>82</td>\n",
              "      <td>1518</td>\n",
              "      <td>1600</td>\n",
              "    </tr>\n",
              "  </tbody>\n",
              "</table>\n",
              "</div>"
            ],
            "text/plain": [
              "           dateday  season year month holiday weekday workingday  \\\n",
              "instant                                                            \n",
              "1       2011-01-01  Spring    0   Jan       0     Sat          0   \n",
              "2       2011-01-02  Spring    0   Jan       0     Sun          0   \n",
              "3       2011-01-03  Spring    0   Jan       0     Mon          1   \n",
              "4       2011-01-04  Spring    0   Jan       0     Tue          1   \n",
              "5       2011-01-05  Spring    0   Jan       0     Wed          1   \n",
              "\n",
              "                weather_cond      temp     atemp       hum  casual  \\\n",
              "instant                                                              \n",
              "1               Misty/Cloudy  0.344167  0.363625  0.805833     331   \n",
              "2               Misty/Cloudy  0.363478  0.353739  0.696087     131   \n",
              "3        Clear/Partly Cloudy  0.196364  0.189405  0.437273     120   \n",
              "4        Clear/Partly Cloudy  0.200000  0.212122  0.590435     108   \n",
              "5        Clear/Partly Cloudy  0.226957  0.229270  0.436957      82   \n",
              "\n",
              "         registered  count  \n",
              "instant                     \n",
              "1               654    985  \n",
              "2               670    801  \n",
              "3              1229   1349  \n",
              "4              1454   1562  \n",
              "5              1518   1600  "
            ]
          },
          "execution_count": 17,
          "metadata": {},
          "output_type": "execute_result"
        }
      ],
      "source": [
        "# Mengubah tipe data ke datetime\n",
        "day_df['dateday'] = pd.to_datetime(day_df.dateday)\n",
        "\n",
        "# Mengubaha tipe data ke categorical\n",
        "day_df['season'] = day_df.season.astype('category')\n",
        "day_df['year'] = day_df.year.astype('category')\n",
        "day_df['month'] = day_df.month.astype('category')\n",
        "day_df['holiday'] = day_df.holiday.astype('category')\n",
        "day_df['weekday'] = day_df.weekday.astype('category')\n",
        "day_df['workingday'] = day_df.workingday.astype('category')\n",
        "day_df['weather_cond'] = day_df.weather_cond.astype('category')\n",
        "\n",
        "day_df.head()"
      ]
    },
    {
      "cell_type": "code",
      "execution_count": 18,
      "metadata": {
        "colab": {
          "base_uri": "https://localhost:8080/"
        },
        "id": "5euS_y6fMLTe",
        "outputId": "ba0aecac-9481-4de2-9d1d-f74c98c3f736"
      },
      "outputs": [
        {
          "name": "stdout",
          "output_type": "stream",
          "text": [
            "<class 'pandas.core.frame.DataFrame'>\n",
            "Int64Index: 731 entries, 1 to 731\n",
            "Data columns (total 14 columns):\n",
            " #   Column        Non-Null Count  Dtype         \n",
            "---  ------        --------------  -----         \n",
            " 0   dateday       731 non-null    datetime64[ns]\n",
            " 1   season        731 non-null    category      \n",
            " 2   year          731 non-null    category      \n",
            " 3   month         731 non-null    category      \n",
            " 4   holiday       731 non-null    category      \n",
            " 5   weekday       731 non-null    category      \n",
            " 6   workingday    731 non-null    category      \n",
            " 7   weather_cond  731 non-null    category      \n",
            " 8   temp          731 non-null    float64       \n",
            " 9   atemp         731 non-null    float64       \n",
            " 10  hum           731 non-null    float64       \n",
            " 11  casual        731 non-null    int64         \n",
            " 12  registered    731 non-null    int64         \n",
            " 13  count         731 non-null    int64         \n",
            "dtypes: category(7), datetime64[ns](1), float64(3), int64(3)\n",
            "memory usage: 52.1 KB\n"
          ]
        }
      ],
      "source": [
        "day_df.info()"
      ]
    },
    {
      "cell_type": "markdown",
      "metadata": {
        "id": "EyPJaCDm9KFb"
      },
      "source": [
        "## **Exploratory Data Analysis (EDA)**"
      ]
    },
    {
      "cell_type": "markdown",
      "metadata": {
        "id": "hxgJ6qd69Mce"
      },
      "source": [
        "### **Eksplorasi Data day_df**"
      ]
    },
    {
      "cell_type": "markdown",
      "metadata": {
        "id": "jZEeEP2kXQtj"
      },
      "source": [
        "1. Pengaruh Cuaca terhadap Permintaan Penyewaan Sepeda"
      ]
    },
    {
      "cell_type": "code",
      "execution_count": 19,
      "metadata": {
        "colab": {
          "base_uri": "https://localhost:8080/",
          "height": 488
        },
        "id": "Xo68yguo9LTl",
        "outputId": "2f14cebc-6320-4639-a648-b3baac95c0c3"
      },
      "outputs": [
        {
          "data": {
            "text/html": [
              "<div>\n",
              "<style scoped>\n",
              "    .dataframe tbody tr th:only-of-type {\n",
              "        vertical-align: middle;\n",
              "    }\n",
              "\n",
              "    .dataframe tbody tr th {\n",
              "        vertical-align: top;\n",
              "    }\n",
              "\n",
              "    .dataframe thead tr th {\n",
              "        text-align: left;\n",
              "    }\n",
              "\n",
              "    .dataframe thead tr:last-of-type th {\n",
              "        text-align: right;\n",
              "    }\n",
              "</style>\n",
              "<table border=\"1\" class=\"dataframe\">\n",
              "  <thead>\n",
              "    <tr>\n",
              "      <th></th>\n",
              "      <th colspan=\"4\" halign=\"left\">count</th>\n",
              "    </tr>\n",
              "    <tr>\n",
              "      <th></th>\n",
              "      <th>max</th>\n",
              "      <th>min</th>\n",
              "      <th>mean</th>\n",
              "      <th>sum</th>\n",
              "    </tr>\n",
              "    <tr>\n",
              "      <th>weather_cond</th>\n",
              "      <th></th>\n",
              "      <th></th>\n",
              "      <th></th>\n",
              "      <th></th>\n",
              "    </tr>\n",
              "  </thead>\n",
              "  <tbody>\n",
              "    <tr>\n",
              "      <th>Clear/Partly Cloudy</th>\n",
              "      <td>8714</td>\n",
              "      <td>431</td>\n",
              "      <td>4876.786177</td>\n",
              "      <td>2257952</td>\n",
              "    </tr>\n",
              "    <tr>\n",
              "      <th>Light Snow/Rain</th>\n",
              "      <td>4639</td>\n",
              "      <td>22</td>\n",
              "      <td>1803.285714</td>\n",
              "      <td>37869</td>\n",
              "    </tr>\n",
              "    <tr>\n",
              "      <th>Misty/Cloudy</th>\n",
              "      <td>8362</td>\n",
              "      <td>605</td>\n",
              "      <td>4035.862348</td>\n",
              "      <td>996858</td>\n",
              "    </tr>\n",
              "  </tbody>\n",
              "</table>\n",
              "</div>"
            ],
            "text/plain": [
              "                    count                           \n",
              "                      max  min         mean      sum\n",
              "weather_cond                                        \n",
              "Clear/Partly Cloudy  8714  431  4876.786177  2257952\n",
              "Light Snow/Rain      4639   22  1803.285714    37869\n",
              "Misty/Cloudy         8362  605  4035.862348   996858"
            ]
          },
          "execution_count": 19,
          "metadata": {},
          "output_type": "execute_result"
        }
      ],
      "source": [
        "day_df.groupby('weather_cond').agg({\n",
        "    'count': ['max', 'min', 'mean', 'sum']\n",
        "})"
      ]
    },
    {
      "cell_type": "markdown",
      "metadata": {
        "id": "i4gmhtVdVvBC"
      },
      "source": [
        "Seperti data yang ditampilkan diatas dapat disimpulkan bahwa cuaca buruk seperti \"Light Snow/Rain\" secara signifikan mengurangi jumlah penyewaan sepeda"
      ]
    },
    {
      "cell_type": "markdown",
      "metadata": {
        "id": "YFpD3BIIYvoo"
      },
      "source": [
        "2. Perbandingan Tingkat Penyewaan Sepeda dari Tahun 2011 ke 2012\""
      ]
    },
    {
      "cell_type": "code",
      "execution_count": 20,
      "metadata": {
        "colab": {
          "base_uri": "https://localhost:8080/",
          "height": 206
        },
        "id": "VXGbaEgpYvSO",
        "outputId": "22eac42c-631c-4387-ebd9-370a9b506bc6"
      },
      "outputs": [
        {
          "data": {
            "text/html": [
              "<div>\n",
              "<style scoped>\n",
              "    .dataframe tbody tr th:only-of-type {\n",
              "        vertical-align: middle;\n",
              "    }\n",
              "\n",
              "    .dataframe tbody tr th {\n",
              "        vertical-align: top;\n",
              "    }\n",
              "\n",
              "    .dataframe thead tr th {\n",
              "        text-align: left;\n",
              "    }\n",
              "\n",
              "    .dataframe thead tr:last-of-type th {\n",
              "        text-align: right;\n",
              "    }\n",
              "</style>\n",
              "<table border=\"1\" class=\"dataframe\">\n",
              "  <thead>\n",
              "    <tr>\n",
              "      <th></th>\n",
              "      <th colspan=\"4\" halign=\"left\">count</th>\n",
              "    </tr>\n",
              "    <tr>\n",
              "      <th></th>\n",
              "      <th>max</th>\n",
              "      <th>min</th>\n",
              "      <th>mean</th>\n",
              "      <th>sum</th>\n",
              "    </tr>\n",
              "    <tr>\n",
              "      <th>year</th>\n",
              "      <th></th>\n",
              "      <th></th>\n",
              "      <th></th>\n",
              "      <th></th>\n",
              "    </tr>\n",
              "  </thead>\n",
              "  <tbody>\n",
              "    <tr>\n",
              "      <th>0</th>\n",
              "      <td>6043</td>\n",
              "      <td>431</td>\n",
              "      <td>3405.761644</td>\n",
              "      <td>1243103</td>\n",
              "    </tr>\n",
              "    <tr>\n",
              "      <th>1</th>\n",
              "      <td>8714</td>\n",
              "      <td>22</td>\n",
              "      <td>5599.934426</td>\n",
              "      <td>2049576</td>\n",
              "    </tr>\n",
              "  </tbody>\n",
              "</table>\n",
              "</div>"
            ],
            "text/plain": [
              "     count                           \n",
              "       max  min         mean      sum\n",
              "year                                 \n",
              "0     6043  431  3405.761644  1243103\n",
              "1     8714   22  5599.934426  2049576"
            ]
          },
          "execution_count": 20,
          "metadata": {},
          "output_type": "execute_result"
        }
      ],
      "source": [
        "day_df.groupby('year').agg({\n",
        "    'count': ['max', 'min', 'mean', 'sum']\n",
        "})"
      ]
    },
    {
      "cell_type": "markdown",
      "metadata": {
        "id": "-A-NrypSZBHn"
      },
      "source": [
        "Dari data diatas menunjukkan bahwa penyewaan mengalami peningkatan pada tahun 2012"
      ]
    },
    {
      "cell_type": "markdown",
      "metadata": {
        "id": "4JckYoe8Zdhr"
      },
      "source": [
        "3. Perbandingan Penyewaan Sepeda di Hari Kerja, Libur, dan Biasa"
      ]
    },
    {
      "cell_type": "code",
      "execution_count": 21,
      "metadata": {
        "colab": {
          "base_uri": "https://localhost:8080/",
          "height": 175
        },
        "id": "QaCN9uJQZ4gD",
        "outputId": "df7132be-626b-4f76-92b3-f51dff1c710a"
      },
      "outputs": [
        {
          "data": {
            "text/html": [
              "<div>\n",
              "<style scoped>\n",
              "    .dataframe tbody tr th:only-of-type {\n",
              "        vertical-align: middle;\n",
              "    }\n",
              "\n",
              "    .dataframe tbody tr th {\n",
              "        vertical-align: top;\n",
              "    }\n",
              "\n",
              "    .dataframe thead tr th {\n",
              "        text-align: left;\n",
              "    }\n",
              "\n",
              "    .dataframe thead tr:last-of-type th {\n",
              "        text-align: right;\n",
              "    }\n",
              "</style>\n",
              "<table border=\"1\" class=\"dataframe\">\n",
              "  <thead>\n",
              "    <tr>\n",
              "      <th></th>\n",
              "      <th colspan=\"4\" halign=\"left\">count</th>\n",
              "    </tr>\n",
              "    <tr>\n",
              "      <th></th>\n",
              "      <th>max</th>\n",
              "      <th>min</th>\n",
              "      <th>mean</th>\n",
              "      <th>sum</th>\n",
              "    </tr>\n",
              "    <tr>\n",
              "      <th>weekday</th>\n",
              "      <th></th>\n",
              "      <th></th>\n",
              "      <th></th>\n",
              "      <th></th>\n",
              "    </tr>\n",
              "  </thead>\n",
              "  <tbody>\n",
              "    <tr>\n",
              "      <th>Fri</th>\n",
              "      <td>8362</td>\n",
              "      <td>1167</td>\n",
              "      <td>4690.288462</td>\n",
              "      <td>487790</td>\n",
              "    </tr>\n",
              "    <tr>\n",
              "      <th>Mon</th>\n",
              "      <td>7525</td>\n",
              "      <td>22</td>\n",
              "      <td>4338.123810</td>\n",
              "      <td>455503</td>\n",
              "    </tr>\n",
              "    <tr>\n",
              "      <th>Sat</th>\n",
              "      <td>8714</td>\n",
              "      <td>627</td>\n",
              "      <td>4550.542857</td>\n",
              "      <td>477807</td>\n",
              "    </tr>\n",
              "    <tr>\n",
              "      <th>Sun</th>\n",
              "      <td>8227</td>\n",
              "      <td>605</td>\n",
              "      <td>4228.828571</td>\n",
              "      <td>444027</td>\n",
              "    </tr>\n",
              "    <tr>\n",
              "      <th>Thu</th>\n",
              "      <td>7804</td>\n",
              "      <td>431</td>\n",
              "      <td>4667.259615</td>\n",
              "      <td>485395</td>\n",
              "    </tr>\n",
              "    <tr>\n",
              "      <th>Tue</th>\n",
              "      <td>7767</td>\n",
              "      <td>683</td>\n",
              "      <td>4510.663462</td>\n",
              "      <td>469109</td>\n",
              "    </tr>\n",
              "    <tr>\n",
              "      <th>Wed</th>\n",
              "      <td>8173</td>\n",
              "      <td>441</td>\n",
              "      <td>4548.538462</td>\n",
              "      <td>473048</td>\n",
              "    </tr>\n",
              "  </tbody>\n",
              "</table>\n",
              "</div>"
            ],
            "text/plain": [
              "        count                           \n",
              "          max   min         mean     sum\n",
              "weekday                                 \n",
              "Fri      8362  1167  4690.288462  487790\n",
              "Mon      7525    22  4338.123810  455503\n",
              "Sat      8714   627  4550.542857  477807\n",
              "Sun      8227   605  4228.828571  444027\n",
              "Thu      7804   431  4667.259615  485395\n",
              "Tue      7767   683  4510.663462  469109\n",
              "Wed      8173   441  4548.538462  473048"
            ]
          },
          "execution_count": 21,
          "metadata": {},
          "output_type": "execute_result"
        }
      ],
      "source": [
        "day_df.groupby('weekday').agg({\n",
        "    'count': ['max', 'min', 'mean', 'sum']\n",
        "})"
      ]
    },
    {
      "cell_type": "markdown",
      "metadata": {
        "id": "j-Z3OD0dZ_wT"
      },
      "source": [
        "Dapat di lihat bawha pada akhir pekan terjadi penyewaan yang stabil sepanjang minggu, dengan sedikit peningkatan di akhir pekan."
      ]
    },
    {
      "cell_type": "markdown",
      "metadata": {
        "id": "uCcVWS9baec-"
      },
      "source": [
        "4. Pengaruh Musim Terhadap Penyewaan Sepeda"
      ]
    },
    {
      "cell_type": "code",
      "execution_count": 22,
      "metadata": {
        "colab": {
          "base_uri": "https://localhost:8080/",
          "height": 332
        },
        "id": "uxBGRCVaaeAT",
        "outputId": "87f0fb60-abdb-4369-9c53-8596809e3d88"
      },
      "outputs": [
        {
          "data": {
            "text/html": [
              "<div>\n",
              "<style scoped>\n",
              "    .dataframe tbody tr th:only-of-type {\n",
              "        vertical-align: middle;\n",
              "    }\n",
              "\n",
              "    .dataframe tbody tr th {\n",
              "        vertical-align: top;\n",
              "    }\n",
              "\n",
              "    .dataframe thead tr th {\n",
              "        text-align: left;\n",
              "    }\n",
              "\n",
              "    .dataframe thead tr:last-of-type th {\n",
              "        text-align: right;\n",
              "    }\n",
              "</style>\n",
              "<table border=\"1\" class=\"dataframe\">\n",
              "  <thead>\n",
              "    <tr>\n",
              "      <th></th>\n",
              "      <th colspan=\"4\" halign=\"left\">count</th>\n",
              "    </tr>\n",
              "    <tr>\n",
              "      <th></th>\n",
              "      <th>max</th>\n",
              "      <th>min</th>\n",
              "      <th>mean</th>\n",
              "      <th>sum</th>\n",
              "    </tr>\n",
              "    <tr>\n",
              "      <th>season</th>\n",
              "      <th></th>\n",
              "      <th></th>\n",
              "      <th></th>\n",
              "      <th></th>\n",
              "    </tr>\n",
              "  </thead>\n",
              "  <tbody>\n",
              "    <tr>\n",
              "      <th>Fall</th>\n",
              "      <td>8714</td>\n",
              "      <td>1115</td>\n",
              "      <td>5644.303191</td>\n",
              "      <td>1061129</td>\n",
              "    </tr>\n",
              "    <tr>\n",
              "      <th>Spring</th>\n",
              "      <td>7836</td>\n",
              "      <td>431</td>\n",
              "      <td>2604.132597</td>\n",
              "      <td>471348</td>\n",
              "    </tr>\n",
              "    <tr>\n",
              "      <th>Summer</th>\n",
              "      <td>8362</td>\n",
              "      <td>795</td>\n",
              "      <td>4992.331522</td>\n",
              "      <td>918589</td>\n",
              "    </tr>\n",
              "    <tr>\n",
              "      <th>Winter</th>\n",
              "      <td>8555</td>\n",
              "      <td>22</td>\n",
              "      <td>4728.162921</td>\n",
              "      <td>841613</td>\n",
              "    </tr>\n",
              "  </tbody>\n",
              "</table>\n",
              "</div>"
            ],
            "text/plain": [
              "       count                            \n",
              "         max   min         mean      sum\n",
              "season                                  \n",
              "Fall    8714  1115  5644.303191  1061129\n",
              "Spring  7836   431  2604.132597   471348\n",
              "Summer  8362   795  4992.331522   918589\n",
              "Winter  8555    22  4728.162921   841613"
            ]
          },
          "execution_count": 22,
          "metadata": {},
          "output_type": "execute_result"
        }
      ],
      "source": [
        "\n",
        "\n",
        "day_df.groupby('season').agg({\n",
        "    'count': ['max', 'min', 'mean', 'sum']\n",
        "})"
      ]
    },
    {
      "cell_type": "markdown",
      "metadata": {
        "id": "PIyi-iS4dIgk"
      },
      "source": [
        "Dapat Di lihat bahwa pada musim gugur dan musim panas memiliki jumlah penyewaan tertinggi dibandingkan musim dingin yang mengalami penurunan penyewaan sepeda"
      ]
    },
    {
      "cell_type": "markdown",
      "metadata": {
        "id": "YtjH57CmZZpn"
      },
      "source": [
        "5. Pengaruh Variabel Lingkungan (Suhu, Kelembapan) Terhadap Penyewaan"
      ]
    },
    {
      "cell_type": "code",
      "execution_count": 23,
      "metadata": {
        "colab": {
          "base_uri": "https://localhost:8080/",
          "height": 175
        },
        "id": "EbCeIRJLZuP4",
        "outputId": "7c215d0c-5eea-4b9a-e888-c30d009b7c2c"
      },
      "outputs": [
        {
          "data": {
            "text/html": [
              "<div>\n",
              "<style scoped>\n",
              "    .dataframe tbody tr th:only-of-type {\n",
              "        vertical-align: middle;\n",
              "    }\n",
              "\n",
              "    .dataframe tbody tr th {\n",
              "        vertical-align: top;\n",
              "    }\n",
              "\n",
              "    .dataframe thead tr th {\n",
              "        text-align: left;\n",
              "    }\n",
              "\n",
              "    .dataframe thead tr:last-of-type th {\n",
              "        text-align: right;\n",
              "    }\n",
              "</style>\n",
              "<table border=\"1\" class=\"dataframe\">\n",
              "  <thead>\n",
              "    <tr>\n",
              "      <th></th>\n",
              "      <th colspan=\"4\" halign=\"left\">count</th>\n",
              "    </tr>\n",
              "    <tr>\n",
              "      <th></th>\n",
              "      <th>max</th>\n",
              "      <th>min</th>\n",
              "      <th>mean</th>\n",
              "      <th>sum</th>\n",
              "    </tr>\n",
              "    <tr>\n",
              "      <th>hum</th>\n",
              "      <th></th>\n",
              "      <th></th>\n",
              "      <th></th>\n",
              "      <th></th>\n",
              "    </tr>\n",
              "  </thead>\n",
              "  <tbody>\n",
              "    <tr>\n",
              "      <th>0.000000</th>\n",
              "      <td>623</td>\n",
              "      <td>623</td>\n",
              "      <td>623.0</td>\n",
              "      <td>623</td>\n",
              "    </tr>\n",
              "    <tr>\n",
              "      <th>0.187917</th>\n",
              "      <td>1635</td>\n",
              "      <td>1635</td>\n",
              "      <td>1635.0</td>\n",
              "      <td>1635</td>\n",
              "    </tr>\n",
              "    <tr>\n",
              "      <th>0.254167</th>\n",
              "      <td>6857</td>\n",
              "      <td>6857</td>\n",
              "      <td>6857.0</td>\n",
              "      <td>6857</td>\n",
              "    </tr>\n",
              "    <tr>\n",
              "      <th>0.275833</th>\n",
              "      <td>5169</td>\n",
              "      <td>5169</td>\n",
              "      <td>5169.0</td>\n",
              "      <td>5169</td>\n",
              "    </tr>\n",
              "    <tr>\n",
              "      <th>0.290000</th>\n",
              "      <td>5102</td>\n",
              "      <td>5102</td>\n",
              "      <td>5102.0</td>\n",
              "      <td>5102</td>\n",
              "    </tr>\n",
              "    <tr>\n",
              "      <th>...</th>\n",
              "      <td>...</td>\n",
              "      <td>...</td>\n",
              "      <td>...</td>\n",
              "      <td>...</td>\n",
              "    </tr>\n",
              "    <tr>\n",
              "      <th>0.948261</th>\n",
              "      <td>605</td>\n",
              "      <td>605</td>\n",
              "      <td>605.0</td>\n",
              "      <td>605</td>\n",
              "    </tr>\n",
              "    <tr>\n",
              "      <th>0.949583</th>\n",
              "      <td>2594</td>\n",
              "      <td>2594</td>\n",
              "      <td>2594.0</td>\n",
              "      <td>2594</td>\n",
              "    </tr>\n",
              "    <tr>\n",
              "      <th>0.962500</th>\n",
              "      <td>1607</td>\n",
              "      <td>1607</td>\n",
              "      <td>1607.0</td>\n",
              "      <td>1607</td>\n",
              "    </tr>\n",
              "    <tr>\n",
              "      <th>0.970417</th>\n",
              "      <td>705</td>\n",
              "      <td>705</td>\n",
              "      <td>705.0</td>\n",
              "      <td>705</td>\n",
              "    </tr>\n",
              "    <tr>\n",
              "      <th>0.972500</th>\n",
              "      <td>2395</td>\n",
              "      <td>2395</td>\n",
              "      <td>2395.0</td>\n",
              "      <td>2395</td>\n",
              "    </tr>\n",
              "  </tbody>\n",
              "</table>\n",
              "<p>595 rows × 4 columns</p>\n",
              "</div>"
            ],
            "text/plain": [
              "         count                    \n",
              "           max   min    mean   sum\n",
              "hum                               \n",
              "0.000000   623   623   623.0   623\n",
              "0.187917  1635  1635  1635.0  1635\n",
              "0.254167  6857  6857  6857.0  6857\n",
              "0.275833  5169  5169  5169.0  5169\n",
              "0.290000  5102  5102  5102.0  5102\n",
              "...        ...   ...     ...   ...\n",
              "0.948261   605   605   605.0   605\n",
              "0.949583  2594  2594  2594.0  2594\n",
              "0.962500  1607  1607  1607.0  1607\n",
              "0.970417   705   705   705.0   705\n",
              "0.972500  2395  2395  2395.0  2395\n",
              "\n",
              "[595 rows x 4 columns]"
            ]
          },
          "execution_count": 23,
          "metadata": {},
          "output_type": "execute_result"
        }
      ],
      "source": [
        "\n",
        "day_df.groupby('temp').agg({\n",
        "    'count': ['max', 'min', 'mean', 'sum']\n",
        "})\n",
        "\n",
        "day_df.groupby('hum').agg({\n",
        "    'count': ['max', 'min', 'mean', 'sum']\n",
        "})"
      ]
    },
    {
      "cell_type": "markdown",
      "metadata": {
        "id": "gMmO5SembrBU"
      },
      "source": [
        "Berdasarkan hasil diatas penyewaan sepeda sangat dipengaruhi suhu yang tidak terlalu panas atau dingin, cenderung meningkatkan minat. Sebaliknya, kelembapan udara yang tinggi dapat menurunkan minat untuk menyewa sepeda."
      ]
    },
    {
      "cell_type": "markdown",
      "metadata": {},
      "source": [
        "## **Visualization & Explanatory Analysis**"
      ]
    },
    {
      "cell_type": "markdown",
      "metadata": {},
      "source": [
        "### **Pertanyaan 1: Apakah cuaca buruk menyebabkan penurunan yang signifikan dalam jumlah penyewaan?**"
      ]
    },
    {
      "cell_type": "code",
      "execution_count": 24,
      "metadata": {},
      "outputs": [
        {
          "data": {
            "application/vnd.plotly.v1+json": {
              "config": {
                "plotlyServerURL": "https://plot.ly"
              },
              "data": [
                {
                  "alignmentgroup": "True",
                  "hovertemplate": "Kondisi Cuaca=%{x}<br>Jumlah Penyewaan=%{y}<extra></extra>",
                  "legendgroup": "",
                  "marker": {
                    "color": "#636efa"
                  },
                  "name": "",
                  "notched": false,
                  "offsetgroup": "",
                  "orientation": "v",
                  "showlegend": false,
                  "type": "box",
                  "x": [
                    "Misty/Cloudy",
                    "Misty/Cloudy",
                    "Clear/Partly Cloudy",
                    "Clear/Partly Cloudy",
                    "Clear/Partly Cloudy",
                    "Clear/Partly Cloudy",
                    "Misty/Cloudy",
                    "Misty/Cloudy",
                    "Clear/Partly Cloudy",
                    "Clear/Partly Cloudy",
                    "Misty/Cloudy",
                    "Clear/Partly Cloudy",
                    "Clear/Partly Cloudy",
                    "Clear/Partly Cloudy",
                    "Misty/Cloudy",
                    "Clear/Partly Cloudy",
                    "Misty/Cloudy",
                    "Misty/Cloudy",
                    "Misty/Cloudy",
                    "Misty/Cloudy",
                    "Clear/Partly Cloudy",
                    "Clear/Partly Cloudy",
                    "Clear/Partly Cloudy",
                    "Clear/Partly Cloudy",
                    "Misty/Cloudy",
                    "Light Snow/Rain",
                    "Clear/Partly Cloudy",
                    "Misty/Cloudy",
                    "Clear/Partly Cloudy",
                    "Clear/Partly Cloudy",
                    "Misty/Cloudy",
                    "Misty/Cloudy",
                    "Misty/Cloudy",
                    "Clear/Partly Cloudy",
                    "Misty/Cloudy",
                    "Misty/Cloudy",
                    "Clear/Partly Cloudy",
                    "Clear/Partly Cloudy",
                    "Clear/Partly Cloudy",
                    "Misty/Cloudy",
                    "Clear/Partly Cloudy",
                    "Clear/Partly Cloudy",
                    "Clear/Partly Cloudy",
                    "Clear/Partly Cloudy",
                    "Clear/Partly Cloudy",
                    "Clear/Partly Cloudy",
                    "Clear/Partly Cloudy",
                    "Clear/Partly Cloudy",
                    "Clear/Partly Cloudy",
                    "Clear/Partly Cloudy",
                    "Clear/Partly Cloudy",
                    "Misty/Cloudy",
                    "Clear/Partly Cloudy",
                    "Clear/Partly Cloudy",
                    "Misty/Cloudy",
                    "Misty/Cloudy",
                    "Clear/Partly Cloudy",
                    "Clear/Partly Cloudy",
                    "Misty/Cloudy",
                    "Clear/Partly Cloudy",
                    "Clear/Partly Cloudy",
                    "Clear/Partly Cloudy",
                    "Misty/Cloudy",
                    "Misty/Cloudy",
                    "Misty/Cloudy",
                    "Clear/Partly Cloudy",
                    "Clear/Partly Cloudy",
                    "Misty/Cloudy",
                    "Light Snow/Rain",
                    "Misty/Cloudy",
                    "Clear/Partly Cloudy",
                    "Clear/Partly Cloudy",
                    "Clear/Partly Cloudy",
                    "Misty/Cloudy",
                    "Misty/Cloudy",
                    "Clear/Partly Cloudy",
                    "Clear/Partly Cloudy",
                    "Clear/Partly Cloudy",
                    "Clear/Partly Cloudy",
                    "Misty/Cloudy",
                    "Clear/Partly Cloudy",
                    "Misty/Cloudy",
                    "Misty/Cloudy",
                    "Clear/Partly Cloudy",
                    "Clear/Partly Cloudy",
                    "Misty/Cloudy",
                    "Clear/Partly Cloudy",
                    "Clear/Partly Cloudy",
                    "Misty/Cloudy",
                    "Light Snow/Rain",
                    "Misty/Cloudy",
                    "Misty/Cloudy",
                    "Clear/Partly Cloudy",
                    "Clear/Partly Cloudy",
                    "Misty/Cloudy",
                    "Clear/Partly Cloudy",
                    "Clear/Partly Cloudy",
                    "Misty/Cloudy",
                    "Misty/Cloudy",
                    "Misty/Cloudy",
                    "Misty/Cloudy",
                    "Misty/Cloudy",
                    "Misty/Cloudy",
                    "Clear/Partly Cloudy",
                    "Clear/Partly Cloudy",
                    "Light Snow/Rain",
                    "Clear/Partly Cloudy",
                    "Clear/Partly Cloudy",
                    "Misty/Cloudy",
                    "Clear/Partly Cloudy",
                    "Clear/Partly Cloudy",
                    "Misty/Cloudy",
                    "Misty/Cloudy",
                    "Misty/Cloudy",
                    "Clear/Partly Cloudy",
                    "Clear/Partly Cloudy",
                    "Misty/Cloudy",
                    "Misty/Cloudy",
                    "Clear/Partly Cloudy",
                    "Clear/Partly Cloudy",
                    "Misty/Cloudy",
                    "Misty/Cloudy",
                    "Misty/Cloudy",
                    "Misty/Cloudy",
                    "Clear/Partly Cloudy",
                    "Clear/Partly Cloudy",
                    "Clear/Partly Cloudy",
                    "Clear/Partly Cloudy",
                    "Clear/Partly Cloudy",
                    "Clear/Partly Cloudy",
                    "Clear/Partly Cloudy",
                    "Clear/Partly Cloudy",
                    "Misty/Cloudy",
                    "Misty/Cloudy",
                    "Misty/Cloudy",
                    "Clear/Partly Cloudy",
                    "Misty/Cloudy",
                    "Misty/Cloudy",
                    "Misty/Cloudy",
                    "Clear/Partly Cloudy",
                    "Clear/Partly Cloudy",
                    "Clear/Partly Cloudy",
                    "Misty/Cloudy",
                    "Misty/Cloudy",
                    "Clear/Partly Cloudy",
                    "Clear/Partly Cloudy",
                    "Clear/Partly Cloudy",
                    "Clear/Partly Cloudy",
                    "Clear/Partly Cloudy",
                    "Clear/Partly Cloudy",
                    "Clear/Partly Cloudy",
                    "Misty/Cloudy",
                    "Clear/Partly Cloudy",
                    "Clear/Partly Cloudy",
                    "Clear/Partly Cloudy",
                    "Misty/Cloudy",
                    "Clear/Partly Cloudy",
                    "Clear/Partly Cloudy",
                    "Clear/Partly Cloudy",
                    "Misty/Cloudy",
                    "Clear/Partly Cloudy",
                    "Clear/Partly Cloudy",
                    "Clear/Partly Cloudy",
                    "Clear/Partly Cloudy",
                    "Clear/Partly Cloudy",
                    "Clear/Partly Cloudy",
                    "Misty/Cloudy",
                    "Clear/Partly Cloudy",
                    "Clear/Partly Cloudy",
                    "Misty/Cloudy",
                    "Misty/Cloudy",
                    "Misty/Cloudy",
                    "Clear/Partly Cloudy",
                    "Misty/Cloudy",
                    "Clear/Partly Cloudy",
                    "Clear/Partly Cloudy",
                    "Clear/Partly Cloudy",
                    "Misty/Cloudy",
                    "Clear/Partly Cloudy",
                    "Clear/Partly Cloudy",
                    "Clear/Partly Cloudy",
                    "Clear/Partly Cloudy",
                    "Clear/Partly Cloudy",
                    "Misty/Cloudy",
                    "Misty/Cloudy",
                    "Clear/Partly Cloudy",
                    "Clear/Partly Cloudy",
                    "Clear/Partly Cloudy",
                    "Misty/Cloudy",
                    "Clear/Partly Cloudy",
                    "Clear/Partly Cloudy",
                    "Clear/Partly Cloudy",
                    "Clear/Partly Cloudy",
                    "Clear/Partly Cloudy",
                    "Clear/Partly Cloudy",
                    "Clear/Partly Cloudy",
                    "Clear/Partly Cloudy",
                    "Clear/Partly Cloudy",
                    "Clear/Partly Cloudy",
                    "Clear/Partly Cloudy",
                    "Clear/Partly Cloudy",
                    "Misty/Cloudy",
                    "Clear/Partly Cloudy",
                    "Clear/Partly Cloudy",
                    "Clear/Partly Cloudy",
                    "Clear/Partly Cloudy",
                    "Clear/Partly Cloudy",
                    "Clear/Partly Cloudy",
                    "Clear/Partly Cloudy",
                    "Clear/Partly Cloudy",
                    "Clear/Partly Cloudy",
                    "Clear/Partly Cloudy",
                    "Clear/Partly Cloudy",
                    "Clear/Partly Cloudy",
                    "Misty/Cloudy",
                    "Misty/Cloudy",
                    "Clear/Partly Cloudy",
                    "Misty/Cloudy",
                    "Clear/Partly Cloudy",
                    "Clear/Partly Cloudy",
                    "Clear/Partly Cloudy",
                    "Clear/Partly Cloudy",
                    "Clear/Partly Cloudy",
                    "Clear/Partly Cloudy",
                    "Misty/Cloudy",
                    "Misty/Cloudy",
                    "Clear/Partly Cloudy",
                    "Clear/Partly Cloudy",
                    "Clear/Partly Cloudy",
                    "Clear/Partly Cloudy",
                    "Misty/Cloudy",
                    "Clear/Partly Cloudy",
                    "Clear/Partly Cloudy",
                    "Clear/Partly Cloudy",
                    "Clear/Partly Cloudy",
                    "Clear/Partly Cloudy",
                    "Misty/Cloudy",
                    "Clear/Partly Cloudy",
                    "Misty/Cloudy",
                    "Clear/Partly Cloudy",
                    "Clear/Partly Cloudy",
                    "Clear/Partly Cloudy",
                    "Clear/Partly Cloudy",
                    "Clear/Partly Cloudy",
                    "Misty/Cloudy",
                    "Clear/Partly Cloudy",
                    "Clear/Partly Cloudy",
                    "Misty/Cloudy",
                    "Light Snow/Rain",
                    "Light Snow/Rain",
                    "Light Snow/Rain",
                    "Misty/Cloudy",
                    "Clear/Partly Cloudy",
                    "Clear/Partly Cloudy",
                    "Clear/Partly Cloudy",
                    "Clear/Partly Cloudy",
                    "Clear/Partly Cloudy",
                    "Misty/Cloudy",
                    "Misty/Cloudy",
                    "Misty/Cloudy",
                    "Clear/Partly Cloudy",
                    "Misty/Cloudy",
                    "Misty/Cloudy",
                    "Misty/Cloudy",
                    "Misty/Cloudy",
                    "Misty/Cloudy",
                    "Misty/Cloudy",
                    "Misty/Cloudy",
                    "Misty/Cloudy",
                    "Misty/Cloudy",
                    "Misty/Cloudy",
                    "Clear/Partly Cloudy",
                    "Clear/Partly Cloudy",
                    "Misty/Cloudy",
                    "Misty/Cloudy",
                    "Misty/Cloudy",
                    "Clear/Partly Cloudy",
                    "Clear/Partly Cloudy",
                    "Clear/Partly Cloudy",
                    "Clear/Partly Cloudy",
                    "Clear/Partly Cloudy",
                    "Clear/Partly Cloudy",
                    "Clear/Partly Cloudy",
                    "Misty/Cloudy",
                    "Light Snow/Rain",
                    "Misty/Cloudy",
                    "Misty/Cloudy",
                    "Clear/Partly Cloudy",
                    "Clear/Partly Cloudy",
                    "Clear/Partly Cloudy",
                    "Misty/Cloudy",
                    "Light Snow/Rain",
                    "Clear/Partly Cloudy",
                    "Clear/Partly Cloudy",
                    "Clear/Partly Cloudy",
                    "Clear/Partly Cloudy",
                    "Clear/Partly Cloudy",
                    "Clear/Partly Cloudy",
                    "Misty/Cloudy",
                    "Misty/Cloudy",
                    "Misty/Cloudy",
                    "Light Snow/Rain",
                    "Clear/Partly Cloudy",
                    "Clear/Partly Cloudy",
                    "Clear/Partly Cloudy",
                    "Clear/Partly Cloudy",
                    "Clear/Partly Cloudy",
                    "Misty/Cloudy",
                    "Clear/Partly Cloudy",
                    "Clear/Partly Cloudy",
                    "Clear/Partly Cloudy",
                    "Clear/Partly Cloudy",
                    "Clear/Partly Cloudy",
                    "Misty/Cloudy",
                    "Clear/Partly Cloudy",
                    "Clear/Partly Cloudy",
                    "Clear/Partly Cloudy",
                    "Clear/Partly Cloudy",
                    "Misty/Cloudy",
                    "Light Snow/Rain",
                    "Misty/Cloudy",
                    "Clear/Partly Cloudy",
                    "Clear/Partly Cloudy",
                    "Misty/Cloudy",
                    "Light Snow/Rain",
                    "Light Snow/Rain",
                    "Misty/Cloudy",
                    "Clear/Partly Cloudy",
                    "Clear/Partly Cloudy",
                    "Clear/Partly Cloudy",
                    "Clear/Partly Cloudy",
                    "Clear/Partly Cloudy",
                    "Misty/Cloudy",
                    "Clear/Partly Cloudy",
                    "Clear/Partly Cloudy",
                    "Clear/Partly Cloudy",
                    "Clear/Partly Cloudy",
                    "Clear/Partly Cloudy",
                    "Misty/Cloudy",
                    "Light Snow/Rain",
                    "Light Snow/Rain",
                    "Clear/Partly Cloudy",
                    "Clear/Partly Cloudy",
                    "Clear/Partly Cloudy",
                    "Clear/Partly Cloudy",
                    "Clear/Partly Cloudy",
                    "Clear/Partly Cloudy",
                    "Misty/Cloudy",
                    "Misty/Cloudy",
                    "Misty/Cloudy",
                    "Misty/Cloudy",
                    "Clear/Partly Cloudy",
                    "Clear/Partly Cloudy",
                    "Misty/Cloudy",
                    "Misty/Cloudy",
                    "Misty/Cloudy",
                    "Clear/Partly Cloudy",
                    "Clear/Partly Cloudy",
                    "Clear/Partly Cloudy",
                    "Clear/Partly Cloudy",
                    "Misty/Cloudy",
                    "Clear/Partly Cloudy",
                    "Clear/Partly Cloudy",
                    "Clear/Partly Cloudy",
                    "Clear/Partly Cloudy",
                    "Clear/Partly Cloudy",
                    "Clear/Partly Cloudy",
                    "Clear/Partly Cloudy",
                    "Misty/Cloudy",
                    "Clear/Partly Cloudy",
                    "Clear/Partly Cloudy",
                    "Clear/Partly Cloudy",
                    "Clear/Partly Cloudy",
                    "Misty/Cloudy",
                    "Clear/Partly Cloudy",
                    "Misty/Cloudy",
                    "Misty/Cloudy",
                    "Clear/Partly Cloudy",
                    "Clear/Partly Cloudy",
                    "Clear/Partly Cloudy",
                    "Clear/Partly Cloudy",
                    "Misty/Cloudy",
                    "Clear/Partly Cloudy",
                    "Clear/Partly Cloudy",
                    "Misty/Cloudy",
                    "Misty/Cloudy",
                    "Misty/Cloudy",
                    "Misty/Cloudy",
                    "Clear/Partly Cloudy",
                    "Clear/Partly Cloudy",
                    "Misty/Cloudy",
                    "Misty/Cloudy",
                    "Clear/Partly Cloudy",
                    "Clear/Partly Cloudy",
                    "Clear/Partly Cloudy",
                    "Clear/Partly Cloudy",
                    "Clear/Partly Cloudy",
                    "Misty/Cloudy",
                    "Clear/Partly Cloudy",
                    "Misty/Cloudy",
                    "Misty/Cloudy",
                    "Clear/Partly Cloudy",
                    "Clear/Partly Cloudy",
                    "Misty/Cloudy",
                    "Clear/Partly Cloudy",
                    "Misty/Cloudy",
                    "Light Snow/Rain",
                    "Clear/Partly Cloudy",
                    "Clear/Partly Cloudy",
                    "Misty/Cloudy",
                    "Clear/Partly Cloudy",
                    "Misty/Cloudy",
                    "Clear/Partly Cloudy",
                    "Clear/Partly Cloudy",
                    "Misty/Cloudy",
                    "Clear/Partly Cloudy",
                    "Clear/Partly Cloudy",
                    "Clear/Partly Cloudy",
                    "Clear/Partly Cloudy",
                    "Misty/Cloudy",
                    "Clear/Partly Cloudy",
                    "Clear/Partly Cloudy",
                    "Clear/Partly Cloudy",
                    "Clear/Partly Cloudy",
                    "Misty/Cloudy",
                    "Clear/Partly Cloudy",
                    "Misty/Cloudy",
                    "Misty/Cloudy",
                    "Clear/Partly Cloudy",
                    "Clear/Partly Cloudy",
                    "Clear/Partly Cloudy",
                    "Clear/Partly Cloudy",
                    "Clear/Partly Cloudy",
                    "Misty/Cloudy",
                    "Clear/Partly Cloudy",
                    "Clear/Partly Cloudy",
                    "Clear/Partly Cloudy",
                    "Clear/Partly Cloudy",
                    "Clear/Partly Cloudy",
                    "Clear/Partly Cloudy",
                    "Misty/Cloudy",
                    "Misty/Cloudy",
                    "Misty/Cloudy",
                    "Clear/Partly Cloudy",
                    "Clear/Partly Cloudy",
                    "Misty/Cloudy",
                    "Clear/Partly Cloudy",
                    "Misty/Cloudy",
                    "Misty/Cloudy",
                    "Misty/Cloudy",
                    "Clear/Partly Cloudy",
                    "Clear/Partly Cloudy",
                    "Clear/Partly Cloudy",
                    "Clear/Partly Cloudy",
                    "Misty/Cloudy",
                    "Misty/Cloudy",
                    "Misty/Cloudy",
                    "Clear/Partly Cloudy",
                    "Clear/Partly Cloudy",
                    "Clear/Partly Cloudy",
                    "Clear/Partly Cloudy",
                    "Clear/Partly Cloudy",
                    "Clear/Partly Cloudy",
                    "Clear/Partly Cloudy",
                    "Clear/Partly Cloudy",
                    "Clear/Partly Cloudy",
                    "Clear/Partly Cloudy",
                    "Clear/Partly Cloudy",
                    "Clear/Partly Cloudy",
                    "Clear/Partly Cloudy",
                    "Clear/Partly Cloudy",
                    "Clear/Partly Cloudy",
                    "Clear/Partly Cloudy",
                    "Misty/Cloudy",
                    "Clear/Partly Cloudy",
                    "Clear/Partly Cloudy",
                    "Clear/Partly Cloudy",
                    "Light Snow/Rain",
                    "Misty/Cloudy",
                    "Clear/Partly Cloudy",
                    "Clear/Partly Cloudy",
                    "Misty/Cloudy",
                    "Clear/Partly Cloudy",
                    "Misty/Cloudy",
                    "Clear/Partly Cloudy",
                    "Misty/Cloudy",
                    "Misty/Cloudy",
                    "Clear/Partly Cloudy",
                    "Misty/Cloudy",
                    "Clear/Partly Cloudy",
                    "Misty/Cloudy",
                    "Misty/Cloudy",
                    "Misty/Cloudy",
                    "Misty/Cloudy",
                    "Misty/Cloudy",
                    "Clear/Partly Cloudy",
                    "Clear/Partly Cloudy",
                    "Clear/Partly Cloudy",
                    "Clear/Partly Cloudy",
                    "Misty/Cloudy",
                    "Misty/Cloudy",
                    "Clear/Partly Cloudy",
                    "Clear/Partly Cloudy",
                    "Clear/Partly Cloudy",
                    "Clear/Partly Cloudy",
                    "Clear/Partly Cloudy",
                    "Misty/Cloudy",
                    "Misty/Cloudy",
                    "Misty/Cloudy",
                    "Clear/Partly Cloudy",
                    "Clear/Partly Cloudy",
                    "Clear/Partly Cloudy",
                    "Clear/Partly Cloudy",
                    "Clear/Partly Cloudy",
                    "Clear/Partly Cloudy",
                    "Misty/Cloudy",
                    "Clear/Partly Cloudy",
                    "Misty/Cloudy",
                    "Clear/Partly Cloudy",
                    "Clear/Partly Cloudy",
                    "Clear/Partly Cloudy",
                    "Misty/Cloudy",
                    "Clear/Partly Cloudy",
                    "Clear/Partly Cloudy",
                    "Clear/Partly Cloudy",
                    "Clear/Partly Cloudy",
                    "Clear/Partly Cloudy",
                    "Misty/Cloudy",
                    "Misty/Cloudy",
                    "Clear/Partly Cloudy",
                    "Clear/Partly Cloudy",
                    "Clear/Partly Cloudy",
                    "Clear/Partly Cloudy",
                    "Clear/Partly Cloudy",
                    "Misty/Cloudy",
                    "Clear/Partly Cloudy",
                    "Clear/Partly Cloudy",
                    "Clear/Partly Cloudy",
                    "Clear/Partly Cloudy",
                    "Clear/Partly Cloudy",
                    "Clear/Partly Cloudy",
                    "Clear/Partly Cloudy",
                    "Clear/Partly Cloudy",
                    "Clear/Partly Cloudy",
                    "Clear/Partly Cloudy",
                    "Clear/Partly Cloudy",
                    "Clear/Partly Cloudy",
                    "Clear/Partly Cloudy",
                    "Clear/Partly Cloudy",
                    "Clear/Partly Cloudy",
                    "Clear/Partly Cloudy",
                    "Clear/Partly Cloudy",
                    "Clear/Partly Cloudy",
                    "Clear/Partly Cloudy",
                    "Clear/Partly Cloudy",
                    "Misty/Cloudy",
                    "Misty/Cloudy",
                    "Clear/Partly Cloudy",
                    "Clear/Partly Cloudy",
                    "Misty/Cloudy",
                    "Misty/Cloudy",
                    "Clear/Partly Cloudy",
                    "Clear/Partly Cloudy",
                    "Clear/Partly Cloudy",
                    "Clear/Partly Cloudy",
                    "Clear/Partly Cloudy",
                    "Misty/Cloudy",
                    "Light Snow/Rain",
                    "Misty/Cloudy",
                    "Clear/Partly Cloudy",
                    "Clear/Partly Cloudy",
                    "Clear/Partly Cloudy",
                    "Clear/Partly Cloudy",
                    "Clear/Partly Cloudy",
                    "Clear/Partly Cloudy",
                    "Clear/Partly Cloudy",
                    "Clear/Partly Cloudy",
                    "Clear/Partly Cloudy",
                    "Clear/Partly Cloudy",
                    "Clear/Partly Cloudy",
                    "Misty/Cloudy",
                    "Clear/Partly Cloudy",
                    "Clear/Partly Cloudy",
                    "Misty/Cloudy",
                    "Misty/Cloudy",
                    "Misty/Cloudy",
                    "Clear/Partly Cloudy",
                    "Misty/Cloudy",
                    "Misty/Cloudy",
                    "Clear/Partly Cloudy",
                    "Clear/Partly Cloudy",
                    "Clear/Partly Cloudy",
                    "Clear/Partly Cloudy",
                    "Clear/Partly Cloudy",
                    "Clear/Partly Cloudy",
                    "Clear/Partly Cloudy",
                    "Misty/Cloudy",
                    "Misty/Cloudy",
                    "Clear/Partly Cloudy",
                    "Clear/Partly Cloudy",
                    "Clear/Partly Cloudy",
                    "Misty/Cloudy",
                    "Misty/Cloudy",
                    "Misty/Cloudy",
                    "Clear/Partly Cloudy",
                    "Clear/Partly Cloudy",
                    "Clear/Partly Cloudy",
                    "Clear/Partly Cloudy",
                    "Clear/Partly Cloudy",
                    "Misty/Cloudy",
                    "Misty/Cloudy",
                    "Clear/Partly Cloudy",
                    "Clear/Partly Cloudy",
                    "Clear/Partly Cloudy",
                    "Misty/Cloudy",
                    "Clear/Partly Cloudy",
                    "Misty/Cloudy",
                    "Clear/Partly Cloudy",
                    "Clear/Partly Cloudy",
                    "Clear/Partly Cloudy",
                    "Clear/Partly Cloudy",
                    "Clear/Partly Cloudy",
                    "Clear/Partly Cloudy",
                    "Clear/Partly Cloudy",
                    "Clear/Partly Cloudy",
                    "Misty/Cloudy",
                    "Misty/Cloudy",
                    "Clear/Partly Cloudy",
                    "Clear/Partly Cloudy",
                    "Clear/Partly Cloudy",
                    "Clear/Partly Cloudy",
                    "Clear/Partly Cloudy",
                    "Clear/Partly Cloudy",
                    "Clear/Partly Cloudy",
                    "Clear/Partly Cloudy",
                    "Misty/Cloudy",
                    "Misty/Cloudy",
                    "Clear/Partly Cloudy",
                    "Clear/Partly Cloudy",
                    "Misty/Cloudy",
                    "Light Snow/Rain",
                    "Misty/Cloudy",
                    "Misty/Cloudy",
                    "Clear/Partly Cloudy",
                    "Clear/Partly Cloudy",
                    "Misty/Cloudy",
                    "Misty/Cloudy",
                    "Misty/Cloudy",
                    "Clear/Partly Cloudy",
                    "Clear/Partly Cloudy",
                    "Clear/Partly Cloudy",
                    "Clear/Partly Cloudy",
                    "Clear/Partly Cloudy",
                    "Misty/Cloudy",
                    "Clear/Partly Cloudy",
                    "Clear/Partly Cloudy",
                    "Misty/Cloudy",
                    "Misty/Cloudy",
                    "Clear/Partly Cloudy",
                    "Clear/Partly Cloudy",
                    "Clear/Partly Cloudy",
                    "Clear/Partly Cloudy",
                    "Clear/Partly Cloudy",
                    "Misty/Cloudy",
                    "Misty/Cloudy",
                    "Misty/Cloudy",
                    "Misty/Cloudy",
                    "Light Snow/Rain",
                    "Misty/Cloudy",
                    "Misty/Cloudy",
                    "Misty/Cloudy",
                    "Clear/Partly Cloudy",
                    "Misty/Cloudy",
                    "Clear/Partly Cloudy",
                    "Clear/Partly Cloudy",
                    "Clear/Partly Cloudy",
                    "Misty/Cloudy",
                    "Clear/Partly Cloudy",
                    "Clear/Partly Cloudy",
                    "Clear/Partly Cloudy",
                    "Clear/Partly Cloudy",
                    "Clear/Partly Cloudy",
                    "Misty/Cloudy",
                    "Clear/Partly Cloudy",
                    "Misty/Cloudy",
                    "Clear/Partly Cloudy",
                    "Clear/Partly Cloudy",
                    "Clear/Partly Cloudy",
                    "Misty/Cloudy",
                    "Misty/Cloudy",
                    "Clear/Partly Cloudy",
                    "Clear/Partly Cloudy",
                    "Clear/Partly Cloudy",
                    "Clear/Partly Cloudy",
                    "Clear/Partly Cloudy",
                    "Clear/Partly Cloudy",
                    "Misty/Cloudy",
                    "Clear/Partly Cloudy",
                    "Clear/Partly Cloudy",
                    "Clear/Partly Cloudy",
                    "Misty/Cloudy",
                    "Misty/Cloudy",
                    "Clear/Partly Cloudy",
                    "Clear/Partly Cloudy",
                    "Clear/Partly Cloudy",
                    "Clear/Partly Cloudy",
                    "Misty/Cloudy",
                    "Misty/Cloudy",
                    "Misty/Cloudy",
                    "Misty/Cloudy",
                    "Misty/Cloudy",
                    "Misty/Cloudy",
                    "Clear/Partly Cloudy",
                    "Clear/Partly Cloudy",
                    "Clear/Partly Cloudy",
                    "Misty/Cloudy",
                    "Misty/Cloudy",
                    "Clear/Partly Cloudy",
                    "Clear/Partly Cloudy",
                    "Misty/Cloudy",
                    "Misty/Cloudy",
                    "Clear/Partly Cloudy",
                    "Clear/Partly Cloudy",
                    "Misty/Cloudy",
                    "Misty/Cloudy",
                    "Light Snow/Rain",
                    "Misty/Cloudy",
                    "Misty/Cloudy",
                    "Misty/Cloudy",
                    "Clear/Partly Cloudy",
                    "Misty/Cloudy"
                  ],
                  "x0": " ",
                  "xaxis": "x",
                  "y": [
                    985,
                    801,
                    1349,
                    1562,
                    1600,
                    1606,
                    1510,
                    959,
                    822,
                    1321,
                    1263,
                    1162,
                    1406,
                    1421,
                    1248,
                    1204,
                    1000,
                    683,
                    1650,
                    1927,
                    1543,
                    981,
                    986,
                    1416,
                    1985,
                    506,
                    431,
                    1167,
                    1098,
                    1096,
                    1501,
                    1360,
                    1526,
                    1550,
                    1708,
                    1005,
                    1623,
                    1712,
                    1530,
                    1605,
                    1538,
                    1746,
                    1472,
                    1589,
                    1913,
                    1815,
                    2115,
                    2475,
                    2927,
                    1635,
                    1812,
                    1107,
                    1450,
                    1917,
                    1807,
                    1461,
                    1969,
                    2402,
                    1446,
                    1851,
                    2134,
                    1685,
                    1944,
                    2077,
                    605,
                    1872,
                    2133,
                    1891,
                    623,
                    1977,
                    2132,
                    2417,
                    2046,
                    2056,
                    2192,
                    2744,
                    3239,
                    3117,
                    2471,
                    2077,
                    2703,
                    2121,
                    1865,
                    2210,
                    2496,
                    1693,
                    2028,
                    2425,
                    1536,
                    1685,
                    2227,
                    2252,
                    3249,
                    3115,
                    1795,
                    2808,
                    3141,
                    1471,
                    2455,
                    2895,
                    3348,
                    2034,
                    2162,
                    3267,
                    3126,
                    795,
                    3744,
                    3429,
                    3204,
                    3944,
                    4189,
                    1683,
                    4036,
                    4191,
                    4073,
                    4400,
                    3872,
                    4058,
                    4595,
                    5312,
                    3351,
                    4401,
                    4451,
                    2633,
                    4433,
                    4608,
                    4714,
                    4333,
                    4362,
                    4803,
                    4182,
                    4864,
                    4105,
                    3409,
                    4553,
                    3958,
                    4123,
                    3855,
                    4575,
                    4917,
                    5805,
                    4660,
                    4274,
                    4492,
                    4978,
                    4677,
                    4679,
                    4758,
                    4788,
                    4098,
                    3982,
                    3974,
                    4968,
                    5312,
                    5342,
                    4906,
                    4548,
                    4833,
                    4401,
                    3915,
                    4586,
                    4966,
                    4460,
                    5020,
                    4891,
                    5180,
                    3767,
                    4844,
                    5119,
                    4744,
                    4010,
                    4835,
                    4507,
                    4790,
                    4991,
                    5202,
                    5305,
                    4708,
                    4648,
                    5225,
                    5515,
                    5362,
                    5119,
                    4649,
                    6043,
                    4665,
                    4629,
                    4592,
                    4040,
                    5336,
                    4881,
                    4086,
                    4258,
                    4342,
                    5084,
                    5538,
                    5923,
                    5302,
                    4458,
                    4541,
                    4332,
                    3784,
                    3387,
                    3285,
                    3606,
                    3840,
                    4590,
                    4656,
                    4390,
                    3846,
                    4475,
                    4302,
                    4266,
                    4845,
                    3574,
                    4576,
                    4866,
                    4294,
                    3785,
                    4326,
                    4602,
                    4780,
                    4792,
                    4905,
                    4150,
                    3820,
                    4338,
                    4725,
                    4694,
                    3805,
                    4153,
                    5191,
                    3873,
                    4758,
                    5895,
                    5130,
                    3542,
                    4661,
                    1115,
                    4334,
                    4634,
                    5204,
                    5058,
                    5115,
                    4727,
                    4484,
                    4940,
                    3351,
                    2710,
                    1996,
                    1842,
                    3544,
                    5345,
                    5046,
                    4713,
                    4763,
                    4785,
                    3659,
                    4760,
                    4511,
                    4274,
                    4539,
                    3641,
                    4352,
                    4795,
                    2395,
                    5423,
                    5010,
                    4630,
                    4120,
                    3907,
                    4839,
                    5202,
                    2429,
                    2918,
                    3570,
                    4456,
                    4826,
                    4765,
                    4985,
                    5409,
                    5511,
                    5117,
                    4563,
                    2416,
                    2913,
                    3644,
                    5217,
                    5041,
                    4570,
                    4748,
                    2424,
                    4195,
                    4304,
                    4308,
                    4381,
                    4187,
                    4687,
                    3894,
                    2659,
                    3747,
                    627,
                    3331,
                    3669,
                    4068,
                    4186,
                    3974,
                    4046,
                    3926,
                    3649,
                    4035,
                    4205,
                    4109,
                    2933,
                    3368,
                    4067,
                    3717,
                    4486,
                    4195,
                    1817,
                    3053,
                    3392,
                    3663,
                    3520,
                    2765,
                    1607,
                    2566,
                    1495,
                    2792,
                    3068,
                    3071,
                    3867,
                    2914,
                    3613,
                    3727,
                    3940,
                    3614,
                    3485,
                    3811,
                    2594,
                    705,
                    3322,
                    3620,
                    3190,
                    2743,
                    3310,
                    3523,
                    3740,
                    3709,
                    3577,
                    2739,
                    2431,
                    3403,
                    3750,
                    2660,
                    3068,
                    2209,
                    1011,
                    754,
                    1317,
                    1162,
                    2302,
                    2423,
                    2999,
                    2485,
                    2294,
                    1951,
                    2236,
                    2368,
                    3272,
                    4098,
                    4521,
                    3425,
                    2376,
                    3598,
                    2177,
                    4097,
                    3214,
                    2493,
                    2311,
                    2298,
                    2935,
                    3376,
                    3292,
                    3163,
                    1301,
                    1977,
                    2432,
                    4339,
                    4270,
                    4075,
                    3456,
                    4023,
                    3243,
                    3624,
                    4509,
                    4579,
                    3761,
                    4151,
                    2832,
                    2947,
                    3784,
                    4375,
                    2802,
                    3830,
                    3831,
                    2169,
                    1529,
                    3422,
                    3922,
                    4169,
                    3005,
                    4154,
                    4318,
                    2689,
                    3129,
                    3777,
                    4773,
                    5062,
                    3487,
                    2732,
                    3389,
                    4322,
                    4363,
                    1834,
                    4990,
                    3194,
                    4066,
                    3423,
                    3333,
                    3956,
                    4916,
                    5382,
                    4569,
                    4118,
                    4911,
                    5298,
                    5847,
                    6312,
                    6192,
                    4378,
                    7836,
                    5892,
                    6153,
                    6093,
                    6230,
                    6871,
                    8362,
                    3372,
                    4996,
                    5558,
                    5102,
                    5698,
                    6133,
                    5459,
                    6235,
                    6041,
                    5936,
                    6772,
                    6436,
                    6457,
                    6460,
                    6857,
                    5169,
                    5585,
                    5918,
                    4862,
                    5409,
                    6398,
                    7460,
                    7132,
                    6370,
                    6691,
                    4367,
                    6565,
                    7290,
                    6624,
                    1027,
                    3214,
                    5633,
                    6196,
                    5026,
                    6233,
                    4220,
                    6304,
                    5572,
                    5740,
                    6169,
                    6421,
                    6296,
                    6883,
                    6359,
                    6273,
                    5728,
                    4717,
                    6572,
                    7030,
                    7429,
                    6118,
                    2843,
                    5115,
                    7424,
                    7384,
                    7639,
                    8294,
                    7129,
                    4359,
                    6073,
                    5260,
                    6770,
                    6734,
                    6536,
                    6591,
                    6043,
                    5743,
                    6855,
                    7338,
                    4127,
                    8120,
                    7641,
                    6998,
                    7001,
                    7055,
                    7494,
                    7736,
                    7498,
                    6598,
                    6664,
                    4972,
                    7421,
                    7363,
                    7665,
                    7702,
                    6978,
                    5099,
                    6825,
                    6211,
                    5905,
                    5823,
                    7458,
                    6891,
                    6779,
                    7442,
                    7335,
                    6879,
                    5463,
                    5687,
                    5531,
                    6227,
                    6660,
                    7403,
                    6241,
                    6207,
                    4840,
                    4672,
                    6569,
                    6290,
                    7264,
                    7446,
                    7499,
                    6969,
                    6031,
                    6830,
                    6786,
                    5713,
                    6591,
                    5870,
                    4459,
                    7410,
                    6966,
                    7592,
                    8173,
                    6861,
                    6904,
                    6685,
                    6597,
                    7105,
                    7216,
                    7580,
                    7261,
                    7175,
                    6824,
                    5464,
                    7013,
                    7273,
                    7534,
                    7286,
                    5786,
                    6299,
                    6544,
                    6883,
                    6784,
                    7347,
                    7605,
                    7148,
                    7865,
                    4549,
                    6530,
                    7006,
                    7375,
                    7765,
                    7582,
                    6053,
                    5255,
                    6917,
                    7040,
                    7697,
                    7713,
                    7350,
                    6140,
                    5810,
                    6034,
                    6864,
                    7112,
                    6203,
                    7504,
                    5976,
                    8227,
                    7525,
                    7767,
                    7870,
                    7804,
                    8009,
                    8714,
                    7333,
                    6869,
                    4073,
                    7591,
                    7720,
                    8167,
                    8395,
                    7907,
                    7436,
                    7538,
                    7733,
                    7393,
                    7415,
                    8555,
                    6889,
                    6778,
                    4639,
                    7572,
                    7328,
                    8156,
                    7965,
                    3510,
                    5478,
                    6392,
                    7691,
                    7570,
                    7282,
                    7109,
                    6639,
                    5875,
                    7534,
                    7461,
                    7509,
                    5424,
                    8090,
                    6824,
                    7058,
                    7466,
                    7693,
                    7359,
                    7444,
                    7852,
                    4459,
                    22,
                    1096,
                    5566,
                    5986,
                    5847,
                    5138,
                    5107,
                    5259,
                    5686,
                    5035,
                    5315,
                    5992,
                    6536,
                    6852,
                    6269,
                    4094,
                    5495,
                    5445,
                    5698,
                    5629,
                    4669,
                    5499,
                    5634,
                    5146,
                    2425,
                    3910,
                    2277,
                    2424,
                    5087,
                    3959,
                    5260,
                    5323,
                    5668,
                    5191,
                    4649,
                    6234,
                    6606,
                    5729,
                    5375,
                    5008,
                    5582,
                    3228,
                    5170,
                    5501,
                    5319,
                    5532,
                    5611,
                    5047,
                    3786,
                    4585,
                    5557,
                    5267,
                    4128,
                    3623,
                    1749,
                    1787,
                    920,
                    1013,
                    441,
                    2114,
                    3095,
                    1341,
                    1796,
                    2729
                  ],
                  "y0": " ",
                  "yaxis": "y"
                }
              ],
              "layout": {
                "boxmode": "group",
                "legend": {
                  "tracegroupgap": 0
                },
                "template": {
                  "data": {
                    "bar": [
                      {
                        "error_x": {
                          "color": "#2a3f5f"
                        },
                        "error_y": {
                          "color": "#2a3f5f"
                        },
                        "marker": {
                          "line": {
                            "color": "#E5ECF6",
                            "width": 0.5
                          },
                          "pattern": {
                            "fillmode": "overlay",
                            "size": 10,
                            "solidity": 0.2
                          }
                        },
                        "type": "bar"
                      }
                    ],
                    "barpolar": [
                      {
                        "marker": {
                          "line": {
                            "color": "#E5ECF6",
                            "width": 0.5
                          },
                          "pattern": {
                            "fillmode": "overlay",
                            "size": 10,
                            "solidity": 0.2
                          }
                        },
                        "type": "barpolar"
                      }
                    ],
                    "carpet": [
                      {
                        "aaxis": {
                          "endlinecolor": "#2a3f5f",
                          "gridcolor": "white",
                          "linecolor": "white",
                          "minorgridcolor": "white",
                          "startlinecolor": "#2a3f5f"
                        },
                        "baxis": {
                          "endlinecolor": "#2a3f5f",
                          "gridcolor": "white",
                          "linecolor": "white",
                          "minorgridcolor": "white",
                          "startlinecolor": "#2a3f5f"
                        },
                        "type": "carpet"
                      }
                    ],
                    "choropleth": [
                      {
                        "colorbar": {
                          "outlinewidth": 0,
                          "ticks": ""
                        },
                        "type": "choropleth"
                      }
                    ],
                    "contour": [
                      {
                        "colorbar": {
                          "outlinewidth": 0,
                          "ticks": ""
                        },
                        "colorscale": [
                          [
                            0,
                            "#0d0887"
                          ],
                          [
                            0.1111111111111111,
                            "#46039f"
                          ],
                          [
                            0.2222222222222222,
                            "#7201a8"
                          ],
                          [
                            0.3333333333333333,
                            "#9c179e"
                          ],
                          [
                            0.4444444444444444,
                            "#bd3786"
                          ],
                          [
                            0.5555555555555556,
                            "#d8576b"
                          ],
                          [
                            0.6666666666666666,
                            "#ed7953"
                          ],
                          [
                            0.7777777777777778,
                            "#fb9f3a"
                          ],
                          [
                            0.8888888888888888,
                            "#fdca26"
                          ],
                          [
                            1,
                            "#f0f921"
                          ]
                        ],
                        "type": "contour"
                      }
                    ],
                    "contourcarpet": [
                      {
                        "colorbar": {
                          "outlinewidth": 0,
                          "ticks": ""
                        },
                        "type": "contourcarpet"
                      }
                    ],
                    "heatmap": [
                      {
                        "colorbar": {
                          "outlinewidth": 0,
                          "ticks": ""
                        },
                        "colorscale": [
                          [
                            0,
                            "#0d0887"
                          ],
                          [
                            0.1111111111111111,
                            "#46039f"
                          ],
                          [
                            0.2222222222222222,
                            "#7201a8"
                          ],
                          [
                            0.3333333333333333,
                            "#9c179e"
                          ],
                          [
                            0.4444444444444444,
                            "#bd3786"
                          ],
                          [
                            0.5555555555555556,
                            "#d8576b"
                          ],
                          [
                            0.6666666666666666,
                            "#ed7953"
                          ],
                          [
                            0.7777777777777778,
                            "#fb9f3a"
                          ],
                          [
                            0.8888888888888888,
                            "#fdca26"
                          ],
                          [
                            1,
                            "#f0f921"
                          ]
                        ],
                        "type": "heatmap"
                      }
                    ],
                    "heatmapgl": [
                      {
                        "colorbar": {
                          "outlinewidth": 0,
                          "ticks": ""
                        },
                        "colorscale": [
                          [
                            0,
                            "#0d0887"
                          ],
                          [
                            0.1111111111111111,
                            "#46039f"
                          ],
                          [
                            0.2222222222222222,
                            "#7201a8"
                          ],
                          [
                            0.3333333333333333,
                            "#9c179e"
                          ],
                          [
                            0.4444444444444444,
                            "#bd3786"
                          ],
                          [
                            0.5555555555555556,
                            "#d8576b"
                          ],
                          [
                            0.6666666666666666,
                            "#ed7953"
                          ],
                          [
                            0.7777777777777778,
                            "#fb9f3a"
                          ],
                          [
                            0.8888888888888888,
                            "#fdca26"
                          ],
                          [
                            1,
                            "#f0f921"
                          ]
                        ],
                        "type": "heatmapgl"
                      }
                    ],
                    "histogram": [
                      {
                        "marker": {
                          "pattern": {
                            "fillmode": "overlay",
                            "size": 10,
                            "solidity": 0.2
                          }
                        },
                        "type": "histogram"
                      }
                    ],
                    "histogram2d": [
                      {
                        "colorbar": {
                          "outlinewidth": 0,
                          "ticks": ""
                        },
                        "colorscale": [
                          [
                            0,
                            "#0d0887"
                          ],
                          [
                            0.1111111111111111,
                            "#46039f"
                          ],
                          [
                            0.2222222222222222,
                            "#7201a8"
                          ],
                          [
                            0.3333333333333333,
                            "#9c179e"
                          ],
                          [
                            0.4444444444444444,
                            "#bd3786"
                          ],
                          [
                            0.5555555555555556,
                            "#d8576b"
                          ],
                          [
                            0.6666666666666666,
                            "#ed7953"
                          ],
                          [
                            0.7777777777777778,
                            "#fb9f3a"
                          ],
                          [
                            0.8888888888888888,
                            "#fdca26"
                          ],
                          [
                            1,
                            "#f0f921"
                          ]
                        ],
                        "type": "histogram2d"
                      }
                    ],
                    "histogram2dcontour": [
                      {
                        "colorbar": {
                          "outlinewidth": 0,
                          "ticks": ""
                        },
                        "colorscale": [
                          [
                            0,
                            "#0d0887"
                          ],
                          [
                            0.1111111111111111,
                            "#46039f"
                          ],
                          [
                            0.2222222222222222,
                            "#7201a8"
                          ],
                          [
                            0.3333333333333333,
                            "#9c179e"
                          ],
                          [
                            0.4444444444444444,
                            "#bd3786"
                          ],
                          [
                            0.5555555555555556,
                            "#d8576b"
                          ],
                          [
                            0.6666666666666666,
                            "#ed7953"
                          ],
                          [
                            0.7777777777777778,
                            "#fb9f3a"
                          ],
                          [
                            0.8888888888888888,
                            "#fdca26"
                          ],
                          [
                            1,
                            "#f0f921"
                          ]
                        ],
                        "type": "histogram2dcontour"
                      }
                    ],
                    "mesh3d": [
                      {
                        "colorbar": {
                          "outlinewidth": 0,
                          "ticks": ""
                        },
                        "type": "mesh3d"
                      }
                    ],
                    "parcoords": [
                      {
                        "line": {
                          "colorbar": {
                            "outlinewidth": 0,
                            "ticks": ""
                          }
                        },
                        "type": "parcoords"
                      }
                    ],
                    "pie": [
                      {
                        "automargin": true,
                        "type": "pie"
                      }
                    ],
                    "scatter": [
                      {
                        "fillpattern": {
                          "fillmode": "overlay",
                          "size": 10,
                          "solidity": 0.2
                        },
                        "type": "scatter"
                      }
                    ],
                    "scatter3d": [
                      {
                        "line": {
                          "colorbar": {
                            "outlinewidth": 0,
                            "ticks": ""
                          }
                        },
                        "marker": {
                          "colorbar": {
                            "outlinewidth": 0,
                            "ticks": ""
                          }
                        },
                        "type": "scatter3d"
                      }
                    ],
                    "scattercarpet": [
                      {
                        "marker": {
                          "colorbar": {
                            "outlinewidth": 0,
                            "ticks": ""
                          }
                        },
                        "type": "scattercarpet"
                      }
                    ],
                    "scattergeo": [
                      {
                        "marker": {
                          "colorbar": {
                            "outlinewidth": 0,
                            "ticks": ""
                          }
                        },
                        "type": "scattergeo"
                      }
                    ],
                    "scattergl": [
                      {
                        "marker": {
                          "colorbar": {
                            "outlinewidth": 0,
                            "ticks": ""
                          }
                        },
                        "type": "scattergl"
                      }
                    ],
                    "scattermapbox": [
                      {
                        "marker": {
                          "colorbar": {
                            "outlinewidth": 0,
                            "ticks": ""
                          }
                        },
                        "type": "scattermapbox"
                      }
                    ],
                    "scatterpolar": [
                      {
                        "marker": {
                          "colorbar": {
                            "outlinewidth": 0,
                            "ticks": ""
                          }
                        },
                        "type": "scatterpolar"
                      }
                    ],
                    "scatterpolargl": [
                      {
                        "marker": {
                          "colorbar": {
                            "outlinewidth": 0,
                            "ticks": ""
                          }
                        },
                        "type": "scatterpolargl"
                      }
                    ],
                    "scatterternary": [
                      {
                        "marker": {
                          "colorbar": {
                            "outlinewidth": 0,
                            "ticks": ""
                          }
                        },
                        "type": "scatterternary"
                      }
                    ],
                    "surface": [
                      {
                        "colorbar": {
                          "outlinewidth": 0,
                          "ticks": ""
                        },
                        "colorscale": [
                          [
                            0,
                            "#0d0887"
                          ],
                          [
                            0.1111111111111111,
                            "#46039f"
                          ],
                          [
                            0.2222222222222222,
                            "#7201a8"
                          ],
                          [
                            0.3333333333333333,
                            "#9c179e"
                          ],
                          [
                            0.4444444444444444,
                            "#bd3786"
                          ],
                          [
                            0.5555555555555556,
                            "#d8576b"
                          ],
                          [
                            0.6666666666666666,
                            "#ed7953"
                          ],
                          [
                            0.7777777777777778,
                            "#fb9f3a"
                          ],
                          [
                            0.8888888888888888,
                            "#fdca26"
                          ],
                          [
                            1,
                            "#f0f921"
                          ]
                        ],
                        "type": "surface"
                      }
                    ],
                    "table": [
                      {
                        "cells": {
                          "fill": {
                            "color": "#EBF0F8"
                          },
                          "line": {
                            "color": "white"
                          }
                        },
                        "header": {
                          "fill": {
                            "color": "#C8D4E3"
                          },
                          "line": {
                            "color": "white"
                          }
                        },
                        "type": "table"
                      }
                    ]
                  },
                  "layout": {
                    "annotationdefaults": {
                      "arrowcolor": "#2a3f5f",
                      "arrowhead": 0,
                      "arrowwidth": 1
                    },
                    "autotypenumbers": "strict",
                    "coloraxis": {
                      "colorbar": {
                        "outlinewidth": 0,
                        "ticks": ""
                      }
                    },
                    "colorscale": {
                      "diverging": [
                        [
                          0,
                          "#8e0152"
                        ],
                        [
                          0.1,
                          "#c51b7d"
                        ],
                        [
                          0.2,
                          "#de77ae"
                        ],
                        [
                          0.3,
                          "#f1b6da"
                        ],
                        [
                          0.4,
                          "#fde0ef"
                        ],
                        [
                          0.5,
                          "#f7f7f7"
                        ],
                        [
                          0.6,
                          "#e6f5d0"
                        ],
                        [
                          0.7,
                          "#b8e186"
                        ],
                        [
                          0.8,
                          "#7fbc41"
                        ],
                        [
                          0.9,
                          "#4d9221"
                        ],
                        [
                          1,
                          "#276419"
                        ]
                      ],
                      "sequential": [
                        [
                          0,
                          "#0d0887"
                        ],
                        [
                          0.1111111111111111,
                          "#46039f"
                        ],
                        [
                          0.2222222222222222,
                          "#7201a8"
                        ],
                        [
                          0.3333333333333333,
                          "#9c179e"
                        ],
                        [
                          0.4444444444444444,
                          "#bd3786"
                        ],
                        [
                          0.5555555555555556,
                          "#d8576b"
                        ],
                        [
                          0.6666666666666666,
                          "#ed7953"
                        ],
                        [
                          0.7777777777777778,
                          "#fb9f3a"
                        ],
                        [
                          0.8888888888888888,
                          "#fdca26"
                        ],
                        [
                          1,
                          "#f0f921"
                        ]
                      ],
                      "sequentialminus": [
                        [
                          0,
                          "#0d0887"
                        ],
                        [
                          0.1111111111111111,
                          "#46039f"
                        ],
                        [
                          0.2222222222222222,
                          "#7201a8"
                        ],
                        [
                          0.3333333333333333,
                          "#9c179e"
                        ],
                        [
                          0.4444444444444444,
                          "#bd3786"
                        ],
                        [
                          0.5555555555555556,
                          "#d8576b"
                        ],
                        [
                          0.6666666666666666,
                          "#ed7953"
                        ],
                        [
                          0.7777777777777778,
                          "#fb9f3a"
                        ],
                        [
                          0.8888888888888888,
                          "#fdca26"
                        ],
                        [
                          1,
                          "#f0f921"
                        ]
                      ]
                    },
                    "colorway": [
                      "#636efa",
                      "#EF553B",
                      "#00cc96",
                      "#ab63fa",
                      "#FFA15A",
                      "#19d3f3",
                      "#FF6692",
                      "#B6E880",
                      "#FF97FF",
                      "#FECB52"
                    ],
                    "font": {
                      "color": "#2a3f5f"
                    },
                    "geo": {
                      "bgcolor": "white",
                      "lakecolor": "white",
                      "landcolor": "#E5ECF6",
                      "showlakes": true,
                      "showland": true,
                      "subunitcolor": "white"
                    },
                    "hoverlabel": {
                      "align": "left"
                    },
                    "hovermode": "closest",
                    "mapbox": {
                      "style": "light"
                    },
                    "paper_bgcolor": "white",
                    "plot_bgcolor": "#E5ECF6",
                    "polar": {
                      "angularaxis": {
                        "gridcolor": "white",
                        "linecolor": "white",
                        "ticks": ""
                      },
                      "bgcolor": "#E5ECF6",
                      "radialaxis": {
                        "gridcolor": "white",
                        "linecolor": "white",
                        "ticks": ""
                      }
                    },
                    "scene": {
                      "xaxis": {
                        "backgroundcolor": "#E5ECF6",
                        "gridcolor": "white",
                        "gridwidth": 2,
                        "linecolor": "white",
                        "showbackground": true,
                        "ticks": "",
                        "zerolinecolor": "white"
                      },
                      "yaxis": {
                        "backgroundcolor": "#E5ECF6",
                        "gridcolor": "white",
                        "gridwidth": 2,
                        "linecolor": "white",
                        "showbackground": true,
                        "ticks": "",
                        "zerolinecolor": "white"
                      },
                      "zaxis": {
                        "backgroundcolor": "#E5ECF6",
                        "gridcolor": "white",
                        "gridwidth": 2,
                        "linecolor": "white",
                        "showbackground": true,
                        "ticks": "",
                        "zerolinecolor": "white"
                      }
                    },
                    "shapedefaults": {
                      "line": {
                        "color": "#2a3f5f"
                      }
                    },
                    "ternary": {
                      "aaxis": {
                        "gridcolor": "white",
                        "linecolor": "white",
                        "ticks": ""
                      },
                      "baxis": {
                        "gridcolor": "white",
                        "linecolor": "white",
                        "ticks": ""
                      },
                      "bgcolor": "#E5ECF6",
                      "caxis": {
                        "gridcolor": "white",
                        "linecolor": "white",
                        "ticks": ""
                      }
                    },
                    "title": {
                      "x": 0.05
                    },
                    "xaxis": {
                      "automargin": true,
                      "gridcolor": "white",
                      "linecolor": "white",
                      "ticks": "",
                      "title": {
                        "standoff": 15
                      },
                      "zerolinecolor": "white",
                      "zerolinewidth": 2
                    },
                    "yaxis": {
                      "automargin": true,
                      "gridcolor": "white",
                      "linecolor": "white",
                      "ticks": "",
                      "title": {
                        "standoff": 15
                      },
                      "zerolinecolor": "white",
                      "zerolinewidth": 2
                    }
                  }
                },
                "title": {
                  "text": "Pengaruh Kondisi Cuaca Terhadap Jumlah Penyewaan Sepeda"
                },
                "xaxis": {
                  "anchor": "y",
                  "domain": [
                    0,
                    1
                  ],
                  "title": {
                    "text": "Kondisi Cuaca"
                  }
                },
                "yaxis": {
                  "anchor": "x",
                  "domain": [
                    0,
                    1
                  ],
                  "title": {
                    "text": "Jumlah Penyewaan"
                  }
                }
              }
            }
          },
          "metadata": {},
          "output_type": "display_data"
        }
      ],
      "source": [
        "fig = px.box(day_df, x='weather_cond', y='count',\n",
        "             title=\"Pengaruh Kondisi Cuaca Terhadap Jumlah Penyewaan Sepeda\",\n",
        "             labels={\"weather_cond\": \"Kondisi Cuaca\", \"count\": \"Jumlah Penyewaan\"})\n",
        "fig.show()"
      ]
    },
    {
      "cell_type": "markdown",
      "metadata": {},
      "source": [
        "Dari hasil analisis diatas menunjukan bahwa jumlah penyewaan sepeda mengalami penurunan ketika cuaca sedang tidak mendukung. Hal ini menunjukan bahwa cuaca memiliki dampak yang besar pada aktivitas penyewaan sepeda."
      ]
    },
    {
      "cell_type": "markdown",
      "metadata": {},
      "source": [
        "### **Pertanyaan 2: Apakah terdapat peningkatan jumlah penyewaan seiring berjalannya waktu, atau apakah ada perbedaan yang signifikan antara tahun?**"
      ]
    },
    {
      "cell_type": "code",
      "execution_count": 40,
      "metadata": {},
      "outputs": [
        {
          "data": {
            "application/vnd.plotly.v1+json": {
              "config": {
                "plotlyServerURL": "https://plot.ly"
              },
              "data": [
                {
                  "hovertemplate": "Tahun=0<br>Tanggal=%{x}<br>Jumlah Penyewaan=%{y}<extra></extra>",
                  "legendgroup": "0",
                  "line": {
                    "color": "#636efa",
                    "dash": "solid"
                  },
                  "marker": {
                    "symbol": "circle"
                  },
                  "mode": "lines",
                  "name": "0",
                  "orientation": "v",
                  "showlegend": true,
                  "type": "scatter",
                  "x": [
                    "2011-01-01T00:00:00",
                    "2011-01-02T00:00:00",
                    "2011-01-03T00:00:00",
                    "2011-01-04T00:00:00",
                    "2011-01-05T00:00:00",
                    "2011-01-06T00:00:00",
                    "2011-01-07T00:00:00",
                    "2011-01-08T00:00:00",
                    "2011-01-09T00:00:00",
                    "2011-01-10T00:00:00",
                    "2011-01-11T00:00:00",
                    "2011-01-12T00:00:00",
                    "2011-01-13T00:00:00",
                    "2011-01-14T00:00:00",
                    "2011-01-15T00:00:00",
                    "2011-01-16T00:00:00",
                    "2011-01-17T00:00:00",
                    "2011-01-18T00:00:00",
                    "2011-01-19T00:00:00",
                    "2011-01-20T00:00:00",
                    "2011-01-21T00:00:00",
                    "2011-01-22T00:00:00",
                    "2011-01-23T00:00:00",
                    "2011-01-24T00:00:00",
                    "2011-01-25T00:00:00",
                    "2011-01-26T00:00:00",
                    "2011-01-27T00:00:00",
                    "2011-01-28T00:00:00",
                    "2011-01-29T00:00:00",
                    "2011-01-30T00:00:00",
                    "2011-01-31T00:00:00",
                    "2011-02-01T00:00:00",
                    "2011-02-02T00:00:00",
                    "2011-02-03T00:00:00",
                    "2011-02-04T00:00:00",
                    "2011-02-05T00:00:00",
                    "2011-02-06T00:00:00",
                    "2011-02-07T00:00:00",
                    "2011-02-08T00:00:00",
                    "2011-02-09T00:00:00",
                    "2011-02-10T00:00:00",
                    "2011-02-11T00:00:00",
                    "2011-02-12T00:00:00",
                    "2011-02-13T00:00:00",
                    "2011-02-14T00:00:00",
                    "2011-02-15T00:00:00",
                    "2011-02-16T00:00:00",
                    "2011-02-17T00:00:00",
                    "2011-02-18T00:00:00",
                    "2011-02-19T00:00:00",
                    "2011-02-20T00:00:00",
                    "2011-02-21T00:00:00",
                    "2011-02-22T00:00:00",
                    "2011-02-23T00:00:00",
                    "2011-02-24T00:00:00",
                    "2011-02-25T00:00:00",
                    "2011-02-26T00:00:00",
                    "2011-02-27T00:00:00",
                    "2011-02-28T00:00:00",
                    "2011-03-01T00:00:00",
                    "2011-03-02T00:00:00",
                    "2011-03-03T00:00:00",
                    "2011-03-04T00:00:00",
                    "2011-03-05T00:00:00",
                    "2011-03-06T00:00:00",
                    "2011-03-07T00:00:00",
                    "2011-03-08T00:00:00",
                    "2011-03-09T00:00:00",
                    "2011-03-10T00:00:00",
                    "2011-03-11T00:00:00",
                    "2011-03-12T00:00:00",
                    "2011-03-13T00:00:00",
                    "2011-03-14T00:00:00",
                    "2011-03-15T00:00:00",
                    "2011-03-16T00:00:00",
                    "2011-03-17T00:00:00",
                    "2011-03-18T00:00:00",
                    "2011-03-19T00:00:00",
                    "2011-03-20T00:00:00",
                    "2011-03-21T00:00:00",
                    "2011-03-22T00:00:00",
                    "2011-03-23T00:00:00",
                    "2011-03-24T00:00:00",
                    "2011-03-25T00:00:00",
                    "2011-03-26T00:00:00",
                    "2011-03-27T00:00:00",
                    "2011-03-28T00:00:00",
                    "2011-03-29T00:00:00",
                    "2011-03-30T00:00:00",
                    "2011-03-31T00:00:00",
                    "2011-04-01T00:00:00",
                    "2011-04-02T00:00:00",
                    "2011-04-03T00:00:00",
                    "2011-04-04T00:00:00",
                    "2011-04-05T00:00:00",
                    "2011-04-06T00:00:00",
                    "2011-04-07T00:00:00",
                    "2011-04-08T00:00:00",
                    "2011-04-09T00:00:00",
                    "2011-04-10T00:00:00",
                    "2011-04-11T00:00:00",
                    "2011-04-12T00:00:00",
                    "2011-04-13T00:00:00",
                    "2011-04-14T00:00:00",
                    "2011-04-15T00:00:00",
                    "2011-04-16T00:00:00",
                    "2011-04-17T00:00:00",
                    "2011-04-18T00:00:00",
                    "2011-04-19T00:00:00",
                    "2011-04-20T00:00:00",
                    "2011-04-21T00:00:00",
                    "2011-04-22T00:00:00",
                    "2011-04-23T00:00:00",
                    "2011-04-24T00:00:00",
                    "2011-04-25T00:00:00",
                    "2011-04-26T00:00:00",
                    "2011-04-27T00:00:00",
                    "2011-04-28T00:00:00",
                    "2011-04-29T00:00:00",
                    "2011-04-30T00:00:00",
                    "2011-05-01T00:00:00",
                    "2011-05-02T00:00:00",
                    "2011-05-03T00:00:00",
                    "2011-05-04T00:00:00",
                    "2011-05-05T00:00:00",
                    "2011-05-06T00:00:00",
                    "2011-05-07T00:00:00",
                    "2011-05-08T00:00:00",
                    "2011-05-09T00:00:00",
                    "2011-05-10T00:00:00",
                    "2011-05-11T00:00:00",
                    "2011-05-12T00:00:00",
                    "2011-05-13T00:00:00",
                    "2011-05-14T00:00:00",
                    "2011-05-15T00:00:00",
                    "2011-05-16T00:00:00",
                    "2011-05-17T00:00:00",
                    "2011-05-18T00:00:00",
                    "2011-05-19T00:00:00",
                    "2011-05-20T00:00:00",
                    "2011-05-21T00:00:00",
                    "2011-05-22T00:00:00",
                    "2011-05-23T00:00:00",
                    "2011-05-24T00:00:00",
                    "2011-05-25T00:00:00",
                    "2011-05-26T00:00:00",
                    "2011-05-27T00:00:00",
                    "2011-05-28T00:00:00",
                    "2011-05-29T00:00:00",
                    "2011-05-30T00:00:00",
                    "2011-05-31T00:00:00",
                    "2011-06-01T00:00:00",
                    "2011-06-02T00:00:00",
                    "2011-06-03T00:00:00",
                    "2011-06-04T00:00:00",
                    "2011-06-05T00:00:00",
                    "2011-06-06T00:00:00",
                    "2011-06-07T00:00:00",
                    "2011-06-08T00:00:00",
                    "2011-06-09T00:00:00",
                    "2011-06-10T00:00:00",
                    "2011-06-11T00:00:00",
                    "2011-06-12T00:00:00",
                    "2011-06-13T00:00:00",
                    "2011-06-14T00:00:00",
                    "2011-06-15T00:00:00",
                    "2011-06-16T00:00:00",
                    "2011-06-17T00:00:00",
                    "2011-06-18T00:00:00",
                    "2011-06-19T00:00:00",
                    "2011-06-20T00:00:00",
                    "2011-06-21T00:00:00",
                    "2011-06-22T00:00:00",
                    "2011-06-23T00:00:00",
                    "2011-06-24T00:00:00",
                    "2011-06-25T00:00:00",
                    "2011-06-26T00:00:00",
                    "2011-06-27T00:00:00",
                    "2011-06-28T00:00:00",
                    "2011-06-29T00:00:00",
                    "2011-06-30T00:00:00",
                    "2011-07-01T00:00:00",
                    "2011-07-02T00:00:00",
                    "2011-07-03T00:00:00",
                    "2011-07-04T00:00:00",
                    "2011-07-05T00:00:00",
                    "2011-07-06T00:00:00",
                    "2011-07-07T00:00:00",
                    "2011-07-08T00:00:00",
                    "2011-07-09T00:00:00",
                    "2011-07-10T00:00:00",
                    "2011-07-11T00:00:00",
                    "2011-07-12T00:00:00",
                    "2011-07-13T00:00:00",
                    "2011-07-14T00:00:00",
                    "2011-07-15T00:00:00",
                    "2011-07-16T00:00:00",
                    "2011-07-17T00:00:00",
                    "2011-07-18T00:00:00",
                    "2011-07-19T00:00:00",
                    "2011-07-20T00:00:00",
                    "2011-07-21T00:00:00",
                    "2011-07-22T00:00:00",
                    "2011-07-23T00:00:00",
                    "2011-07-24T00:00:00",
                    "2011-07-25T00:00:00",
                    "2011-07-26T00:00:00",
                    "2011-07-27T00:00:00",
                    "2011-07-28T00:00:00",
                    "2011-07-29T00:00:00",
                    "2011-07-30T00:00:00",
                    "2011-07-31T00:00:00",
                    "2011-08-01T00:00:00",
                    "2011-08-02T00:00:00",
                    "2011-08-03T00:00:00",
                    "2011-08-04T00:00:00",
                    "2011-08-05T00:00:00",
                    "2011-08-06T00:00:00",
                    "2011-08-07T00:00:00",
                    "2011-08-08T00:00:00",
                    "2011-08-09T00:00:00",
                    "2011-08-10T00:00:00",
                    "2011-08-11T00:00:00",
                    "2011-08-12T00:00:00",
                    "2011-08-13T00:00:00",
                    "2011-08-14T00:00:00",
                    "2011-08-15T00:00:00",
                    "2011-08-16T00:00:00",
                    "2011-08-17T00:00:00",
                    "2011-08-18T00:00:00",
                    "2011-08-19T00:00:00",
                    "2011-08-20T00:00:00",
                    "2011-08-21T00:00:00",
                    "2011-08-22T00:00:00",
                    "2011-08-23T00:00:00",
                    "2011-08-24T00:00:00",
                    "2011-08-25T00:00:00",
                    "2011-08-26T00:00:00",
                    "2011-08-27T00:00:00",
                    "2011-08-28T00:00:00",
                    "2011-08-29T00:00:00",
                    "2011-08-30T00:00:00",
                    "2011-08-31T00:00:00",
                    "2011-09-01T00:00:00",
                    "2011-09-02T00:00:00",
                    "2011-09-03T00:00:00",
                    "2011-09-04T00:00:00",
                    "2011-09-05T00:00:00",
                    "2011-09-06T00:00:00",
                    "2011-09-07T00:00:00",
                    "2011-09-08T00:00:00",
                    "2011-09-09T00:00:00",
                    "2011-09-10T00:00:00",
                    "2011-09-11T00:00:00",
                    "2011-09-12T00:00:00",
                    "2011-09-13T00:00:00",
                    "2011-09-14T00:00:00",
                    "2011-09-15T00:00:00",
                    "2011-09-16T00:00:00",
                    "2011-09-17T00:00:00",
                    "2011-09-18T00:00:00",
                    "2011-09-19T00:00:00",
                    "2011-09-20T00:00:00",
                    "2011-09-21T00:00:00",
                    "2011-09-22T00:00:00",
                    "2011-09-23T00:00:00",
                    "2011-09-24T00:00:00",
                    "2011-09-25T00:00:00",
                    "2011-09-26T00:00:00",
                    "2011-09-27T00:00:00",
                    "2011-09-28T00:00:00",
                    "2011-09-29T00:00:00",
                    "2011-09-30T00:00:00",
                    "2011-10-01T00:00:00",
                    "2011-10-02T00:00:00",
                    "2011-10-03T00:00:00",
                    "2011-10-04T00:00:00",
                    "2011-10-05T00:00:00",
                    "2011-10-06T00:00:00",
                    "2011-10-07T00:00:00",
                    "2011-10-08T00:00:00",
                    "2011-10-09T00:00:00",
                    "2011-10-10T00:00:00",
                    "2011-10-11T00:00:00",
                    "2011-10-12T00:00:00",
                    "2011-10-13T00:00:00",
                    "2011-10-14T00:00:00",
                    "2011-10-15T00:00:00",
                    "2011-10-16T00:00:00",
                    "2011-10-17T00:00:00",
                    "2011-10-18T00:00:00",
                    "2011-10-19T00:00:00",
                    "2011-10-20T00:00:00",
                    "2011-10-21T00:00:00",
                    "2011-10-22T00:00:00",
                    "2011-10-23T00:00:00",
                    "2011-10-24T00:00:00",
                    "2011-10-25T00:00:00",
                    "2011-10-26T00:00:00",
                    "2011-10-27T00:00:00",
                    "2011-10-28T00:00:00",
                    "2011-10-29T00:00:00",
                    "2011-10-30T00:00:00",
                    "2011-10-31T00:00:00",
                    "2011-11-01T00:00:00",
                    "2011-11-02T00:00:00",
                    "2011-11-03T00:00:00",
                    "2011-11-04T00:00:00",
                    "2011-11-05T00:00:00",
                    "2011-11-06T00:00:00",
                    "2011-11-07T00:00:00",
                    "2011-11-08T00:00:00",
                    "2011-11-09T00:00:00",
                    "2011-11-10T00:00:00",
                    "2011-11-11T00:00:00",
                    "2011-11-12T00:00:00",
                    "2011-11-13T00:00:00",
                    "2011-11-14T00:00:00",
                    "2011-11-15T00:00:00",
                    "2011-11-16T00:00:00",
                    "2011-11-17T00:00:00",
                    "2011-11-18T00:00:00",
                    "2011-11-19T00:00:00",
                    "2011-11-20T00:00:00",
                    "2011-11-21T00:00:00",
                    "2011-11-22T00:00:00",
                    "2011-11-23T00:00:00",
                    "2011-11-24T00:00:00",
                    "2011-11-25T00:00:00",
                    "2011-11-26T00:00:00",
                    "2011-11-27T00:00:00",
                    "2011-11-28T00:00:00",
                    "2011-11-29T00:00:00",
                    "2011-11-30T00:00:00",
                    "2011-12-01T00:00:00",
                    "2011-12-02T00:00:00",
                    "2011-12-03T00:00:00",
                    "2011-12-04T00:00:00",
                    "2011-12-05T00:00:00",
                    "2011-12-06T00:00:00",
                    "2011-12-07T00:00:00",
                    "2011-12-08T00:00:00",
                    "2011-12-09T00:00:00",
                    "2011-12-10T00:00:00",
                    "2011-12-11T00:00:00",
                    "2011-12-12T00:00:00",
                    "2011-12-13T00:00:00",
                    "2011-12-14T00:00:00",
                    "2011-12-15T00:00:00",
                    "2011-12-16T00:00:00",
                    "2011-12-17T00:00:00",
                    "2011-12-18T00:00:00",
                    "2011-12-19T00:00:00",
                    "2011-12-20T00:00:00",
                    "2011-12-21T00:00:00",
                    "2011-12-22T00:00:00",
                    "2011-12-23T00:00:00",
                    "2011-12-24T00:00:00",
                    "2011-12-25T00:00:00",
                    "2011-12-26T00:00:00",
                    "2011-12-27T00:00:00",
                    "2011-12-28T00:00:00",
                    "2011-12-29T00:00:00",
                    "2011-12-30T00:00:00",
                    "2011-12-31T00:00:00"
                  ],
                  "xaxis": "x",
                  "y": [
                    985,
                    801,
                    1349,
                    1562,
                    1600,
                    1606,
                    1510,
                    959,
                    822,
                    1321,
                    1263,
                    1162,
                    1406,
                    1421,
                    1248,
                    1204,
                    1000,
                    683,
                    1650,
                    1927,
                    1543,
                    981,
                    986,
                    1416,
                    1985,
                    506,
                    431,
                    1167,
                    1098,
                    1096,
                    1501,
                    1360,
                    1526,
                    1550,
                    1708,
                    1005,
                    1623,
                    1712,
                    1530,
                    1605,
                    1538,
                    1746,
                    1472,
                    1589,
                    1913,
                    1815,
                    2115,
                    2475,
                    2927,
                    1635,
                    1812,
                    1107,
                    1450,
                    1917,
                    1807,
                    1461,
                    1969,
                    2402,
                    1446,
                    1851,
                    2134,
                    1685,
                    1944,
                    2077,
                    605,
                    1872,
                    2133,
                    1891,
                    623,
                    1977,
                    2132,
                    2417,
                    2046,
                    2056,
                    2192,
                    2744,
                    3239,
                    3117,
                    2471,
                    2077,
                    2703,
                    2121,
                    1865,
                    2210,
                    2496,
                    1693,
                    2028,
                    2425,
                    1536,
                    1685,
                    2227,
                    2252,
                    3249,
                    3115,
                    1795,
                    2808,
                    3141,
                    1471,
                    2455,
                    2895,
                    3348,
                    2034,
                    2162,
                    3267,
                    3126,
                    795,
                    3744,
                    3429,
                    3204,
                    3944,
                    4189,
                    1683,
                    4036,
                    4191,
                    4073,
                    4400,
                    3872,
                    4058,
                    4595,
                    5312,
                    3351,
                    4401,
                    4451,
                    2633,
                    4433,
                    4608,
                    4714,
                    4333,
                    4362,
                    4803,
                    4182,
                    4864,
                    4105,
                    3409,
                    4553,
                    3958,
                    4123,
                    3855,
                    4575,
                    4917,
                    5805,
                    4660,
                    4274,
                    4492,
                    4978,
                    4677,
                    4679,
                    4758,
                    4788,
                    4098,
                    3982,
                    3974,
                    4968,
                    5312,
                    5342,
                    4906,
                    4548,
                    4833,
                    4401,
                    3915,
                    4586,
                    4966,
                    4460,
                    5020,
                    4891,
                    5180,
                    3767,
                    4844,
                    5119,
                    4744,
                    4010,
                    4835,
                    4507,
                    4790,
                    4991,
                    5202,
                    5305,
                    4708,
                    4648,
                    5225,
                    5515,
                    5362,
                    5119,
                    4649,
                    6043,
                    4665,
                    4629,
                    4592,
                    4040,
                    5336,
                    4881,
                    4086,
                    4258,
                    4342,
                    5084,
                    5538,
                    5923,
                    5302,
                    4458,
                    4541,
                    4332,
                    3784,
                    3387,
                    3285,
                    3606,
                    3840,
                    4590,
                    4656,
                    4390,
                    3846,
                    4475,
                    4302,
                    4266,
                    4845,
                    3574,
                    4576,
                    4866,
                    4294,
                    3785,
                    4326,
                    4602,
                    4780,
                    4792,
                    4905,
                    4150,
                    3820,
                    4338,
                    4725,
                    4694,
                    3805,
                    4153,
                    5191,
                    3873,
                    4758,
                    5895,
                    5130,
                    3542,
                    4661,
                    1115,
                    4334,
                    4634,
                    5204,
                    5058,
                    5115,
                    4727,
                    4484,
                    4940,
                    3351,
                    2710,
                    1996,
                    1842,
                    3544,
                    5345,
                    5046,
                    4713,
                    4763,
                    4785,
                    3659,
                    4760,
                    4511,
                    4274,
                    4539,
                    3641,
                    4352,
                    4795,
                    2395,
                    5423,
                    5010,
                    4630,
                    4120,
                    3907,
                    4839,
                    5202,
                    2429,
                    2918,
                    3570,
                    4456,
                    4826,
                    4765,
                    4985,
                    5409,
                    5511,
                    5117,
                    4563,
                    2416,
                    2913,
                    3644,
                    5217,
                    5041,
                    4570,
                    4748,
                    2424,
                    4195,
                    4304,
                    4308,
                    4381,
                    4187,
                    4687,
                    3894,
                    2659,
                    3747,
                    627,
                    3331,
                    3669,
                    4068,
                    4186,
                    3974,
                    4046,
                    3926,
                    3649,
                    4035,
                    4205,
                    4109,
                    2933,
                    3368,
                    4067,
                    3717,
                    4486,
                    4195,
                    1817,
                    3053,
                    3392,
                    3663,
                    3520,
                    2765,
                    1607,
                    2566,
                    1495,
                    2792,
                    3068,
                    3071,
                    3867,
                    2914,
                    3613,
                    3727,
                    3940,
                    3614,
                    3485,
                    3811,
                    2594,
                    705,
                    3322,
                    3620,
                    3190,
                    2743,
                    3310,
                    3523,
                    3740,
                    3709,
                    3577,
                    2739,
                    2431,
                    3403,
                    3750,
                    2660,
                    3068,
                    2209,
                    1011,
                    754,
                    1317,
                    1162,
                    2302,
                    2423,
                    2999,
                    2485
                  ],
                  "yaxis": "y"
                },
                {
                  "hovertemplate": "Tahun=1<br>Tanggal=%{x}<br>Jumlah Penyewaan=%{y}<extra></extra>",
                  "legendgroup": "1",
                  "line": {
                    "color": "#EF553B",
                    "dash": "solid"
                  },
                  "marker": {
                    "symbol": "circle"
                  },
                  "mode": "lines",
                  "name": "1",
                  "orientation": "v",
                  "showlegend": true,
                  "type": "scatter",
                  "x": [
                    "2012-01-01T00:00:00",
                    "2012-01-02T00:00:00",
                    "2012-01-03T00:00:00",
                    "2012-01-04T00:00:00",
                    "2012-01-05T00:00:00",
                    "2012-01-06T00:00:00",
                    "2012-01-07T00:00:00",
                    "2012-01-08T00:00:00",
                    "2012-01-09T00:00:00",
                    "2012-01-10T00:00:00",
                    "2012-01-11T00:00:00",
                    "2012-01-12T00:00:00",
                    "2012-01-13T00:00:00",
                    "2012-01-14T00:00:00",
                    "2012-01-15T00:00:00",
                    "2012-01-16T00:00:00",
                    "2012-01-17T00:00:00",
                    "2012-01-18T00:00:00",
                    "2012-01-19T00:00:00",
                    "2012-01-20T00:00:00",
                    "2012-01-21T00:00:00",
                    "2012-01-22T00:00:00",
                    "2012-01-23T00:00:00",
                    "2012-01-24T00:00:00",
                    "2012-01-25T00:00:00",
                    "2012-01-26T00:00:00",
                    "2012-01-27T00:00:00",
                    "2012-01-28T00:00:00",
                    "2012-01-29T00:00:00",
                    "2012-01-30T00:00:00",
                    "2012-01-31T00:00:00",
                    "2012-02-01T00:00:00",
                    "2012-02-02T00:00:00",
                    "2012-02-03T00:00:00",
                    "2012-02-04T00:00:00",
                    "2012-02-05T00:00:00",
                    "2012-02-06T00:00:00",
                    "2012-02-07T00:00:00",
                    "2012-02-08T00:00:00",
                    "2012-02-09T00:00:00",
                    "2012-02-10T00:00:00",
                    "2012-02-11T00:00:00",
                    "2012-02-12T00:00:00",
                    "2012-02-13T00:00:00",
                    "2012-02-14T00:00:00",
                    "2012-02-15T00:00:00",
                    "2012-02-16T00:00:00",
                    "2012-02-17T00:00:00",
                    "2012-02-18T00:00:00",
                    "2012-02-19T00:00:00",
                    "2012-02-20T00:00:00",
                    "2012-02-21T00:00:00",
                    "2012-02-22T00:00:00",
                    "2012-02-23T00:00:00",
                    "2012-02-24T00:00:00",
                    "2012-02-25T00:00:00",
                    "2012-02-26T00:00:00",
                    "2012-02-27T00:00:00",
                    "2012-02-28T00:00:00",
                    "2012-02-29T00:00:00",
                    "2012-03-01T00:00:00",
                    "2012-03-02T00:00:00",
                    "2012-03-03T00:00:00",
                    "2012-03-04T00:00:00",
                    "2012-03-05T00:00:00",
                    "2012-03-06T00:00:00",
                    "2012-03-07T00:00:00",
                    "2012-03-08T00:00:00",
                    "2012-03-09T00:00:00",
                    "2012-03-10T00:00:00",
                    "2012-03-11T00:00:00",
                    "2012-03-12T00:00:00",
                    "2012-03-13T00:00:00",
                    "2012-03-14T00:00:00",
                    "2012-03-15T00:00:00",
                    "2012-03-16T00:00:00",
                    "2012-03-17T00:00:00",
                    "2012-03-18T00:00:00",
                    "2012-03-19T00:00:00",
                    "2012-03-20T00:00:00",
                    "2012-03-21T00:00:00",
                    "2012-03-22T00:00:00",
                    "2012-03-23T00:00:00",
                    "2012-03-24T00:00:00",
                    "2012-03-25T00:00:00",
                    "2012-03-26T00:00:00",
                    "2012-03-27T00:00:00",
                    "2012-03-28T00:00:00",
                    "2012-03-29T00:00:00",
                    "2012-03-30T00:00:00",
                    "2012-03-31T00:00:00",
                    "2012-04-01T00:00:00",
                    "2012-04-02T00:00:00",
                    "2012-04-03T00:00:00",
                    "2012-04-04T00:00:00",
                    "2012-04-05T00:00:00",
                    "2012-04-06T00:00:00",
                    "2012-04-07T00:00:00",
                    "2012-04-08T00:00:00",
                    "2012-04-09T00:00:00",
                    "2012-04-10T00:00:00",
                    "2012-04-11T00:00:00",
                    "2012-04-12T00:00:00",
                    "2012-04-13T00:00:00",
                    "2012-04-14T00:00:00",
                    "2012-04-15T00:00:00",
                    "2012-04-16T00:00:00",
                    "2012-04-17T00:00:00",
                    "2012-04-18T00:00:00",
                    "2012-04-19T00:00:00",
                    "2012-04-20T00:00:00",
                    "2012-04-21T00:00:00",
                    "2012-04-22T00:00:00",
                    "2012-04-23T00:00:00",
                    "2012-04-24T00:00:00",
                    "2012-04-25T00:00:00",
                    "2012-04-26T00:00:00",
                    "2012-04-27T00:00:00",
                    "2012-04-28T00:00:00",
                    "2012-04-29T00:00:00",
                    "2012-04-30T00:00:00",
                    "2012-05-01T00:00:00",
                    "2012-05-02T00:00:00",
                    "2012-05-03T00:00:00",
                    "2012-05-04T00:00:00",
                    "2012-05-05T00:00:00",
                    "2012-05-06T00:00:00",
                    "2012-05-07T00:00:00",
                    "2012-05-08T00:00:00",
                    "2012-05-09T00:00:00",
                    "2012-05-10T00:00:00",
                    "2012-05-11T00:00:00",
                    "2012-05-12T00:00:00",
                    "2012-05-13T00:00:00",
                    "2012-05-14T00:00:00",
                    "2012-05-15T00:00:00",
                    "2012-05-16T00:00:00",
                    "2012-05-17T00:00:00",
                    "2012-05-18T00:00:00",
                    "2012-05-19T00:00:00",
                    "2012-05-20T00:00:00",
                    "2012-05-21T00:00:00",
                    "2012-05-22T00:00:00",
                    "2012-05-23T00:00:00",
                    "2012-05-24T00:00:00",
                    "2012-05-25T00:00:00",
                    "2012-05-26T00:00:00",
                    "2012-05-27T00:00:00",
                    "2012-05-28T00:00:00",
                    "2012-05-29T00:00:00",
                    "2012-05-30T00:00:00",
                    "2012-05-31T00:00:00",
                    "2012-06-01T00:00:00",
                    "2012-06-02T00:00:00",
                    "2012-06-03T00:00:00",
                    "2012-06-04T00:00:00",
                    "2012-06-05T00:00:00",
                    "2012-06-06T00:00:00",
                    "2012-06-07T00:00:00",
                    "2012-06-08T00:00:00",
                    "2012-06-09T00:00:00",
                    "2012-06-10T00:00:00",
                    "2012-06-11T00:00:00",
                    "2012-06-12T00:00:00",
                    "2012-06-13T00:00:00",
                    "2012-06-14T00:00:00",
                    "2012-06-15T00:00:00",
                    "2012-06-16T00:00:00",
                    "2012-06-17T00:00:00",
                    "2012-06-18T00:00:00",
                    "2012-06-19T00:00:00",
                    "2012-06-20T00:00:00",
                    "2012-06-21T00:00:00",
                    "2012-06-22T00:00:00",
                    "2012-06-23T00:00:00",
                    "2012-06-24T00:00:00",
                    "2012-06-25T00:00:00",
                    "2012-06-26T00:00:00",
                    "2012-06-27T00:00:00",
                    "2012-06-28T00:00:00",
                    "2012-06-29T00:00:00",
                    "2012-06-30T00:00:00",
                    "2012-07-01T00:00:00",
                    "2012-07-02T00:00:00",
                    "2012-07-03T00:00:00",
                    "2012-07-04T00:00:00",
                    "2012-07-05T00:00:00",
                    "2012-07-06T00:00:00",
                    "2012-07-07T00:00:00",
                    "2012-07-08T00:00:00",
                    "2012-07-09T00:00:00",
                    "2012-07-10T00:00:00",
                    "2012-07-11T00:00:00",
                    "2012-07-12T00:00:00",
                    "2012-07-13T00:00:00",
                    "2012-07-14T00:00:00",
                    "2012-07-15T00:00:00",
                    "2012-07-16T00:00:00",
                    "2012-07-17T00:00:00",
                    "2012-07-18T00:00:00",
                    "2012-07-19T00:00:00",
                    "2012-07-20T00:00:00",
                    "2012-07-21T00:00:00",
                    "2012-07-22T00:00:00",
                    "2012-07-23T00:00:00",
                    "2012-07-24T00:00:00",
                    "2012-07-25T00:00:00",
                    "2012-07-26T00:00:00",
                    "2012-07-27T00:00:00",
                    "2012-07-28T00:00:00",
                    "2012-07-29T00:00:00",
                    "2012-07-30T00:00:00",
                    "2012-07-31T00:00:00",
                    "2012-08-01T00:00:00",
                    "2012-08-02T00:00:00",
                    "2012-08-03T00:00:00",
                    "2012-08-04T00:00:00",
                    "2012-08-05T00:00:00",
                    "2012-08-06T00:00:00",
                    "2012-08-07T00:00:00",
                    "2012-08-08T00:00:00",
                    "2012-08-09T00:00:00",
                    "2012-08-10T00:00:00",
                    "2012-08-11T00:00:00",
                    "2012-08-12T00:00:00",
                    "2012-08-13T00:00:00",
                    "2012-08-14T00:00:00",
                    "2012-08-15T00:00:00",
                    "2012-08-16T00:00:00",
                    "2012-08-17T00:00:00",
                    "2012-08-18T00:00:00",
                    "2012-08-19T00:00:00",
                    "2012-08-20T00:00:00",
                    "2012-08-21T00:00:00",
                    "2012-08-22T00:00:00",
                    "2012-08-23T00:00:00",
                    "2012-08-24T00:00:00",
                    "2012-08-25T00:00:00",
                    "2012-08-26T00:00:00",
                    "2012-08-27T00:00:00",
                    "2012-08-28T00:00:00",
                    "2012-08-29T00:00:00",
                    "2012-08-30T00:00:00",
                    "2012-08-31T00:00:00",
                    "2012-09-01T00:00:00",
                    "2012-09-02T00:00:00",
                    "2012-09-03T00:00:00",
                    "2012-09-04T00:00:00",
                    "2012-09-05T00:00:00",
                    "2012-09-06T00:00:00",
                    "2012-09-07T00:00:00",
                    "2012-09-08T00:00:00",
                    "2012-09-09T00:00:00",
                    "2012-09-10T00:00:00",
                    "2012-09-11T00:00:00",
                    "2012-09-12T00:00:00",
                    "2012-09-13T00:00:00",
                    "2012-09-14T00:00:00",
                    "2012-09-15T00:00:00",
                    "2012-09-16T00:00:00",
                    "2012-09-17T00:00:00",
                    "2012-09-18T00:00:00",
                    "2012-09-19T00:00:00",
                    "2012-09-20T00:00:00",
                    "2012-09-21T00:00:00",
                    "2012-09-22T00:00:00",
                    "2012-09-23T00:00:00",
                    "2012-09-24T00:00:00",
                    "2012-09-25T00:00:00",
                    "2012-09-26T00:00:00",
                    "2012-09-27T00:00:00",
                    "2012-09-28T00:00:00",
                    "2012-09-29T00:00:00",
                    "2012-09-30T00:00:00",
                    "2012-10-01T00:00:00",
                    "2012-10-02T00:00:00",
                    "2012-10-03T00:00:00",
                    "2012-10-04T00:00:00",
                    "2012-10-05T00:00:00",
                    "2012-10-06T00:00:00",
                    "2012-10-07T00:00:00",
                    "2012-10-08T00:00:00",
                    "2012-10-09T00:00:00",
                    "2012-10-10T00:00:00",
                    "2012-10-11T00:00:00",
                    "2012-10-12T00:00:00",
                    "2012-10-13T00:00:00",
                    "2012-10-14T00:00:00",
                    "2012-10-15T00:00:00",
                    "2012-10-16T00:00:00",
                    "2012-10-17T00:00:00",
                    "2012-10-18T00:00:00",
                    "2012-10-19T00:00:00",
                    "2012-10-20T00:00:00",
                    "2012-10-21T00:00:00",
                    "2012-10-22T00:00:00",
                    "2012-10-23T00:00:00",
                    "2012-10-24T00:00:00",
                    "2012-10-25T00:00:00",
                    "2012-10-26T00:00:00",
                    "2012-10-27T00:00:00",
                    "2012-10-28T00:00:00",
                    "2012-10-29T00:00:00",
                    "2012-10-30T00:00:00",
                    "2012-10-31T00:00:00",
                    "2012-11-01T00:00:00",
                    "2012-11-02T00:00:00",
                    "2012-11-03T00:00:00",
                    "2012-11-04T00:00:00",
                    "2012-11-05T00:00:00",
                    "2012-11-06T00:00:00",
                    "2012-11-07T00:00:00",
                    "2012-11-08T00:00:00",
                    "2012-11-09T00:00:00",
                    "2012-11-10T00:00:00",
                    "2012-11-11T00:00:00",
                    "2012-11-12T00:00:00",
                    "2012-11-13T00:00:00",
                    "2012-11-14T00:00:00",
                    "2012-11-15T00:00:00",
                    "2012-11-16T00:00:00",
                    "2012-11-17T00:00:00",
                    "2012-11-18T00:00:00",
                    "2012-11-19T00:00:00",
                    "2012-11-20T00:00:00",
                    "2012-11-21T00:00:00",
                    "2012-11-22T00:00:00",
                    "2012-11-23T00:00:00",
                    "2012-11-24T00:00:00",
                    "2012-11-25T00:00:00",
                    "2012-11-26T00:00:00",
                    "2012-11-27T00:00:00",
                    "2012-11-28T00:00:00",
                    "2012-11-29T00:00:00",
                    "2012-11-30T00:00:00",
                    "2012-12-01T00:00:00",
                    "2012-12-02T00:00:00",
                    "2012-12-03T00:00:00",
                    "2012-12-04T00:00:00",
                    "2012-12-05T00:00:00",
                    "2012-12-06T00:00:00",
                    "2012-12-07T00:00:00",
                    "2012-12-08T00:00:00",
                    "2012-12-09T00:00:00",
                    "2012-12-10T00:00:00",
                    "2012-12-11T00:00:00",
                    "2012-12-12T00:00:00",
                    "2012-12-13T00:00:00",
                    "2012-12-14T00:00:00",
                    "2012-12-15T00:00:00",
                    "2012-12-16T00:00:00",
                    "2012-12-17T00:00:00",
                    "2012-12-18T00:00:00",
                    "2012-12-19T00:00:00",
                    "2012-12-20T00:00:00",
                    "2012-12-21T00:00:00",
                    "2012-12-22T00:00:00",
                    "2012-12-23T00:00:00",
                    "2012-12-24T00:00:00",
                    "2012-12-25T00:00:00",
                    "2012-12-26T00:00:00",
                    "2012-12-27T00:00:00",
                    "2012-12-28T00:00:00",
                    "2012-12-29T00:00:00",
                    "2012-12-30T00:00:00",
                    "2012-12-31T00:00:00"
                  ],
                  "xaxis": "x",
                  "y": [
                    2294,
                    1951,
                    2236,
                    2368,
                    3272,
                    4098,
                    4521,
                    3425,
                    2376,
                    3598,
                    2177,
                    4097,
                    3214,
                    2493,
                    2311,
                    2298,
                    2935,
                    3376,
                    3292,
                    3163,
                    1301,
                    1977,
                    2432,
                    4339,
                    4270,
                    4075,
                    3456,
                    4023,
                    3243,
                    3624,
                    4509,
                    4579,
                    3761,
                    4151,
                    2832,
                    2947,
                    3784,
                    4375,
                    2802,
                    3830,
                    3831,
                    2169,
                    1529,
                    3422,
                    3922,
                    4169,
                    3005,
                    4154,
                    4318,
                    2689,
                    3129,
                    3777,
                    4773,
                    5062,
                    3487,
                    2732,
                    3389,
                    4322,
                    4363,
                    1834,
                    4990,
                    3194,
                    4066,
                    3423,
                    3333,
                    3956,
                    4916,
                    5382,
                    4569,
                    4118,
                    4911,
                    5298,
                    5847,
                    6312,
                    6192,
                    4378,
                    7836,
                    5892,
                    6153,
                    6093,
                    6230,
                    6871,
                    8362,
                    3372,
                    4996,
                    5558,
                    5102,
                    5698,
                    6133,
                    5459,
                    6235,
                    6041,
                    5936,
                    6772,
                    6436,
                    6457,
                    6460,
                    6857,
                    5169,
                    5585,
                    5918,
                    4862,
                    5409,
                    6398,
                    7460,
                    7132,
                    6370,
                    6691,
                    4367,
                    6565,
                    7290,
                    6624,
                    1027,
                    3214,
                    5633,
                    6196,
                    5026,
                    6233,
                    4220,
                    6304,
                    5572,
                    5740,
                    6169,
                    6421,
                    6296,
                    6883,
                    6359,
                    6273,
                    5728,
                    4717,
                    6572,
                    7030,
                    7429,
                    6118,
                    2843,
                    5115,
                    7424,
                    7384,
                    7639,
                    8294,
                    7129,
                    4359,
                    6073,
                    5260,
                    6770,
                    6734,
                    6536,
                    6591,
                    6043,
                    5743,
                    6855,
                    7338,
                    4127,
                    8120,
                    7641,
                    6998,
                    7001,
                    7055,
                    7494,
                    7736,
                    7498,
                    6598,
                    6664,
                    4972,
                    7421,
                    7363,
                    7665,
                    7702,
                    6978,
                    5099,
                    6825,
                    6211,
                    5905,
                    5823,
                    7458,
                    6891,
                    6779,
                    7442,
                    7335,
                    6879,
                    5463,
                    5687,
                    5531,
                    6227,
                    6660,
                    7403,
                    6241,
                    6207,
                    4840,
                    4672,
                    6569,
                    6290,
                    7264,
                    7446,
                    7499,
                    6969,
                    6031,
                    6830,
                    6786,
                    5713,
                    6591,
                    5870,
                    4459,
                    7410,
                    6966,
                    7592,
                    8173,
                    6861,
                    6904,
                    6685,
                    6597,
                    7105,
                    7216,
                    7580,
                    7261,
                    7175,
                    6824,
                    5464,
                    7013,
                    7273,
                    7534,
                    7286,
                    5786,
                    6299,
                    6544,
                    6883,
                    6784,
                    7347,
                    7605,
                    7148,
                    7865,
                    4549,
                    6530,
                    7006,
                    7375,
                    7765,
                    7582,
                    6053,
                    5255,
                    6917,
                    7040,
                    7697,
                    7713,
                    7350,
                    6140,
                    5810,
                    6034,
                    6864,
                    7112,
                    6203,
                    7504,
                    5976,
                    8227,
                    7525,
                    7767,
                    7870,
                    7804,
                    8009,
                    8714,
                    7333,
                    6869,
                    4073,
                    7591,
                    7720,
                    8167,
                    8395,
                    7907,
                    7436,
                    7538,
                    7733,
                    7393,
                    7415,
                    8555,
                    6889,
                    6778,
                    4639,
                    7572,
                    7328,
                    8156,
                    7965,
                    3510,
                    5478,
                    6392,
                    7691,
                    7570,
                    7282,
                    7109,
                    6639,
                    5875,
                    7534,
                    7461,
                    7509,
                    5424,
                    8090,
                    6824,
                    7058,
                    7466,
                    7693,
                    7359,
                    7444,
                    7852,
                    4459,
                    22,
                    1096,
                    5566,
                    5986,
                    5847,
                    5138,
                    5107,
                    5259,
                    5686,
                    5035,
                    5315,
                    5992,
                    6536,
                    6852,
                    6269,
                    4094,
                    5495,
                    5445,
                    5698,
                    5629,
                    4669,
                    5499,
                    5634,
                    5146,
                    2425,
                    3910,
                    2277,
                    2424,
                    5087,
                    3959,
                    5260,
                    5323,
                    5668,
                    5191,
                    4649,
                    6234,
                    6606,
                    5729,
                    5375,
                    5008,
                    5582,
                    3228,
                    5170,
                    5501,
                    5319,
                    5532,
                    5611,
                    5047,
                    3786,
                    4585,
                    5557,
                    5267,
                    4128,
                    3623,
                    1749,
                    1787,
                    920,
                    1013,
                    441,
                    2114,
                    3095,
                    1341,
                    1796,
                    2729
                  ],
                  "yaxis": "y"
                }
              ],
              "layout": {
                "legend": {
                  "title": {
                    "text": "Tahun"
                  },
                  "tracegroupgap": 0
                },
                "template": {
                  "data": {
                    "bar": [
                      {
                        "error_x": {
                          "color": "#2a3f5f"
                        },
                        "error_y": {
                          "color": "#2a3f5f"
                        },
                        "marker": {
                          "line": {
                            "color": "#E5ECF6",
                            "width": 0.5
                          },
                          "pattern": {
                            "fillmode": "overlay",
                            "size": 10,
                            "solidity": 0.2
                          }
                        },
                        "type": "bar"
                      }
                    ],
                    "barpolar": [
                      {
                        "marker": {
                          "line": {
                            "color": "#E5ECF6",
                            "width": 0.5
                          },
                          "pattern": {
                            "fillmode": "overlay",
                            "size": 10,
                            "solidity": 0.2
                          }
                        },
                        "type": "barpolar"
                      }
                    ],
                    "carpet": [
                      {
                        "aaxis": {
                          "endlinecolor": "#2a3f5f",
                          "gridcolor": "white",
                          "linecolor": "white",
                          "minorgridcolor": "white",
                          "startlinecolor": "#2a3f5f"
                        },
                        "baxis": {
                          "endlinecolor": "#2a3f5f",
                          "gridcolor": "white",
                          "linecolor": "white",
                          "minorgridcolor": "white",
                          "startlinecolor": "#2a3f5f"
                        },
                        "type": "carpet"
                      }
                    ],
                    "choropleth": [
                      {
                        "colorbar": {
                          "outlinewidth": 0,
                          "ticks": ""
                        },
                        "type": "choropleth"
                      }
                    ],
                    "contour": [
                      {
                        "colorbar": {
                          "outlinewidth": 0,
                          "ticks": ""
                        },
                        "colorscale": [
                          [
                            0,
                            "#0d0887"
                          ],
                          [
                            0.1111111111111111,
                            "#46039f"
                          ],
                          [
                            0.2222222222222222,
                            "#7201a8"
                          ],
                          [
                            0.3333333333333333,
                            "#9c179e"
                          ],
                          [
                            0.4444444444444444,
                            "#bd3786"
                          ],
                          [
                            0.5555555555555556,
                            "#d8576b"
                          ],
                          [
                            0.6666666666666666,
                            "#ed7953"
                          ],
                          [
                            0.7777777777777778,
                            "#fb9f3a"
                          ],
                          [
                            0.8888888888888888,
                            "#fdca26"
                          ],
                          [
                            1,
                            "#f0f921"
                          ]
                        ],
                        "type": "contour"
                      }
                    ],
                    "contourcarpet": [
                      {
                        "colorbar": {
                          "outlinewidth": 0,
                          "ticks": ""
                        },
                        "type": "contourcarpet"
                      }
                    ],
                    "heatmap": [
                      {
                        "colorbar": {
                          "outlinewidth": 0,
                          "ticks": ""
                        },
                        "colorscale": [
                          [
                            0,
                            "#0d0887"
                          ],
                          [
                            0.1111111111111111,
                            "#46039f"
                          ],
                          [
                            0.2222222222222222,
                            "#7201a8"
                          ],
                          [
                            0.3333333333333333,
                            "#9c179e"
                          ],
                          [
                            0.4444444444444444,
                            "#bd3786"
                          ],
                          [
                            0.5555555555555556,
                            "#d8576b"
                          ],
                          [
                            0.6666666666666666,
                            "#ed7953"
                          ],
                          [
                            0.7777777777777778,
                            "#fb9f3a"
                          ],
                          [
                            0.8888888888888888,
                            "#fdca26"
                          ],
                          [
                            1,
                            "#f0f921"
                          ]
                        ],
                        "type": "heatmap"
                      }
                    ],
                    "heatmapgl": [
                      {
                        "colorbar": {
                          "outlinewidth": 0,
                          "ticks": ""
                        },
                        "colorscale": [
                          [
                            0,
                            "#0d0887"
                          ],
                          [
                            0.1111111111111111,
                            "#46039f"
                          ],
                          [
                            0.2222222222222222,
                            "#7201a8"
                          ],
                          [
                            0.3333333333333333,
                            "#9c179e"
                          ],
                          [
                            0.4444444444444444,
                            "#bd3786"
                          ],
                          [
                            0.5555555555555556,
                            "#d8576b"
                          ],
                          [
                            0.6666666666666666,
                            "#ed7953"
                          ],
                          [
                            0.7777777777777778,
                            "#fb9f3a"
                          ],
                          [
                            0.8888888888888888,
                            "#fdca26"
                          ],
                          [
                            1,
                            "#f0f921"
                          ]
                        ],
                        "type": "heatmapgl"
                      }
                    ],
                    "histogram": [
                      {
                        "marker": {
                          "pattern": {
                            "fillmode": "overlay",
                            "size": 10,
                            "solidity": 0.2
                          }
                        },
                        "type": "histogram"
                      }
                    ],
                    "histogram2d": [
                      {
                        "colorbar": {
                          "outlinewidth": 0,
                          "ticks": ""
                        },
                        "colorscale": [
                          [
                            0,
                            "#0d0887"
                          ],
                          [
                            0.1111111111111111,
                            "#46039f"
                          ],
                          [
                            0.2222222222222222,
                            "#7201a8"
                          ],
                          [
                            0.3333333333333333,
                            "#9c179e"
                          ],
                          [
                            0.4444444444444444,
                            "#bd3786"
                          ],
                          [
                            0.5555555555555556,
                            "#d8576b"
                          ],
                          [
                            0.6666666666666666,
                            "#ed7953"
                          ],
                          [
                            0.7777777777777778,
                            "#fb9f3a"
                          ],
                          [
                            0.8888888888888888,
                            "#fdca26"
                          ],
                          [
                            1,
                            "#f0f921"
                          ]
                        ],
                        "type": "histogram2d"
                      }
                    ],
                    "histogram2dcontour": [
                      {
                        "colorbar": {
                          "outlinewidth": 0,
                          "ticks": ""
                        },
                        "colorscale": [
                          [
                            0,
                            "#0d0887"
                          ],
                          [
                            0.1111111111111111,
                            "#46039f"
                          ],
                          [
                            0.2222222222222222,
                            "#7201a8"
                          ],
                          [
                            0.3333333333333333,
                            "#9c179e"
                          ],
                          [
                            0.4444444444444444,
                            "#bd3786"
                          ],
                          [
                            0.5555555555555556,
                            "#d8576b"
                          ],
                          [
                            0.6666666666666666,
                            "#ed7953"
                          ],
                          [
                            0.7777777777777778,
                            "#fb9f3a"
                          ],
                          [
                            0.8888888888888888,
                            "#fdca26"
                          ],
                          [
                            1,
                            "#f0f921"
                          ]
                        ],
                        "type": "histogram2dcontour"
                      }
                    ],
                    "mesh3d": [
                      {
                        "colorbar": {
                          "outlinewidth": 0,
                          "ticks": ""
                        },
                        "type": "mesh3d"
                      }
                    ],
                    "parcoords": [
                      {
                        "line": {
                          "colorbar": {
                            "outlinewidth": 0,
                            "ticks": ""
                          }
                        },
                        "type": "parcoords"
                      }
                    ],
                    "pie": [
                      {
                        "automargin": true,
                        "type": "pie"
                      }
                    ],
                    "scatter": [
                      {
                        "fillpattern": {
                          "fillmode": "overlay",
                          "size": 10,
                          "solidity": 0.2
                        },
                        "type": "scatter"
                      }
                    ],
                    "scatter3d": [
                      {
                        "line": {
                          "colorbar": {
                            "outlinewidth": 0,
                            "ticks": ""
                          }
                        },
                        "marker": {
                          "colorbar": {
                            "outlinewidth": 0,
                            "ticks": ""
                          }
                        },
                        "type": "scatter3d"
                      }
                    ],
                    "scattercarpet": [
                      {
                        "marker": {
                          "colorbar": {
                            "outlinewidth": 0,
                            "ticks": ""
                          }
                        },
                        "type": "scattercarpet"
                      }
                    ],
                    "scattergeo": [
                      {
                        "marker": {
                          "colorbar": {
                            "outlinewidth": 0,
                            "ticks": ""
                          }
                        },
                        "type": "scattergeo"
                      }
                    ],
                    "scattergl": [
                      {
                        "marker": {
                          "colorbar": {
                            "outlinewidth": 0,
                            "ticks": ""
                          }
                        },
                        "type": "scattergl"
                      }
                    ],
                    "scattermapbox": [
                      {
                        "marker": {
                          "colorbar": {
                            "outlinewidth": 0,
                            "ticks": ""
                          }
                        },
                        "type": "scattermapbox"
                      }
                    ],
                    "scatterpolar": [
                      {
                        "marker": {
                          "colorbar": {
                            "outlinewidth": 0,
                            "ticks": ""
                          }
                        },
                        "type": "scatterpolar"
                      }
                    ],
                    "scatterpolargl": [
                      {
                        "marker": {
                          "colorbar": {
                            "outlinewidth": 0,
                            "ticks": ""
                          }
                        },
                        "type": "scatterpolargl"
                      }
                    ],
                    "scatterternary": [
                      {
                        "marker": {
                          "colorbar": {
                            "outlinewidth": 0,
                            "ticks": ""
                          }
                        },
                        "type": "scatterternary"
                      }
                    ],
                    "surface": [
                      {
                        "colorbar": {
                          "outlinewidth": 0,
                          "ticks": ""
                        },
                        "colorscale": [
                          [
                            0,
                            "#0d0887"
                          ],
                          [
                            0.1111111111111111,
                            "#46039f"
                          ],
                          [
                            0.2222222222222222,
                            "#7201a8"
                          ],
                          [
                            0.3333333333333333,
                            "#9c179e"
                          ],
                          [
                            0.4444444444444444,
                            "#bd3786"
                          ],
                          [
                            0.5555555555555556,
                            "#d8576b"
                          ],
                          [
                            0.6666666666666666,
                            "#ed7953"
                          ],
                          [
                            0.7777777777777778,
                            "#fb9f3a"
                          ],
                          [
                            0.8888888888888888,
                            "#fdca26"
                          ],
                          [
                            1,
                            "#f0f921"
                          ]
                        ],
                        "type": "surface"
                      }
                    ],
                    "table": [
                      {
                        "cells": {
                          "fill": {
                            "color": "#EBF0F8"
                          },
                          "line": {
                            "color": "white"
                          }
                        },
                        "header": {
                          "fill": {
                            "color": "#C8D4E3"
                          },
                          "line": {
                            "color": "white"
                          }
                        },
                        "type": "table"
                      }
                    ]
                  },
                  "layout": {
                    "annotationdefaults": {
                      "arrowcolor": "#2a3f5f",
                      "arrowhead": 0,
                      "arrowwidth": 1
                    },
                    "autotypenumbers": "strict",
                    "coloraxis": {
                      "colorbar": {
                        "outlinewidth": 0,
                        "ticks": ""
                      }
                    },
                    "colorscale": {
                      "diverging": [
                        [
                          0,
                          "#8e0152"
                        ],
                        [
                          0.1,
                          "#c51b7d"
                        ],
                        [
                          0.2,
                          "#de77ae"
                        ],
                        [
                          0.3,
                          "#f1b6da"
                        ],
                        [
                          0.4,
                          "#fde0ef"
                        ],
                        [
                          0.5,
                          "#f7f7f7"
                        ],
                        [
                          0.6,
                          "#e6f5d0"
                        ],
                        [
                          0.7,
                          "#b8e186"
                        ],
                        [
                          0.8,
                          "#7fbc41"
                        ],
                        [
                          0.9,
                          "#4d9221"
                        ],
                        [
                          1,
                          "#276419"
                        ]
                      ],
                      "sequential": [
                        [
                          0,
                          "#0d0887"
                        ],
                        [
                          0.1111111111111111,
                          "#46039f"
                        ],
                        [
                          0.2222222222222222,
                          "#7201a8"
                        ],
                        [
                          0.3333333333333333,
                          "#9c179e"
                        ],
                        [
                          0.4444444444444444,
                          "#bd3786"
                        ],
                        [
                          0.5555555555555556,
                          "#d8576b"
                        ],
                        [
                          0.6666666666666666,
                          "#ed7953"
                        ],
                        [
                          0.7777777777777778,
                          "#fb9f3a"
                        ],
                        [
                          0.8888888888888888,
                          "#fdca26"
                        ],
                        [
                          1,
                          "#f0f921"
                        ]
                      ],
                      "sequentialminus": [
                        [
                          0,
                          "#0d0887"
                        ],
                        [
                          0.1111111111111111,
                          "#46039f"
                        ],
                        [
                          0.2222222222222222,
                          "#7201a8"
                        ],
                        [
                          0.3333333333333333,
                          "#9c179e"
                        ],
                        [
                          0.4444444444444444,
                          "#bd3786"
                        ],
                        [
                          0.5555555555555556,
                          "#d8576b"
                        ],
                        [
                          0.6666666666666666,
                          "#ed7953"
                        ],
                        [
                          0.7777777777777778,
                          "#fb9f3a"
                        ],
                        [
                          0.8888888888888888,
                          "#fdca26"
                        ],
                        [
                          1,
                          "#f0f921"
                        ]
                      ]
                    },
                    "colorway": [
                      "#636efa",
                      "#EF553B",
                      "#00cc96",
                      "#ab63fa",
                      "#FFA15A",
                      "#19d3f3",
                      "#FF6692",
                      "#B6E880",
                      "#FF97FF",
                      "#FECB52"
                    ],
                    "font": {
                      "color": "#2a3f5f"
                    },
                    "geo": {
                      "bgcolor": "white",
                      "lakecolor": "white",
                      "landcolor": "#E5ECF6",
                      "showlakes": true,
                      "showland": true,
                      "subunitcolor": "white"
                    },
                    "hoverlabel": {
                      "align": "left"
                    },
                    "hovermode": "closest",
                    "mapbox": {
                      "style": "light"
                    },
                    "paper_bgcolor": "white",
                    "plot_bgcolor": "#E5ECF6",
                    "polar": {
                      "angularaxis": {
                        "gridcolor": "white",
                        "linecolor": "white",
                        "ticks": ""
                      },
                      "bgcolor": "#E5ECF6",
                      "radialaxis": {
                        "gridcolor": "white",
                        "linecolor": "white",
                        "ticks": ""
                      }
                    },
                    "scene": {
                      "xaxis": {
                        "backgroundcolor": "#E5ECF6",
                        "gridcolor": "white",
                        "gridwidth": 2,
                        "linecolor": "white",
                        "showbackground": true,
                        "ticks": "",
                        "zerolinecolor": "white"
                      },
                      "yaxis": {
                        "backgroundcolor": "#E5ECF6",
                        "gridcolor": "white",
                        "gridwidth": 2,
                        "linecolor": "white",
                        "showbackground": true,
                        "ticks": "",
                        "zerolinecolor": "white"
                      },
                      "zaxis": {
                        "backgroundcolor": "#E5ECF6",
                        "gridcolor": "white",
                        "gridwidth": 2,
                        "linecolor": "white",
                        "showbackground": true,
                        "ticks": "",
                        "zerolinecolor": "white"
                      }
                    },
                    "shapedefaults": {
                      "line": {
                        "color": "#2a3f5f"
                      }
                    },
                    "ternary": {
                      "aaxis": {
                        "gridcolor": "white",
                        "linecolor": "white",
                        "ticks": ""
                      },
                      "baxis": {
                        "gridcolor": "white",
                        "linecolor": "white",
                        "ticks": ""
                      },
                      "bgcolor": "#E5ECF6",
                      "caxis": {
                        "gridcolor": "white",
                        "linecolor": "white",
                        "ticks": ""
                      }
                    },
                    "title": {
                      "x": 0.05
                    },
                    "xaxis": {
                      "automargin": true,
                      "gridcolor": "white",
                      "linecolor": "white",
                      "ticks": "",
                      "title": {
                        "standoff": 15
                      },
                      "zerolinecolor": "white",
                      "zerolinewidth": 2
                    },
                    "yaxis": {
                      "automargin": true,
                      "gridcolor": "white",
                      "linecolor": "white",
                      "ticks": "",
                      "title": {
                        "standoff": 15
                      },
                      "zerolinecolor": "white",
                      "zerolinewidth": 2
                    }
                  }
                },
                "title": {
                  "text": "Tren Penyewaan Sepeda Tahun 2011 vs 2012"
                },
                "xaxis": {
                  "anchor": "y",
                  "domain": [
                    0,
                    1
                  ],
                  "title": {
                    "text": "Tanggal"
                  }
                },
                "yaxis": {
                  "anchor": "x",
                  "domain": [
                    0,
                    1
                  ],
                  "title": {
                    "text": "Jumlah Penyewaan"
                  }
                }
              }
            }
          },
          "metadata": {},
          "output_type": "display_data"
        }
      ],
      "source": [
        "fig = px.line(day_df, x='dateday', y='count', color='year',\n",
        "              title=\"Tren Penyewaan Sepeda Tahun 2011 vs 2012\",\n",
        "              labels={\"dateday\": \"Tanggal\", \"count\": \"Jumlah Penyewaan\", \"year\": \"Tahun\"})\n",
        "fig.show()"
      ]
    },
    {
      "cell_type": "markdown",
      "metadata": {},
      "source": [
        "Analisis tren diatas dari tahun 2011 hingga 2012 menunjukkan adanya perbedaan pola yang signifikan. Perbedaan ini mengindikasikan bahwa terdapat faktor-faktor eksternal yang memengaruhi peningkatan jumlah penyewaan di tahun tertentu. Faktor-faktor tersebut dapat berupa promosi yang gencar, peningkatan kesadaran masyarakat akan manfaat bersepeda, atau pengembangan infrastruktur yang lebih baik untuk mendukung penggunaan sepeda."
      ]
    },
    {
      "cell_type": "markdown",
      "metadata": {},
      "source": [
        "### **Pertanyaan 3: pakah pengguna Registered lebih aktif pada hari kerja, sementara pengguna Casual lebih aktif pada hari libur atau akhir pekan?**"
      ]
    },
    {
      "cell_type": "code",
      "execution_count": 41,
      "metadata": {},
      "outputs": [
        {
          "data": {
            "application/vnd.plotly.v1+json": {
              "config": {
                "plotlyServerURL": "https://plot.ly"
              },
              "data": [
                {
                  "alignmentgroup": "True",
                  "hovertemplate": "variable=registered<br>Musim=%{x}<br>Jumlah Penyewaan=%{y}<extra></extra>",
                  "legendgroup": "registered",
                  "marker": {
                    "color": "#636efa",
                    "pattern": {
                      "shape": ""
                    }
                  },
                  "name": "registered",
                  "offsetgroup": "registered",
                  "orientation": "v",
                  "showlegend": true,
                  "textposition": "auto",
                  "type": "bar",
                  "x": [
                    "Fall",
                    "Spring",
                    "Summer",
                    "Winter"
                  ],
                  "xaxis": "x",
                  "y": [
                    835038,
                    410726,
                    715067,
                    711831
                  ],
                  "yaxis": "y"
                },
                {
                  "alignmentgroup": "True",
                  "hovertemplate": "variable=casual<br>Musim=%{x}<br>Jumlah Penyewaan=%{y}<extra></extra>",
                  "legendgroup": "casual",
                  "marker": {
                    "color": "#EF553B",
                    "pattern": {
                      "shape": ""
                    }
                  },
                  "name": "casual",
                  "offsetgroup": "casual",
                  "orientation": "v",
                  "showlegend": true,
                  "textposition": "auto",
                  "type": "bar",
                  "x": [
                    "Fall",
                    "Spring",
                    "Summer",
                    "Winter"
                  ],
                  "xaxis": "x",
                  "y": [
                    226091,
                    60622,
                    203522,
                    129782
                  ],
                  "yaxis": "y"
                }
              ],
              "layout": {
                "barmode": "group",
                "legend": {
                  "title": {
                    "text": "variable"
                  },
                  "tracegroupgap": 0
                },
                "template": {
                  "data": {
                    "bar": [
                      {
                        "error_x": {
                          "color": "#2a3f5f"
                        },
                        "error_y": {
                          "color": "#2a3f5f"
                        },
                        "marker": {
                          "line": {
                            "color": "#E5ECF6",
                            "width": 0.5
                          },
                          "pattern": {
                            "fillmode": "overlay",
                            "size": 10,
                            "solidity": 0.2
                          }
                        },
                        "type": "bar"
                      }
                    ],
                    "barpolar": [
                      {
                        "marker": {
                          "line": {
                            "color": "#E5ECF6",
                            "width": 0.5
                          },
                          "pattern": {
                            "fillmode": "overlay",
                            "size": 10,
                            "solidity": 0.2
                          }
                        },
                        "type": "barpolar"
                      }
                    ],
                    "carpet": [
                      {
                        "aaxis": {
                          "endlinecolor": "#2a3f5f",
                          "gridcolor": "white",
                          "linecolor": "white",
                          "minorgridcolor": "white",
                          "startlinecolor": "#2a3f5f"
                        },
                        "baxis": {
                          "endlinecolor": "#2a3f5f",
                          "gridcolor": "white",
                          "linecolor": "white",
                          "minorgridcolor": "white",
                          "startlinecolor": "#2a3f5f"
                        },
                        "type": "carpet"
                      }
                    ],
                    "choropleth": [
                      {
                        "colorbar": {
                          "outlinewidth": 0,
                          "ticks": ""
                        },
                        "type": "choropleth"
                      }
                    ],
                    "contour": [
                      {
                        "colorbar": {
                          "outlinewidth": 0,
                          "ticks": ""
                        },
                        "colorscale": [
                          [
                            0,
                            "#0d0887"
                          ],
                          [
                            0.1111111111111111,
                            "#46039f"
                          ],
                          [
                            0.2222222222222222,
                            "#7201a8"
                          ],
                          [
                            0.3333333333333333,
                            "#9c179e"
                          ],
                          [
                            0.4444444444444444,
                            "#bd3786"
                          ],
                          [
                            0.5555555555555556,
                            "#d8576b"
                          ],
                          [
                            0.6666666666666666,
                            "#ed7953"
                          ],
                          [
                            0.7777777777777778,
                            "#fb9f3a"
                          ],
                          [
                            0.8888888888888888,
                            "#fdca26"
                          ],
                          [
                            1,
                            "#f0f921"
                          ]
                        ],
                        "type": "contour"
                      }
                    ],
                    "contourcarpet": [
                      {
                        "colorbar": {
                          "outlinewidth": 0,
                          "ticks": ""
                        },
                        "type": "contourcarpet"
                      }
                    ],
                    "heatmap": [
                      {
                        "colorbar": {
                          "outlinewidth": 0,
                          "ticks": ""
                        },
                        "colorscale": [
                          [
                            0,
                            "#0d0887"
                          ],
                          [
                            0.1111111111111111,
                            "#46039f"
                          ],
                          [
                            0.2222222222222222,
                            "#7201a8"
                          ],
                          [
                            0.3333333333333333,
                            "#9c179e"
                          ],
                          [
                            0.4444444444444444,
                            "#bd3786"
                          ],
                          [
                            0.5555555555555556,
                            "#d8576b"
                          ],
                          [
                            0.6666666666666666,
                            "#ed7953"
                          ],
                          [
                            0.7777777777777778,
                            "#fb9f3a"
                          ],
                          [
                            0.8888888888888888,
                            "#fdca26"
                          ],
                          [
                            1,
                            "#f0f921"
                          ]
                        ],
                        "type": "heatmap"
                      }
                    ],
                    "heatmapgl": [
                      {
                        "colorbar": {
                          "outlinewidth": 0,
                          "ticks": ""
                        },
                        "colorscale": [
                          [
                            0,
                            "#0d0887"
                          ],
                          [
                            0.1111111111111111,
                            "#46039f"
                          ],
                          [
                            0.2222222222222222,
                            "#7201a8"
                          ],
                          [
                            0.3333333333333333,
                            "#9c179e"
                          ],
                          [
                            0.4444444444444444,
                            "#bd3786"
                          ],
                          [
                            0.5555555555555556,
                            "#d8576b"
                          ],
                          [
                            0.6666666666666666,
                            "#ed7953"
                          ],
                          [
                            0.7777777777777778,
                            "#fb9f3a"
                          ],
                          [
                            0.8888888888888888,
                            "#fdca26"
                          ],
                          [
                            1,
                            "#f0f921"
                          ]
                        ],
                        "type": "heatmapgl"
                      }
                    ],
                    "histogram": [
                      {
                        "marker": {
                          "pattern": {
                            "fillmode": "overlay",
                            "size": 10,
                            "solidity": 0.2
                          }
                        },
                        "type": "histogram"
                      }
                    ],
                    "histogram2d": [
                      {
                        "colorbar": {
                          "outlinewidth": 0,
                          "ticks": ""
                        },
                        "colorscale": [
                          [
                            0,
                            "#0d0887"
                          ],
                          [
                            0.1111111111111111,
                            "#46039f"
                          ],
                          [
                            0.2222222222222222,
                            "#7201a8"
                          ],
                          [
                            0.3333333333333333,
                            "#9c179e"
                          ],
                          [
                            0.4444444444444444,
                            "#bd3786"
                          ],
                          [
                            0.5555555555555556,
                            "#d8576b"
                          ],
                          [
                            0.6666666666666666,
                            "#ed7953"
                          ],
                          [
                            0.7777777777777778,
                            "#fb9f3a"
                          ],
                          [
                            0.8888888888888888,
                            "#fdca26"
                          ],
                          [
                            1,
                            "#f0f921"
                          ]
                        ],
                        "type": "histogram2d"
                      }
                    ],
                    "histogram2dcontour": [
                      {
                        "colorbar": {
                          "outlinewidth": 0,
                          "ticks": ""
                        },
                        "colorscale": [
                          [
                            0,
                            "#0d0887"
                          ],
                          [
                            0.1111111111111111,
                            "#46039f"
                          ],
                          [
                            0.2222222222222222,
                            "#7201a8"
                          ],
                          [
                            0.3333333333333333,
                            "#9c179e"
                          ],
                          [
                            0.4444444444444444,
                            "#bd3786"
                          ],
                          [
                            0.5555555555555556,
                            "#d8576b"
                          ],
                          [
                            0.6666666666666666,
                            "#ed7953"
                          ],
                          [
                            0.7777777777777778,
                            "#fb9f3a"
                          ],
                          [
                            0.8888888888888888,
                            "#fdca26"
                          ],
                          [
                            1,
                            "#f0f921"
                          ]
                        ],
                        "type": "histogram2dcontour"
                      }
                    ],
                    "mesh3d": [
                      {
                        "colorbar": {
                          "outlinewidth": 0,
                          "ticks": ""
                        },
                        "type": "mesh3d"
                      }
                    ],
                    "parcoords": [
                      {
                        "line": {
                          "colorbar": {
                            "outlinewidth": 0,
                            "ticks": ""
                          }
                        },
                        "type": "parcoords"
                      }
                    ],
                    "pie": [
                      {
                        "automargin": true,
                        "type": "pie"
                      }
                    ],
                    "scatter": [
                      {
                        "fillpattern": {
                          "fillmode": "overlay",
                          "size": 10,
                          "solidity": 0.2
                        },
                        "type": "scatter"
                      }
                    ],
                    "scatter3d": [
                      {
                        "line": {
                          "colorbar": {
                            "outlinewidth": 0,
                            "ticks": ""
                          }
                        },
                        "marker": {
                          "colorbar": {
                            "outlinewidth": 0,
                            "ticks": ""
                          }
                        },
                        "type": "scatter3d"
                      }
                    ],
                    "scattercarpet": [
                      {
                        "marker": {
                          "colorbar": {
                            "outlinewidth": 0,
                            "ticks": ""
                          }
                        },
                        "type": "scattercarpet"
                      }
                    ],
                    "scattergeo": [
                      {
                        "marker": {
                          "colorbar": {
                            "outlinewidth": 0,
                            "ticks": ""
                          }
                        },
                        "type": "scattergeo"
                      }
                    ],
                    "scattergl": [
                      {
                        "marker": {
                          "colorbar": {
                            "outlinewidth": 0,
                            "ticks": ""
                          }
                        },
                        "type": "scattergl"
                      }
                    ],
                    "scattermapbox": [
                      {
                        "marker": {
                          "colorbar": {
                            "outlinewidth": 0,
                            "ticks": ""
                          }
                        },
                        "type": "scattermapbox"
                      }
                    ],
                    "scatterpolar": [
                      {
                        "marker": {
                          "colorbar": {
                            "outlinewidth": 0,
                            "ticks": ""
                          }
                        },
                        "type": "scatterpolar"
                      }
                    ],
                    "scatterpolargl": [
                      {
                        "marker": {
                          "colorbar": {
                            "outlinewidth": 0,
                            "ticks": ""
                          }
                        },
                        "type": "scatterpolargl"
                      }
                    ],
                    "scatterternary": [
                      {
                        "marker": {
                          "colorbar": {
                            "outlinewidth": 0,
                            "ticks": ""
                          }
                        },
                        "type": "scatterternary"
                      }
                    ],
                    "surface": [
                      {
                        "colorbar": {
                          "outlinewidth": 0,
                          "ticks": ""
                        },
                        "colorscale": [
                          [
                            0,
                            "#0d0887"
                          ],
                          [
                            0.1111111111111111,
                            "#46039f"
                          ],
                          [
                            0.2222222222222222,
                            "#7201a8"
                          ],
                          [
                            0.3333333333333333,
                            "#9c179e"
                          ],
                          [
                            0.4444444444444444,
                            "#bd3786"
                          ],
                          [
                            0.5555555555555556,
                            "#d8576b"
                          ],
                          [
                            0.6666666666666666,
                            "#ed7953"
                          ],
                          [
                            0.7777777777777778,
                            "#fb9f3a"
                          ],
                          [
                            0.8888888888888888,
                            "#fdca26"
                          ],
                          [
                            1,
                            "#f0f921"
                          ]
                        ],
                        "type": "surface"
                      }
                    ],
                    "table": [
                      {
                        "cells": {
                          "fill": {
                            "color": "#EBF0F8"
                          },
                          "line": {
                            "color": "white"
                          }
                        },
                        "header": {
                          "fill": {
                            "color": "#C8D4E3"
                          },
                          "line": {
                            "color": "white"
                          }
                        },
                        "type": "table"
                      }
                    ]
                  },
                  "layout": {
                    "annotationdefaults": {
                      "arrowcolor": "#2a3f5f",
                      "arrowhead": 0,
                      "arrowwidth": 1
                    },
                    "autotypenumbers": "strict",
                    "coloraxis": {
                      "colorbar": {
                        "outlinewidth": 0,
                        "ticks": ""
                      }
                    },
                    "colorscale": {
                      "diverging": [
                        [
                          0,
                          "#8e0152"
                        ],
                        [
                          0.1,
                          "#c51b7d"
                        ],
                        [
                          0.2,
                          "#de77ae"
                        ],
                        [
                          0.3,
                          "#f1b6da"
                        ],
                        [
                          0.4,
                          "#fde0ef"
                        ],
                        [
                          0.5,
                          "#f7f7f7"
                        ],
                        [
                          0.6,
                          "#e6f5d0"
                        ],
                        [
                          0.7,
                          "#b8e186"
                        ],
                        [
                          0.8,
                          "#7fbc41"
                        ],
                        [
                          0.9,
                          "#4d9221"
                        ],
                        [
                          1,
                          "#276419"
                        ]
                      ],
                      "sequential": [
                        [
                          0,
                          "#0d0887"
                        ],
                        [
                          0.1111111111111111,
                          "#46039f"
                        ],
                        [
                          0.2222222222222222,
                          "#7201a8"
                        ],
                        [
                          0.3333333333333333,
                          "#9c179e"
                        ],
                        [
                          0.4444444444444444,
                          "#bd3786"
                        ],
                        [
                          0.5555555555555556,
                          "#d8576b"
                        ],
                        [
                          0.6666666666666666,
                          "#ed7953"
                        ],
                        [
                          0.7777777777777778,
                          "#fb9f3a"
                        ],
                        [
                          0.8888888888888888,
                          "#fdca26"
                        ],
                        [
                          1,
                          "#f0f921"
                        ]
                      ],
                      "sequentialminus": [
                        [
                          0,
                          "#0d0887"
                        ],
                        [
                          0.1111111111111111,
                          "#46039f"
                        ],
                        [
                          0.2222222222222222,
                          "#7201a8"
                        ],
                        [
                          0.3333333333333333,
                          "#9c179e"
                        ],
                        [
                          0.4444444444444444,
                          "#bd3786"
                        ],
                        [
                          0.5555555555555556,
                          "#d8576b"
                        ],
                        [
                          0.6666666666666666,
                          "#ed7953"
                        ],
                        [
                          0.7777777777777778,
                          "#fb9f3a"
                        ],
                        [
                          0.8888888888888888,
                          "#fdca26"
                        ],
                        [
                          1,
                          "#f0f921"
                        ]
                      ]
                    },
                    "colorway": [
                      "#636efa",
                      "#EF553B",
                      "#00cc96",
                      "#ab63fa",
                      "#FFA15A",
                      "#19d3f3",
                      "#FF6692",
                      "#B6E880",
                      "#FF97FF",
                      "#FECB52"
                    ],
                    "font": {
                      "color": "#2a3f5f"
                    },
                    "geo": {
                      "bgcolor": "white",
                      "lakecolor": "white",
                      "landcolor": "#E5ECF6",
                      "showlakes": true,
                      "showland": true,
                      "subunitcolor": "white"
                    },
                    "hoverlabel": {
                      "align": "left"
                    },
                    "hovermode": "closest",
                    "mapbox": {
                      "style": "light"
                    },
                    "paper_bgcolor": "white",
                    "plot_bgcolor": "#E5ECF6",
                    "polar": {
                      "angularaxis": {
                        "gridcolor": "white",
                        "linecolor": "white",
                        "ticks": ""
                      },
                      "bgcolor": "#E5ECF6",
                      "radialaxis": {
                        "gridcolor": "white",
                        "linecolor": "white",
                        "ticks": ""
                      }
                    },
                    "scene": {
                      "xaxis": {
                        "backgroundcolor": "#E5ECF6",
                        "gridcolor": "white",
                        "gridwidth": 2,
                        "linecolor": "white",
                        "showbackground": true,
                        "ticks": "",
                        "zerolinecolor": "white"
                      },
                      "yaxis": {
                        "backgroundcolor": "#E5ECF6",
                        "gridcolor": "white",
                        "gridwidth": 2,
                        "linecolor": "white",
                        "showbackground": true,
                        "ticks": "",
                        "zerolinecolor": "white"
                      },
                      "zaxis": {
                        "backgroundcolor": "#E5ECF6",
                        "gridcolor": "white",
                        "gridwidth": 2,
                        "linecolor": "white",
                        "showbackground": true,
                        "ticks": "",
                        "zerolinecolor": "white"
                      }
                    },
                    "shapedefaults": {
                      "line": {
                        "color": "#2a3f5f"
                      }
                    },
                    "ternary": {
                      "aaxis": {
                        "gridcolor": "white",
                        "linecolor": "white",
                        "ticks": ""
                      },
                      "baxis": {
                        "gridcolor": "white",
                        "linecolor": "white",
                        "ticks": ""
                      },
                      "bgcolor": "#E5ECF6",
                      "caxis": {
                        "gridcolor": "white",
                        "linecolor": "white",
                        "ticks": ""
                      }
                    },
                    "title": {
                      "x": 0.05
                    },
                    "xaxis": {
                      "automargin": true,
                      "gridcolor": "white",
                      "linecolor": "white",
                      "ticks": "",
                      "title": {
                        "standoff": 15
                      },
                      "zerolinecolor": "white",
                      "zerolinewidth": 2
                    },
                    "yaxis": {
                      "automargin": true,
                      "gridcolor": "white",
                      "linecolor": "white",
                      "ticks": "",
                      "title": {
                        "standoff": 15
                      },
                      "zerolinecolor": "white",
                      "zerolinewidth": 2
                    }
                  }
                },
                "title": {
                  "text": "Jumlah penyewaan sepeda berdasarkan musim"
                },
                "xaxis": {
                  "anchor": "y",
                  "domain": [
                    0,
                    1
                  ],
                  "title": {
                    "text": "Musim"
                  }
                },
                "yaxis": {
                  "anchor": "x",
                  "domain": [
                    0,
                    1
                  ],
                  "title": {
                    "text": "Jumlah Penyewaan"
                  }
                }
              }
            }
          },
          "metadata": {},
          "output_type": "display_data"
        }
      ],
      "source": [
        "seasonal_usage = day_df.groupby('season')[['registered', 'casual']].sum().reset_index()\n",
        "\n",
        "fig = px.bar(seasonal_usage, x='season', y=['registered', 'casual'],\n",
        "             title='Jumlah penyewaan sepeda berdasarkan musim',\n",
        "             labels={'value': 'Jumlah Penyewaan', 'season': 'Musim'},\n",
        "             barmode='group')\n",
        "fig.show()"
      ]
    },
    {
      "cell_type": "markdown",
      "metadata": {},
      "source": [
        "Berdasarkan analisis diatas menunjukkan perbedaan perilaku antara pelanggan kasual dan pelanggan terdaftar. Pelanggan terdaftar cenderung lebih aktif menyewa sepeda pada musim panas, kemungkinan besar untuk kegiatan aktivitas rutin lainnya. Sementara itu, pelanggan kasual menunjukkan preferensi yang lebih beragam, dengan peningkatan aktivitas penyewaan pada musim semi atau musim gugur, yang mungkin mencerminkan minat mereka pada kegiatan rekreasi di luar ruangan saat cuaca lebih nyaman."
      ]
    },
    {
      "cell_type": "markdown",
      "metadata": {},
      "source": [
        "### **Pertanyaan 4: Apakah musim tertentu, seperti musim panas, lebih mendukung penyewaan oleh pengguna Registered dibandingkan dengan pengguna Casual?**"
      ]
    },
    {
      "cell_type": "code",
      "execution_count": null,
      "metadata": {},
      "outputs": [
        {
          "data": {
            "application/vnd.plotly.v1+json": {
              "config": {
                "plotlyServerURL": "https://plot.ly"
              },
              "data": [
                {
                  "alignmentgroup": "True",
                  "hovertemplate": "Hari=%{x}<br>Jumlah Penyewaan=%{y}<extra></extra>",
                  "legendgroup": "",
                  "marker": {
                    "color": "#636efa"
                  },
                  "name": "",
                  "notched": false,
                  "offsetgroup": "",
                  "orientation": "v",
                  "showlegend": false,
                  "type": "box",
                  "x": [
                    "Sat",
                    "Sun",
                    "Mon",
                    "Tue",
                    "Wed",
                    "Thu",
                    "Fri",
                    "Sat",
                    "Sun",
                    "Mon",
                    "Tue",
                    "Wed",
                    "Thu",
                    "Fri",
                    "Sat",
                    "Sun",
                    "Mon",
                    "Tue",
                    "Wed",
                    "Thu",
                    "Fri",
                    "Sat",
                    "Sun",
                    "Mon",
                    "Tue",
                    "Wed",
                    "Thu",
                    "Fri",
                    "Sat",
                    "Sun",
                    "Mon",
                    "Tue",
                    "Wed",
                    "Thu",
                    "Fri",
                    "Sat",
                    "Sun",
                    "Mon",
                    "Tue",
                    "Wed",
                    "Thu",
                    "Fri",
                    "Sat",
                    "Sun",
                    "Mon",
                    "Tue",
                    "Wed",
                    "Thu",
                    "Fri",
                    "Sat",
                    "Sun",
                    "Mon",
                    "Tue",
                    "Wed",
                    "Thu",
                    "Fri",
                    "Sat",
                    "Sun",
                    "Mon",
                    "Tue",
                    "Wed",
                    "Thu",
                    "Fri",
                    "Sat",
                    "Sun",
                    "Mon",
                    "Tue",
                    "Wed",
                    "Thu",
                    "Fri",
                    "Sat",
                    "Sun",
                    "Mon",
                    "Tue",
                    "Wed",
                    "Thu",
                    "Fri",
                    "Sat",
                    "Sun",
                    "Mon",
                    "Tue",
                    "Wed",
                    "Thu",
                    "Fri",
                    "Sat",
                    "Sun",
                    "Mon",
                    "Tue",
                    "Wed",
                    "Thu",
                    "Fri",
                    "Sat",
                    "Sun",
                    "Mon",
                    "Tue",
                    "Wed",
                    "Thu",
                    "Fri",
                    "Sat",
                    "Sun",
                    "Mon",
                    "Tue",
                    "Wed",
                    "Thu",
                    "Fri",
                    "Sat",
                    "Sun",
                    "Mon",
                    "Tue",
                    "Wed",
                    "Thu",
                    "Fri",
                    "Sat",
                    "Sun",
                    "Mon",
                    "Tue",
                    "Wed",
                    "Thu",
                    "Fri",
                    "Sat",
                    "Sun",
                    "Mon",
                    "Tue",
                    "Wed",
                    "Thu",
                    "Fri",
                    "Sat",
                    "Sun",
                    "Mon",
                    "Tue",
                    "Wed",
                    "Thu",
                    "Fri",
                    "Sat",
                    "Sun",
                    "Mon",
                    "Tue",
                    "Wed",
                    "Thu",
                    "Fri",
                    "Sat",
                    "Sun",
                    "Mon",
                    "Tue",
                    "Wed",
                    "Thu",
                    "Fri",
                    "Sat",
                    "Sun",
                    "Mon",
                    "Tue",
                    "Wed",
                    "Thu",
                    "Fri",
                    "Sat",
                    "Sun",
                    "Mon",
                    "Tue",
                    "Wed",
                    "Thu",
                    "Fri",
                    "Sat",
                    "Sun",
                    "Mon",
                    "Tue",
                    "Wed",
                    "Thu",
                    "Fri",
                    "Sat",
                    "Sun",
                    "Mon",
                    "Tue",
                    "Wed",
                    "Thu",
                    "Fri",
                    "Sat",
                    "Sun",
                    "Mon",
                    "Tue",
                    "Wed",
                    "Thu",
                    "Fri",
                    "Sat",
                    "Sun",
                    "Mon",
                    "Tue",
                    "Wed",
                    "Thu",
                    "Fri",
                    "Sat",
                    "Sun",
                    "Mon",
                    "Tue",
                    "Wed",
                    "Thu",
                    "Fri",
                    "Sat",
                    "Sun",
                    "Mon",
                    "Tue",
                    "Wed",
                    "Thu",
                    "Fri",
                    "Sat",
                    "Sun",
                    "Mon",
                    "Tue",
                    "Wed",
                    "Thu",
                    "Fri",
                    "Sat",
                    "Sun",
                    "Mon",
                    "Tue",
                    "Wed",
                    "Thu",
                    "Fri",
                    "Sat",
                    "Sun",
                    "Mon",
                    "Tue",
                    "Wed",
                    "Thu",
                    "Fri",
                    "Sat",
                    "Sun",
                    "Mon",
                    "Tue",
                    "Wed",
                    "Thu",
                    "Fri",
                    "Sat",
                    "Sun",
                    "Mon",
                    "Tue",
                    "Wed",
                    "Thu",
                    "Fri",
                    "Sat",
                    "Sun",
                    "Mon",
                    "Tue",
                    "Wed",
                    "Thu",
                    "Fri",
                    "Sat",
                    "Sun",
                    "Mon",
                    "Tue",
                    "Wed",
                    "Thu",
                    "Fri",
                    "Sat",
                    "Sun",
                    "Mon",
                    "Tue",
                    "Wed",
                    "Thu",
                    "Fri",
                    "Sat",
                    "Sun",
                    "Mon",
                    "Tue",
                    "Wed",
                    "Thu",
                    "Fri",
                    "Sat",
                    "Sun",
                    "Mon",
                    "Tue",
                    "Wed",
                    "Thu",
                    "Fri",
                    "Sat",
                    "Sun",
                    "Mon",
                    "Tue",
                    "Wed",
                    "Thu",
                    "Fri",
                    "Sat",
                    "Sun",
                    "Mon",
                    "Tue",
                    "Wed",
                    "Thu",
                    "Fri",
                    "Sat",
                    "Sun",
                    "Mon",
                    "Tue",
                    "Wed",
                    "Thu",
                    "Fri",
                    "Sat",
                    "Sun",
                    "Mon",
                    "Tue",
                    "Wed",
                    "Thu",
                    "Fri",
                    "Sat",
                    "Sun",
                    "Mon",
                    "Tue",
                    "Wed",
                    "Thu",
                    "Fri",
                    "Sat",
                    "Sun",
                    "Mon",
                    "Tue",
                    "Wed",
                    "Thu",
                    "Fri",
                    "Sat",
                    "Sun",
                    "Mon",
                    "Tue",
                    "Wed",
                    "Thu",
                    "Fri",
                    "Sat",
                    "Sun",
                    "Mon",
                    "Tue",
                    "Wed",
                    "Thu",
                    "Fri",
                    "Sat",
                    "Sun",
                    "Mon",
                    "Tue",
                    "Wed",
                    "Thu",
                    "Fri",
                    "Sat",
                    "Sun",
                    "Mon",
                    "Tue",
                    "Wed",
                    "Thu",
                    "Fri",
                    "Sat",
                    "Sun",
                    "Mon",
                    "Tue",
                    "Wed",
                    "Thu",
                    "Fri",
                    "Sat",
                    "Sun",
                    "Mon",
                    "Tue",
                    "Wed",
                    "Thu",
                    "Fri",
                    "Sat",
                    "Sun",
                    "Mon",
                    "Tue",
                    "Wed",
                    "Thu",
                    "Fri",
                    "Sat",
                    "Sun",
                    "Mon",
                    "Tue",
                    "Wed",
                    "Thu",
                    "Fri",
                    "Sat",
                    "Sun",
                    "Mon",
                    "Tue",
                    "Wed",
                    "Thu",
                    "Fri",
                    "Sat",
                    "Sun",
                    "Mon",
                    "Tue",
                    "Wed",
                    "Thu",
                    "Fri",
                    "Sat",
                    "Sun",
                    "Mon",
                    "Tue",
                    "Wed",
                    "Thu",
                    "Fri",
                    "Sat",
                    "Sun",
                    "Mon",
                    "Tue",
                    "Wed",
                    "Thu",
                    "Fri",
                    "Sat",
                    "Sun",
                    "Mon",
                    "Tue",
                    "Wed",
                    "Thu",
                    "Fri",
                    "Sat",
                    "Sun",
                    "Mon",
                    "Tue",
                    "Wed",
                    "Thu",
                    "Fri",
                    "Sat",
                    "Sun",
                    "Mon",
                    "Tue",
                    "Wed",
                    "Thu",
                    "Fri",
                    "Sat",
                    "Sun",
                    "Mon",
                    "Tue",
                    "Wed",
                    "Thu",
                    "Fri",
                    "Sat",
                    "Sun",
                    "Mon",
                    "Tue",
                    "Wed",
                    "Thu",
                    "Fri",
                    "Sat",
                    "Sun",
                    "Mon",
                    "Tue",
                    "Wed",
                    "Thu",
                    "Fri",
                    "Sat",
                    "Sun",
                    "Mon",
                    "Tue",
                    "Wed",
                    "Thu",
                    "Fri",
                    "Sat",
                    "Sun",
                    "Mon",
                    "Tue",
                    "Wed",
                    "Thu",
                    "Fri",
                    "Sat",
                    "Sun",
                    "Mon",
                    "Tue",
                    "Wed",
                    "Thu",
                    "Fri",
                    "Sat",
                    "Sun",
                    "Mon",
                    "Tue",
                    "Wed",
                    "Thu",
                    "Fri",
                    "Sat",
                    "Sun",
                    "Mon",
                    "Tue",
                    "Wed",
                    "Thu",
                    "Fri",
                    "Sat",
                    "Sun",
                    "Mon",
                    "Tue",
                    "Wed",
                    "Thu",
                    "Fri",
                    "Sat",
                    "Sun",
                    "Mon",
                    "Tue",
                    "Wed",
                    "Thu",
                    "Fri",
                    "Sat",
                    "Sun",
                    "Mon",
                    "Tue",
                    "Wed",
                    "Thu",
                    "Fri",
                    "Sat",
                    "Sun",
                    "Mon",
                    "Tue",
                    "Wed",
                    "Thu",
                    "Fri",
                    "Sat",
                    "Sun",
                    "Mon",
                    "Tue",
                    "Wed",
                    "Thu",
                    "Fri",
                    "Sat",
                    "Sun",
                    "Mon",
                    "Tue",
                    "Wed",
                    "Thu",
                    "Fri",
                    "Sat",
                    "Sun",
                    "Mon",
                    "Tue",
                    "Wed",
                    "Thu",
                    "Fri",
                    "Sat",
                    "Sun",
                    "Mon",
                    "Tue",
                    "Wed",
                    "Thu",
                    "Fri",
                    "Sat",
                    "Sun",
                    "Mon",
                    "Tue",
                    "Wed",
                    "Thu",
                    "Fri",
                    "Sat",
                    "Sun",
                    "Mon",
                    "Tue",
                    "Wed",
                    "Thu",
                    "Fri",
                    "Sat",
                    "Sun",
                    "Mon",
                    "Tue",
                    "Wed",
                    "Thu",
                    "Fri",
                    "Sat",
                    "Sun",
                    "Mon",
                    "Tue",
                    "Wed",
                    "Thu",
                    "Fri",
                    "Sat",
                    "Sun",
                    "Mon",
                    "Tue",
                    "Wed",
                    "Thu",
                    "Fri",
                    "Sat",
                    "Sun",
                    "Mon",
                    "Tue",
                    "Wed",
                    "Thu",
                    "Fri",
                    "Sat",
                    "Sun",
                    "Mon",
                    "Tue",
                    "Wed",
                    "Thu",
                    "Fri",
                    "Sat",
                    "Sun",
                    "Mon",
                    "Tue",
                    "Wed",
                    "Thu",
                    "Fri",
                    "Sat",
                    "Sun",
                    "Mon",
                    "Tue",
                    "Wed",
                    "Thu",
                    "Fri",
                    "Sat",
                    "Sun",
                    "Mon",
                    "Tue",
                    "Wed",
                    "Thu",
                    "Fri",
                    "Sat",
                    "Sun",
                    "Mon",
                    "Tue",
                    "Wed",
                    "Thu",
                    "Fri",
                    "Sat",
                    "Sun",
                    "Mon",
                    "Tue",
                    "Wed",
                    "Thu",
                    "Fri",
                    "Sat",
                    "Sun",
                    "Mon",
                    "Tue",
                    "Wed",
                    "Thu",
                    "Fri",
                    "Sat",
                    "Sun",
                    "Mon",
                    "Tue",
                    "Wed",
                    "Thu",
                    "Fri",
                    "Sat",
                    "Sun",
                    "Mon",
                    "Tue",
                    "Wed",
                    "Thu",
                    "Fri",
                    "Sat",
                    "Sun",
                    "Mon",
                    "Tue",
                    "Wed",
                    "Thu",
                    "Fri",
                    "Sat",
                    "Sun",
                    "Mon",
                    "Tue",
                    "Wed",
                    "Thu",
                    "Fri",
                    "Sat",
                    "Sun",
                    "Mon",
                    "Tue",
                    "Wed",
                    "Thu",
                    "Fri",
                    "Sat",
                    "Sun",
                    "Mon",
                    "Tue",
                    "Wed",
                    "Thu",
                    "Fri",
                    "Sat",
                    "Sun",
                    "Mon",
                    "Tue",
                    "Wed",
                    "Thu",
                    "Fri",
                    "Sat",
                    "Sun",
                    "Mon",
                    "Tue",
                    "Wed",
                    "Thu",
                    "Fri",
                    "Sat",
                    "Sun",
                    "Mon",
                    "Tue",
                    "Wed",
                    "Thu",
                    "Fri",
                    "Sat",
                    "Sun",
                    "Mon",
                    "Tue",
                    "Wed",
                    "Thu",
                    "Fri",
                    "Sat",
                    "Sun",
                    "Mon",
                    "Tue",
                    "Wed",
                    "Thu",
                    "Fri",
                    "Sat",
                    "Sun",
                    "Mon",
                    "Tue",
                    "Wed",
                    "Thu",
                    "Fri",
                    "Sat",
                    "Sun",
                    "Mon",
                    "Tue",
                    "Wed",
                    "Thu",
                    "Fri",
                    "Sat",
                    "Sun",
                    "Mon",
                    "Tue",
                    "Wed",
                    "Thu",
                    "Fri",
                    "Sat",
                    "Sun",
                    "Mon",
                    "Tue",
                    "Wed",
                    "Thu",
                    "Fri",
                    "Sat",
                    "Sun",
                    "Mon"
                  ],
                  "x0": " ",
                  "xaxis": "x",
                  "y": [
                    985,
                    801,
                    1349,
                    1562,
                    1600,
                    1606,
                    1510,
                    959,
                    822,
                    1321,
                    1263,
                    1162,
                    1406,
                    1421,
                    1248,
                    1204,
                    1000,
                    683,
                    1650,
                    1927,
                    1543,
                    981,
                    986,
                    1416,
                    1985,
                    506,
                    431,
                    1167,
                    1098,
                    1096,
                    1501,
                    1360,
                    1526,
                    1550,
                    1708,
                    1005,
                    1623,
                    1712,
                    1530,
                    1605,
                    1538,
                    1746,
                    1472,
                    1589,
                    1913,
                    1815,
                    2115,
                    2475,
                    2927,
                    1635,
                    1812,
                    1107,
                    1450,
                    1917,
                    1807,
                    1461,
                    1969,
                    2402,
                    1446,
                    1851,
                    2134,
                    1685,
                    1944,
                    2077,
                    605,
                    1872,
                    2133,
                    1891,
                    623,
                    1977,
                    2132,
                    2417,
                    2046,
                    2056,
                    2192,
                    2744,
                    3239,
                    3117,
                    2471,
                    2077,
                    2703,
                    2121,
                    1865,
                    2210,
                    2496,
                    1693,
                    2028,
                    2425,
                    1536,
                    1685,
                    2227,
                    2252,
                    3249,
                    3115,
                    1795,
                    2808,
                    3141,
                    1471,
                    2455,
                    2895,
                    3348,
                    2034,
                    2162,
                    3267,
                    3126,
                    795,
                    3744,
                    3429,
                    3204,
                    3944,
                    4189,
                    1683,
                    4036,
                    4191,
                    4073,
                    4400,
                    3872,
                    4058,
                    4595,
                    5312,
                    3351,
                    4401,
                    4451,
                    2633,
                    4433,
                    4608,
                    4714,
                    4333,
                    4362,
                    4803,
                    4182,
                    4864,
                    4105,
                    3409,
                    4553,
                    3958,
                    4123,
                    3855,
                    4575,
                    4917,
                    5805,
                    4660,
                    4274,
                    4492,
                    4978,
                    4677,
                    4679,
                    4758,
                    4788,
                    4098,
                    3982,
                    3974,
                    4968,
                    5312,
                    5342,
                    4906,
                    4548,
                    4833,
                    4401,
                    3915,
                    4586,
                    4966,
                    4460,
                    5020,
                    4891,
                    5180,
                    3767,
                    4844,
                    5119,
                    4744,
                    4010,
                    4835,
                    4507,
                    4790,
                    4991,
                    5202,
                    5305,
                    4708,
                    4648,
                    5225,
                    5515,
                    5362,
                    5119,
                    4649,
                    6043,
                    4665,
                    4629,
                    4592,
                    4040,
                    5336,
                    4881,
                    4086,
                    4258,
                    4342,
                    5084,
                    5538,
                    5923,
                    5302,
                    4458,
                    4541,
                    4332,
                    3784,
                    3387,
                    3285,
                    3606,
                    3840,
                    4590,
                    4656,
                    4390,
                    3846,
                    4475,
                    4302,
                    4266,
                    4845,
                    3574,
                    4576,
                    4866,
                    4294,
                    3785,
                    4326,
                    4602,
                    4780,
                    4792,
                    4905,
                    4150,
                    3820,
                    4338,
                    4725,
                    4694,
                    3805,
                    4153,
                    5191,
                    3873,
                    4758,
                    5895,
                    5130,
                    3542,
                    4661,
                    1115,
                    4334,
                    4634,
                    5204,
                    5058,
                    5115,
                    4727,
                    4484,
                    4940,
                    3351,
                    2710,
                    1996,
                    1842,
                    3544,
                    5345,
                    5046,
                    4713,
                    4763,
                    4785,
                    3659,
                    4760,
                    4511,
                    4274,
                    4539,
                    3641,
                    4352,
                    4795,
                    2395,
                    5423,
                    5010,
                    4630,
                    4120,
                    3907,
                    4839,
                    5202,
                    2429,
                    2918,
                    3570,
                    4456,
                    4826,
                    4765,
                    4985,
                    5409,
                    5511,
                    5117,
                    4563,
                    2416,
                    2913,
                    3644,
                    5217,
                    5041,
                    4570,
                    4748,
                    2424,
                    4195,
                    4304,
                    4308,
                    4381,
                    4187,
                    4687,
                    3894,
                    2659,
                    3747,
                    627,
                    3331,
                    3669,
                    4068,
                    4186,
                    3974,
                    4046,
                    3926,
                    3649,
                    4035,
                    4205,
                    4109,
                    2933,
                    3368,
                    4067,
                    3717,
                    4486,
                    4195,
                    1817,
                    3053,
                    3392,
                    3663,
                    3520,
                    2765,
                    1607,
                    2566,
                    1495,
                    2792,
                    3068,
                    3071,
                    3867,
                    2914,
                    3613,
                    3727,
                    3940,
                    3614,
                    3485,
                    3811,
                    2594,
                    705,
                    3322,
                    3620,
                    3190,
                    2743,
                    3310,
                    3523,
                    3740,
                    3709,
                    3577,
                    2739,
                    2431,
                    3403,
                    3750,
                    2660,
                    3068,
                    2209,
                    1011,
                    754,
                    1317,
                    1162,
                    2302,
                    2423,
                    2999,
                    2485,
                    2294,
                    1951,
                    2236,
                    2368,
                    3272,
                    4098,
                    4521,
                    3425,
                    2376,
                    3598,
                    2177,
                    4097,
                    3214,
                    2493,
                    2311,
                    2298,
                    2935,
                    3376,
                    3292,
                    3163,
                    1301,
                    1977,
                    2432,
                    4339,
                    4270,
                    4075,
                    3456,
                    4023,
                    3243,
                    3624,
                    4509,
                    4579,
                    3761,
                    4151,
                    2832,
                    2947,
                    3784,
                    4375,
                    2802,
                    3830,
                    3831,
                    2169,
                    1529,
                    3422,
                    3922,
                    4169,
                    3005,
                    4154,
                    4318,
                    2689,
                    3129,
                    3777,
                    4773,
                    5062,
                    3487,
                    2732,
                    3389,
                    4322,
                    4363,
                    1834,
                    4990,
                    3194,
                    4066,
                    3423,
                    3333,
                    3956,
                    4916,
                    5382,
                    4569,
                    4118,
                    4911,
                    5298,
                    5847,
                    6312,
                    6192,
                    4378,
                    7836,
                    5892,
                    6153,
                    6093,
                    6230,
                    6871,
                    8362,
                    3372,
                    4996,
                    5558,
                    5102,
                    5698,
                    6133,
                    5459,
                    6235,
                    6041,
                    5936,
                    6772,
                    6436,
                    6457,
                    6460,
                    6857,
                    5169,
                    5585,
                    5918,
                    4862,
                    5409,
                    6398,
                    7460,
                    7132,
                    6370,
                    6691,
                    4367,
                    6565,
                    7290,
                    6624,
                    1027,
                    3214,
                    5633,
                    6196,
                    5026,
                    6233,
                    4220,
                    6304,
                    5572,
                    5740,
                    6169,
                    6421,
                    6296,
                    6883,
                    6359,
                    6273,
                    5728,
                    4717,
                    6572,
                    7030,
                    7429,
                    6118,
                    2843,
                    5115,
                    7424,
                    7384,
                    7639,
                    8294,
                    7129,
                    4359,
                    6073,
                    5260,
                    6770,
                    6734,
                    6536,
                    6591,
                    6043,
                    5743,
                    6855,
                    7338,
                    4127,
                    8120,
                    7641,
                    6998,
                    7001,
                    7055,
                    7494,
                    7736,
                    7498,
                    6598,
                    6664,
                    4972,
                    7421,
                    7363,
                    7665,
                    7702,
                    6978,
                    5099,
                    6825,
                    6211,
                    5905,
                    5823,
                    7458,
                    6891,
                    6779,
                    7442,
                    7335,
                    6879,
                    5463,
                    5687,
                    5531,
                    6227,
                    6660,
                    7403,
                    6241,
                    6207,
                    4840,
                    4672,
                    6569,
                    6290,
                    7264,
                    7446,
                    7499,
                    6969,
                    6031,
                    6830,
                    6786,
                    5713,
                    6591,
                    5870,
                    4459,
                    7410,
                    6966,
                    7592,
                    8173,
                    6861,
                    6904,
                    6685,
                    6597,
                    7105,
                    7216,
                    7580,
                    7261,
                    7175,
                    6824,
                    5464,
                    7013,
                    7273,
                    7534,
                    7286,
                    5786,
                    6299,
                    6544,
                    6883,
                    6784,
                    7347,
                    7605,
                    7148,
                    7865,
                    4549,
                    6530,
                    7006,
                    7375,
                    7765,
                    7582,
                    6053,
                    5255,
                    6917,
                    7040,
                    7697,
                    7713,
                    7350,
                    6140,
                    5810,
                    6034,
                    6864,
                    7112,
                    6203,
                    7504,
                    5976,
                    8227,
                    7525,
                    7767,
                    7870,
                    7804,
                    8009,
                    8714,
                    7333,
                    6869,
                    4073,
                    7591,
                    7720,
                    8167,
                    8395,
                    7907,
                    7436,
                    7538,
                    7733,
                    7393,
                    7415,
                    8555,
                    6889,
                    6778,
                    4639,
                    7572,
                    7328,
                    8156,
                    7965,
                    3510,
                    5478,
                    6392,
                    7691,
                    7570,
                    7282,
                    7109,
                    6639,
                    5875,
                    7534,
                    7461,
                    7509,
                    5424,
                    8090,
                    6824,
                    7058,
                    7466,
                    7693,
                    7359,
                    7444,
                    7852,
                    4459,
                    22,
                    1096,
                    5566,
                    5986,
                    5847,
                    5138,
                    5107,
                    5259,
                    5686,
                    5035,
                    5315,
                    5992,
                    6536,
                    6852,
                    6269,
                    4094,
                    5495,
                    5445,
                    5698,
                    5629,
                    4669,
                    5499,
                    5634,
                    5146,
                    2425,
                    3910,
                    2277,
                    2424,
                    5087,
                    3959,
                    5260,
                    5323,
                    5668,
                    5191,
                    4649,
                    6234,
                    6606,
                    5729,
                    5375,
                    5008,
                    5582,
                    3228,
                    5170,
                    5501,
                    5319,
                    5532,
                    5611,
                    5047,
                    3786,
                    4585,
                    5557,
                    5267,
                    4128,
                    3623,
                    1749,
                    1787,
                    920,
                    1013,
                    441,
                    2114,
                    3095,
                    1341,
                    1796,
                    2729
                  ],
                  "y0": " ",
                  "yaxis": "y"
                }
              ],
              "layout": {
                "boxmode": "group",
                "legend": {
                  "tracegroupgap": 0
                },
                "template": {
                  "data": {
                    "bar": [
                      {
                        "error_x": {
                          "color": "#2a3f5f"
                        },
                        "error_y": {
                          "color": "#2a3f5f"
                        },
                        "marker": {
                          "line": {
                            "color": "#E5ECF6",
                            "width": 0.5
                          },
                          "pattern": {
                            "fillmode": "overlay",
                            "size": 10,
                            "solidity": 0.2
                          }
                        },
                        "type": "bar"
                      }
                    ],
                    "barpolar": [
                      {
                        "marker": {
                          "line": {
                            "color": "#E5ECF6",
                            "width": 0.5
                          },
                          "pattern": {
                            "fillmode": "overlay",
                            "size": 10,
                            "solidity": 0.2
                          }
                        },
                        "type": "barpolar"
                      }
                    ],
                    "carpet": [
                      {
                        "aaxis": {
                          "endlinecolor": "#2a3f5f",
                          "gridcolor": "white",
                          "linecolor": "white",
                          "minorgridcolor": "white",
                          "startlinecolor": "#2a3f5f"
                        },
                        "baxis": {
                          "endlinecolor": "#2a3f5f",
                          "gridcolor": "white",
                          "linecolor": "white",
                          "minorgridcolor": "white",
                          "startlinecolor": "#2a3f5f"
                        },
                        "type": "carpet"
                      }
                    ],
                    "choropleth": [
                      {
                        "colorbar": {
                          "outlinewidth": 0,
                          "ticks": ""
                        },
                        "type": "choropleth"
                      }
                    ],
                    "contour": [
                      {
                        "colorbar": {
                          "outlinewidth": 0,
                          "ticks": ""
                        },
                        "colorscale": [
                          [
                            0,
                            "#0d0887"
                          ],
                          [
                            0.1111111111111111,
                            "#46039f"
                          ],
                          [
                            0.2222222222222222,
                            "#7201a8"
                          ],
                          [
                            0.3333333333333333,
                            "#9c179e"
                          ],
                          [
                            0.4444444444444444,
                            "#bd3786"
                          ],
                          [
                            0.5555555555555556,
                            "#d8576b"
                          ],
                          [
                            0.6666666666666666,
                            "#ed7953"
                          ],
                          [
                            0.7777777777777778,
                            "#fb9f3a"
                          ],
                          [
                            0.8888888888888888,
                            "#fdca26"
                          ],
                          [
                            1,
                            "#f0f921"
                          ]
                        ],
                        "type": "contour"
                      }
                    ],
                    "contourcarpet": [
                      {
                        "colorbar": {
                          "outlinewidth": 0,
                          "ticks": ""
                        },
                        "type": "contourcarpet"
                      }
                    ],
                    "heatmap": [
                      {
                        "colorbar": {
                          "outlinewidth": 0,
                          "ticks": ""
                        },
                        "colorscale": [
                          [
                            0,
                            "#0d0887"
                          ],
                          [
                            0.1111111111111111,
                            "#46039f"
                          ],
                          [
                            0.2222222222222222,
                            "#7201a8"
                          ],
                          [
                            0.3333333333333333,
                            "#9c179e"
                          ],
                          [
                            0.4444444444444444,
                            "#bd3786"
                          ],
                          [
                            0.5555555555555556,
                            "#d8576b"
                          ],
                          [
                            0.6666666666666666,
                            "#ed7953"
                          ],
                          [
                            0.7777777777777778,
                            "#fb9f3a"
                          ],
                          [
                            0.8888888888888888,
                            "#fdca26"
                          ],
                          [
                            1,
                            "#f0f921"
                          ]
                        ],
                        "type": "heatmap"
                      }
                    ],
                    "heatmapgl": [
                      {
                        "colorbar": {
                          "outlinewidth": 0,
                          "ticks": ""
                        },
                        "colorscale": [
                          [
                            0,
                            "#0d0887"
                          ],
                          [
                            0.1111111111111111,
                            "#46039f"
                          ],
                          [
                            0.2222222222222222,
                            "#7201a8"
                          ],
                          [
                            0.3333333333333333,
                            "#9c179e"
                          ],
                          [
                            0.4444444444444444,
                            "#bd3786"
                          ],
                          [
                            0.5555555555555556,
                            "#d8576b"
                          ],
                          [
                            0.6666666666666666,
                            "#ed7953"
                          ],
                          [
                            0.7777777777777778,
                            "#fb9f3a"
                          ],
                          [
                            0.8888888888888888,
                            "#fdca26"
                          ],
                          [
                            1,
                            "#f0f921"
                          ]
                        ],
                        "type": "heatmapgl"
                      }
                    ],
                    "histogram": [
                      {
                        "marker": {
                          "pattern": {
                            "fillmode": "overlay",
                            "size": 10,
                            "solidity": 0.2
                          }
                        },
                        "type": "histogram"
                      }
                    ],
                    "histogram2d": [
                      {
                        "colorbar": {
                          "outlinewidth": 0,
                          "ticks": ""
                        },
                        "colorscale": [
                          [
                            0,
                            "#0d0887"
                          ],
                          [
                            0.1111111111111111,
                            "#46039f"
                          ],
                          [
                            0.2222222222222222,
                            "#7201a8"
                          ],
                          [
                            0.3333333333333333,
                            "#9c179e"
                          ],
                          [
                            0.4444444444444444,
                            "#bd3786"
                          ],
                          [
                            0.5555555555555556,
                            "#d8576b"
                          ],
                          [
                            0.6666666666666666,
                            "#ed7953"
                          ],
                          [
                            0.7777777777777778,
                            "#fb9f3a"
                          ],
                          [
                            0.8888888888888888,
                            "#fdca26"
                          ],
                          [
                            1,
                            "#f0f921"
                          ]
                        ],
                        "type": "histogram2d"
                      }
                    ],
                    "histogram2dcontour": [
                      {
                        "colorbar": {
                          "outlinewidth": 0,
                          "ticks": ""
                        },
                        "colorscale": [
                          [
                            0,
                            "#0d0887"
                          ],
                          [
                            0.1111111111111111,
                            "#46039f"
                          ],
                          [
                            0.2222222222222222,
                            "#7201a8"
                          ],
                          [
                            0.3333333333333333,
                            "#9c179e"
                          ],
                          [
                            0.4444444444444444,
                            "#bd3786"
                          ],
                          [
                            0.5555555555555556,
                            "#d8576b"
                          ],
                          [
                            0.6666666666666666,
                            "#ed7953"
                          ],
                          [
                            0.7777777777777778,
                            "#fb9f3a"
                          ],
                          [
                            0.8888888888888888,
                            "#fdca26"
                          ],
                          [
                            1,
                            "#f0f921"
                          ]
                        ],
                        "type": "histogram2dcontour"
                      }
                    ],
                    "mesh3d": [
                      {
                        "colorbar": {
                          "outlinewidth": 0,
                          "ticks": ""
                        },
                        "type": "mesh3d"
                      }
                    ],
                    "parcoords": [
                      {
                        "line": {
                          "colorbar": {
                            "outlinewidth": 0,
                            "ticks": ""
                          }
                        },
                        "type": "parcoords"
                      }
                    ],
                    "pie": [
                      {
                        "automargin": true,
                        "type": "pie"
                      }
                    ],
                    "scatter": [
                      {
                        "fillpattern": {
                          "fillmode": "overlay",
                          "size": 10,
                          "solidity": 0.2
                        },
                        "type": "scatter"
                      }
                    ],
                    "scatter3d": [
                      {
                        "line": {
                          "colorbar": {
                            "outlinewidth": 0,
                            "ticks": ""
                          }
                        },
                        "marker": {
                          "colorbar": {
                            "outlinewidth": 0,
                            "ticks": ""
                          }
                        },
                        "type": "scatter3d"
                      }
                    ],
                    "scattercarpet": [
                      {
                        "marker": {
                          "colorbar": {
                            "outlinewidth": 0,
                            "ticks": ""
                          }
                        },
                        "type": "scattercarpet"
                      }
                    ],
                    "scattergeo": [
                      {
                        "marker": {
                          "colorbar": {
                            "outlinewidth": 0,
                            "ticks": ""
                          }
                        },
                        "type": "scattergeo"
                      }
                    ],
                    "scattergl": [
                      {
                        "marker": {
                          "colorbar": {
                            "outlinewidth": 0,
                            "ticks": ""
                          }
                        },
                        "type": "scattergl"
                      }
                    ],
                    "scattermapbox": [
                      {
                        "marker": {
                          "colorbar": {
                            "outlinewidth": 0,
                            "ticks": ""
                          }
                        },
                        "type": "scattermapbox"
                      }
                    ],
                    "scatterpolar": [
                      {
                        "marker": {
                          "colorbar": {
                            "outlinewidth": 0,
                            "ticks": ""
                          }
                        },
                        "type": "scatterpolar"
                      }
                    ],
                    "scatterpolargl": [
                      {
                        "marker": {
                          "colorbar": {
                            "outlinewidth": 0,
                            "ticks": ""
                          }
                        },
                        "type": "scatterpolargl"
                      }
                    ],
                    "scatterternary": [
                      {
                        "marker": {
                          "colorbar": {
                            "outlinewidth": 0,
                            "ticks": ""
                          }
                        },
                        "type": "scatterternary"
                      }
                    ],
                    "surface": [
                      {
                        "colorbar": {
                          "outlinewidth": 0,
                          "ticks": ""
                        },
                        "colorscale": [
                          [
                            0,
                            "#0d0887"
                          ],
                          [
                            0.1111111111111111,
                            "#46039f"
                          ],
                          [
                            0.2222222222222222,
                            "#7201a8"
                          ],
                          [
                            0.3333333333333333,
                            "#9c179e"
                          ],
                          [
                            0.4444444444444444,
                            "#bd3786"
                          ],
                          [
                            0.5555555555555556,
                            "#d8576b"
                          ],
                          [
                            0.6666666666666666,
                            "#ed7953"
                          ],
                          [
                            0.7777777777777778,
                            "#fb9f3a"
                          ],
                          [
                            0.8888888888888888,
                            "#fdca26"
                          ],
                          [
                            1,
                            "#f0f921"
                          ]
                        ],
                        "type": "surface"
                      }
                    ],
                    "table": [
                      {
                        "cells": {
                          "fill": {
                            "color": "#EBF0F8"
                          },
                          "line": {
                            "color": "white"
                          }
                        },
                        "header": {
                          "fill": {
                            "color": "#C8D4E3"
                          },
                          "line": {
                            "color": "white"
                          }
                        },
                        "type": "table"
                      }
                    ]
                  },
                  "layout": {
                    "annotationdefaults": {
                      "arrowcolor": "#2a3f5f",
                      "arrowhead": 0,
                      "arrowwidth": 1
                    },
                    "autotypenumbers": "strict",
                    "coloraxis": {
                      "colorbar": {
                        "outlinewidth": 0,
                        "ticks": ""
                      }
                    },
                    "colorscale": {
                      "diverging": [
                        [
                          0,
                          "#8e0152"
                        ],
                        [
                          0.1,
                          "#c51b7d"
                        ],
                        [
                          0.2,
                          "#de77ae"
                        ],
                        [
                          0.3,
                          "#f1b6da"
                        ],
                        [
                          0.4,
                          "#fde0ef"
                        ],
                        [
                          0.5,
                          "#f7f7f7"
                        ],
                        [
                          0.6,
                          "#e6f5d0"
                        ],
                        [
                          0.7,
                          "#b8e186"
                        ],
                        [
                          0.8,
                          "#7fbc41"
                        ],
                        [
                          0.9,
                          "#4d9221"
                        ],
                        [
                          1,
                          "#276419"
                        ]
                      ],
                      "sequential": [
                        [
                          0,
                          "#0d0887"
                        ],
                        [
                          0.1111111111111111,
                          "#46039f"
                        ],
                        [
                          0.2222222222222222,
                          "#7201a8"
                        ],
                        [
                          0.3333333333333333,
                          "#9c179e"
                        ],
                        [
                          0.4444444444444444,
                          "#bd3786"
                        ],
                        [
                          0.5555555555555556,
                          "#d8576b"
                        ],
                        [
                          0.6666666666666666,
                          "#ed7953"
                        ],
                        [
                          0.7777777777777778,
                          "#fb9f3a"
                        ],
                        [
                          0.8888888888888888,
                          "#fdca26"
                        ],
                        [
                          1,
                          "#f0f921"
                        ]
                      ],
                      "sequentialminus": [
                        [
                          0,
                          "#0d0887"
                        ],
                        [
                          0.1111111111111111,
                          "#46039f"
                        ],
                        [
                          0.2222222222222222,
                          "#7201a8"
                        ],
                        [
                          0.3333333333333333,
                          "#9c179e"
                        ],
                        [
                          0.4444444444444444,
                          "#bd3786"
                        ],
                        [
                          0.5555555555555556,
                          "#d8576b"
                        ],
                        [
                          0.6666666666666666,
                          "#ed7953"
                        ],
                        [
                          0.7777777777777778,
                          "#fb9f3a"
                        ],
                        [
                          0.8888888888888888,
                          "#fdca26"
                        ],
                        [
                          1,
                          "#f0f921"
                        ]
                      ]
                    },
                    "colorway": [
                      "#636efa",
                      "#EF553B",
                      "#00cc96",
                      "#ab63fa",
                      "#FFA15A",
                      "#19d3f3",
                      "#FF6692",
                      "#B6E880",
                      "#FF97FF",
                      "#FECB52"
                    ],
                    "font": {
                      "color": "#2a3f5f"
                    },
                    "geo": {
                      "bgcolor": "white",
                      "lakecolor": "white",
                      "landcolor": "#E5ECF6",
                      "showlakes": true,
                      "showland": true,
                      "subunitcolor": "white"
                    },
                    "hoverlabel": {
                      "align": "left"
                    },
                    "hovermode": "closest",
                    "mapbox": {
                      "style": "light"
                    },
                    "paper_bgcolor": "white",
                    "plot_bgcolor": "#E5ECF6",
                    "polar": {
                      "angularaxis": {
                        "gridcolor": "white",
                        "linecolor": "white",
                        "ticks": ""
                      },
                      "bgcolor": "#E5ECF6",
                      "radialaxis": {
                        "gridcolor": "white",
                        "linecolor": "white",
                        "ticks": ""
                      }
                    },
                    "scene": {
                      "xaxis": {
                        "backgroundcolor": "#E5ECF6",
                        "gridcolor": "white",
                        "gridwidth": 2,
                        "linecolor": "white",
                        "showbackground": true,
                        "ticks": "",
                        "zerolinecolor": "white"
                      },
                      "yaxis": {
                        "backgroundcolor": "#E5ECF6",
                        "gridcolor": "white",
                        "gridwidth": 2,
                        "linecolor": "white",
                        "showbackground": true,
                        "ticks": "",
                        "zerolinecolor": "white"
                      },
                      "zaxis": {
                        "backgroundcolor": "#E5ECF6",
                        "gridcolor": "white",
                        "gridwidth": 2,
                        "linecolor": "white",
                        "showbackground": true,
                        "ticks": "",
                        "zerolinecolor": "white"
                      }
                    },
                    "shapedefaults": {
                      "line": {
                        "color": "#2a3f5f"
                      }
                    },
                    "ternary": {
                      "aaxis": {
                        "gridcolor": "white",
                        "linecolor": "white",
                        "ticks": ""
                      },
                      "baxis": {
                        "gridcolor": "white",
                        "linecolor": "white",
                        "ticks": ""
                      },
                      "bgcolor": "#E5ECF6",
                      "caxis": {
                        "gridcolor": "white",
                        "linecolor": "white",
                        "ticks": ""
                      }
                    },
                    "title": {
                      "x": 0.05
                    },
                    "xaxis": {
                      "automargin": true,
                      "gridcolor": "white",
                      "linecolor": "white",
                      "ticks": "",
                      "title": {
                        "standoff": 15
                      },
                      "zerolinecolor": "white",
                      "zerolinewidth": 2
                    },
                    "yaxis": {
                      "automargin": true,
                      "gridcolor": "white",
                      "linecolor": "white",
                      "ticks": "",
                      "title": {
                        "standoff": 15
                      },
                      "zerolinecolor": "white",
                      "zerolinewidth": 2
                    }
                  }
                },
                "title": {
                  "text": "Penyewaan Sepeda Berdasarkan Hari dalam Minggu"
                },
                "xaxis": {
                  "anchor": "y",
                  "categoryarray": [
                    "Sun",
                    "Mon",
                    "Tue",
                    "Wed",
                    "Thu",
                    "Fri",
                    "Sat"
                  ],
                  "categoryorder": "array",
                  "domain": [
                    0,
                    1
                  ],
                  "title": {
                    "text": "Hari"
                  }
                },
                "yaxis": {
                  "anchor": "x",
                  "domain": [
                    0,
                    1
                  ],
                  "title": {
                    "text": "Jumlah Penyewaan"
                  }
                }
              }
            }
          },
          "metadata": {},
          "output_type": "display_data"
        },
        {
          "data": {
            "application/vnd.plotly.v1+json": {
              "config": {
                "plotlyServerURL": "https://plot.ly"
              },
              "data": [
                {
                  "alignmentgroup": "True",
                  "hovertemplate": "Working Day (0 = Tidak, 1 = Ya)=%{x}<br>Jumlah Penyewaan=%{y}<extra></extra>",
                  "legendgroup": "",
                  "marker": {
                    "color": "#636efa"
                  },
                  "name": "",
                  "notched": false,
                  "offsetgroup": "",
                  "orientation": "v",
                  "showlegend": false,
                  "type": "box",
                  "x": [
                    0,
                    0,
                    1,
                    1,
                    1,
                    1,
                    1,
                    0,
                    0,
                    1,
                    1,
                    1,
                    1,
                    1,
                    0,
                    0,
                    0,
                    1,
                    1,
                    1,
                    1,
                    0,
                    0,
                    1,
                    1,
                    1,
                    1,
                    1,
                    0,
                    0,
                    1,
                    1,
                    1,
                    1,
                    1,
                    0,
                    0,
                    1,
                    1,
                    1,
                    1,
                    1,
                    0,
                    0,
                    1,
                    1,
                    1,
                    1,
                    1,
                    0,
                    0,
                    0,
                    1,
                    1,
                    1,
                    1,
                    0,
                    0,
                    1,
                    1,
                    1,
                    1,
                    1,
                    0,
                    0,
                    1,
                    1,
                    1,
                    1,
                    1,
                    0,
                    0,
                    1,
                    1,
                    1,
                    1,
                    1,
                    0,
                    0,
                    1,
                    1,
                    1,
                    1,
                    1,
                    0,
                    0,
                    1,
                    1,
                    1,
                    1,
                    1,
                    0,
                    0,
                    1,
                    1,
                    1,
                    1,
                    1,
                    0,
                    0,
                    1,
                    1,
                    1,
                    1,
                    0,
                    0,
                    0,
                    1,
                    1,
                    1,
                    1,
                    1,
                    0,
                    0,
                    1,
                    1,
                    1,
                    1,
                    1,
                    0,
                    0,
                    1,
                    1,
                    1,
                    1,
                    1,
                    0,
                    0,
                    1,
                    1,
                    1,
                    1,
                    1,
                    0,
                    0,
                    1,
                    1,
                    1,
                    1,
                    1,
                    0,
                    0,
                    1,
                    1,
                    1,
                    1,
                    1,
                    0,
                    0,
                    0,
                    1,
                    1,
                    1,
                    1,
                    0,
                    0,
                    1,
                    1,
                    1,
                    1,
                    1,
                    0,
                    0,
                    1,
                    1,
                    1,
                    1,
                    1,
                    0,
                    0,
                    1,
                    1,
                    1,
                    1,
                    1,
                    0,
                    0,
                    1,
                    1,
                    1,
                    1,
                    1,
                    0,
                    0,
                    0,
                    1,
                    1,
                    1,
                    1,
                    0,
                    0,
                    1,
                    1,
                    1,
                    1,
                    1,
                    0,
                    0,
                    1,
                    1,
                    1,
                    1,
                    1,
                    0,
                    0,
                    1,
                    1,
                    1,
                    1,
                    1,
                    0,
                    0,
                    1,
                    1,
                    1,
                    1,
                    1,
                    0,
                    0,
                    1,
                    1,
                    1,
                    1,
                    1,
                    0,
                    0,
                    1,
                    1,
                    1,
                    1,
                    1,
                    0,
                    0,
                    1,
                    1,
                    1,
                    1,
                    1,
                    0,
                    0,
                    1,
                    1,
                    1,
                    1,
                    1,
                    0,
                    0,
                    0,
                    1,
                    1,
                    1,
                    1,
                    0,
                    0,
                    1,
                    1,
                    1,
                    1,
                    1,
                    0,
                    0,
                    1,
                    1,
                    1,
                    1,
                    1,
                    0,
                    0,
                    1,
                    1,
                    1,
                    1,
                    1,
                    0,
                    0,
                    1,
                    1,
                    1,
                    1,
                    1,
                    0,
                    0,
                    0,
                    1,
                    1,
                    1,
                    1,
                    0,
                    0,
                    1,
                    1,
                    1,
                    1,
                    1,
                    0,
                    0,
                    1,
                    1,
                    1,
                    1,
                    1,
                    0,
                    0,
                    1,
                    1,
                    1,
                    1,
                    1,
                    0,
                    0,
                    1,
                    1,
                    1,
                    1,
                    0,
                    0,
                    0,
                    1,
                    1,
                    1,
                    1,
                    1,
                    0,
                    0,
                    1,
                    1,
                    1,
                    0,
                    1,
                    0,
                    0,
                    1,
                    1,
                    1,
                    1,
                    1,
                    0,
                    0,
                    1,
                    1,
                    1,
                    1,
                    1,
                    0,
                    0,
                    1,
                    1,
                    1,
                    1,
                    1,
                    0,
                    0,
                    1,
                    1,
                    1,
                    1,
                    1,
                    0,
                    0,
                    0,
                    1,
                    1,
                    1,
                    1,
                    0,
                    0,
                    0,
                    1,
                    1,
                    1,
                    1,
                    0,
                    0,
                    1,
                    1,
                    1,
                    1,
                    1,
                    0,
                    0,
                    0,
                    1,
                    1,
                    1,
                    1,
                    0,
                    0,
                    1,
                    1,
                    1,
                    1,
                    1,
                    0,
                    0,
                    1,
                    1,
                    1,
                    1,
                    1,
                    0,
                    0,
                    1,
                    1,
                    1,
                    1,
                    1,
                    0,
                    0,
                    1,
                    1,
                    1,
                    1,
                    1,
                    0,
                    0,
                    0,
                    1,
                    1,
                    1,
                    1,
                    0,
                    0,
                    1,
                    1,
                    1,
                    1,
                    1,
                    0,
                    0,
                    1,
                    1,
                    1,
                    1,
                    1,
                    0,
                    0,
                    1,
                    1,
                    1,
                    1,
                    1,
                    0,
                    0,
                    1,
                    1,
                    1,
                    1,
                    1,
                    0,
                    0,
                    1,
                    1,
                    1,
                    1,
                    1,
                    0,
                    0,
                    1,
                    1,
                    1,
                    1,
                    1,
                    0,
                    0,
                    1,
                    1,
                    1,
                    1,
                    1,
                    0,
                    0,
                    0,
                    1,
                    1,
                    1,
                    1,
                    0,
                    0,
                    1,
                    1,
                    1,
                    1,
                    1,
                    0,
                    0,
                    1,
                    1,
                    1,
                    1,
                    1,
                    0,
                    0,
                    1,
                    1,
                    1,
                    1,
                    1,
                    0,
                    0,
                    1,
                    1,
                    1,
                    1,
                    1,
                    0,
                    0,
                    1,
                    1,
                    1,
                    1,
                    1,
                    0,
                    0,
                    0,
                    1,
                    1,
                    1,
                    1,
                    0,
                    0,
                    1,
                    1,
                    1,
                    1,
                    1,
                    0,
                    0,
                    1,
                    1,
                    1,
                    1,
                    1,
                    0,
                    0,
                    1,
                    1,
                    1,
                    1,
                    1,
                    0,
                    0,
                    1,
                    1,
                    1,
                    1,
                    1,
                    0,
                    0,
                    1,
                    1,
                    0,
                    1,
                    1,
                    0,
                    0,
                    1,
                    1,
                    1,
                    1,
                    1,
                    0,
                    0,
                    1,
                    1,
                    1,
                    1,
                    1,
                    0,
                    0,
                    1,
                    1,
                    1,
                    1,
                    1,
                    0,
                    0,
                    1,
                    1,
                    1,
                    1,
                    1,
                    0,
                    0,
                    1,
                    1,
                    1,
                    1,
                    1,
                    0,
                    0,
                    1,
                    1,
                    1,
                    1,
                    1,
                    0,
                    0,
                    1,
                    1,
                    1,
                    1,
                    1,
                    0,
                    0,
                    1,
                    1,
                    1,
                    1,
                    1,
                    0,
                    0,
                    0,
                    1,
                    1,
                    1,
                    1,
                    0,
                    0,
                    1,
                    1,
                    1,
                    1,
                    1,
                    0,
                    0,
                    1,
                    1,
                    1,
                    1,
                    1,
                    0,
                    0,
                    1,
                    1,
                    1,
                    1,
                    1,
                    0,
                    0,
                    1,
                    1,
                    1,
                    1,
                    1,
                    0,
                    0,
                    0,
                    1,
                    1,
                    1,
                    1,
                    0,
                    0,
                    1,
                    1,
                    1,
                    1,
                    1,
                    0,
                    0,
                    1,
                    1,
                    1,
                    1,
                    1,
                    0,
                    0,
                    1,
                    1,
                    1,
                    1,
                    1,
                    0,
                    0,
                    1,
                    1,
                    1,
                    1,
                    1,
                    0,
                    0,
                    0,
                    1,
                    1,
                    1,
                    1,
                    0,
                    0,
                    1,
                    1,
                    1,
                    0,
                    1,
                    0,
                    0,
                    1,
                    1,
                    1,
                    1,
                    1,
                    0,
                    0,
                    1,
                    1,
                    1,
                    1,
                    1,
                    0,
                    0,
                    1,
                    1,
                    1,
                    1,
                    1,
                    0,
                    0,
                    1,
                    1,
                    1,
                    1,
                    1,
                    0,
                    0,
                    1,
                    0,
                    1,
                    1,
                    1,
                    0,
                    0,
                    1
                  ],
                  "x0": " ",
                  "xaxis": "x",
                  "y": [
                    985,
                    801,
                    1349,
                    1562,
                    1600,
                    1606,
                    1510,
                    959,
                    822,
                    1321,
                    1263,
                    1162,
                    1406,
                    1421,
                    1248,
                    1204,
                    1000,
                    683,
                    1650,
                    1927,
                    1543,
                    981,
                    986,
                    1416,
                    1985,
                    506,
                    431,
                    1167,
                    1098,
                    1096,
                    1501,
                    1360,
                    1526,
                    1550,
                    1708,
                    1005,
                    1623,
                    1712,
                    1530,
                    1605,
                    1538,
                    1746,
                    1472,
                    1589,
                    1913,
                    1815,
                    2115,
                    2475,
                    2927,
                    1635,
                    1812,
                    1107,
                    1450,
                    1917,
                    1807,
                    1461,
                    1969,
                    2402,
                    1446,
                    1851,
                    2134,
                    1685,
                    1944,
                    2077,
                    605,
                    1872,
                    2133,
                    1891,
                    623,
                    1977,
                    2132,
                    2417,
                    2046,
                    2056,
                    2192,
                    2744,
                    3239,
                    3117,
                    2471,
                    2077,
                    2703,
                    2121,
                    1865,
                    2210,
                    2496,
                    1693,
                    2028,
                    2425,
                    1536,
                    1685,
                    2227,
                    2252,
                    3249,
                    3115,
                    1795,
                    2808,
                    3141,
                    1471,
                    2455,
                    2895,
                    3348,
                    2034,
                    2162,
                    3267,
                    3126,
                    795,
                    3744,
                    3429,
                    3204,
                    3944,
                    4189,
                    1683,
                    4036,
                    4191,
                    4073,
                    4400,
                    3872,
                    4058,
                    4595,
                    5312,
                    3351,
                    4401,
                    4451,
                    2633,
                    4433,
                    4608,
                    4714,
                    4333,
                    4362,
                    4803,
                    4182,
                    4864,
                    4105,
                    3409,
                    4553,
                    3958,
                    4123,
                    3855,
                    4575,
                    4917,
                    5805,
                    4660,
                    4274,
                    4492,
                    4978,
                    4677,
                    4679,
                    4758,
                    4788,
                    4098,
                    3982,
                    3974,
                    4968,
                    5312,
                    5342,
                    4906,
                    4548,
                    4833,
                    4401,
                    3915,
                    4586,
                    4966,
                    4460,
                    5020,
                    4891,
                    5180,
                    3767,
                    4844,
                    5119,
                    4744,
                    4010,
                    4835,
                    4507,
                    4790,
                    4991,
                    5202,
                    5305,
                    4708,
                    4648,
                    5225,
                    5515,
                    5362,
                    5119,
                    4649,
                    6043,
                    4665,
                    4629,
                    4592,
                    4040,
                    5336,
                    4881,
                    4086,
                    4258,
                    4342,
                    5084,
                    5538,
                    5923,
                    5302,
                    4458,
                    4541,
                    4332,
                    3784,
                    3387,
                    3285,
                    3606,
                    3840,
                    4590,
                    4656,
                    4390,
                    3846,
                    4475,
                    4302,
                    4266,
                    4845,
                    3574,
                    4576,
                    4866,
                    4294,
                    3785,
                    4326,
                    4602,
                    4780,
                    4792,
                    4905,
                    4150,
                    3820,
                    4338,
                    4725,
                    4694,
                    3805,
                    4153,
                    5191,
                    3873,
                    4758,
                    5895,
                    5130,
                    3542,
                    4661,
                    1115,
                    4334,
                    4634,
                    5204,
                    5058,
                    5115,
                    4727,
                    4484,
                    4940,
                    3351,
                    2710,
                    1996,
                    1842,
                    3544,
                    5345,
                    5046,
                    4713,
                    4763,
                    4785,
                    3659,
                    4760,
                    4511,
                    4274,
                    4539,
                    3641,
                    4352,
                    4795,
                    2395,
                    5423,
                    5010,
                    4630,
                    4120,
                    3907,
                    4839,
                    5202,
                    2429,
                    2918,
                    3570,
                    4456,
                    4826,
                    4765,
                    4985,
                    5409,
                    5511,
                    5117,
                    4563,
                    2416,
                    2913,
                    3644,
                    5217,
                    5041,
                    4570,
                    4748,
                    2424,
                    4195,
                    4304,
                    4308,
                    4381,
                    4187,
                    4687,
                    3894,
                    2659,
                    3747,
                    627,
                    3331,
                    3669,
                    4068,
                    4186,
                    3974,
                    4046,
                    3926,
                    3649,
                    4035,
                    4205,
                    4109,
                    2933,
                    3368,
                    4067,
                    3717,
                    4486,
                    4195,
                    1817,
                    3053,
                    3392,
                    3663,
                    3520,
                    2765,
                    1607,
                    2566,
                    1495,
                    2792,
                    3068,
                    3071,
                    3867,
                    2914,
                    3613,
                    3727,
                    3940,
                    3614,
                    3485,
                    3811,
                    2594,
                    705,
                    3322,
                    3620,
                    3190,
                    2743,
                    3310,
                    3523,
                    3740,
                    3709,
                    3577,
                    2739,
                    2431,
                    3403,
                    3750,
                    2660,
                    3068,
                    2209,
                    1011,
                    754,
                    1317,
                    1162,
                    2302,
                    2423,
                    2999,
                    2485,
                    2294,
                    1951,
                    2236,
                    2368,
                    3272,
                    4098,
                    4521,
                    3425,
                    2376,
                    3598,
                    2177,
                    4097,
                    3214,
                    2493,
                    2311,
                    2298,
                    2935,
                    3376,
                    3292,
                    3163,
                    1301,
                    1977,
                    2432,
                    4339,
                    4270,
                    4075,
                    3456,
                    4023,
                    3243,
                    3624,
                    4509,
                    4579,
                    3761,
                    4151,
                    2832,
                    2947,
                    3784,
                    4375,
                    2802,
                    3830,
                    3831,
                    2169,
                    1529,
                    3422,
                    3922,
                    4169,
                    3005,
                    4154,
                    4318,
                    2689,
                    3129,
                    3777,
                    4773,
                    5062,
                    3487,
                    2732,
                    3389,
                    4322,
                    4363,
                    1834,
                    4990,
                    3194,
                    4066,
                    3423,
                    3333,
                    3956,
                    4916,
                    5382,
                    4569,
                    4118,
                    4911,
                    5298,
                    5847,
                    6312,
                    6192,
                    4378,
                    7836,
                    5892,
                    6153,
                    6093,
                    6230,
                    6871,
                    8362,
                    3372,
                    4996,
                    5558,
                    5102,
                    5698,
                    6133,
                    5459,
                    6235,
                    6041,
                    5936,
                    6772,
                    6436,
                    6457,
                    6460,
                    6857,
                    5169,
                    5585,
                    5918,
                    4862,
                    5409,
                    6398,
                    7460,
                    7132,
                    6370,
                    6691,
                    4367,
                    6565,
                    7290,
                    6624,
                    1027,
                    3214,
                    5633,
                    6196,
                    5026,
                    6233,
                    4220,
                    6304,
                    5572,
                    5740,
                    6169,
                    6421,
                    6296,
                    6883,
                    6359,
                    6273,
                    5728,
                    4717,
                    6572,
                    7030,
                    7429,
                    6118,
                    2843,
                    5115,
                    7424,
                    7384,
                    7639,
                    8294,
                    7129,
                    4359,
                    6073,
                    5260,
                    6770,
                    6734,
                    6536,
                    6591,
                    6043,
                    5743,
                    6855,
                    7338,
                    4127,
                    8120,
                    7641,
                    6998,
                    7001,
                    7055,
                    7494,
                    7736,
                    7498,
                    6598,
                    6664,
                    4972,
                    7421,
                    7363,
                    7665,
                    7702,
                    6978,
                    5099,
                    6825,
                    6211,
                    5905,
                    5823,
                    7458,
                    6891,
                    6779,
                    7442,
                    7335,
                    6879,
                    5463,
                    5687,
                    5531,
                    6227,
                    6660,
                    7403,
                    6241,
                    6207,
                    4840,
                    4672,
                    6569,
                    6290,
                    7264,
                    7446,
                    7499,
                    6969,
                    6031,
                    6830,
                    6786,
                    5713,
                    6591,
                    5870,
                    4459,
                    7410,
                    6966,
                    7592,
                    8173,
                    6861,
                    6904,
                    6685,
                    6597,
                    7105,
                    7216,
                    7580,
                    7261,
                    7175,
                    6824,
                    5464,
                    7013,
                    7273,
                    7534,
                    7286,
                    5786,
                    6299,
                    6544,
                    6883,
                    6784,
                    7347,
                    7605,
                    7148,
                    7865,
                    4549,
                    6530,
                    7006,
                    7375,
                    7765,
                    7582,
                    6053,
                    5255,
                    6917,
                    7040,
                    7697,
                    7713,
                    7350,
                    6140,
                    5810,
                    6034,
                    6864,
                    7112,
                    6203,
                    7504,
                    5976,
                    8227,
                    7525,
                    7767,
                    7870,
                    7804,
                    8009,
                    8714,
                    7333,
                    6869,
                    4073,
                    7591,
                    7720,
                    8167,
                    8395,
                    7907,
                    7436,
                    7538,
                    7733,
                    7393,
                    7415,
                    8555,
                    6889,
                    6778,
                    4639,
                    7572,
                    7328,
                    8156,
                    7965,
                    3510,
                    5478,
                    6392,
                    7691,
                    7570,
                    7282,
                    7109,
                    6639,
                    5875,
                    7534,
                    7461,
                    7509,
                    5424,
                    8090,
                    6824,
                    7058,
                    7466,
                    7693,
                    7359,
                    7444,
                    7852,
                    4459,
                    22,
                    1096,
                    5566,
                    5986,
                    5847,
                    5138,
                    5107,
                    5259,
                    5686,
                    5035,
                    5315,
                    5992,
                    6536,
                    6852,
                    6269,
                    4094,
                    5495,
                    5445,
                    5698,
                    5629,
                    4669,
                    5499,
                    5634,
                    5146,
                    2425,
                    3910,
                    2277,
                    2424,
                    5087,
                    3959,
                    5260,
                    5323,
                    5668,
                    5191,
                    4649,
                    6234,
                    6606,
                    5729,
                    5375,
                    5008,
                    5582,
                    3228,
                    5170,
                    5501,
                    5319,
                    5532,
                    5611,
                    5047,
                    3786,
                    4585,
                    5557,
                    5267,
                    4128,
                    3623,
                    1749,
                    1787,
                    920,
                    1013,
                    441,
                    2114,
                    3095,
                    1341,
                    1796,
                    2729
                  ],
                  "y0": " ",
                  "yaxis": "y"
                }
              ],
              "layout": {
                "boxmode": "group",
                "legend": {
                  "tracegroupgap": 0
                },
                "template": {
                  "data": {
                    "bar": [
                      {
                        "error_x": {
                          "color": "#2a3f5f"
                        },
                        "error_y": {
                          "color": "#2a3f5f"
                        },
                        "marker": {
                          "line": {
                            "color": "#E5ECF6",
                            "width": 0.5
                          },
                          "pattern": {
                            "fillmode": "overlay",
                            "size": 10,
                            "solidity": 0.2
                          }
                        },
                        "type": "bar"
                      }
                    ],
                    "barpolar": [
                      {
                        "marker": {
                          "line": {
                            "color": "#E5ECF6",
                            "width": 0.5
                          },
                          "pattern": {
                            "fillmode": "overlay",
                            "size": 10,
                            "solidity": 0.2
                          }
                        },
                        "type": "barpolar"
                      }
                    ],
                    "carpet": [
                      {
                        "aaxis": {
                          "endlinecolor": "#2a3f5f",
                          "gridcolor": "white",
                          "linecolor": "white",
                          "minorgridcolor": "white",
                          "startlinecolor": "#2a3f5f"
                        },
                        "baxis": {
                          "endlinecolor": "#2a3f5f",
                          "gridcolor": "white",
                          "linecolor": "white",
                          "minorgridcolor": "white",
                          "startlinecolor": "#2a3f5f"
                        },
                        "type": "carpet"
                      }
                    ],
                    "choropleth": [
                      {
                        "colorbar": {
                          "outlinewidth": 0,
                          "ticks": ""
                        },
                        "type": "choropleth"
                      }
                    ],
                    "contour": [
                      {
                        "colorbar": {
                          "outlinewidth": 0,
                          "ticks": ""
                        },
                        "colorscale": [
                          [
                            0,
                            "#0d0887"
                          ],
                          [
                            0.1111111111111111,
                            "#46039f"
                          ],
                          [
                            0.2222222222222222,
                            "#7201a8"
                          ],
                          [
                            0.3333333333333333,
                            "#9c179e"
                          ],
                          [
                            0.4444444444444444,
                            "#bd3786"
                          ],
                          [
                            0.5555555555555556,
                            "#d8576b"
                          ],
                          [
                            0.6666666666666666,
                            "#ed7953"
                          ],
                          [
                            0.7777777777777778,
                            "#fb9f3a"
                          ],
                          [
                            0.8888888888888888,
                            "#fdca26"
                          ],
                          [
                            1,
                            "#f0f921"
                          ]
                        ],
                        "type": "contour"
                      }
                    ],
                    "contourcarpet": [
                      {
                        "colorbar": {
                          "outlinewidth": 0,
                          "ticks": ""
                        },
                        "type": "contourcarpet"
                      }
                    ],
                    "heatmap": [
                      {
                        "colorbar": {
                          "outlinewidth": 0,
                          "ticks": ""
                        },
                        "colorscale": [
                          [
                            0,
                            "#0d0887"
                          ],
                          [
                            0.1111111111111111,
                            "#46039f"
                          ],
                          [
                            0.2222222222222222,
                            "#7201a8"
                          ],
                          [
                            0.3333333333333333,
                            "#9c179e"
                          ],
                          [
                            0.4444444444444444,
                            "#bd3786"
                          ],
                          [
                            0.5555555555555556,
                            "#d8576b"
                          ],
                          [
                            0.6666666666666666,
                            "#ed7953"
                          ],
                          [
                            0.7777777777777778,
                            "#fb9f3a"
                          ],
                          [
                            0.8888888888888888,
                            "#fdca26"
                          ],
                          [
                            1,
                            "#f0f921"
                          ]
                        ],
                        "type": "heatmap"
                      }
                    ],
                    "heatmapgl": [
                      {
                        "colorbar": {
                          "outlinewidth": 0,
                          "ticks": ""
                        },
                        "colorscale": [
                          [
                            0,
                            "#0d0887"
                          ],
                          [
                            0.1111111111111111,
                            "#46039f"
                          ],
                          [
                            0.2222222222222222,
                            "#7201a8"
                          ],
                          [
                            0.3333333333333333,
                            "#9c179e"
                          ],
                          [
                            0.4444444444444444,
                            "#bd3786"
                          ],
                          [
                            0.5555555555555556,
                            "#d8576b"
                          ],
                          [
                            0.6666666666666666,
                            "#ed7953"
                          ],
                          [
                            0.7777777777777778,
                            "#fb9f3a"
                          ],
                          [
                            0.8888888888888888,
                            "#fdca26"
                          ],
                          [
                            1,
                            "#f0f921"
                          ]
                        ],
                        "type": "heatmapgl"
                      }
                    ],
                    "histogram": [
                      {
                        "marker": {
                          "pattern": {
                            "fillmode": "overlay",
                            "size": 10,
                            "solidity": 0.2
                          }
                        },
                        "type": "histogram"
                      }
                    ],
                    "histogram2d": [
                      {
                        "colorbar": {
                          "outlinewidth": 0,
                          "ticks": ""
                        },
                        "colorscale": [
                          [
                            0,
                            "#0d0887"
                          ],
                          [
                            0.1111111111111111,
                            "#46039f"
                          ],
                          [
                            0.2222222222222222,
                            "#7201a8"
                          ],
                          [
                            0.3333333333333333,
                            "#9c179e"
                          ],
                          [
                            0.4444444444444444,
                            "#bd3786"
                          ],
                          [
                            0.5555555555555556,
                            "#d8576b"
                          ],
                          [
                            0.6666666666666666,
                            "#ed7953"
                          ],
                          [
                            0.7777777777777778,
                            "#fb9f3a"
                          ],
                          [
                            0.8888888888888888,
                            "#fdca26"
                          ],
                          [
                            1,
                            "#f0f921"
                          ]
                        ],
                        "type": "histogram2d"
                      }
                    ],
                    "histogram2dcontour": [
                      {
                        "colorbar": {
                          "outlinewidth": 0,
                          "ticks": ""
                        },
                        "colorscale": [
                          [
                            0,
                            "#0d0887"
                          ],
                          [
                            0.1111111111111111,
                            "#46039f"
                          ],
                          [
                            0.2222222222222222,
                            "#7201a8"
                          ],
                          [
                            0.3333333333333333,
                            "#9c179e"
                          ],
                          [
                            0.4444444444444444,
                            "#bd3786"
                          ],
                          [
                            0.5555555555555556,
                            "#d8576b"
                          ],
                          [
                            0.6666666666666666,
                            "#ed7953"
                          ],
                          [
                            0.7777777777777778,
                            "#fb9f3a"
                          ],
                          [
                            0.8888888888888888,
                            "#fdca26"
                          ],
                          [
                            1,
                            "#f0f921"
                          ]
                        ],
                        "type": "histogram2dcontour"
                      }
                    ],
                    "mesh3d": [
                      {
                        "colorbar": {
                          "outlinewidth": 0,
                          "ticks": ""
                        },
                        "type": "mesh3d"
                      }
                    ],
                    "parcoords": [
                      {
                        "line": {
                          "colorbar": {
                            "outlinewidth": 0,
                            "ticks": ""
                          }
                        },
                        "type": "parcoords"
                      }
                    ],
                    "pie": [
                      {
                        "automargin": true,
                        "type": "pie"
                      }
                    ],
                    "scatter": [
                      {
                        "fillpattern": {
                          "fillmode": "overlay",
                          "size": 10,
                          "solidity": 0.2
                        },
                        "type": "scatter"
                      }
                    ],
                    "scatter3d": [
                      {
                        "line": {
                          "colorbar": {
                            "outlinewidth": 0,
                            "ticks": ""
                          }
                        },
                        "marker": {
                          "colorbar": {
                            "outlinewidth": 0,
                            "ticks": ""
                          }
                        },
                        "type": "scatter3d"
                      }
                    ],
                    "scattercarpet": [
                      {
                        "marker": {
                          "colorbar": {
                            "outlinewidth": 0,
                            "ticks": ""
                          }
                        },
                        "type": "scattercarpet"
                      }
                    ],
                    "scattergeo": [
                      {
                        "marker": {
                          "colorbar": {
                            "outlinewidth": 0,
                            "ticks": ""
                          }
                        },
                        "type": "scattergeo"
                      }
                    ],
                    "scattergl": [
                      {
                        "marker": {
                          "colorbar": {
                            "outlinewidth": 0,
                            "ticks": ""
                          }
                        },
                        "type": "scattergl"
                      }
                    ],
                    "scattermapbox": [
                      {
                        "marker": {
                          "colorbar": {
                            "outlinewidth": 0,
                            "ticks": ""
                          }
                        },
                        "type": "scattermapbox"
                      }
                    ],
                    "scatterpolar": [
                      {
                        "marker": {
                          "colorbar": {
                            "outlinewidth": 0,
                            "ticks": ""
                          }
                        },
                        "type": "scatterpolar"
                      }
                    ],
                    "scatterpolargl": [
                      {
                        "marker": {
                          "colorbar": {
                            "outlinewidth": 0,
                            "ticks": ""
                          }
                        },
                        "type": "scatterpolargl"
                      }
                    ],
                    "scatterternary": [
                      {
                        "marker": {
                          "colorbar": {
                            "outlinewidth": 0,
                            "ticks": ""
                          }
                        },
                        "type": "scatterternary"
                      }
                    ],
                    "surface": [
                      {
                        "colorbar": {
                          "outlinewidth": 0,
                          "ticks": ""
                        },
                        "colorscale": [
                          [
                            0,
                            "#0d0887"
                          ],
                          [
                            0.1111111111111111,
                            "#46039f"
                          ],
                          [
                            0.2222222222222222,
                            "#7201a8"
                          ],
                          [
                            0.3333333333333333,
                            "#9c179e"
                          ],
                          [
                            0.4444444444444444,
                            "#bd3786"
                          ],
                          [
                            0.5555555555555556,
                            "#d8576b"
                          ],
                          [
                            0.6666666666666666,
                            "#ed7953"
                          ],
                          [
                            0.7777777777777778,
                            "#fb9f3a"
                          ],
                          [
                            0.8888888888888888,
                            "#fdca26"
                          ],
                          [
                            1,
                            "#f0f921"
                          ]
                        ],
                        "type": "surface"
                      }
                    ],
                    "table": [
                      {
                        "cells": {
                          "fill": {
                            "color": "#EBF0F8"
                          },
                          "line": {
                            "color": "white"
                          }
                        },
                        "header": {
                          "fill": {
                            "color": "#C8D4E3"
                          },
                          "line": {
                            "color": "white"
                          }
                        },
                        "type": "table"
                      }
                    ]
                  },
                  "layout": {
                    "annotationdefaults": {
                      "arrowcolor": "#2a3f5f",
                      "arrowhead": 0,
                      "arrowwidth": 1
                    },
                    "autotypenumbers": "strict",
                    "coloraxis": {
                      "colorbar": {
                        "outlinewidth": 0,
                        "ticks": ""
                      }
                    },
                    "colorscale": {
                      "diverging": [
                        [
                          0,
                          "#8e0152"
                        ],
                        [
                          0.1,
                          "#c51b7d"
                        ],
                        [
                          0.2,
                          "#de77ae"
                        ],
                        [
                          0.3,
                          "#f1b6da"
                        ],
                        [
                          0.4,
                          "#fde0ef"
                        ],
                        [
                          0.5,
                          "#f7f7f7"
                        ],
                        [
                          0.6,
                          "#e6f5d0"
                        ],
                        [
                          0.7,
                          "#b8e186"
                        ],
                        [
                          0.8,
                          "#7fbc41"
                        ],
                        [
                          0.9,
                          "#4d9221"
                        ],
                        [
                          1,
                          "#276419"
                        ]
                      ],
                      "sequential": [
                        [
                          0,
                          "#0d0887"
                        ],
                        [
                          0.1111111111111111,
                          "#46039f"
                        ],
                        [
                          0.2222222222222222,
                          "#7201a8"
                        ],
                        [
                          0.3333333333333333,
                          "#9c179e"
                        ],
                        [
                          0.4444444444444444,
                          "#bd3786"
                        ],
                        [
                          0.5555555555555556,
                          "#d8576b"
                        ],
                        [
                          0.6666666666666666,
                          "#ed7953"
                        ],
                        [
                          0.7777777777777778,
                          "#fb9f3a"
                        ],
                        [
                          0.8888888888888888,
                          "#fdca26"
                        ],
                        [
                          1,
                          "#f0f921"
                        ]
                      ],
                      "sequentialminus": [
                        [
                          0,
                          "#0d0887"
                        ],
                        [
                          0.1111111111111111,
                          "#46039f"
                        ],
                        [
                          0.2222222222222222,
                          "#7201a8"
                        ],
                        [
                          0.3333333333333333,
                          "#9c179e"
                        ],
                        [
                          0.4444444444444444,
                          "#bd3786"
                        ],
                        [
                          0.5555555555555556,
                          "#d8576b"
                        ],
                        [
                          0.6666666666666666,
                          "#ed7953"
                        ],
                        [
                          0.7777777777777778,
                          "#fb9f3a"
                        ],
                        [
                          0.8888888888888888,
                          "#fdca26"
                        ],
                        [
                          1,
                          "#f0f921"
                        ]
                      ]
                    },
                    "colorway": [
                      "#636efa",
                      "#EF553B",
                      "#00cc96",
                      "#ab63fa",
                      "#FFA15A",
                      "#19d3f3",
                      "#FF6692",
                      "#B6E880",
                      "#FF97FF",
                      "#FECB52"
                    ],
                    "font": {
                      "color": "#2a3f5f"
                    },
                    "geo": {
                      "bgcolor": "white",
                      "lakecolor": "white",
                      "landcolor": "#E5ECF6",
                      "showlakes": true,
                      "showland": true,
                      "subunitcolor": "white"
                    },
                    "hoverlabel": {
                      "align": "left"
                    },
                    "hovermode": "closest",
                    "mapbox": {
                      "style": "light"
                    },
                    "paper_bgcolor": "white",
                    "plot_bgcolor": "#E5ECF6",
                    "polar": {
                      "angularaxis": {
                        "gridcolor": "white",
                        "linecolor": "white",
                        "ticks": ""
                      },
                      "bgcolor": "#E5ECF6",
                      "radialaxis": {
                        "gridcolor": "white",
                        "linecolor": "white",
                        "ticks": ""
                      }
                    },
                    "scene": {
                      "xaxis": {
                        "backgroundcolor": "#E5ECF6",
                        "gridcolor": "white",
                        "gridwidth": 2,
                        "linecolor": "white",
                        "showbackground": true,
                        "ticks": "",
                        "zerolinecolor": "white"
                      },
                      "yaxis": {
                        "backgroundcolor": "#E5ECF6",
                        "gridcolor": "white",
                        "gridwidth": 2,
                        "linecolor": "white",
                        "showbackground": true,
                        "ticks": "",
                        "zerolinecolor": "white"
                      },
                      "zaxis": {
                        "backgroundcolor": "#E5ECF6",
                        "gridcolor": "white",
                        "gridwidth": 2,
                        "linecolor": "white",
                        "showbackground": true,
                        "ticks": "",
                        "zerolinecolor": "white"
                      }
                    },
                    "shapedefaults": {
                      "line": {
                        "color": "#2a3f5f"
                      }
                    },
                    "ternary": {
                      "aaxis": {
                        "gridcolor": "white",
                        "linecolor": "white",
                        "ticks": ""
                      },
                      "baxis": {
                        "gridcolor": "white",
                        "linecolor": "white",
                        "ticks": ""
                      },
                      "bgcolor": "#E5ECF6",
                      "caxis": {
                        "gridcolor": "white",
                        "linecolor": "white",
                        "ticks": ""
                      }
                    },
                    "title": {
                      "x": 0.05
                    },
                    "xaxis": {
                      "automargin": true,
                      "gridcolor": "white",
                      "linecolor": "white",
                      "ticks": "",
                      "title": {
                        "standoff": 15
                      },
                      "zerolinecolor": "white",
                      "zerolinewidth": 2
                    },
                    "yaxis": {
                      "automargin": true,
                      "gridcolor": "white",
                      "linecolor": "white",
                      "ticks": "",
                      "title": {
                        "standoff": 15
                      },
                      "zerolinecolor": "white",
                      "zerolinewidth": 2
                    }
                  }
                },
                "title": {
                  "text": "Perbandingan Penyewaan Sepeda: Working Day vs Non-Working Day"
                },
                "xaxis": {
                  "anchor": "y",
                  "domain": [
                    0,
                    1
                  ],
                  "title": {
                    "text": "Working Day (0 = Tidak, 1 = Ya)"
                  }
                },
                "yaxis": {
                  "anchor": "x",
                  "domain": [
                    0,
                    1
                  ],
                  "title": {
                    "text": "Jumlah Penyewaan"
                  }
                }
              }
            }
          },
          "metadata": {},
          "output_type": "display_data"
        },
        {
          "data": {
            "application/vnd.plotly.v1+json": {
              "config": {
                "plotlyServerURL": "https://plot.ly"
              },
              "data": [
                {
                  "alignmentgroup": "True",
                  "hovertemplate": "Holiday (0 = Tidak, 1 = Ya)=%{x}<br>Jumlah Penyewaan=%{y}<extra></extra>",
                  "legendgroup": "",
                  "marker": {
                    "color": "#636efa"
                  },
                  "name": "",
                  "notched": false,
                  "offsetgroup": "",
                  "orientation": "v",
                  "showlegend": false,
                  "type": "box",
                  "x": [
                    0,
                    0,
                    0,
                    0,
                    0,
                    0,
                    0,
                    0,
                    0,
                    0,
                    0,
                    0,
                    0,
                    0,
                    0,
                    0,
                    1,
                    0,
                    0,
                    0,
                    0,
                    0,
                    0,
                    0,
                    0,
                    0,
                    0,
                    0,
                    0,
                    0,
                    0,
                    0,
                    0,
                    0,
                    0,
                    0,
                    0,
                    0,
                    0,
                    0,
                    0,
                    0,
                    0,
                    0,
                    0,
                    0,
                    0,
                    0,
                    0,
                    0,
                    0,
                    1,
                    0,
                    0,
                    0,
                    0,
                    0,
                    0,
                    0,
                    0,
                    0,
                    0,
                    0,
                    0,
                    0,
                    0,
                    0,
                    0,
                    0,
                    0,
                    0,
                    0,
                    0,
                    0,
                    0,
                    0,
                    0,
                    0,
                    0,
                    0,
                    0,
                    0,
                    0,
                    0,
                    0,
                    0,
                    0,
                    0,
                    0,
                    0,
                    0,
                    0,
                    0,
                    0,
                    0,
                    0,
                    0,
                    0,
                    0,
                    0,
                    0,
                    0,
                    0,
                    0,
                    1,
                    0,
                    0,
                    0,
                    0,
                    0,
                    0,
                    0,
                    0,
                    0,
                    0,
                    0,
                    0,
                    0,
                    0,
                    0,
                    0,
                    0,
                    0,
                    0,
                    0,
                    0,
                    0,
                    0,
                    0,
                    0,
                    0,
                    0,
                    0,
                    0,
                    0,
                    0,
                    0,
                    0,
                    0,
                    0,
                    0,
                    0,
                    0,
                    0,
                    0,
                    0,
                    0,
                    0,
                    0,
                    1,
                    0,
                    0,
                    0,
                    0,
                    0,
                    0,
                    0,
                    0,
                    0,
                    0,
                    0,
                    0,
                    0,
                    0,
                    0,
                    0,
                    0,
                    0,
                    0,
                    0,
                    0,
                    0,
                    0,
                    0,
                    0,
                    0,
                    0,
                    0,
                    0,
                    0,
                    0,
                    0,
                    0,
                    0,
                    1,
                    0,
                    0,
                    0,
                    0,
                    0,
                    0,
                    0,
                    0,
                    0,
                    0,
                    0,
                    0,
                    0,
                    0,
                    0,
                    0,
                    0,
                    0,
                    0,
                    0,
                    0,
                    0,
                    0,
                    0,
                    0,
                    0,
                    0,
                    0,
                    0,
                    0,
                    0,
                    0,
                    0,
                    0,
                    0,
                    0,
                    0,
                    0,
                    0,
                    0,
                    0,
                    0,
                    0,
                    0,
                    0,
                    0,
                    0,
                    0,
                    0,
                    0,
                    0,
                    0,
                    0,
                    0,
                    0,
                    0,
                    0,
                    0,
                    0,
                    0,
                    0,
                    0,
                    1,
                    0,
                    0,
                    0,
                    0,
                    0,
                    0,
                    0,
                    0,
                    0,
                    0,
                    0,
                    0,
                    0,
                    0,
                    0,
                    0,
                    0,
                    0,
                    0,
                    0,
                    0,
                    0,
                    0,
                    0,
                    0,
                    0,
                    0,
                    0,
                    0,
                    0,
                    0,
                    0,
                    0,
                    0,
                    1,
                    0,
                    0,
                    0,
                    0,
                    0,
                    0,
                    0,
                    0,
                    0,
                    0,
                    0,
                    0,
                    0,
                    0,
                    0,
                    0,
                    0,
                    0,
                    0,
                    0,
                    0,
                    0,
                    0,
                    0,
                    0,
                    0,
                    0,
                    0,
                    0,
                    0,
                    0,
                    1,
                    0,
                    0,
                    0,
                    0,
                    0,
                    0,
                    0,
                    0,
                    0,
                    0,
                    0,
                    0,
                    1,
                    0,
                    0,
                    0,
                    0,
                    0,
                    0,
                    0,
                    0,
                    0,
                    0,
                    0,
                    0,
                    0,
                    0,
                    0,
                    0,
                    0,
                    0,
                    0,
                    0,
                    0,
                    0,
                    0,
                    0,
                    0,
                    0,
                    0,
                    0,
                    0,
                    0,
                    0,
                    1,
                    0,
                    0,
                    0,
                    0,
                    0,
                    0,
                    1,
                    0,
                    0,
                    0,
                    0,
                    0,
                    0,
                    0,
                    0,
                    0,
                    0,
                    0,
                    0,
                    0,
                    1,
                    0,
                    0,
                    0,
                    0,
                    0,
                    0,
                    0,
                    0,
                    0,
                    0,
                    0,
                    0,
                    0,
                    0,
                    0,
                    0,
                    0,
                    0,
                    0,
                    0,
                    0,
                    0,
                    0,
                    0,
                    0,
                    0,
                    0,
                    0,
                    0,
                    0,
                    0,
                    0,
                    0,
                    0,
                    1,
                    0,
                    0,
                    0,
                    0,
                    0,
                    0,
                    0,
                    0,
                    0,
                    0,
                    0,
                    0,
                    0,
                    0,
                    0,
                    0,
                    0,
                    0,
                    0,
                    0,
                    0,
                    0,
                    0,
                    0,
                    0,
                    0,
                    0,
                    0,
                    0,
                    0,
                    0,
                    0,
                    0,
                    0,
                    0,
                    0,
                    0,
                    0,
                    0,
                    0,
                    0,
                    0,
                    0,
                    0,
                    0,
                    0,
                    0,
                    0,
                    0,
                    0,
                    0,
                    0,
                    0,
                    0,
                    0,
                    1,
                    0,
                    0,
                    0,
                    0,
                    0,
                    0,
                    0,
                    0,
                    0,
                    0,
                    0,
                    0,
                    0,
                    0,
                    0,
                    0,
                    0,
                    0,
                    0,
                    0,
                    0,
                    0,
                    0,
                    0,
                    0,
                    0,
                    0,
                    0,
                    0,
                    0,
                    0,
                    0,
                    0,
                    0,
                    0,
                    0,
                    0,
                    0,
                    0,
                    0,
                    0,
                    1,
                    0,
                    0,
                    0,
                    0,
                    0,
                    0,
                    0,
                    0,
                    0,
                    0,
                    0,
                    0,
                    0,
                    0,
                    0,
                    0,
                    0,
                    0,
                    0,
                    0,
                    0,
                    0,
                    0,
                    0,
                    0,
                    0,
                    0,
                    0,
                    0,
                    0,
                    0,
                    0,
                    0,
                    0,
                    0,
                    0,
                    1,
                    0,
                    0,
                    0,
                    0,
                    0,
                    0,
                    0,
                    0,
                    0,
                    0,
                    0,
                    0,
                    0,
                    0,
                    0,
                    0,
                    0,
                    0,
                    0,
                    0,
                    0,
                    0,
                    0,
                    0,
                    0,
                    0,
                    0,
                    0,
                    0,
                    0,
                    0,
                    0,
                    0,
                    0,
                    0,
                    0,
                    0,
                    0,
                    0,
                    0,
                    0,
                    0,
                    0,
                    0,
                    0,
                    0,
                    0,
                    0,
                    0,
                    0,
                    0,
                    0,
                    0,
                    0,
                    0,
                    0,
                    0,
                    0,
                    0,
                    0,
                    1,
                    0,
                    0,
                    0,
                    0,
                    0,
                    0,
                    0,
                    0,
                    0,
                    0,
                    0,
                    0,
                    0,
                    0,
                    0,
                    0,
                    0,
                    0,
                    0,
                    0,
                    0,
                    0,
                    0,
                    0,
                    0,
                    0,
                    0,
                    0,
                    0,
                    0,
                    0,
                    0,
                    0,
                    0,
                    1,
                    0,
                    0,
                    0,
                    0,
                    0,
                    0,
                    0,
                    0,
                    0,
                    0,
                    0,
                    0,
                    0,
                    0,
                    0,
                    0,
                    0,
                    0,
                    0,
                    0,
                    0,
                    0,
                    0,
                    0,
                    0,
                    0,
                    0,
                    0,
                    0,
                    0,
                    0,
                    0,
                    0,
                    0,
                    1,
                    0,
                    0,
                    0,
                    0,
                    0,
                    0,
                    0,
                    0,
                    0,
                    1,
                    0,
                    0,
                    0,
                    0,
                    0,
                    0,
                    0,
                    0,
                    0,
                    0,
                    0,
                    0,
                    0,
                    0,
                    0,
                    0,
                    0,
                    0,
                    0,
                    0,
                    0,
                    0,
                    0,
                    0,
                    0,
                    0,
                    0,
                    0,
                    0,
                    0,
                    0,
                    0,
                    1,
                    0,
                    0,
                    0,
                    0,
                    0,
                    0
                  ],
                  "x0": " ",
                  "xaxis": "x",
                  "y": [
                    985,
                    801,
                    1349,
                    1562,
                    1600,
                    1606,
                    1510,
                    959,
                    822,
                    1321,
                    1263,
                    1162,
                    1406,
                    1421,
                    1248,
                    1204,
                    1000,
                    683,
                    1650,
                    1927,
                    1543,
                    981,
                    986,
                    1416,
                    1985,
                    506,
                    431,
                    1167,
                    1098,
                    1096,
                    1501,
                    1360,
                    1526,
                    1550,
                    1708,
                    1005,
                    1623,
                    1712,
                    1530,
                    1605,
                    1538,
                    1746,
                    1472,
                    1589,
                    1913,
                    1815,
                    2115,
                    2475,
                    2927,
                    1635,
                    1812,
                    1107,
                    1450,
                    1917,
                    1807,
                    1461,
                    1969,
                    2402,
                    1446,
                    1851,
                    2134,
                    1685,
                    1944,
                    2077,
                    605,
                    1872,
                    2133,
                    1891,
                    623,
                    1977,
                    2132,
                    2417,
                    2046,
                    2056,
                    2192,
                    2744,
                    3239,
                    3117,
                    2471,
                    2077,
                    2703,
                    2121,
                    1865,
                    2210,
                    2496,
                    1693,
                    2028,
                    2425,
                    1536,
                    1685,
                    2227,
                    2252,
                    3249,
                    3115,
                    1795,
                    2808,
                    3141,
                    1471,
                    2455,
                    2895,
                    3348,
                    2034,
                    2162,
                    3267,
                    3126,
                    795,
                    3744,
                    3429,
                    3204,
                    3944,
                    4189,
                    1683,
                    4036,
                    4191,
                    4073,
                    4400,
                    3872,
                    4058,
                    4595,
                    5312,
                    3351,
                    4401,
                    4451,
                    2633,
                    4433,
                    4608,
                    4714,
                    4333,
                    4362,
                    4803,
                    4182,
                    4864,
                    4105,
                    3409,
                    4553,
                    3958,
                    4123,
                    3855,
                    4575,
                    4917,
                    5805,
                    4660,
                    4274,
                    4492,
                    4978,
                    4677,
                    4679,
                    4758,
                    4788,
                    4098,
                    3982,
                    3974,
                    4968,
                    5312,
                    5342,
                    4906,
                    4548,
                    4833,
                    4401,
                    3915,
                    4586,
                    4966,
                    4460,
                    5020,
                    4891,
                    5180,
                    3767,
                    4844,
                    5119,
                    4744,
                    4010,
                    4835,
                    4507,
                    4790,
                    4991,
                    5202,
                    5305,
                    4708,
                    4648,
                    5225,
                    5515,
                    5362,
                    5119,
                    4649,
                    6043,
                    4665,
                    4629,
                    4592,
                    4040,
                    5336,
                    4881,
                    4086,
                    4258,
                    4342,
                    5084,
                    5538,
                    5923,
                    5302,
                    4458,
                    4541,
                    4332,
                    3784,
                    3387,
                    3285,
                    3606,
                    3840,
                    4590,
                    4656,
                    4390,
                    3846,
                    4475,
                    4302,
                    4266,
                    4845,
                    3574,
                    4576,
                    4866,
                    4294,
                    3785,
                    4326,
                    4602,
                    4780,
                    4792,
                    4905,
                    4150,
                    3820,
                    4338,
                    4725,
                    4694,
                    3805,
                    4153,
                    5191,
                    3873,
                    4758,
                    5895,
                    5130,
                    3542,
                    4661,
                    1115,
                    4334,
                    4634,
                    5204,
                    5058,
                    5115,
                    4727,
                    4484,
                    4940,
                    3351,
                    2710,
                    1996,
                    1842,
                    3544,
                    5345,
                    5046,
                    4713,
                    4763,
                    4785,
                    3659,
                    4760,
                    4511,
                    4274,
                    4539,
                    3641,
                    4352,
                    4795,
                    2395,
                    5423,
                    5010,
                    4630,
                    4120,
                    3907,
                    4839,
                    5202,
                    2429,
                    2918,
                    3570,
                    4456,
                    4826,
                    4765,
                    4985,
                    5409,
                    5511,
                    5117,
                    4563,
                    2416,
                    2913,
                    3644,
                    5217,
                    5041,
                    4570,
                    4748,
                    2424,
                    4195,
                    4304,
                    4308,
                    4381,
                    4187,
                    4687,
                    3894,
                    2659,
                    3747,
                    627,
                    3331,
                    3669,
                    4068,
                    4186,
                    3974,
                    4046,
                    3926,
                    3649,
                    4035,
                    4205,
                    4109,
                    2933,
                    3368,
                    4067,
                    3717,
                    4486,
                    4195,
                    1817,
                    3053,
                    3392,
                    3663,
                    3520,
                    2765,
                    1607,
                    2566,
                    1495,
                    2792,
                    3068,
                    3071,
                    3867,
                    2914,
                    3613,
                    3727,
                    3940,
                    3614,
                    3485,
                    3811,
                    2594,
                    705,
                    3322,
                    3620,
                    3190,
                    2743,
                    3310,
                    3523,
                    3740,
                    3709,
                    3577,
                    2739,
                    2431,
                    3403,
                    3750,
                    2660,
                    3068,
                    2209,
                    1011,
                    754,
                    1317,
                    1162,
                    2302,
                    2423,
                    2999,
                    2485,
                    2294,
                    1951,
                    2236,
                    2368,
                    3272,
                    4098,
                    4521,
                    3425,
                    2376,
                    3598,
                    2177,
                    4097,
                    3214,
                    2493,
                    2311,
                    2298,
                    2935,
                    3376,
                    3292,
                    3163,
                    1301,
                    1977,
                    2432,
                    4339,
                    4270,
                    4075,
                    3456,
                    4023,
                    3243,
                    3624,
                    4509,
                    4579,
                    3761,
                    4151,
                    2832,
                    2947,
                    3784,
                    4375,
                    2802,
                    3830,
                    3831,
                    2169,
                    1529,
                    3422,
                    3922,
                    4169,
                    3005,
                    4154,
                    4318,
                    2689,
                    3129,
                    3777,
                    4773,
                    5062,
                    3487,
                    2732,
                    3389,
                    4322,
                    4363,
                    1834,
                    4990,
                    3194,
                    4066,
                    3423,
                    3333,
                    3956,
                    4916,
                    5382,
                    4569,
                    4118,
                    4911,
                    5298,
                    5847,
                    6312,
                    6192,
                    4378,
                    7836,
                    5892,
                    6153,
                    6093,
                    6230,
                    6871,
                    8362,
                    3372,
                    4996,
                    5558,
                    5102,
                    5698,
                    6133,
                    5459,
                    6235,
                    6041,
                    5936,
                    6772,
                    6436,
                    6457,
                    6460,
                    6857,
                    5169,
                    5585,
                    5918,
                    4862,
                    5409,
                    6398,
                    7460,
                    7132,
                    6370,
                    6691,
                    4367,
                    6565,
                    7290,
                    6624,
                    1027,
                    3214,
                    5633,
                    6196,
                    5026,
                    6233,
                    4220,
                    6304,
                    5572,
                    5740,
                    6169,
                    6421,
                    6296,
                    6883,
                    6359,
                    6273,
                    5728,
                    4717,
                    6572,
                    7030,
                    7429,
                    6118,
                    2843,
                    5115,
                    7424,
                    7384,
                    7639,
                    8294,
                    7129,
                    4359,
                    6073,
                    5260,
                    6770,
                    6734,
                    6536,
                    6591,
                    6043,
                    5743,
                    6855,
                    7338,
                    4127,
                    8120,
                    7641,
                    6998,
                    7001,
                    7055,
                    7494,
                    7736,
                    7498,
                    6598,
                    6664,
                    4972,
                    7421,
                    7363,
                    7665,
                    7702,
                    6978,
                    5099,
                    6825,
                    6211,
                    5905,
                    5823,
                    7458,
                    6891,
                    6779,
                    7442,
                    7335,
                    6879,
                    5463,
                    5687,
                    5531,
                    6227,
                    6660,
                    7403,
                    6241,
                    6207,
                    4840,
                    4672,
                    6569,
                    6290,
                    7264,
                    7446,
                    7499,
                    6969,
                    6031,
                    6830,
                    6786,
                    5713,
                    6591,
                    5870,
                    4459,
                    7410,
                    6966,
                    7592,
                    8173,
                    6861,
                    6904,
                    6685,
                    6597,
                    7105,
                    7216,
                    7580,
                    7261,
                    7175,
                    6824,
                    5464,
                    7013,
                    7273,
                    7534,
                    7286,
                    5786,
                    6299,
                    6544,
                    6883,
                    6784,
                    7347,
                    7605,
                    7148,
                    7865,
                    4549,
                    6530,
                    7006,
                    7375,
                    7765,
                    7582,
                    6053,
                    5255,
                    6917,
                    7040,
                    7697,
                    7713,
                    7350,
                    6140,
                    5810,
                    6034,
                    6864,
                    7112,
                    6203,
                    7504,
                    5976,
                    8227,
                    7525,
                    7767,
                    7870,
                    7804,
                    8009,
                    8714,
                    7333,
                    6869,
                    4073,
                    7591,
                    7720,
                    8167,
                    8395,
                    7907,
                    7436,
                    7538,
                    7733,
                    7393,
                    7415,
                    8555,
                    6889,
                    6778,
                    4639,
                    7572,
                    7328,
                    8156,
                    7965,
                    3510,
                    5478,
                    6392,
                    7691,
                    7570,
                    7282,
                    7109,
                    6639,
                    5875,
                    7534,
                    7461,
                    7509,
                    5424,
                    8090,
                    6824,
                    7058,
                    7466,
                    7693,
                    7359,
                    7444,
                    7852,
                    4459,
                    22,
                    1096,
                    5566,
                    5986,
                    5847,
                    5138,
                    5107,
                    5259,
                    5686,
                    5035,
                    5315,
                    5992,
                    6536,
                    6852,
                    6269,
                    4094,
                    5495,
                    5445,
                    5698,
                    5629,
                    4669,
                    5499,
                    5634,
                    5146,
                    2425,
                    3910,
                    2277,
                    2424,
                    5087,
                    3959,
                    5260,
                    5323,
                    5668,
                    5191,
                    4649,
                    6234,
                    6606,
                    5729,
                    5375,
                    5008,
                    5582,
                    3228,
                    5170,
                    5501,
                    5319,
                    5532,
                    5611,
                    5047,
                    3786,
                    4585,
                    5557,
                    5267,
                    4128,
                    3623,
                    1749,
                    1787,
                    920,
                    1013,
                    441,
                    2114,
                    3095,
                    1341,
                    1796,
                    2729
                  ],
                  "y0": " ",
                  "yaxis": "y"
                }
              ],
              "layout": {
                "boxmode": "group",
                "legend": {
                  "tracegroupgap": 0
                },
                "template": {
                  "data": {
                    "bar": [
                      {
                        "error_x": {
                          "color": "#2a3f5f"
                        },
                        "error_y": {
                          "color": "#2a3f5f"
                        },
                        "marker": {
                          "line": {
                            "color": "#E5ECF6",
                            "width": 0.5
                          },
                          "pattern": {
                            "fillmode": "overlay",
                            "size": 10,
                            "solidity": 0.2
                          }
                        },
                        "type": "bar"
                      }
                    ],
                    "barpolar": [
                      {
                        "marker": {
                          "line": {
                            "color": "#E5ECF6",
                            "width": 0.5
                          },
                          "pattern": {
                            "fillmode": "overlay",
                            "size": 10,
                            "solidity": 0.2
                          }
                        },
                        "type": "barpolar"
                      }
                    ],
                    "carpet": [
                      {
                        "aaxis": {
                          "endlinecolor": "#2a3f5f",
                          "gridcolor": "white",
                          "linecolor": "white",
                          "minorgridcolor": "white",
                          "startlinecolor": "#2a3f5f"
                        },
                        "baxis": {
                          "endlinecolor": "#2a3f5f",
                          "gridcolor": "white",
                          "linecolor": "white",
                          "minorgridcolor": "white",
                          "startlinecolor": "#2a3f5f"
                        },
                        "type": "carpet"
                      }
                    ],
                    "choropleth": [
                      {
                        "colorbar": {
                          "outlinewidth": 0,
                          "ticks": ""
                        },
                        "type": "choropleth"
                      }
                    ],
                    "contour": [
                      {
                        "colorbar": {
                          "outlinewidth": 0,
                          "ticks": ""
                        },
                        "colorscale": [
                          [
                            0,
                            "#0d0887"
                          ],
                          [
                            0.1111111111111111,
                            "#46039f"
                          ],
                          [
                            0.2222222222222222,
                            "#7201a8"
                          ],
                          [
                            0.3333333333333333,
                            "#9c179e"
                          ],
                          [
                            0.4444444444444444,
                            "#bd3786"
                          ],
                          [
                            0.5555555555555556,
                            "#d8576b"
                          ],
                          [
                            0.6666666666666666,
                            "#ed7953"
                          ],
                          [
                            0.7777777777777778,
                            "#fb9f3a"
                          ],
                          [
                            0.8888888888888888,
                            "#fdca26"
                          ],
                          [
                            1,
                            "#f0f921"
                          ]
                        ],
                        "type": "contour"
                      }
                    ],
                    "contourcarpet": [
                      {
                        "colorbar": {
                          "outlinewidth": 0,
                          "ticks": ""
                        },
                        "type": "contourcarpet"
                      }
                    ],
                    "heatmap": [
                      {
                        "colorbar": {
                          "outlinewidth": 0,
                          "ticks": ""
                        },
                        "colorscale": [
                          [
                            0,
                            "#0d0887"
                          ],
                          [
                            0.1111111111111111,
                            "#46039f"
                          ],
                          [
                            0.2222222222222222,
                            "#7201a8"
                          ],
                          [
                            0.3333333333333333,
                            "#9c179e"
                          ],
                          [
                            0.4444444444444444,
                            "#bd3786"
                          ],
                          [
                            0.5555555555555556,
                            "#d8576b"
                          ],
                          [
                            0.6666666666666666,
                            "#ed7953"
                          ],
                          [
                            0.7777777777777778,
                            "#fb9f3a"
                          ],
                          [
                            0.8888888888888888,
                            "#fdca26"
                          ],
                          [
                            1,
                            "#f0f921"
                          ]
                        ],
                        "type": "heatmap"
                      }
                    ],
                    "heatmapgl": [
                      {
                        "colorbar": {
                          "outlinewidth": 0,
                          "ticks": ""
                        },
                        "colorscale": [
                          [
                            0,
                            "#0d0887"
                          ],
                          [
                            0.1111111111111111,
                            "#46039f"
                          ],
                          [
                            0.2222222222222222,
                            "#7201a8"
                          ],
                          [
                            0.3333333333333333,
                            "#9c179e"
                          ],
                          [
                            0.4444444444444444,
                            "#bd3786"
                          ],
                          [
                            0.5555555555555556,
                            "#d8576b"
                          ],
                          [
                            0.6666666666666666,
                            "#ed7953"
                          ],
                          [
                            0.7777777777777778,
                            "#fb9f3a"
                          ],
                          [
                            0.8888888888888888,
                            "#fdca26"
                          ],
                          [
                            1,
                            "#f0f921"
                          ]
                        ],
                        "type": "heatmapgl"
                      }
                    ],
                    "histogram": [
                      {
                        "marker": {
                          "pattern": {
                            "fillmode": "overlay",
                            "size": 10,
                            "solidity": 0.2
                          }
                        },
                        "type": "histogram"
                      }
                    ],
                    "histogram2d": [
                      {
                        "colorbar": {
                          "outlinewidth": 0,
                          "ticks": ""
                        },
                        "colorscale": [
                          [
                            0,
                            "#0d0887"
                          ],
                          [
                            0.1111111111111111,
                            "#46039f"
                          ],
                          [
                            0.2222222222222222,
                            "#7201a8"
                          ],
                          [
                            0.3333333333333333,
                            "#9c179e"
                          ],
                          [
                            0.4444444444444444,
                            "#bd3786"
                          ],
                          [
                            0.5555555555555556,
                            "#d8576b"
                          ],
                          [
                            0.6666666666666666,
                            "#ed7953"
                          ],
                          [
                            0.7777777777777778,
                            "#fb9f3a"
                          ],
                          [
                            0.8888888888888888,
                            "#fdca26"
                          ],
                          [
                            1,
                            "#f0f921"
                          ]
                        ],
                        "type": "histogram2d"
                      }
                    ],
                    "histogram2dcontour": [
                      {
                        "colorbar": {
                          "outlinewidth": 0,
                          "ticks": ""
                        },
                        "colorscale": [
                          [
                            0,
                            "#0d0887"
                          ],
                          [
                            0.1111111111111111,
                            "#46039f"
                          ],
                          [
                            0.2222222222222222,
                            "#7201a8"
                          ],
                          [
                            0.3333333333333333,
                            "#9c179e"
                          ],
                          [
                            0.4444444444444444,
                            "#bd3786"
                          ],
                          [
                            0.5555555555555556,
                            "#d8576b"
                          ],
                          [
                            0.6666666666666666,
                            "#ed7953"
                          ],
                          [
                            0.7777777777777778,
                            "#fb9f3a"
                          ],
                          [
                            0.8888888888888888,
                            "#fdca26"
                          ],
                          [
                            1,
                            "#f0f921"
                          ]
                        ],
                        "type": "histogram2dcontour"
                      }
                    ],
                    "mesh3d": [
                      {
                        "colorbar": {
                          "outlinewidth": 0,
                          "ticks": ""
                        },
                        "type": "mesh3d"
                      }
                    ],
                    "parcoords": [
                      {
                        "line": {
                          "colorbar": {
                            "outlinewidth": 0,
                            "ticks": ""
                          }
                        },
                        "type": "parcoords"
                      }
                    ],
                    "pie": [
                      {
                        "automargin": true,
                        "type": "pie"
                      }
                    ],
                    "scatter": [
                      {
                        "fillpattern": {
                          "fillmode": "overlay",
                          "size": 10,
                          "solidity": 0.2
                        },
                        "type": "scatter"
                      }
                    ],
                    "scatter3d": [
                      {
                        "line": {
                          "colorbar": {
                            "outlinewidth": 0,
                            "ticks": ""
                          }
                        },
                        "marker": {
                          "colorbar": {
                            "outlinewidth": 0,
                            "ticks": ""
                          }
                        },
                        "type": "scatter3d"
                      }
                    ],
                    "scattercarpet": [
                      {
                        "marker": {
                          "colorbar": {
                            "outlinewidth": 0,
                            "ticks": ""
                          }
                        },
                        "type": "scattercarpet"
                      }
                    ],
                    "scattergeo": [
                      {
                        "marker": {
                          "colorbar": {
                            "outlinewidth": 0,
                            "ticks": ""
                          }
                        },
                        "type": "scattergeo"
                      }
                    ],
                    "scattergl": [
                      {
                        "marker": {
                          "colorbar": {
                            "outlinewidth": 0,
                            "ticks": ""
                          }
                        },
                        "type": "scattergl"
                      }
                    ],
                    "scattermapbox": [
                      {
                        "marker": {
                          "colorbar": {
                            "outlinewidth": 0,
                            "ticks": ""
                          }
                        },
                        "type": "scattermapbox"
                      }
                    ],
                    "scatterpolar": [
                      {
                        "marker": {
                          "colorbar": {
                            "outlinewidth": 0,
                            "ticks": ""
                          }
                        },
                        "type": "scatterpolar"
                      }
                    ],
                    "scatterpolargl": [
                      {
                        "marker": {
                          "colorbar": {
                            "outlinewidth": 0,
                            "ticks": ""
                          }
                        },
                        "type": "scatterpolargl"
                      }
                    ],
                    "scatterternary": [
                      {
                        "marker": {
                          "colorbar": {
                            "outlinewidth": 0,
                            "ticks": ""
                          }
                        },
                        "type": "scatterternary"
                      }
                    ],
                    "surface": [
                      {
                        "colorbar": {
                          "outlinewidth": 0,
                          "ticks": ""
                        },
                        "colorscale": [
                          [
                            0,
                            "#0d0887"
                          ],
                          [
                            0.1111111111111111,
                            "#46039f"
                          ],
                          [
                            0.2222222222222222,
                            "#7201a8"
                          ],
                          [
                            0.3333333333333333,
                            "#9c179e"
                          ],
                          [
                            0.4444444444444444,
                            "#bd3786"
                          ],
                          [
                            0.5555555555555556,
                            "#d8576b"
                          ],
                          [
                            0.6666666666666666,
                            "#ed7953"
                          ],
                          [
                            0.7777777777777778,
                            "#fb9f3a"
                          ],
                          [
                            0.8888888888888888,
                            "#fdca26"
                          ],
                          [
                            1,
                            "#f0f921"
                          ]
                        ],
                        "type": "surface"
                      }
                    ],
                    "table": [
                      {
                        "cells": {
                          "fill": {
                            "color": "#EBF0F8"
                          },
                          "line": {
                            "color": "white"
                          }
                        },
                        "header": {
                          "fill": {
                            "color": "#C8D4E3"
                          },
                          "line": {
                            "color": "white"
                          }
                        },
                        "type": "table"
                      }
                    ]
                  },
                  "layout": {
                    "annotationdefaults": {
                      "arrowcolor": "#2a3f5f",
                      "arrowhead": 0,
                      "arrowwidth": 1
                    },
                    "autotypenumbers": "strict",
                    "coloraxis": {
                      "colorbar": {
                        "outlinewidth": 0,
                        "ticks": ""
                      }
                    },
                    "colorscale": {
                      "diverging": [
                        [
                          0,
                          "#8e0152"
                        ],
                        [
                          0.1,
                          "#c51b7d"
                        ],
                        [
                          0.2,
                          "#de77ae"
                        ],
                        [
                          0.3,
                          "#f1b6da"
                        ],
                        [
                          0.4,
                          "#fde0ef"
                        ],
                        [
                          0.5,
                          "#f7f7f7"
                        ],
                        [
                          0.6,
                          "#e6f5d0"
                        ],
                        [
                          0.7,
                          "#b8e186"
                        ],
                        [
                          0.8,
                          "#7fbc41"
                        ],
                        [
                          0.9,
                          "#4d9221"
                        ],
                        [
                          1,
                          "#276419"
                        ]
                      ],
                      "sequential": [
                        [
                          0,
                          "#0d0887"
                        ],
                        [
                          0.1111111111111111,
                          "#46039f"
                        ],
                        [
                          0.2222222222222222,
                          "#7201a8"
                        ],
                        [
                          0.3333333333333333,
                          "#9c179e"
                        ],
                        [
                          0.4444444444444444,
                          "#bd3786"
                        ],
                        [
                          0.5555555555555556,
                          "#d8576b"
                        ],
                        [
                          0.6666666666666666,
                          "#ed7953"
                        ],
                        [
                          0.7777777777777778,
                          "#fb9f3a"
                        ],
                        [
                          0.8888888888888888,
                          "#fdca26"
                        ],
                        [
                          1,
                          "#f0f921"
                        ]
                      ],
                      "sequentialminus": [
                        [
                          0,
                          "#0d0887"
                        ],
                        [
                          0.1111111111111111,
                          "#46039f"
                        ],
                        [
                          0.2222222222222222,
                          "#7201a8"
                        ],
                        [
                          0.3333333333333333,
                          "#9c179e"
                        ],
                        [
                          0.4444444444444444,
                          "#bd3786"
                        ],
                        [
                          0.5555555555555556,
                          "#d8576b"
                        ],
                        [
                          0.6666666666666666,
                          "#ed7953"
                        ],
                        [
                          0.7777777777777778,
                          "#fb9f3a"
                        ],
                        [
                          0.8888888888888888,
                          "#fdca26"
                        ],
                        [
                          1,
                          "#f0f921"
                        ]
                      ]
                    },
                    "colorway": [
                      "#636efa",
                      "#EF553B",
                      "#00cc96",
                      "#ab63fa",
                      "#FFA15A",
                      "#19d3f3",
                      "#FF6692",
                      "#B6E880",
                      "#FF97FF",
                      "#FECB52"
                    ],
                    "font": {
                      "color": "#2a3f5f"
                    },
                    "geo": {
                      "bgcolor": "white",
                      "lakecolor": "white",
                      "landcolor": "#E5ECF6",
                      "showlakes": true,
                      "showland": true,
                      "subunitcolor": "white"
                    },
                    "hoverlabel": {
                      "align": "left"
                    },
                    "hovermode": "closest",
                    "mapbox": {
                      "style": "light"
                    },
                    "paper_bgcolor": "white",
                    "plot_bgcolor": "#E5ECF6",
                    "polar": {
                      "angularaxis": {
                        "gridcolor": "white",
                        "linecolor": "white",
                        "ticks": ""
                      },
                      "bgcolor": "#E5ECF6",
                      "radialaxis": {
                        "gridcolor": "white",
                        "linecolor": "white",
                        "ticks": ""
                      }
                    },
                    "scene": {
                      "xaxis": {
                        "backgroundcolor": "#E5ECF6",
                        "gridcolor": "white",
                        "gridwidth": 2,
                        "linecolor": "white",
                        "showbackground": true,
                        "ticks": "",
                        "zerolinecolor": "white"
                      },
                      "yaxis": {
                        "backgroundcolor": "#E5ECF6",
                        "gridcolor": "white",
                        "gridwidth": 2,
                        "linecolor": "white",
                        "showbackground": true,
                        "ticks": "",
                        "zerolinecolor": "white"
                      },
                      "zaxis": {
                        "backgroundcolor": "#E5ECF6",
                        "gridcolor": "white",
                        "gridwidth": 2,
                        "linecolor": "white",
                        "showbackground": true,
                        "ticks": "",
                        "zerolinecolor": "white"
                      }
                    },
                    "shapedefaults": {
                      "line": {
                        "color": "#2a3f5f"
                      }
                    },
                    "ternary": {
                      "aaxis": {
                        "gridcolor": "white",
                        "linecolor": "white",
                        "ticks": ""
                      },
                      "baxis": {
                        "gridcolor": "white",
                        "linecolor": "white",
                        "ticks": ""
                      },
                      "bgcolor": "#E5ECF6",
                      "caxis": {
                        "gridcolor": "white",
                        "linecolor": "white",
                        "ticks": ""
                      }
                    },
                    "title": {
                      "x": 0.05
                    },
                    "xaxis": {
                      "automargin": true,
                      "gridcolor": "white",
                      "linecolor": "white",
                      "ticks": "",
                      "title": {
                        "standoff": 15
                      },
                      "zerolinecolor": "white",
                      "zerolinewidth": 2
                    },
                    "yaxis": {
                      "automargin": true,
                      "gridcolor": "white",
                      "linecolor": "white",
                      "ticks": "",
                      "title": {
                        "standoff": 15
                      },
                      "zerolinecolor": "white",
                      "zerolinewidth": 2
                    }
                  }
                },
                "title": {
                  "text": "Perbandingan Penyewaan Sepeda: Holiday vs Non-Holiday"
                },
                "xaxis": {
                  "anchor": "y",
                  "domain": [
                    0,
                    1
                  ],
                  "title": {
                    "text": "Holiday (0 = Tidak, 1 = Ya)"
                  }
                },
                "yaxis": {
                  "anchor": "x",
                  "domain": [
                    0,
                    1
                  ],
                  "title": {
                    "text": "Jumlah Penyewaan"
                  }
                }
              }
            }
          },
          "metadata": {},
          "output_type": "display_data"
        }
      ],
      "source": [
        "# Penyewaan berdasarkan hari dalam seminggu\n",
        "fig = px.box(day_df, x='weekday', y='count',\n",
        "             category_orders={\"weekday\": [\"Sun\", \"Mon\", \"Tue\", \"Wed\", \"Thu\", \"Fri\", \"Sat\"]},\n",
        "             title=\"Penyewaan Sepeda Berdasarkan Hari dalam Minggu\",\n",
        "             labels={\"weekday\": \"Hari\", \"count\": \"Jumlah Penyewaan\"})\n",
        "fig.show()\n",
        "\n",
        "# hari kerja vs non-hari kerja\n",
        "fig = px.box(day_df, x='workingday', y='count',\n",
        "             title=\"Perbandingan Penyewaan Sepeda: Working Day vs Non-Working Day\",\n",
        "             labels={\"workingday\": \"Working Day (0 = Tidak, 1 = Ya)\", \"count\": \"Jumlah Penyewaan\"})\n",
        "fig.show()\n",
        "\n",
        "# hari libur vs non-libur\n",
        "fig = px.box(day_df, x='holiday', y='count',\n",
        "             title=\"Perbandingan Penyewaan Sepeda: Holiday vs Non-Holiday\",\n",
        "             labels={\"holiday\": \"Holiday (0 = Tidak, 1 = Ya)\", \"count\": \"Jumlah Penyewaan\"})\n",
        "fig.show()"
      ]
    },
    {
      "cell_type": "markdown",
      "metadata": {},
      "source": [
        "Pada gambar diatas menunjukkan perbedaan yang signifikan antara hari kerja dan akhir pekan. Pada hari kerja, pengguna terdaftar (Registered) cenderung lebih aktif. Sebaliknya, pada hari libur atau akhir pekan, terjadi peningkatan penyewaan oleh pengguna kasual (Casual), yang menunjukkan preferensi untuk penggunaan rekreasi atau santai. "
      ]
    },
    {
      "cell_type": "markdown",
      "metadata": {},
      "source": [
        "### **Pertanyaan 5: Apakah kondisi cuaca yang lebih hangat dan kering cenderung meningkatkan jumlah penyewaan?**"
      ]
    },
    {
      "cell_type": "code",
      "execution_count": 28,
      "metadata": {},
      "outputs": [
        {
          "data": {
            "application/vnd.plotly.v1+json": {
              "config": {
                "plotlyServerURL": "https://plot.ly"
              },
              "data": [
                {
                  "hovertemplate": "Temperature=%{x}<br>Jumlah Penyewaan=%{y}<extra></extra>",
                  "legendgroup": "",
                  "marker": {
                    "color": "#636efa",
                    "symbol": "circle"
                  },
                  "mode": "markers",
                  "name": "",
                  "orientation": "v",
                  "showlegend": false,
                  "type": "scatter",
                  "x": [
                    0.344167,
                    0.363478,
                    0.196364,
                    0.2,
                    0.226957,
                    0.204348,
                    0.196522,
                    0.165,
                    0.138333,
                    0.150833,
                    0.169091,
                    0.172727,
                    0.165,
                    0.16087,
                    0.233333,
                    0.231667,
                    0.175833,
                    0.216667,
                    0.292174,
                    0.261667,
                    0.1775,
                    0.0591304,
                    0.0965217,
                    0.0973913,
                    0.223478,
                    0.2175,
                    0.195,
                    0.203478,
                    0.196522,
                    0.216522,
                    0.180833,
                    0.192174,
                    0.26,
                    0.186957,
                    0.211304,
                    0.233333,
                    0.285833,
                    0.271667,
                    0.220833,
                    0.134783,
                    0.144348,
                    0.189091,
                    0.2225,
                    0.316522,
                    0.415,
                    0.266087,
                    0.318261,
                    0.435833,
                    0.521667,
                    0.399167,
                    0.285217,
                    0.303333,
                    0.182222,
                    0.221739,
                    0.295652,
                    0.364348,
                    0.2825,
                    0.343478,
                    0.407273,
                    0.266667,
                    0.335,
                    0.198333,
                    0.261667,
                    0.384167,
                    0.376522,
                    0.261739,
                    0.2925,
                    0.295833,
                    0.389091,
                    0.316522,
                    0.329167,
                    0.384348,
                    0.325217,
                    0.317391,
                    0.365217,
                    0.415,
                    0.54,
                    0.4725,
                    0.3325,
                    0.430435,
                    0.441667,
                    0.346957,
                    0.285,
                    0.264167,
                    0.265833,
                    0.253043,
                    0.264348,
                    0.3025,
                    0.3,
                    0.268333,
                    0.3,
                    0.315,
                    0.378333,
                    0.573333,
                    0.414167,
                    0.390833,
                    0.4375,
                    0.335833,
                    0.3425,
                    0.426667,
                    0.595652,
                    0.5025,
                    0.4125,
                    0.4675,
                    0.446667,
                    0.430833,
                    0.456667,
                    0.5125,
                    0.505833,
                    0.595,
                    0.459167,
                    0.336667,
                    0.46,
                    0.581667,
                    0.606667,
                    0.631667,
                    0.62,
                    0.6175,
                    0.51,
                    0.4725,
                    0.451667,
                    0.549167,
                    0.616667,
                    0.414167,
                    0.459167,
                    0.479167,
                    0.52,
                    0.528333,
                    0.5325,
                    0.5325,
                    0.5425,
                    0.535,
                    0.5125,
                    0.520833,
                    0.5625,
                    0.5775,
                    0.561667,
                    0.55,
                    0.530833,
                    0.536667,
                    0.6025,
                    0.604167,
                    0.631667,
                    0.66,
                    0.660833,
                    0.708333,
                    0.681667,
                    0.655833,
                    0.6675,
                    0.733333,
                    0.775,
                    0.764167,
                    0.715,
                    0.62,
                    0.635,
                    0.648333,
                    0.678333,
                    0.7075,
                    0.775833,
                    0.808333,
                    0.755,
                    0.725,
                    0.6925,
                    0.635,
                    0.604167,
                    0.626667,
                    0.628333,
                    0.649167,
                    0.696667,
                    0.699167,
                    0.635,
                    0.680833,
                    0.733333,
                    0.728333,
                    0.724167,
                    0.695,
                    0.68,
                    0.6825,
                    0.744167,
                    0.728333,
                    0.696667,
                    0.7225,
                    0.738333,
                    0.716667,
                    0.726667,
                    0.746667,
                    0.72,
                    0.75,
                    0.709167,
                    0.733333,
                    0.7475,
                    0.7625,
                    0.794167,
                    0.746667,
                    0.680833,
                    0.663333,
                    0.686667,
                    0.719167,
                    0.746667,
                    0.776667,
                    0.768333,
                    0.815,
                    0.848333,
                    0.849167,
                    0.83,
                    0.743333,
                    0.771667,
                    0.775,
                    0.779167,
                    0.838333,
                    0.804167,
                    0.805833,
                    0.771667,
                    0.783333,
                    0.731667,
                    0.71,
                    0.710833,
                    0.716667,
                    0.7425,
                    0.765,
                    0.775,
                    0.766667,
                    0.7175,
                    0.708333,
                    0.685833,
                    0.676667,
                    0.665833,
                    0.700833,
                    0.723333,
                    0.711667,
                    0.685,
                    0.6975,
                    0.710833,
                    0.691667,
                    0.640833,
                    0.673333,
                    0.684167,
                    0.7,
                    0.68,
                    0.707059,
                    0.636667,
                    0.639167,
                    0.656667,
                    0.655,
                    0.643333,
                    0.669167,
                    0.709167,
                    0.673333,
                    0.54,
                    0.599167,
                    0.633913,
                    0.65,
                    0.66,
                    0.653333,
                    0.644348,
                    0.650833,
                    0.673333,
                    0.5775,
                    0.469167,
                    0.491667,
                    0.5075,
                    0.549167,
                    0.561667,
                    0.595,
                    0.628333,
                    0.609167,
                    0.606667,
                    0.634167,
                    0.649167,
                    0.636667,
                    0.635,
                    0.616667,
                    0.564167,
                    0.41,
                    0.356667,
                    0.384167,
                    0.484167,
                    0.538333,
                    0.494167,
                    0.510833,
                    0.521667,
                    0.540833,
                    0.570833,
                    0.566667,
                    0.543333,
                    0.589167,
                    0.550833,
                    0.506667,
                    0.511667,
                    0.534167,
                    0.5325,
                    0.541739,
                    0.475833,
                    0.4275,
                    0.4225,
                    0.421667,
                    0.463333,
                    0.471667,
                    0.484167,
                    0.47,
                    0.330833,
                    0.254167,
                    0.319167,
                    0.34,
                    0.400833,
                    0.3775,
                    0.408333,
                    0.403333,
                    0.326667,
                    0.348333,
                    0.395,
                    0.408333,
                    0.4,
                    0.38,
                    0.324167,
                    0.356667,
                    0.440833,
                    0.53,
                    0.53,
                    0.456667,
                    0.341667,
                    0.274167,
                    0.329167,
                    0.463333,
                    0.4475,
                    0.416667,
                    0.440833,
                    0.373333,
                    0.375,
                    0.375833,
                    0.459167,
                    0.503478,
                    0.458333,
                    0.325,
                    0.3125,
                    0.314167,
                    0.299167,
                    0.330833,
                    0.385833,
                    0.4625,
                    0.41,
                    0.265833,
                    0.290833,
                    0.275,
                    0.220833,
                    0.238333,
                    0.2825,
                    0.3175,
                    0.4225,
                    0.375,
                    0.258333,
                    0.238333,
                    0.276667,
                    0.385833,
                    0.428333,
                    0.423333,
                    0.373333,
                    0.3025,
                    0.274783,
                    0.321739,
                    0.325,
                    0.29913,
                    0.248333,
                    0.311667,
                    0.41,
                    0.37,
                    0.273043,
                    0.15,
                    0.1075,
                    0.265833,
                    0.334167,
                    0.393333,
                    0.3375,
                    0.224167,
                    0.308696,
                    0.274167,
                    0.3825,
                    0.274167,
                    0.18,
                    0.166667,
                    0.19,
                    0.373043,
                    0.303333,
                    0.19,
                    0.2175,
                    0.173333,
                    0.1625,
                    0.218333,
                    0.3425,
                    0.294167,
                    0.341667,
                    0.425,
                    0.315833,
                    0.2825,
                    0.269167,
                    0.39,
                    0.469167,
                    0.399167,
                    0.313333,
                    0.264167,
                    0.265833,
                    0.282609,
                    0.354167,
                    0.256667,
                    0.265,
                    0.280833,
                    0.224167,
                    0.1275,
                    0.2225,
                    0.319167,
                    0.348333,
                    0.316667,
                    0.343333,
                    0.346667,
                    0.28,
                    0.28,
                    0.287826,
                    0.395833,
                    0.454167,
                    0.4075,
                    0.290833,
                    0.279167,
                    0.366667,
                    0.359167,
                    0.344348,
                    0.485833,
                    0.353333,
                    0.414167,
                    0.325833,
                    0.243333,
                    0.258333,
                    0.404167,
                    0.5275,
                    0.410833,
                    0.2875,
                    0.361739,
                    0.466667,
                    0.565,
                    0.5725,
                    0.5575,
                    0.435833,
                    0.514167,
                    0.4725,
                    0.545,
                    0.560833,
                    0.531667,
                    0.554167,
                    0.601667,
                    0.5025,
                    0.4375,
                    0.445833,
                    0.323333,
                    0.484167,
                    0.494167,
                    0.37,
                    0.424167,
                    0.425833,
                    0.433913,
                    0.466667,
                    0.541667,
                    0.435,
                    0.403333,
                    0.4375,
                    0.5,
                    0.489167,
                    0.446667,
                    0.348696,
                    0.3975,
                    0.4425,
                    0.495,
                    0.606667,
                    0.664167,
                    0.608333,
                    0.463333,
                    0.498333,
                    0.526667,
                    0.57,
                    0.396667,
                    0.321667,
                    0.413333,
                    0.476667,
                    0.498333,
                    0.4575,
                    0.376667,
                    0.458333,
                    0.464167,
                    0.613333,
                    0.564167,
                    0.56,
                    0.6275,
                    0.621667,
                    0.5625,
                    0.5375,
                    0.581667,
                    0.575,
                    0.505833,
                    0.533333,
                    0.564167,
                    0.6125,
                    0.573333,
                    0.611667,
                    0.636667,
                    0.593333,
                    0.564167,
                    0.6,
                    0.620833,
                    0.598333,
                    0.615,
                    0.621667,
                    0.655,
                    0.68,
                    0.6925,
                    0.69,
                    0.7125,
                    0.7225,
                    0.656667,
                    0.68,
                    0.654167,
                    0.583333,
                    0.6025,
                    0.5975,
                    0.540833,
                    0.554167,
                    0.6025,
                    0.649167,
                    0.710833,
                    0.726667,
                    0.720833,
                    0.653333,
                    0.655833,
                    0.648333,
                    0.639167,
                    0.631667,
                    0.5925,
                    0.568333,
                    0.688333,
                    0.7825,
                    0.805833,
                    0.7775,
                    0.731667,
                    0.743333,
                    0.715833,
                    0.630833,
                    0.6975,
                    0.749167,
                    0.834167,
                    0.765,
                    0.815833,
                    0.781667,
                    0.780833,
                    0.789167,
                    0.8275,
                    0.828333,
                    0.861667,
                    0.8225,
                    0.710833,
                    0.720833,
                    0.716667,
                    0.715833,
                    0.731667,
                    0.703333,
                    0.745833,
                    0.763333,
                    0.818333,
                    0.793333,
                    0.77,
                    0.665833,
                    0.595833,
                    0.6675,
                    0.741667,
                    0.750833,
                    0.724167,
                    0.776667,
                    0.781667,
                    0.755833,
                    0.721667,
                    0.730833,
                    0.713333,
                    0.7175,
                    0.7525,
                    0.765833,
                    0.793333,
                    0.769167,
                    0.7525,
                    0.735833,
                    0.75,
                    0.755833,
                    0.715833,
                    0.6925,
                    0.700833,
                    0.720833,
                    0.726667,
                    0.706667,
                    0.719167,
                    0.723333,
                    0.678333,
                    0.635833,
                    0.635833,
                    0.649167,
                    0.6675,
                    0.695833,
                    0.7025,
                    0.661667,
                    0.653333,
                    0.703333,
                    0.728333,
                    0.685,
                    0.706667,
                    0.764167,
                    0.753333,
                    0.696667,
                    0.7075,
                    0.725833,
                    0.736667,
                    0.696667,
                    0.703333,
                    0.659167,
                    0.61,
                    0.583333,
                    0.5775,
                    0.599167,
                    0.6125,
                    0.633333,
                    0.608333,
                    0.58,
                    0.580833,
                    0.623333,
                    0.5525,
                    0.546667,
                    0.599167,
                    0.65,
                    0.529167,
                    0.514167,
                    0.55,
                    0.635,
                    0.65,
                    0.619167,
                    0.5425,
                    0.526667,
                    0.520833,
                    0.590833,
                    0.6575,
                    0.6575,
                    0.615,
                    0.554167,
                    0.415833,
                    0.383333,
                    0.446667,
                    0.514167,
                    0.435,
                    0.4375,
                    0.393333,
                    0.521667,
                    0.561667,
                    0.468333,
                    0.455833,
                    0.5225,
                    0.563333,
                    0.484167,
                    0.464167,
                    0.4875,
                    0.544167,
                    0.5875,
                    0.55,
                    0.545833,
                    0.53,
                    0.4775,
                    0.44,
                    0.318182,
                    0.3575,
                    0.365833,
                    0.355,
                    0.343333,
                    0.325833,
                    0.319167,
                    0.280833,
                    0.295833,
                    0.352174,
                    0.361667,
                    0.389167,
                    0.420833,
                    0.485,
                    0.343333,
                    0.289167,
                    0.321667,
                    0.345,
                    0.325,
                    0.3425,
                    0.380833,
                    0.374167,
                    0.353333,
                    0.34,
                    0.368333,
                    0.278333,
                    0.245833,
                    0.313333,
                    0.291667,
                    0.296667,
                    0.28087,
                    0.298333,
                    0.298333,
                    0.3475,
                    0.4525,
                    0.475833,
                    0.438333,
                    0.255833,
                    0.320833,
                    0.381667,
                    0.384167,
                    0.435833,
                    0.353333,
                    0.2975,
                    0.295833,
                    0.281667,
                    0.324167,
                    0.3625,
                    0.393333,
                    0.410833,
                    0.3325,
                    0.33,
                    0.326667,
                    0.265833,
                    0.245833,
                    0.231304,
                    0.291304,
                    0.243333,
                    0.254167,
                    0.253333,
                    0.253333,
                    0.255833,
                    0.215833
                  ],
                  "xaxis": "x",
                  "y": [
                    985,
                    801,
                    1349,
                    1562,
                    1600,
                    1606,
                    1510,
                    959,
                    822,
                    1321,
                    1263,
                    1162,
                    1406,
                    1421,
                    1248,
                    1204,
                    1000,
                    683,
                    1650,
                    1927,
                    1543,
                    981,
                    986,
                    1416,
                    1985,
                    506,
                    431,
                    1167,
                    1098,
                    1096,
                    1501,
                    1360,
                    1526,
                    1550,
                    1708,
                    1005,
                    1623,
                    1712,
                    1530,
                    1605,
                    1538,
                    1746,
                    1472,
                    1589,
                    1913,
                    1815,
                    2115,
                    2475,
                    2927,
                    1635,
                    1812,
                    1107,
                    1450,
                    1917,
                    1807,
                    1461,
                    1969,
                    2402,
                    1446,
                    1851,
                    2134,
                    1685,
                    1944,
                    2077,
                    605,
                    1872,
                    2133,
                    1891,
                    623,
                    1977,
                    2132,
                    2417,
                    2046,
                    2056,
                    2192,
                    2744,
                    3239,
                    3117,
                    2471,
                    2077,
                    2703,
                    2121,
                    1865,
                    2210,
                    2496,
                    1693,
                    2028,
                    2425,
                    1536,
                    1685,
                    2227,
                    2252,
                    3249,
                    3115,
                    1795,
                    2808,
                    3141,
                    1471,
                    2455,
                    2895,
                    3348,
                    2034,
                    2162,
                    3267,
                    3126,
                    795,
                    3744,
                    3429,
                    3204,
                    3944,
                    4189,
                    1683,
                    4036,
                    4191,
                    4073,
                    4400,
                    3872,
                    4058,
                    4595,
                    5312,
                    3351,
                    4401,
                    4451,
                    2633,
                    4433,
                    4608,
                    4714,
                    4333,
                    4362,
                    4803,
                    4182,
                    4864,
                    4105,
                    3409,
                    4553,
                    3958,
                    4123,
                    3855,
                    4575,
                    4917,
                    5805,
                    4660,
                    4274,
                    4492,
                    4978,
                    4677,
                    4679,
                    4758,
                    4788,
                    4098,
                    3982,
                    3974,
                    4968,
                    5312,
                    5342,
                    4906,
                    4548,
                    4833,
                    4401,
                    3915,
                    4586,
                    4966,
                    4460,
                    5020,
                    4891,
                    5180,
                    3767,
                    4844,
                    5119,
                    4744,
                    4010,
                    4835,
                    4507,
                    4790,
                    4991,
                    5202,
                    5305,
                    4708,
                    4648,
                    5225,
                    5515,
                    5362,
                    5119,
                    4649,
                    6043,
                    4665,
                    4629,
                    4592,
                    4040,
                    5336,
                    4881,
                    4086,
                    4258,
                    4342,
                    5084,
                    5538,
                    5923,
                    5302,
                    4458,
                    4541,
                    4332,
                    3784,
                    3387,
                    3285,
                    3606,
                    3840,
                    4590,
                    4656,
                    4390,
                    3846,
                    4475,
                    4302,
                    4266,
                    4845,
                    3574,
                    4576,
                    4866,
                    4294,
                    3785,
                    4326,
                    4602,
                    4780,
                    4792,
                    4905,
                    4150,
                    3820,
                    4338,
                    4725,
                    4694,
                    3805,
                    4153,
                    5191,
                    3873,
                    4758,
                    5895,
                    5130,
                    3542,
                    4661,
                    1115,
                    4334,
                    4634,
                    5204,
                    5058,
                    5115,
                    4727,
                    4484,
                    4940,
                    3351,
                    2710,
                    1996,
                    1842,
                    3544,
                    5345,
                    5046,
                    4713,
                    4763,
                    4785,
                    3659,
                    4760,
                    4511,
                    4274,
                    4539,
                    3641,
                    4352,
                    4795,
                    2395,
                    5423,
                    5010,
                    4630,
                    4120,
                    3907,
                    4839,
                    5202,
                    2429,
                    2918,
                    3570,
                    4456,
                    4826,
                    4765,
                    4985,
                    5409,
                    5511,
                    5117,
                    4563,
                    2416,
                    2913,
                    3644,
                    5217,
                    5041,
                    4570,
                    4748,
                    2424,
                    4195,
                    4304,
                    4308,
                    4381,
                    4187,
                    4687,
                    3894,
                    2659,
                    3747,
                    627,
                    3331,
                    3669,
                    4068,
                    4186,
                    3974,
                    4046,
                    3926,
                    3649,
                    4035,
                    4205,
                    4109,
                    2933,
                    3368,
                    4067,
                    3717,
                    4486,
                    4195,
                    1817,
                    3053,
                    3392,
                    3663,
                    3520,
                    2765,
                    1607,
                    2566,
                    1495,
                    2792,
                    3068,
                    3071,
                    3867,
                    2914,
                    3613,
                    3727,
                    3940,
                    3614,
                    3485,
                    3811,
                    2594,
                    705,
                    3322,
                    3620,
                    3190,
                    2743,
                    3310,
                    3523,
                    3740,
                    3709,
                    3577,
                    2739,
                    2431,
                    3403,
                    3750,
                    2660,
                    3068,
                    2209,
                    1011,
                    754,
                    1317,
                    1162,
                    2302,
                    2423,
                    2999,
                    2485,
                    2294,
                    1951,
                    2236,
                    2368,
                    3272,
                    4098,
                    4521,
                    3425,
                    2376,
                    3598,
                    2177,
                    4097,
                    3214,
                    2493,
                    2311,
                    2298,
                    2935,
                    3376,
                    3292,
                    3163,
                    1301,
                    1977,
                    2432,
                    4339,
                    4270,
                    4075,
                    3456,
                    4023,
                    3243,
                    3624,
                    4509,
                    4579,
                    3761,
                    4151,
                    2832,
                    2947,
                    3784,
                    4375,
                    2802,
                    3830,
                    3831,
                    2169,
                    1529,
                    3422,
                    3922,
                    4169,
                    3005,
                    4154,
                    4318,
                    2689,
                    3129,
                    3777,
                    4773,
                    5062,
                    3487,
                    2732,
                    3389,
                    4322,
                    4363,
                    1834,
                    4990,
                    3194,
                    4066,
                    3423,
                    3333,
                    3956,
                    4916,
                    5382,
                    4569,
                    4118,
                    4911,
                    5298,
                    5847,
                    6312,
                    6192,
                    4378,
                    7836,
                    5892,
                    6153,
                    6093,
                    6230,
                    6871,
                    8362,
                    3372,
                    4996,
                    5558,
                    5102,
                    5698,
                    6133,
                    5459,
                    6235,
                    6041,
                    5936,
                    6772,
                    6436,
                    6457,
                    6460,
                    6857,
                    5169,
                    5585,
                    5918,
                    4862,
                    5409,
                    6398,
                    7460,
                    7132,
                    6370,
                    6691,
                    4367,
                    6565,
                    7290,
                    6624,
                    1027,
                    3214,
                    5633,
                    6196,
                    5026,
                    6233,
                    4220,
                    6304,
                    5572,
                    5740,
                    6169,
                    6421,
                    6296,
                    6883,
                    6359,
                    6273,
                    5728,
                    4717,
                    6572,
                    7030,
                    7429,
                    6118,
                    2843,
                    5115,
                    7424,
                    7384,
                    7639,
                    8294,
                    7129,
                    4359,
                    6073,
                    5260,
                    6770,
                    6734,
                    6536,
                    6591,
                    6043,
                    5743,
                    6855,
                    7338,
                    4127,
                    8120,
                    7641,
                    6998,
                    7001,
                    7055,
                    7494,
                    7736,
                    7498,
                    6598,
                    6664,
                    4972,
                    7421,
                    7363,
                    7665,
                    7702,
                    6978,
                    5099,
                    6825,
                    6211,
                    5905,
                    5823,
                    7458,
                    6891,
                    6779,
                    7442,
                    7335,
                    6879,
                    5463,
                    5687,
                    5531,
                    6227,
                    6660,
                    7403,
                    6241,
                    6207,
                    4840,
                    4672,
                    6569,
                    6290,
                    7264,
                    7446,
                    7499,
                    6969,
                    6031,
                    6830,
                    6786,
                    5713,
                    6591,
                    5870,
                    4459,
                    7410,
                    6966,
                    7592,
                    8173,
                    6861,
                    6904,
                    6685,
                    6597,
                    7105,
                    7216,
                    7580,
                    7261,
                    7175,
                    6824,
                    5464,
                    7013,
                    7273,
                    7534,
                    7286,
                    5786,
                    6299,
                    6544,
                    6883,
                    6784,
                    7347,
                    7605,
                    7148,
                    7865,
                    4549,
                    6530,
                    7006,
                    7375,
                    7765,
                    7582,
                    6053,
                    5255,
                    6917,
                    7040,
                    7697,
                    7713,
                    7350,
                    6140,
                    5810,
                    6034,
                    6864,
                    7112,
                    6203,
                    7504,
                    5976,
                    8227,
                    7525,
                    7767,
                    7870,
                    7804,
                    8009,
                    8714,
                    7333,
                    6869,
                    4073,
                    7591,
                    7720,
                    8167,
                    8395,
                    7907,
                    7436,
                    7538,
                    7733,
                    7393,
                    7415,
                    8555,
                    6889,
                    6778,
                    4639,
                    7572,
                    7328,
                    8156,
                    7965,
                    3510,
                    5478,
                    6392,
                    7691,
                    7570,
                    7282,
                    7109,
                    6639,
                    5875,
                    7534,
                    7461,
                    7509,
                    5424,
                    8090,
                    6824,
                    7058,
                    7466,
                    7693,
                    7359,
                    7444,
                    7852,
                    4459,
                    22,
                    1096,
                    5566,
                    5986,
                    5847,
                    5138,
                    5107,
                    5259,
                    5686,
                    5035,
                    5315,
                    5992,
                    6536,
                    6852,
                    6269,
                    4094,
                    5495,
                    5445,
                    5698,
                    5629,
                    4669,
                    5499,
                    5634,
                    5146,
                    2425,
                    3910,
                    2277,
                    2424,
                    5087,
                    3959,
                    5260,
                    5323,
                    5668,
                    5191,
                    4649,
                    6234,
                    6606,
                    5729,
                    5375,
                    5008,
                    5582,
                    3228,
                    5170,
                    5501,
                    5319,
                    5532,
                    5611,
                    5047,
                    3786,
                    4585,
                    5557,
                    5267,
                    4128,
                    3623,
                    1749,
                    1787,
                    920,
                    1013,
                    441,
                    2114,
                    3095,
                    1341,
                    1796,
                    2729
                  ],
                  "yaxis": "y"
                }
              ],
              "layout": {
                "legend": {
                  "tracegroupgap": 0
                },
                "template": {
                  "data": {
                    "bar": [
                      {
                        "error_x": {
                          "color": "#2a3f5f"
                        },
                        "error_y": {
                          "color": "#2a3f5f"
                        },
                        "marker": {
                          "line": {
                            "color": "#E5ECF6",
                            "width": 0.5
                          },
                          "pattern": {
                            "fillmode": "overlay",
                            "size": 10,
                            "solidity": 0.2
                          }
                        },
                        "type": "bar"
                      }
                    ],
                    "barpolar": [
                      {
                        "marker": {
                          "line": {
                            "color": "#E5ECF6",
                            "width": 0.5
                          },
                          "pattern": {
                            "fillmode": "overlay",
                            "size": 10,
                            "solidity": 0.2
                          }
                        },
                        "type": "barpolar"
                      }
                    ],
                    "carpet": [
                      {
                        "aaxis": {
                          "endlinecolor": "#2a3f5f",
                          "gridcolor": "white",
                          "linecolor": "white",
                          "minorgridcolor": "white",
                          "startlinecolor": "#2a3f5f"
                        },
                        "baxis": {
                          "endlinecolor": "#2a3f5f",
                          "gridcolor": "white",
                          "linecolor": "white",
                          "minorgridcolor": "white",
                          "startlinecolor": "#2a3f5f"
                        },
                        "type": "carpet"
                      }
                    ],
                    "choropleth": [
                      {
                        "colorbar": {
                          "outlinewidth": 0,
                          "ticks": ""
                        },
                        "type": "choropleth"
                      }
                    ],
                    "contour": [
                      {
                        "colorbar": {
                          "outlinewidth": 0,
                          "ticks": ""
                        },
                        "colorscale": [
                          [
                            0,
                            "#0d0887"
                          ],
                          [
                            0.1111111111111111,
                            "#46039f"
                          ],
                          [
                            0.2222222222222222,
                            "#7201a8"
                          ],
                          [
                            0.3333333333333333,
                            "#9c179e"
                          ],
                          [
                            0.4444444444444444,
                            "#bd3786"
                          ],
                          [
                            0.5555555555555556,
                            "#d8576b"
                          ],
                          [
                            0.6666666666666666,
                            "#ed7953"
                          ],
                          [
                            0.7777777777777778,
                            "#fb9f3a"
                          ],
                          [
                            0.8888888888888888,
                            "#fdca26"
                          ],
                          [
                            1,
                            "#f0f921"
                          ]
                        ],
                        "type": "contour"
                      }
                    ],
                    "contourcarpet": [
                      {
                        "colorbar": {
                          "outlinewidth": 0,
                          "ticks": ""
                        },
                        "type": "contourcarpet"
                      }
                    ],
                    "heatmap": [
                      {
                        "colorbar": {
                          "outlinewidth": 0,
                          "ticks": ""
                        },
                        "colorscale": [
                          [
                            0,
                            "#0d0887"
                          ],
                          [
                            0.1111111111111111,
                            "#46039f"
                          ],
                          [
                            0.2222222222222222,
                            "#7201a8"
                          ],
                          [
                            0.3333333333333333,
                            "#9c179e"
                          ],
                          [
                            0.4444444444444444,
                            "#bd3786"
                          ],
                          [
                            0.5555555555555556,
                            "#d8576b"
                          ],
                          [
                            0.6666666666666666,
                            "#ed7953"
                          ],
                          [
                            0.7777777777777778,
                            "#fb9f3a"
                          ],
                          [
                            0.8888888888888888,
                            "#fdca26"
                          ],
                          [
                            1,
                            "#f0f921"
                          ]
                        ],
                        "type": "heatmap"
                      }
                    ],
                    "heatmapgl": [
                      {
                        "colorbar": {
                          "outlinewidth": 0,
                          "ticks": ""
                        },
                        "colorscale": [
                          [
                            0,
                            "#0d0887"
                          ],
                          [
                            0.1111111111111111,
                            "#46039f"
                          ],
                          [
                            0.2222222222222222,
                            "#7201a8"
                          ],
                          [
                            0.3333333333333333,
                            "#9c179e"
                          ],
                          [
                            0.4444444444444444,
                            "#bd3786"
                          ],
                          [
                            0.5555555555555556,
                            "#d8576b"
                          ],
                          [
                            0.6666666666666666,
                            "#ed7953"
                          ],
                          [
                            0.7777777777777778,
                            "#fb9f3a"
                          ],
                          [
                            0.8888888888888888,
                            "#fdca26"
                          ],
                          [
                            1,
                            "#f0f921"
                          ]
                        ],
                        "type": "heatmapgl"
                      }
                    ],
                    "histogram": [
                      {
                        "marker": {
                          "pattern": {
                            "fillmode": "overlay",
                            "size": 10,
                            "solidity": 0.2
                          }
                        },
                        "type": "histogram"
                      }
                    ],
                    "histogram2d": [
                      {
                        "colorbar": {
                          "outlinewidth": 0,
                          "ticks": ""
                        },
                        "colorscale": [
                          [
                            0,
                            "#0d0887"
                          ],
                          [
                            0.1111111111111111,
                            "#46039f"
                          ],
                          [
                            0.2222222222222222,
                            "#7201a8"
                          ],
                          [
                            0.3333333333333333,
                            "#9c179e"
                          ],
                          [
                            0.4444444444444444,
                            "#bd3786"
                          ],
                          [
                            0.5555555555555556,
                            "#d8576b"
                          ],
                          [
                            0.6666666666666666,
                            "#ed7953"
                          ],
                          [
                            0.7777777777777778,
                            "#fb9f3a"
                          ],
                          [
                            0.8888888888888888,
                            "#fdca26"
                          ],
                          [
                            1,
                            "#f0f921"
                          ]
                        ],
                        "type": "histogram2d"
                      }
                    ],
                    "histogram2dcontour": [
                      {
                        "colorbar": {
                          "outlinewidth": 0,
                          "ticks": ""
                        },
                        "colorscale": [
                          [
                            0,
                            "#0d0887"
                          ],
                          [
                            0.1111111111111111,
                            "#46039f"
                          ],
                          [
                            0.2222222222222222,
                            "#7201a8"
                          ],
                          [
                            0.3333333333333333,
                            "#9c179e"
                          ],
                          [
                            0.4444444444444444,
                            "#bd3786"
                          ],
                          [
                            0.5555555555555556,
                            "#d8576b"
                          ],
                          [
                            0.6666666666666666,
                            "#ed7953"
                          ],
                          [
                            0.7777777777777778,
                            "#fb9f3a"
                          ],
                          [
                            0.8888888888888888,
                            "#fdca26"
                          ],
                          [
                            1,
                            "#f0f921"
                          ]
                        ],
                        "type": "histogram2dcontour"
                      }
                    ],
                    "mesh3d": [
                      {
                        "colorbar": {
                          "outlinewidth": 0,
                          "ticks": ""
                        },
                        "type": "mesh3d"
                      }
                    ],
                    "parcoords": [
                      {
                        "line": {
                          "colorbar": {
                            "outlinewidth": 0,
                            "ticks": ""
                          }
                        },
                        "type": "parcoords"
                      }
                    ],
                    "pie": [
                      {
                        "automargin": true,
                        "type": "pie"
                      }
                    ],
                    "scatter": [
                      {
                        "fillpattern": {
                          "fillmode": "overlay",
                          "size": 10,
                          "solidity": 0.2
                        },
                        "type": "scatter"
                      }
                    ],
                    "scatter3d": [
                      {
                        "line": {
                          "colorbar": {
                            "outlinewidth": 0,
                            "ticks": ""
                          }
                        },
                        "marker": {
                          "colorbar": {
                            "outlinewidth": 0,
                            "ticks": ""
                          }
                        },
                        "type": "scatter3d"
                      }
                    ],
                    "scattercarpet": [
                      {
                        "marker": {
                          "colorbar": {
                            "outlinewidth": 0,
                            "ticks": ""
                          }
                        },
                        "type": "scattercarpet"
                      }
                    ],
                    "scattergeo": [
                      {
                        "marker": {
                          "colorbar": {
                            "outlinewidth": 0,
                            "ticks": ""
                          }
                        },
                        "type": "scattergeo"
                      }
                    ],
                    "scattergl": [
                      {
                        "marker": {
                          "colorbar": {
                            "outlinewidth": 0,
                            "ticks": ""
                          }
                        },
                        "type": "scattergl"
                      }
                    ],
                    "scattermapbox": [
                      {
                        "marker": {
                          "colorbar": {
                            "outlinewidth": 0,
                            "ticks": ""
                          }
                        },
                        "type": "scattermapbox"
                      }
                    ],
                    "scatterpolar": [
                      {
                        "marker": {
                          "colorbar": {
                            "outlinewidth": 0,
                            "ticks": ""
                          }
                        },
                        "type": "scatterpolar"
                      }
                    ],
                    "scatterpolargl": [
                      {
                        "marker": {
                          "colorbar": {
                            "outlinewidth": 0,
                            "ticks": ""
                          }
                        },
                        "type": "scatterpolargl"
                      }
                    ],
                    "scatterternary": [
                      {
                        "marker": {
                          "colorbar": {
                            "outlinewidth": 0,
                            "ticks": ""
                          }
                        },
                        "type": "scatterternary"
                      }
                    ],
                    "surface": [
                      {
                        "colorbar": {
                          "outlinewidth": 0,
                          "ticks": ""
                        },
                        "colorscale": [
                          [
                            0,
                            "#0d0887"
                          ],
                          [
                            0.1111111111111111,
                            "#46039f"
                          ],
                          [
                            0.2222222222222222,
                            "#7201a8"
                          ],
                          [
                            0.3333333333333333,
                            "#9c179e"
                          ],
                          [
                            0.4444444444444444,
                            "#bd3786"
                          ],
                          [
                            0.5555555555555556,
                            "#d8576b"
                          ],
                          [
                            0.6666666666666666,
                            "#ed7953"
                          ],
                          [
                            0.7777777777777778,
                            "#fb9f3a"
                          ],
                          [
                            0.8888888888888888,
                            "#fdca26"
                          ],
                          [
                            1,
                            "#f0f921"
                          ]
                        ],
                        "type": "surface"
                      }
                    ],
                    "table": [
                      {
                        "cells": {
                          "fill": {
                            "color": "#EBF0F8"
                          },
                          "line": {
                            "color": "white"
                          }
                        },
                        "header": {
                          "fill": {
                            "color": "#C8D4E3"
                          },
                          "line": {
                            "color": "white"
                          }
                        },
                        "type": "table"
                      }
                    ]
                  },
                  "layout": {
                    "annotationdefaults": {
                      "arrowcolor": "#2a3f5f",
                      "arrowhead": 0,
                      "arrowwidth": 1
                    },
                    "autotypenumbers": "strict",
                    "coloraxis": {
                      "colorbar": {
                        "outlinewidth": 0,
                        "ticks": ""
                      }
                    },
                    "colorscale": {
                      "diverging": [
                        [
                          0,
                          "#8e0152"
                        ],
                        [
                          0.1,
                          "#c51b7d"
                        ],
                        [
                          0.2,
                          "#de77ae"
                        ],
                        [
                          0.3,
                          "#f1b6da"
                        ],
                        [
                          0.4,
                          "#fde0ef"
                        ],
                        [
                          0.5,
                          "#f7f7f7"
                        ],
                        [
                          0.6,
                          "#e6f5d0"
                        ],
                        [
                          0.7,
                          "#b8e186"
                        ],
                        [
                          0.8,
                          "#7fbc41"
                        ],
                        [
                          0.9,
                          "#4d9221"
                        ],
                        [
                          1,
                          "#276419"
                        ]
                      ],
                      "sequential": [
                        [
                          0,
                          "#0d0887"
                        ],
                        [
                          0.1111111111111111,
                          "#46039f"
                        ],
                        [
                          0.2222222222222222,
                          "#7201a8"
                        ],
                        [
                          0.3333333333333333,
                          "#9c179e"
                        ],
                        [
                          0.4444444444444444,
                          "#bd3786"
                        ],
                        [
                          0.5555555555555556,
                          "#d8576b"
                        ],
                        [
                          0.6666666666666666,
                          "#ed7953"
                        ],
                        [
                          0.7777777777777778,
                          "#fb9f3a"
                        ],
                        [
                          0.8888888888888888,
                          "#fdca26"
                        ],
                        [
                          1,
                          "#f0f921"
                        ]
                      ],
                      "sequentialminus": [
                        [
                          0,
                          "#0d0887"
                        ],
                        [
                          0.1111111111111111,
                          "#46039f"
                        ],
                        [
                          0.2222222222222222,
                          "#7201a8"
                        ],
                        [
                          0.3333333333333333,
                          "#9c179e"
                        ],
                        [
                          0.4444444444444444,
                          "#bd3786"
                        ],
                        [
                          0.5555555555555556,
                          "#d8576b"
                        ],
                        [
                          0.6666666666666666,
                          "#ed7953"
                        ],
                        [
                          0.7777777777777778,
                          "#fb9f3a"
                        ],
                        [
                          0.8888888888888888,
                          "#fdca26"
                        ],
                        [
                          1,
                          "#f0f921"
                        ]
                      ]
                    },
                    "colorway": [
                      "#636efa",
                      "#EF553B",
                      "#00cc96",
                      "#ab63fa",
                      "#FFA15A",
                      "#19d3f3",
                      "#FF6692",
                      "#B6E880",
                      "#FF97FF",
                      "#FECB52"
                    ],
                    "font": {
                      "color": "#2a3f5f"
                    },
                    "geo": {
                      "bgcolor": "white",
                      "lakecolor": "white",
                      "landcolor": "#E5ECF6",
                      "showlakes": true,
                      "showland": true,
                      "subunitcolor": "white"
                    },
                    "hoverlabel": {
                      "align": "left"
                    },
                    "hovermode": "closest",
                    "mapbox": {
                      "style": "light"
                    },
                    "paper_bgcolor": "white",
                    "plot_bgcolor": "#E5ECF6",
                    "polar": {
                      "angularaxis": {
                        "gridcolor": "white",
                        "linecolor": "white",
                        "ticks": ""
                      },
                      "bgcolor": "#E5ECF6",
                      "radialaxis": {
                        "gridcolor": "white",
                        "linecolor": "white",
                        "ticks": ""
                      }
                    },
                    "scene": {
                      "xaxis": {
                        "backgroundcolor": "#E5ECF6",
                        "gridcolor": "white",
                        "gridwidth": 2,
                        "linecolor": "white",
                        "showbackground": true,
                        "ticks": "",
                        "zerolinecolor": "white"
                      },
                      "yaxis": {
                        "backgroundcolor": "#E5ECF6",
                        "gridcolor": "white",
                        "gridwidth": 2,
                        "linecolor": "white",
                        "showbackground": true,
                        "ticks": "",
                        "zerolinecolor": "white"
                      },
                      "zaxis": {
                        "backgroundcolor": "#E5ECF6",
                        "gridcolor": "white",
                        "gridwidth": 2,
                        "linecolor": "white",
                        "showbackground": true,
                        "ticks": "",
                        "zerolinecolor": "white"
                      }
                    },
                    "shapedefaults": {
                      "line": {
                        "color": "#2a3f5f"
                      }
                    },
                    "ternary": {
                      "aaxis": {
                        "gridcolor": "white",
                        "linecolor": "white",
                        "ticks": ""
                      },
                      "baxis": {
                        "gridcolor": "white",
                        "linecolor": "white",
                        "ticks": ""
                      },
                      "bgcolor": "#E5ECF6",
                      "caxis": {
                        "gridcolor": "white",
                        "linecolor": "white",
                        "ticks": ""
                      }
                    },
                    "title": {
                      "x": 0.05
                    },
                    "xaxis": {
                      "automargin": true,
                      "gridcolor": "white",
                      "linecolor": "white",
                      "ticks": "",
                      "title": {
                        "standoff": 15
                      },
                      "zerolinecolor": "white",
                      "zerolinewidth": 2
                    },
                    "yaxis": {
                      "automargin": true,
                      "gridcolor": "white",
                      "linecolor": "white",
                      "ticks": "",
                      "title": {
                        "standoff": 15
                      },
                      "zerolinecolor": "white",
                      "zerolinewidth": 2
                    }
                  }
                },
                "title": {
                  "text": "Hubungan Antara Suhu (temp) dan Jumlah Penyewaan"
                },
                "xaxis": {
                  "anchor": "y",
                  "domain": [
                    0,
                    1
                  ],
                  "title": {
                    "text": "Temperature"
                  }
                },
                "yaxis": {
                  "anchor": "x",
                  "domain": [
                    0,
                    1
                  ],
                  "title": {
                    "text": "Jumlah Penyewaan"
                  }
                }
              }
            }
          },
          "metadata": {},
          "output_type": "display_data"
        },
        {
          "data": {
            "application/vnd.plotly.v1+json": {
              "config": {
                "plotlyServerURL": "https://plot.ly"
              },
              "data": [
                {
                  "hovertemplate": "Atemp=%{x}<br>Jumlah Penyewaan=%{y}<extra></extra>",
                  "legendgroup": "",
                  "marker": {
                    "color": "#636efa",
                    "symbol": "circle"
                  },
                  "mode": "markers",
                  "name": "",
                  "orientation": "v",
                  "showlegend": false,
                  "type": "scatter",
                  "x": [
                    0.363625,
                    0.353739,
                    0.189405,
                    0.212122,
                    0.22927,
                    0.233209,
                    0.208839,
                    0.162254,
                    0.116175,
                    0.150888,
                    0.191464,
                    0.160473,
                    0.150883,
                    0.188413,
                    0.248112,
                    0.234217,
                    0.176771,
                    0.232333,
                    0.298422,
                    0.25505,
                    0.157833,
                    0.0790696,
                    0.0988391,
                    0.11793,
                    0.234526,
                    0.2036,
                    0.2197,
                    0.223317,
                    0.212126,
                    0.250322,
                    0.18625,
                    0.23453,
                    0.254417,
                    0.177878,
                    0.228587,
                    0.243058,
                    0.291671,
                    0.303658,
                    0.198246,
                    0.144283,
                    0.149548,
                    0.213509,
                    0.232954,
                    0.324113,
                    0.39835,
                    0.254274,
                    0.3162,
                    0.428658,
                    0.511983,
                    0.391404,
                    0.27733,
                    0.284075,
                    0.186033,
                    0.245717,
                    0.289191,
                    0.350461,
                    0.282192,
                    0.351109,
                    0.400118,
                    0.263879,
                    0.320071,
                    0.200133,
                    0.255679,
                    0.378779,
                    0.366252,
                    0.238461,
                    0.3024,
                    0.286608,
                    0.385668,
                    0.305,
                    0.32575,
                    0.380091,
                    0.332,
                    0.318178,
                    0.36693,
                    0.410333,
                    0.527009,
                    0.466525,
                    0.32575,
                    0.409735,
                    0.440642,
                    0.337939,
                    0.270833,
                    0.256312,
                    0.257571,
                    0.250339,
                    0.257574,
                    0.292908,
                    0.29735,
                    0.257575,
                    0.283454,
                    0.315637,
                    0.378767,
                    0.542929,
                    0.39835,
                    0.387608,
                    0.433696,
                    0.324479,
                    0.341529,
                    0.426737,
                    0.565217,
                    0.493054,
                    0.417283,
                    0.462742,
                    0.441913,
                    0.425492,
                    0.445696,
                    0.503146,
                    0.489258,
                    0.564392,
                    0.453892,
                    0.321954,
                    0.450121,
                    0.551763,
                    0.5745,
                    0.594083,
                    0.575142,
                    0.578929,
                    0.497463,
                    0.464021,
                    0.448204,
                    0.532833,
                    0.582079,
                    0.40465,
                    0.441917,
                    0.474117,
                    0.512621,
                    0.518933,
                    0.525246,
                    0.522721,
                    0.5284,
                    0.523363,
                    0.4943,
                    0.500629,
                    0.536,
                    0.550512,
                    0.538529,
                    0.527158,
                    0.510742,
                    0.529042,
                    0.571975,
                    0.5745,
                    0.590296,
                    0.604813,
                    0.615542,
                    0.654688,
                    0.637008,
                    0.612379,
                    0.61555,
                    0.671092,
                    0.725383,
                    0.720967,
                    0.643942,
                    0.587133,
                    0.594696,
                    0.616804,
                    0.621858,
                    0.65595,
                    0.727279,
                    0.757579,
                    0.703292,
                    0.678038,
                    0.643325,
                    0.601654,
                    0.591546,
                    0.587754,
                    0.595346,
                    0.600383,
                    0.643954,
                    0.645846,
                    0.595346,
                    0.637646,
                    0.693829,
                    0.693833,
                    0.656583,
                    0.643313,
                    0.637629,
                    0.637004,
                    0.692558,
                    0.654688,
                    0.637008,
                    0.652162,
                    0.667308,
                    0.668575,
                    0.665417,
                    0.696338,
                    0.685633,
                    0.686871,
                    0.670483,
                    0.664158,
                    0.690025,
                    0.729804,
                    0.739275,
                    0.689404,
                    0.635104,
                    0.624371,
                    0.638263,
                    0.669833,
                    0.703925,
                    0.747479,
                    0.74685,
                    0.826371,
                    0.840896,
                    0.804287,
                    0.794829,
                    0.720958,
                    0.696979,
                    0.690667,
                    0.7399,
                    0.785967,
                    0.728537,
                    0.729796,
                    0.703292,
                    0.707071,
                    0.679937,
                    0.664788,
                    0.656567,
                    0.676154,
                    0.715292,
                    0.703283,
                    0.724121,
                    0.684983,
                    0.651521,
                    0.654042,
                    0.645858,
                    0.624388,
                    0.616167,
                    0.645837,
                    0.666671,
                    0.662258,
                    0.633221,
                    0.648996,
                    0.675525,
                    0.638254,
                    0.606067,
                    0.630692,
                    0.645854,
                    0.659733,
                    0.635556,
                    0.647959,
                    0.607958,
                    0.594704,
                    0.611121,
                    0.614921,
                    0.604808,
                    0.633213,
                    0.665429,
                    0.625646,
                    0.5152,
                    0.544229,
                    0.555361,
                    0.578946,
                    0.607962,
                    0.609229,
                    0.60213,
                    0.603554,
                    0.6269,
                    0.553671,
                    0.461475,
                    0.478512,
                    0.490537,
                    0.529675,
                    0.532217,
                    0.550533,
                    0.554963,
                    0.522125,
                    0.564412,
                    0.572637,
                    0.589042,
                    0.574525,
                    0.575158,
                    0.574512,
                    0.544829,
                    0.412863,
                    0.345317,
                    0.392046,
                    0.472858,
                    0.527138,
                    0.480425,
                    0.504404,
                    0.513242,
                    0.523983,
                    0.542925,
                    0.546096,
                    0.517717,
                    0.551804,
                    0.529675,
                    0.498725,
                    0.503154,
                    0.510725,
                    0.522721,
                    0.513848,
                    0.466525,
                    0.423596,
                    0.425492,
                    0.422333,
                    0.457067,
                    0.463375,
                    0.472846,
                    0.457046,
                    0.318812,
                    0.227913,
                    0.321329,
                    0.356063,
                    0.397088,
                    0.390133,
                    0.405921,
                    0.403392,
                    0.323854,
                    0.362358,
                    0.400871,
                    0.412246,
                    0.409079,
                    0.373721,
                    0.306817,
                    0.357942,
                    0.43055,
                    0.524612,
                    0.507579,
                    0.451988,
                    0.323221,
                    0.272721,
                    0.324483,
                    0.457058,
                    0.445062,
                    0.421696,
                    0.430537,
                    0.372471,
                    0.380671,
                    0.385087,
                    0.4558,
                    0.490122,
                    0.451375,
                    0.311221,
                    0.305554,
                    0.331433,
                    0.310604,
                    0.3491,
                    0.393925,
                    0.4564,
                    0.400246,
                    0.256938,
                    0.317542,
                    0.266412,
                    0.253154,
                    0.270196,
                    0.301138,
                    0.338362,
                    0.412237,
                    0.359825,
                    0.249371,
                    0.245579,
                    0.280933,
                    0.396454,
                    0.428017,
                    0.426121,
                    0.377513,
                    0.299242,
                    0.279961,
                    0.315535,
                    0.327633,
                    0.279974,
                    0.263892,
                    0.318812,
                    0.414121,
                    0.375621,
                    0.252304,
                    0.126275,
                    0.119337,
                    0.278412,
                    0.340267,
                    0.390779,
                    0.340258,
                    0.247479,
                    0.318826,
                    0.282821,
                    0.381938,
                    0.249362,
                    0.183087,
                    0.161625,
                    0.190663,
                    0.364278,
                    0.275254,
                    0.190038,
                    0.220958,
                    0.174875,
                    0.16225,
                    0.243058,
                    0.349108,
                    0.294821,
                    0.35605,
                    0.415383,
                    0.326379,
                    0.272721,
                    0.262625,
                    0.381317,
                    0.466538,
                    0.398971,
                    0.309346,
                    0.272725,
                    0.264521,
                    0.296426,
                    0.361104,
                    0.266421,
                    0.261988,
                    0.293558,
                    0.210867,
                    0.101658,
                    0.227913,
                    0.333946,
                    0.351629,
                    0.330162,
                    0.351629,
                    0.355425,
                    0.265788,
                    0.273391,
                    0.295113,
                    0.392667,
                    0.444446,
                    0.410971,
                    0.255675,
                    0.268308,
                    0.357954,
                    0.353525,
                    0.34847,
                    0.475371,
                    0.359842,
                    0.413492,
                    0.303021,
                    0.241171,
                    0.255042,
                    0.3851,
                    0.524604,
                    0.397083,
                    0.277767,
                    0.35967,
                    0.459592,
                    0.542929,
                    0.548617,
                    0.532825,
                    0.436229,
                    0.505046,
                    0.464,
                    0.532821,
                    0.538533,
                    0.513258,
                    0.531567,
                    0.570067,
                    0.486733,
                    0.437488,
                    0.43875,
                    0.315654,
                    0.47095,
                    0.482304,
                    0.375621,
                    0.421708,
                    0.417287,
                    0.427513,
                    0.461483,
                    0.53345,
                    0.431163,
                    0.390767,
                    0.426129,
                    0.492425,
                    0.476638,
                    0.436233,
                    0.337274,
                    0.387604,
                    0.431808,
                    0.487996,
                    0.573875,
                    0.614925,
                    0.598487,
                    0.457038,
                    0.493046,
                    0.515775,
                    0.542921,
                    0.389504,
                    0.301125,
                    0.405283,
                    0.470317,
                    0.483583,
                    0.452637,
                    0.377504,
                    0.450121,
                    0.457696,
                    0.577021,
                    0.537896,
                    0.537242,
                    0.590917,
                    0.584608,
                    0.546737,
                    0.527142,
                    0.557471,
                    0.553025,
                    0.491783,
                    0.520833,
                    0.544817,
                    0.585238,
                    0.5499,
                    0.576404,
                    0.595975,
                    0.572613,
                    0.551121,
                    0.566908,
                    0.583967,
                    0.565667,
                    0.580825,
                    0.584612,
                    0.6067,
                    0.627529,
                    0.642696,
                    0.641425,
                    0.6793,
                    0.672992,
                    0.611129,
                    0.631329,
                    0.607962,
                    0.566288,
                    0.575133,
                    0.578283,
                    0.525892,
                    0.542292,
                    0.569442,
                    0.597862,
                    0.648367,
                    0.663517,
                    0.659721,
                    0.597875,
                    0.611117,
                    0.624383,
                    0.599754,
                    0.594708,
                    0.571975,
                    0.544842,
                    0.654692,
                    0.720975,
                    0.752542,
                    0.724121,
                    0.652792,
                    0.674254,
                    0.654042,
                    0.594704,
                    0.640792,
                    0.675512,
                    0.786613,
                    0.687508,
                    0.750629,
                    0.702038,
                    0.70265,
                    0.732337,
                    0.761367,
                    0.752533,
                    0.804913,
                    0.790396,
                    0.654054,
                    0.664796,
                    0.650271,
                    0.654683,
                    0.667933,
                    0.666042,
                    0.705196,
                    0.724125,
                    0.755683,
                    0.745583,
                    0.714642,
                    0.613025,
                    0.549912,
                    0.623125,
                    0.690017,
                    0.70645,
                    0.654054,
                    0.739263,
                    0.734217,
                    0.697604,
                    0.667933,
                    0.684987,
                    0.662896,
                    0.667308,
                    0.707088,
                    0.722867,
                    0.751267,
                    0.731079,
                    0.710246,
                    0.697621,
                    0.707717,
                    0.699508,
                    0.667942,
                    0.638267,
                    0.644579,
                    0.662254,
                    0.676779,
                    0.654037,
                    0.654688,
                    0.2424,
                    0.618071,
                    0.603554,
                    0.595967,
                    0.601025,
                    0.621854,
                    0.637008,
                    0.6471,
                    0.618696,
                    0.595996,
                    0.654688,
                    0.66605,
                    0.635733,
                    0.652779,
                    0.6894,
                    0.702654,
                    0.649,
                    0.661629,
                    0.686888,
                    0.708983,
                    0.655329,
                    0.657204,
                    0.611121,
                    0.578925,
                    0.565654,
                    0.554292,
                    0.570075,
                    0.579558,
                    0.594083,
                    0.585867,
                    0.563125,
                    0.55305,
                    0.565067,
                    0.540404,
                    0.532192,
                    0.571971,
                    0.610488,
                    0.518933,
                    0.502513,
                    0.544179,
                    0.596613,
                    0.607975,
                    0.585863,
                    0.530296,
                    0.517663,
                    0.512,
                    0.542333,
                    0.599133,
                    0.607975,
                    0.580187,
                    0.538521,
                    0.419813,
                    0.387608,
                    0.438112,
                    0.503142,
                    0.431167,
                    0.433071,
                    0.391396,
                    0.508204,
                    0.53915,
                    0.460846,
                    0.450108,
                    0.512625,
                    0.537896,
                    0.472842,
                    0.456429,
                    0.482942,
                    0.530304,
                    0.558721,
                    0.529688,
                    0.52275,
                    0.515133,
                    0.467771,
                    0.4394,
                    0.309909,
                    0.3611,
                    0.369942,
                    0.356042,
                    0.323846,
                    0.329538,
                    0.308075,
                    0.281567,
                    0.274621,
                    0.341891,
                    0.355413,
                    0.393937,
                    0.421713,
                    0.475383,
                    0.323225,
                    0.281563,
                    0.324492,
                    0.347204,
                    0.326383,
                    0.337746,
                    0.375621,
                    0.380667,
                    0.364892,
                    0.350371,
                    0.378779,
                    0.248742,
                    0.257583,
                    0.339004,
                    0.281558,
                    0.289762,
                    0.298422,
                    0.323867,
                    0.316904,
                    0.359208,
                    0.455796,
                    0.469054,
                    0.428012,
                    0.258204,
                    0.321958,
                    0.389508,
                    0.390146,
                    0.435575,
                    0.338363,
                    0.297338,
                    0.294188,
                    0.294192,
                    0.338383,
                    0.369938,
                    0.4015,
                    0.409708,
                    0.342162,
                    0.335217,
                    0.301767,
                    0.236113,
                    0.259471,
                    0.2589,
                    0.294465,
                    0.220333,
                    0.226642,
                    0.255046,
                    0.2424,
                    0.2317,
                    0.223487
                  ],
                  "xaxis": "x",
                  "y": [
                    985,
                    801,
                    1349,
                    1562,
                    1600,
                    1606,
                    1510,
                    959,
                    822,
                    1321,
                    1263,
                    1162,
                    1406,
                    1421,
                    1248,
                    1204,
                    1000,
                    683,
                    1650,
                    1927,
                    1543,
                    981,
                    986,
                    1416,
                    1985,
                    506,
                    431,
                    1167,
                    1098,
                    1096,
                    1501,
                    1360,
                    1526,
                    1550,
                    1708,
                    1005,
                    1623,
                    1712,
                    1530,
                    1605,
                    1538,
                    1746,
                    1472,
                    1589,
                    1913,
                    1815,
                    2115,
                    2475,
                    2927,
                    1635,
                    1812,
                    1107,
                    1450,
                    1917,
                    1807,
                    1461,
                    1969,
                    2402,
                    1446,
                    1851,
                    2134,
                    1685,
                    1944,
                    2077,
                    605,
                    1872,
                    2133,
                    1891,
                    623,
                    1977,
                    2132,
                    2417,
                    2046,
                    2056,
                    2192,
                    2744,
                    3239,
                    3117,
                    2471,
                    2077,
                    2703,
                    2121,
                    1865,
                    2210,
                    2496,
                    1693,
                    2028,
                    2425,
                    1536,
                    1685,
                    2227,
                    2252,
                    3249,
                    3115,
                    1795,
                    2808,
                    3141,
                    1471,
                    2455,
                    2895,
                    3348,
                    2034,
                    2162,
                    3267,
                    3126,
                    795,
                    3744,
                    3429,
                    3204,
                    3944,
                    4189,
                    1683,
                    4036,
                    4191,
                    4073,
                    4400,
                    3872,
                    4058,
                    4595,
                    5312,
                    3351,
                    4401,
                    4451,
                    2633,
                    4433,
                    4608,
                    4714,
                    4333,
                    4362,
                    4803,
                    4182,
                    4864,
                    4105,
                    3409,
                    4553,
                    3958,
                    4123,
                    3855,
                    4575,
                    4917,
                    5805,
                    4660,
                    4274,
                    4492,
                    4978,
                    4677,
                    4679,
                    4758,
                    4788,
                    4098,
                    3982,
                    3974,
                    4968,
                    5312,
                    5342,
                    4906,
                    4548,
                    4833,
                    4401,
                    3915,
                    4586,
                    4966,
                    4460,
                    5020,
                    4891,
                    5180,
                    3767,
                    4844,
                    5119,
                    4744,
                    4010,
                    4835,
                    4507,
                    4790,
                    4991,
                    5202,
                    5305,
                    4708,
                    4648,
                    5225,
                    5515,
                    5362,
                    5119,
                    4649,
                    6043,
                    4665,
                    4629,
                    4592,
                    4040,
                    5336,
                    4881,
                    4086,
                    4258,
                    4342,
                    5084,
                    5538,
                    5923,
                    5302,
                    4458,
                    4541,
                    4332,
                    3784,
                    3387,
                    3285,
                    3606,
                    3840,
                    4590,
                    4656,
                    4390,
                    3846,
                    4475,
                    4302,
                    4266,
                    4845,
                    3574,
                    4576,
                    4866,
                    4294,
                    3785,
                    4326,
                    4602,
                    4780,
                    4792,
                    4905,
                    4150,
                    3820,
                    4338,
                    4725,
                    4694,
                    3805,
                    4153,
                    5191,
                    3873,
                    4758,
                    5895,
                    5130,
                    3542,
                    4661,
                    1115,
                    4334,
                    4634,
                    5204,
                    5058,
                    5115,
                    4727,
                    4484,
                    4940,
                    3351,
                    2710,
                    1996,
                    1842,
                    3544,
                    5345,
                    5046,
                    4713,
                    4763,
                    4785,
                    3659,
                    4760,
                    4511,
                    4274,
                    4539,
                    3641,
                    4352,
                    4795,
                    2395,
                    5423,
                    5010,
                    4630,
                    4120,
                    3907,
                    4839,
                    5202,
                    2429,
                    2918,
                    3570,
                    4456,
                    4826,
                    4765,
                    4985,
                    5409,
                    5511,
                    5117,
                    4563,
                    2416,
                    2913,
                    3644,
                    5217,
                    5041,
                    4570,
                    4748,
                    2424,
                    4195,
                    4304,
                    4308,
                    4381,
                    4187,
                    4687,
                    3894,
                    2659,
                    3747,
                    627,
                    3331,
                    3669,
                    4068,
                    4186,
                    3974,
                    4046,
                    3926,
                    3649,
                    4035,
                    4205,
                    4109,
                    2933,
                    3368,
                    4067,
                    3717,
                    4486,
                    4195,
                    1817,
                    3053,
                    3392,
                    3663,
                    3520,
                    2765,
                    1607,
                    2566,
                    1495,
                    2792,
                    3068,
                    3071,
                    3867,
                    2914,
                    3613,
                    3727,
                    3940,
                    3614,
                    3485,
                    3811,
                    2594,
                    705,
                    3322,
                    3620,
                    3190,
                    2743,
                    3310,
                    3523,
                    3740,
                    3709,
                    3577,
                    2739,
                    2431,
                    3403,
                    3750,
                    2660,
                    3068,
                    2209,
                    1011,
                    754,
                    1317,
                    1162,
                    2302,
                    2423,
                    2999,
                    2485,
                    2294,
                    1951,
                    2236,
                    2368,
                    3272,
                    4098,
                    4521,
                    3425,
                    2376,
                    3598,
                    2177,
                    4097,
                    3214,
                    2493,
                    2311,
                    2298,
                    2935,
                    3376,
                    3292,
                    3163,
                    1301,
                    1977,
                    2432,
                    4339,
                    4270,
                    4075,
                    3456,
                    4023,
                    3243,
                    3624,
                    4509,
                    4579,
                    3761,
                    4151,
                    2832,
                    2947,
                    3784,
                    4375,
                    2802,
                    3830,
                    3831,
                    2169,
                    1529,
                    3422,
                    3922,
                    4169,
                    3005,
                    4154,
                    4318,
                    2689,
                    3129,
                    3777,
                    4773,
                    5062,
                    3487,
                    2732,
                    3389,
                    4322,
                    4363,
                    1834,
                    4990,
                    3194,
                    4066,
                    3423,
                    3333,
                    3956,
                    4916,
                    5382,
                    4569,
                    4118,
                    4911,
                    5298,
                    5847,
                    6312,
                    6192,
                    4378,
                    7836,
                    5892,
                    6153,
                    6093,
                    6230,
                    6871,
                    8362,
                    3372,
                    4996,
                    5558,
                    5102,
                    5698,
                    6133,
                    5459,
                    6235,
                    6041,
                    5936,
                    6772,
                    6436,
                    6457,
                    6460,
                    6857,
                    5169,
                    5585,
                    5918,
                    4862,
                    5409,
                    6398,
                    7460,
                    7132,
                    6370,
                    6691,
                    4367,
                    6565,
                    7290,
                    6624,
                    1027,
                    3214,
                    5633,
                    6196,
                    5026,
                    6233,
                    4220,
                    6304,
                    5572,
                    5740,
                    6169,
                    6421,
                    6296,
                    6883,
                    6359,
                    6273,
                    5728,
                    4717,
                    6572,
                    7030,
                    7429,
                    6118,
                    2843,
                    5115,
                    7424,
                    7384,
                    7639,
                    8294,
                    7129,
                    4359,
                    6073,
                    5260,
                    6770,
                    6734,
                    6536,
                    6591,
                    6043,
                    5743,
                    6855,
                    7338,
                    4127,
                    8120,
                    7641,
                    6998,
                    7001,
                    7055,
                    7494,
                    7736,
                    7498,
                    6598,
                    6664,
                    4972,
                    7421,
                    7363,
                    7665,
                    7702,
                    6978,
                    5099,
                    6825,
                    6211,
                    5905,
                    5823,
                    7458,
                    6891,
                    6779,
                    7442,
                    7335,
                    6879,
                    5463,
                    5687,
                    5531,
                    6227,
                    6660,
                    7403,
                    6241,
                    6207,
                    4840,
                    4672,
                    6569,
                    6290,
                    7264,
                    7446,
                    7499,
                    6969,
                    6031,
                    6830,
                    6786,
                    5713,
                    6591,
                    5870,
                    4459,
                    7410,
                    6966,
                    7592,
                    8173,
                    6861,
                    6904,
                    6685,
                    6597,
                    7105,
                    7216,
                    7580,
                    7261,
                    7175,
                    6824,
                    5464,
                    7013,
                    7273,
                    7534,
                    7286,
                    5786,
                    6299,
                    6544,
                    6883,
                    6784,
                    7347,
                    7605,
                    7148,
                    7865,
                    4549,
                    6530,
                    7006,
                    7375,
                    7765,
                    7582,
                    6053,
                    5255,
                    6917,
                    7040,
                    7697,
                    7713,
                    7350,
                    6140,
                    5810,
                    6034,
                    6864,
                    7112,
                    6203,
                    7504,
                    5976,
                    8227,
                    7525,
                    7767,
                    7870,
                    7804,
                    8009,
                    8714,
                    7333,
                    6869,
                    4073,
                    7591,
                    7720,
                    8167,
                    8395,
                    7907,
                    7436,
                    7538,
                    7733,
                    7393,
                    7415,
                    8555,
                    6889,
                    6778,
                    4639,
                    7572,
                    7328,
                    8156,
                    7965,
                    3510,
                    5478,
                    6392,
                    7691,
                    7570,
                    7282,
                    7109,
                    6639,
                    5875,
                    7534,
                    7461,
                    7509,
                    5424,
                    8090,
                    6824,
                    7058,
                    7466,
                    7693,
                    7359,
                    7444,
                    7852,
                    4459,
                    22,
                    1096,
                    5566,
                    5986,
                    5847,
                    5138,
                    5107,
                    5259,
                    5686,
                    5035,
                    5315,
                    5992,
                    6536,
                    6852,
                    6269,
                    4094,
                    5495,
                    5445,
                    5698,
                    5629,
                    4669,
                    5499,
                    5634,
                    5146,
                    2425,
                    3910,
                    2277,
                    2424,
                    5087,
                    3959,
                    5260,
                    5323,
                    5668,
                    5191,
                    4649,
                    6234,
                    6606,
                    5729,
                    5375,
                    5008,
                    5582,
                    3228,
                    5170,
                    5501,
                    5319,
                    5532,
                    5611,
                    5047,
                    3786,
                    4585,
                    5557,
                    5267,
                    4128,
                    3623,
                    1749,
                    1787,
                    920,
                    1013,
                    441,
                    2114,
                    3095,
                    1341,
                    1796,
                    2729
                  ],
                  "yaxis": "y"
                }
              ],
              "layout": {
                "legend": {
                  "tracegroupgap": 0
                },
                "template": {
                  "data": {
                    "bar": [
                      {
                        "error_x": {
                          "color": "#2a3f5f"
                        },
                        "error_y": {
                          "color": "#2a3f5f"
                        },
                        "marker": {
                          "line": {
                            "color": "#E5ECF6",
                            "width": 0.5
                          },
                          "pattern": {
                            "fillmode": "overlay",
                            "size": 10,
                            "solidity": 0.2
                          }
                        },
                        "type": "bar"
                      }
                    ],
                    "barpolar": [
                      {
                        "marker": {
                          "line": {
                            "color": "#E5ECF6",
                            "width": 0.5
                          },
                          "pattern": {
                            "fillmode": "overlay",
                            "size": 10,
                            "solidity": 0.2
                          }
                        },
                        "type": "barpolar"
                      }
                    ],
                    "carpet": [
                      {
                        "aaxis": {
                          "endlinecolor": "#2a3f5f",
                          "gridcolor": "white",
                          "linecolor": "white",
                          "minorgridcolor": "white",
                          "startlinecolor": "#2a3f5f"
                        },
                        "baxis": {
                          "endlinecolor": "#2a3f5f",
                          "gridcolor": "white",
                          "linecolor": "white",
                          "minorgridcolor": "white",
                          "startlinecolor": "#2a3f5f"
                        },
                        "type": "carpet"
                      }
                    ],
                    "choropleth": [
                      {
                        "colorbar": {
                          "outlinewidth": 0,
                          "ticks": ""
                        },
                        "type": "choropleth"
                      }
                    ],
                    "contour": [
                      {
                        "colorbar": {
                          "outlinewidth": 0,
                          "ticks": ""
                        },
                        "colorscale": [
                          [
                            0,
                            "#0d0887"
                          ],
                          [
                            0.1111111111111111,
                            "#46039f"
                          ],
                          [
                            0.2222222222222222,
                            "#7201a8"
                          ],
                          [
                            0.3333333333333333,
                            "#9c179e"
                          ],
                          [
                            0.4444444444444444,
                            "#bd3786"
                          ],
                          [
                            0.5555555555555556,
                            "#d8576b"
                          ],
                          [
                            0.6666666666666666,
                            "#ed7953"
                          ],
                          [
                            0.7777777777777778,
                            "#fb9f3a"
                          ],
                          [
                            0.8888888888888888,
                            "#fdca26"
                          ],
                          [
                            1,
                            "#f0f921"
                          ]
                        ],
                        "type": "contour"
                      }
                    ],
                    "contourcarpet": [
                      {
                        "colorbar": {
                          "outlinewidth": 0,
                          "ticks": ""
                        },
                        "type": "contourcarpet"
                      }
                    ],
                    "heatmap": [
                      {
                        "colorbar": {
                          "outlinewidth": 0,
                          "ticks": ""
                        },
                        "colorscale": [
                          [
                            0,
                            "#0d0887"
                          ],
                          [
                            0.1111111111111111,
                            "#46039f"
                          ],
                          [
                            0.2222222222222222,
                            "#7201a8"
                          ],
                          [
                            0.3333333333333333,
                            "#9c179e"
                          ],
                          [
                            0.4444444444444444,
                            "#bd3786"
                          ],
                          [
                            0.5555555555555556,
                            "#d8576b"
                          ],
                          [
                            0.6666666666666666,
                            "#ed7953"
                          ],
                          [
                            0.7777777777777778,
                            "#fb9f3a"
                          ],
                          [
                            0.8888888888888888,
                            "#fdca26"
                          ],
                          [
                            1,
                            "#f0f921"
                          ]
                        ],
                        "type": "heatmap"
                      }
                    ],
                    "heatmapgl": [
                      {
                        "colorbar": {
                          "outlinewidth": 0,
                          "ticks": ""
                        },
                        "colorscale": [
                          [
                            0,
                            "#0d0887"
                          ],
                          [
                            0.1111111111111111,
                            "#46039f"
                          ],
                          [
                            0.2222222222222222,
                            "#7201a8"
                          ],
                          [
                            0.3333333333333333,
                            "#9c179e"
                          ],
                          [
                            0.4444444444444444,
                            "#bd3786"
                          ],
                          [
                            0.5555555555555556,
                            "#d8576b"
                          ],
                          [
                            0.6666666666666666,
                            "#ed7953"
                          ],
                          [
                            0.7777777777777778,
                            "#fb9f3a"
                          ],
                          [
                            0.8888888888888888,
                            "#fdca26"
                          ],
                          [
                            1,
                            "#f0f921"
                          ]
                        ],
                        "type": "heatmapgl"
                      }
                    ],
                    "histogram": [
                      {
                        "marker": {
                          "pattern": {
                            "fillmode": "overlay",
                            "size": 10,
                            "solidity": 0.2
                          }
                        },
                        "type": "histogram"
                      }
                    ],
                    "histogram2d": [
                      {
                        "colorbar": {
                          "outlinewidth": 0,
                          "ticks": ""
                        },
                        "colorscale": [
                          [
                            0,
                            "#0d0887"
                          ],
                          [
                            0.1111111111111111,
                            "#46039f"
                          ],
                          [
                            0.2222222222222222,
                            "#7201a8"
                          ],
                          [
                            0.3333333333333333,
                            "#9c179e"
                          ],
                          [
                            0.4444444444444444,
                            "#bd3786"
                          ],
                          [
                            0.5555555555555556,
                            "#d8576b"
                          ],
                          [
                            0.6666666666666666,
                            "#ed7953"
                          ],
                          [
                            0.7777777777777778,
                            "#fb9f3a"
                          ],
                          [
                            0.8888888888888888,
                            "#fdca26"
                          ],
                          [
                            1,
                            "#f0f921"
                          ]
                        ],
                        "type": "histogram2d"
                      }
                    ],
                    "histogram2dcontour": [
                      {
                        "colorbar": {
                          "outlinewidth": 0,
                          "ticks": ""
                        },
                        "colorscale": [
                          [
                            0,
                            "#0d0887"
                          ],
                          [
                            0.1111111111111111,
                            "#46039f"
                          ],
                          [
                            0.2222222222222222,
                            "#7201a8"
                          ],
                          [
                            0.3333333333333333,
                            "#9c179e"
                          ],
                          [
                            0.4444444444444444,
                            "#bd3786"
                          ],
                          [
                            0.5555555555555556,
                            "#d8576b"
                          ],
                          [
                            0.6666666666666666,
                            "#ed7953"
                          ],
                          [
                            0.7777777777777778,
                            "#fb9f3a"
                          ],
                          [
                            0.8888888888888888,
                            "#fdca26"
                          ],
                          [
                            1,
                            "#f0f921"
                          ]
                        ],
                        "type": "histogram2dcontour"
                      }
                    ],
                    "mesh3d": [
                      {
                        "colorbar": {
                          "outlinewidth": 0,
                          "ticks": ""
                        },
                        "type": "mesh3d"
                      }
                    ],
                    "parcoords": [
                      {
                        "line": {
                          "colorbar": {
                            "outlinewidth": 0,
                            "ticks": ""
                          }
                        },
                        "type": "parcoords"
                      }
                    ],
                    "pie": [
                      {
                        "automargin": true,
                        "type": "pie"
                      }
                    ],
                    "scatter": [
                      {
                        "fillpattern": {
                          "fillmode": "overlay",
                          "size": 10,
                          "solidity": 0.2
                        },
                        "type": "scatter"
                      }
                    ],
                    "scatter3d": [
                      {
                        "line": {
                          "colorbar": {
                            "outlinewidth": 0,
                            "ticks": ""
                          }
                        },
                        "marker": {
                          "colorbar": {
                            "outlinewidth": 0,
                            "ticks": ""
                          }
                        },
                        "type": "scatter3d"
                      }
                    ],
                    "scattercarpet": [
                      {
                        "marker": {
                          "colorbar": {
                            "outlinewidth": 0,
                            "ticks": ""
                          }
                        },
                        "type": "scattercarpet"
                      }
                    ],
                    "scattergeo": [
                      {
                        "marker": {
                          "colorbar": {
                            "outlinewidth": 0,
                            "ticks": ""
                          }
                        },
                        "type": "scattergeo"
                      }
                    ],
                    "scattergl": [
                      {
                        "marker": {
                          "colorbar": {
                            "outlinewidth": 0,
                            "ticks": ""
                          }
                        },
                        "type": "scattergl"
                      }
                    ],
                    "scattermapbox": [
                      {
                        "marker": {
                          "colorbar": {
                            "outlinewidth": 0,
                            "ticks": ""
                          }
                        },
                        "type": "scattermapbox"
                      }
                    ],
                    "scatterpolar": [
                      {
                        "marker": {
                          "colorbar": {
                            "outlinewidth": 0,
                            "ticks": ""
                          }
                        },
                        "type": "scatterpolar"
                      }
                    ],
                    "scatterpolargl": [
                      {
                        "marker": {
                          "colorbar": {
                            "outlinewidth": 0,
                            "ticks": ""
                          }
                        },
                        "type": "scatterpolargl"
                      }
                    ],
                    "scatterternary": [
                      {
                        "marker": {
                          "colorbar": {
                            "outlinewidth": 0,
                            "ticks": ""
                          }
                        },
                        "type": "scatterternary"
                      }
                    ],
                    "surface": [
                      {
                        "colorbar": {
                          "outlinewidth": 0,
                          "ticks": ""
                        },
                        "colorscale": [
                          [
                            0,
                            "#0d0887"
                          ],
                          [
                            0.1111111111111111,
                            "#46039f"
                          ],
                          [
                            0.2222222222222222,
                            "#7201a8"
                          ],
                          [
                            0.3333333333333333,
                            "#9c179e"
                          ],
                          [
                            0.4444444444444444,
                            "#bd3786"
                          ],
                          [
                            0.5555555555555556,
                            "#d8576b"
                          ],
                          [
                            0.6666666666666666,
                            "#ed7953"
                          ],
                          [
                            0.7777777777777778,
                            "#fb9f3a"
                          ],
                          [
                            0.8888888888888888,
                            "#fdca26"
                          ],
                          [
                            1,
                            "#f0f921"
                          ]
                        ],
                        "type": "surface"
                      }
                    ],
                    "table": [
                      {
                        "cells": {
                          "fill": {
                            "color": "#EBF0F8"
                          },
                          "line": {
                            "color": "white"
                          }
                        },
                        "header": {
                          "fill": {
                            "color": "#C8D4E3"
                          },
                          "line": {
                            "color": "white"
                          }
                        },
                        "type": "table"
                      }
                    ]
                  },
                  "layout": {
                    "annotationdefaults": {
                      "arrowcolor": "#2a3f5f",
                      "arrowhead": 0,
                      "arrowwidth": 1
                    },
                    "autotypenumbers": "strict",
                    "coloraxis": {
                      "colorbar": {
                        "outlinewidth": 0,
                        "ticks": ""
                      }
                    },
                    "colorscale": {
                      "diverging": [
                        [
                          0,
                          "#8e0152"
                        ],
                        [
                          0.1,
                          "#c51b7d"
                        ],
                        [
                          0.2,
                          "#de77ae"
                        ],
                        [
                          0.3,
                          "#f1b6da"
                        ],
                        [
                          0.4,
                          "#fde0ef"
                        ],
                        [
                          0.5,
                          "#f7f7f7"
                        ],
                        [
                          0.6,
                          "#e6f5d0"
                        ],
                        [
                          0.7,
                          "#b8e186"
                        ],
                        [
                          0.8,
                          "#7fbc41"
                        ],
                        [
                          0.9,
                          "#4d9221"
                        ],
                        [
                          1,
                          "#276419"
                        ]
                      ],
                      "sequential": [
                        [
                          0,
                          "#0d0887"
                        ],
                        [
                          0.1111111111111111,
                          "#46039f"
                        ],
                        [
                          0.2222222222222222,
                          "#7201a8"
                        ],
                        [
                          0.3333333333333333,
                          "#9c179e"
                        ],
                        [
                          0.4444444444444444,
                          "#bd3786"
                        ],
                        [
                          0.5555555555555556,
                          "#d8576b"
                        ],
                        [
                          0.6666666666666666,
                          "#ed7953"
                        ],
                        [
                          0.7777777777777778,
                          "#fb9f3a"
                        ],
                        [
                          0.8888888888888888,
                          "#fdca26"
                        ],
                        [
                          1,
                          "#f0f921"
                        ]
                      ],
                      "sequentialminus": [
                        [
                          0,
                          "#0d0887"
                        ],
                        [
                          0.1111111111111111,
                          "#46039f"
                        ],
                        [
                          0.2222222222222222,
                          "#7201a8"
                        ],
                        [
                          0.3333333333333333,
                          "#9c179e"
                        ],
                        [
                          0.4444444444444444,
                          "#bd3786"
                        ],
                        [
                          0.5555555555555556,
                          "#d8576b"
                        ],
                        [
                          0.6666666666666666,
                          "#ed7953"
                        ],
                        [
                          0.7777777777777778,
                          "#fb9f3a"
                        ],
                        [
                          0.8888888888888888,
                          "#fdca26"
                        ],
                        [
                          1,
                          "#f0f921"
                        ]
                      ]
                    },
                    "colorway": [
                      "#636efa",
                      "#EF553B",
                      "#00cc96",
                      "#ab63fa",
                      "#FFA15A",
                      "#19d3f3",
                      "#FF6692",
                      "#B6E880",
                      "#FF97FF",
                      "#FECB52"
                    ],
                    "font": {
                      "color": "#2a3f5f"
                    },
                    "geo": {
                      "bgcolor": "white",
                      "lakecolor": "white",
                      "landcolor": "#E5ECF6",
                      "showlakes": true,
                      "showland": true,
                      "subunitcolor": "white"
                    },
                    "hoverlabel": {
                      "align": "left"
                    },
                    "hovermode": "closest",
                    "mapbox": {
                      "style": "light"
                    },
                    "paper_bgcolor": "white",
                    "plot_bgcolor": "#E5ECF6",
                    "polar": {
                      "angularaxis": {
                        "gridcolor": "white",
                        "linecolor": "white",
                        "ticks": ""
                      },
                      "bgcolor": "#E5ECF6",
                      "radialaxis": {
                        "gridcolor": "white",
                        "linecolor": "white",
                        "ticks": ""
                      }
                    },
                    "scene": {
                      "xaxis": {
                        "backgroundcolor": "#E5ECF6",
                        "gridcolor": "white",
                        "gridwidth": 2,
                        "linecolor": "white",
                        "showbackground": true,
                        "ticks": "",
                        "zerolinecolor": "white"
                      },
                      "yaxis": {
                        "backgroundcolor": "#E5ECF6",
                        "gridcolor": "white",
                        "gridwidth": 2,
                        "linecolor": "white",
                        "showbackground": true,
                        "ticks": "",
                        "zerolinecolor": "white"
                      },
                      "zaxis": {
                        "backgroundcolor": "#E5ECF6",
                        "gridcolor": "white",
                        "gridwidth": 2,
                        "linecolor": "white",
                        "showbackground": true,
                        "ticks": "",
                        "zerolinecolor": "white"
                      }
                    },
                    "shapedefaults": {
                      "line": {
                        "color": "#2a3f5f"
                      }
                    },
                    "ternary": {
                      "aaxis": {
                        "gridcolor": "white",
                        "linecolor": "white",
                        "ticks": ""
                      },
                      "baxis": {
                        "gridcolor": "white",
                        "linecolor": "white",
                        "ticks": ""
                      },
                      "bgcolor": "#E5ECF6",
                      "caxis": {
                        "gridcolor": "white",
                        "linecolor": "white",
                        "ticks": ""
                      }
                    },
                    "title": {
                      "x": 0.05
                    },
                    "xaxis": {
                      "automargin": true,
                      "gridcolor": "white",
                      "linecolor": "white",
                      "ticks": "",
                      "title": {
                        "standoff": 15
                      },
                      "zerolinecolor": "white",
                      "zerolinewidth": 2
                    },
                    "yaxis": {
                      "automargin": true,
                      "gridcolor": "white",
                      "linecolor": "white",
                      "ticks": "",
                      "title": {
                        "standoff": 15
                      },
                      "zerolinecolor": "white",
                      "zerolinewidth": 2
                    }
                  }
                },
                "title": {
                  "text": "Hubungan Antara Feels Like Temperature (atemp) dan Jumlah Penyewaan"
                },
                "xaxis": {
                  "anchor": "y",
                  "domain": [
                    0,
                    1
                  ],
                  "title": {
                    "text": "Atemp"
                  }
                },
                "yaxis": {
                  "anchor": "x",
                  "domain": [
                    0,
                    1
                  ],
                  "title": {
                    "text": "Jumlah Penyewaan"
                  }
                }
              }
            }
          },
          "metadata": {},
          "output_type": "display_data"
        },
        {
          "data": {
            "application/vnd.plotly.v1+json": {
              "config": {
                "plotlyServerURL": "https://plot.ly"
              },
              "data": [
                {
                  "hovertemplate": "Humidity=%{x}<br>Jumlah Penyewaan=%{y}<extra></extra>",
                  "legendgroup": "",
                  "marker": {
                    "color": "#636efa",
                    "symbol": "circle"
                  },
                  "mode": "markers",
                  "name": "",
                  "orientation": "v",
                  "showlegend": false,
                  "type": "scatter",
                  "x": [
                    0.805833,
                    0.696087,
                    0.437273,
                    0.590435,
                    0.436957,
                    0.518261,
                    0.498696,
                    0.535833,
                    0.434167,
                    0.482917,
                    0.686364,
                    0.599545,
                    0.470417,
                    0.537826,
                    0.49875,
                    0.48375,
                    0.5375,
                    0.861667,
                    0.741739,
                    0.538333,
                    0.457083,
                    0.4,
                    0.436522,
                    0.491739,
                    0.616957,
                    0.8625,
                    0.6875,
                    0.793043,
                    0.651739,
                    0.722174,
                    0.60375,
                    0.829565,
                    0.775417,
                    0.437826,
                    0.585217,
                    0.929167,
                    0.568333,
                    0.738333,
                    0.537917,
                    0.494783,
                    0.437391,
                    0.506364,
                    0.544167,
                    0.457391,
                    0.375833,
                    0.314348,
                    0.423478,
                    0.505,
                    0.516667,
                    0.187917,
                    0.407826,
                    0.605,
                    0.577778,
                    0.423043,
                    0.697391,
                    0.712174,
                    0.537917,
                    0.68,
                    0.876364,
                    0.535,
                    0.449583,
                    0.318333,
                    0.610417,
                    0.789167,
                    0.948261,
                    0.551304,
                    0.420833,
                    0.775417,
                    0,
                    0.649565,
                    0.594583,
                    0.527391,
                    0.496957,
                    0.655652,
                    0.776522,
                    0.602917,
                    0.525217,
                    0.379167,
                    0.47375,
                    0.737391,
                    0.624583,
                    0.839565,
                    0.805833,
                    0.495,
                    0.394167,
                    0.493913,
                    0.302174,
                    0.314167,
                    0.646667,
                    0.918333,
                    0.68625,
                    0.65375,
                    0.48,
                    0.42625,
                    0.642083,
                    0.470833,
                    0.602917,
                    0.83625,
                    0.8775,
                    0.8575,
                    0.716956,
                    0.739167,
                    0.819167,
                    0.540417,
                    0.67125,
                    0.888333,
                    0.479583,
                    0.5425,
                    0.665833,
                    0.614167,
                    0.407083,
                    0.729583,
                    0.887917,
                    0.810833,
                    0.776667,
                    0.729167,
                    0.835417,
                    0.700833,
                    0.457083,
                    0.503333,
                    0.762083,
                    0.73,
                    0.697083,
                    0.737083,
                    0.444167,
                    0.59,
                    0.54125,
                    0.631667,
                    0.58875,
                    0.489167,
                    0.632917,
                    0.7475,
                    0.863333,
                    0.9225,
                    0.867083,
                    0.787917,
                    0.837917,
                    0.87,
                    0.829583,
                    0.719583,
                    0.626667,
                    0.749583,
                    0.81,
                    0.740833,
                    0.69625,
                    0.6775,
                    0.65375,
                    0.729583,
                    0.81875,
                    0.685,
                    0.636667,
                    0.677083,
                    0.305,
                    0.354167,
                    0.45625,
                    0.6525,
                    0.6,
                    0.597917,
                    0.622083,
                    0.568333,
                    0.605,
                    0.654583,
                    0.747917,
                    0.494583,
                    0.507083,
                    0.471667,
                    0.688333,
                    0.735833,
                    0.670417,
                    0.666667,
                    0.74625,
                    0.770417,
                    0.7075,
                    0.703333,
                    0.573333,
                    0.483333,
                    0.513333,
                    0.658333,
                    0.634167,
                    0.497917,
                    0.434167,
                    0.39625,
                    0.444583,
                    0.6825,
                    0.637917,
                    0.590417,
                    0.743333,
                    0.65125,
                    0.757917,
                    0.609167,
                    0.578333,
                    0.635833,
                    0.559167,
                    0.631667,
                    0.47625,
                    0.59125,
                    0.585,
                    0.604167,
                    0.65125,
                    0.650417,
                    0.707083,
                    0.69125,
                    0.580417,
                    0.5,
                    0.550833,
                    0.757083,
                    0.540833,
                    0.402917,
                    0.583333,
                    0.5425,
                    0.465833,
                    0.480833,
                    0.550833,
                    0.49125,
                    0.6575,
                    0.7575,
                    0.630833,
                    0.755,
                    0.752917,
                    0.592083,
                    0.570417,
                    0.424167,
                    0.42375,
                    0.415,
                    0.729583,
                    0.8175,
                    0.712083,
                    0.578333,
                    0.575417,
                    0.654583,
                    0.722917,
                    0.674167,
                    0.77,
                    0.47,
                    0.455417,
                    0.605,
                    0.771667,
                    0.76125,
                    0.85,
                    0.561765,
                    0.554583,
                    0.548333,
                    0.597917,
                    0.639167,
                    0.727083,
                    0.716667,
                    0.742083,
                    0.790417,
                    0.886957,
                    0.917083,
                    0.939565,
                    0.897917,
                    0.75375,
                    0.71375,
                    0.692174,
                    0.7125,
                    0.697083,
                    0.709167,
                    0.590417,
                    0.718333,
                    0.695,
                    0.69,
                    0.88125,
                    0.9,
                    0.902083,
                    0.9725,
                    0.8625,
                    0.845,
                    0.848333,
                    0.885417,
                    0.84875,
                    0.699167,
                    0.6475,
                    0.75375,
                    0.791667,
                    0.760833,
                    0.71,
                    0.647917,
                    0.620833,
                    0.684167,
                    0.70125,
                    0.7275,
                    0.73375,
                    0.80875,
                    0.90625,
                    0.896667,
                    0.71625,
                    0.483333,
                    0.486667,
                    0.579583,
                    0.701667,
                    0.895217,
                    0.63625,
                    0.574167,
                    0.629167,
                    0.74125,
                    0.772083,
                    0.622917,
                    0.720417,
                    0.812917,
                    0.585833,
                    0.8825,
                    0.62375,
                    0.703333,
                    0.68375,
                    0.71875,
                    0.702083,
                    0.6225,
                    0.519167,
                    0.734583,
                    0.75875,
                    0.721667,
                    0.758333,
                    0.813333,
                    0.44625,
                    0.552917,
                    0.458333,
                    0.587083,
                    0.68875,
                    0.93,
                    0.575833,
                    0.41,
                    0.502083,
                    0.684583,
                    0.91,
                    0.9625,
                    0.757917,
                    0.549167,
                    0.64375,
                    0.681667,
                    0.698333,
                    0.743043,
                    0.830833,
                    0.613333,
                    0.524583,
                    0.625833,
                    0.612917,
                    0.775833,
                    0.827083,
                    0.949583,
                    0.970417,
                    0.58,
                    0.695833,
                    0.5075,
                    0.49,
                    0.670833,
                    0.59,
                    0.66375,
                    0.634167,
                    0.500417,
                    0.560833,
                    0.58625,
                    0.6375,
                    0.595417,
                    0.858333,
                    0.7575,
                    0.68625,
                    0.5425,
                    0.681304,
                    0.506957,
                    0.7625,
                    0.503913,
                    0.574167,
                    0.636667,
                    0.615833,
                    0.6925,
                    0.381304,
                    0.44125,
                    0.414583,
                    0.524167,
                    0.542083,
                    0.531667,
                    0.465,
                    0.701667,
                    0.646522,
                    0.8475,
                    0.802917,
                    0.5075,
                    0.4575,
                    0.419167,
                    0.5225,
                    0.716087,
                    0.443333,
                    0.4975,
                    0.45,
                    0.83125,
                    0.79625,
                    0.91125,
                    0.835833,
                    0.64375,
                    0.769583,
                    0.74125,
                    0.543333,
                    0.31125,
                    0.400833,
                    0.416667,
                    0.507917,
                    0.672917,
                    0.526667,
                    0.779583,
                    0.687917,
                    0.622174,
                    0.49625,
                    0.722917,
                    0.562083,
                    0.54,
                    0.73125,
                    0.464583,
                    0.41125,
                    0.50875,
                    0.53125,
                    0.752917,
                    0.634583,
                    0.534583,
                    0.515833,
                    0.507826,
                    0.594348,
                    0.567917,
                    0.554583,
                    0.7375,
                    0.395833,
                    0.41,
                    0.490833,
                    0.395833,
                    0.804783,
                    0.615417,
                    0.657083,
                    0.62125,
                    0.403333,
                    0.50625,
                    0.456667,
                    0.513333,
                    0.5675,
                    0.407083,
                    0.350417,
                    0.476957,
                    0.489167,
                    0.6175,
                    0.507083,
                    0.579583,
                    0.842083,
                    0.755833,
                    0.81,
                    0.72875,
                    0.807917,
                    0.82125,
                    0.83125,
                    0.694167,
                    0.885417,
                    0.880833,
                    0.477917,
                    0.29,
                    0.48125,
                    0.439167,
                    0.580833,
                    0.738333,
                    0.67625,
                    0.504348,
                    0.396667,
                    0.469583,
                    0.374167,
                    0.377083,
                    0.254167,
                    0.275833,
                    0.3175,
                    0.435,
                    0.469565,
                    0.46625,
                    0.408333,
                    0.502917,
                    0.507917,
                    0.561667,
                    0.390417,
                    0.569167,
                    0.6125,
                    0.694583,
                    0.682917,
                    0.835417,
                    0.766667,
                    0.454167,
                    0.427917,
                    0.756667,
                    0.400833,
                    0.489583,
                    0.587083,
                    0.57,
                    0.659583,
                    0.797083,
                    0.768333,
                    0.735417,
                    0.756667,
                    0.74,
                    0.664167,
                    0.685833,
                    0.744167,
                    0.552083,
                    0.360417,
                    0.480417,
                    0.57625,
                    0.789583,
                    0.794583,
                    0.697917,
                    0.52,
                    0.523333,
                    0.45625,
                    0.530417,
                    0.81125,
                    0.765833,
                    0.774583,
                    0.716667,
                    0.747083,
                    0.7325,
                    0.697083,
                    0.67625,
                    0.684583,
                    0.67,
                    0.492917,
                    0.755417,
                    0.549167,
                    0.493333,
                    0.487083,
                    0.613333,
                    0.61125,
                    0.567083,
                    0.467917,
                    0.437083,
                    0.538333,
                    0.587917,
                    0.833333,
                    0.582083,
                    0.569583,
                    0.589583,
                    0.504167,
                    0.59875,
                    0.777917,
                    0.69,
                    0.592083,
                    0.567917,
                    0.57375,
                    0.534583,
                    0.479167,
                    0.504167,
                    0.373333,
                    0.36,
                    0.4225,
                    0.48875,
                    0.60125,
                    0.51875,
                    0.447083,
                    0.492083,
                    0.53875,
                    0.457917,
                    0.450833,
                    0.492083,
                    0.57375,
                    0.683333,
                    0.6675,
                    0.633333,
                    0.529583,
                    0.485833,
                    0.699167,
                    0.717917,
                    0.645,
                    0.505833,
                    0.577083,
                    0.600417,
                    0.844167,
                    0.865417,
                    0.7625,
                    0.694167,
                    0.655,
                    0.45,
                    0.596667,
                    0.594583,
                    0.613333,
                    0.62375,
                    0.66875,
                    0.704167,
                    0.6775,
                    0.659583,
                    0.6425,
                    0.613333,
                    0.6525,
                    0.654167,
                    0.70375,
                    0.672917,
                    0.620417,
                    0.715833,
                    0.732917,
                    0.530417,
                    0.545417,
                    0.686667,
                    0.619583,
                    0.519167,
                    0.570833,
                    0.603333,
                    0.711667,
                    0.734167,
                    0.67375,
                    0.677083,
                    0.635833,
                    0.615,
                    0.712917,
                    0.845833,
                    0.730417,
                    0.62,
                    0.552083,
                    0.590417,
                    0.5875,
                    0.638333,
                    0.815,
                    0.790833,
                    0.755,
                    0.74125,
                    0.810417,
                    0.73625,
                    0.799167,
                    0.5475,
                    0.50375,
                    0.52,
                    0.577083,
                    0.637083,
                    0.6725,
                    0.501667,
                    0.57,
                    0.734583,
                    0.8725,
                    0.536667,
                    0.618333,
                    0.66875,
                    0.646667,
                    0.467083,
                    0.492917,
                    0.57,
                    0.630833,
                    0.690833,
                    0.69,
                    0.542917,
                    0.583333,
                    0.649167,
                    0.871667,
                    0.79375,
                    0.722917,
                    0.6275,
                    0.664167,
                    0.708333,
                    0.709583,
                    0.761667,
                    0.630833,
                    0.463333,
                    0.539167,
                    0.494583,
                    0.640417,
                    0.7075,
                    0.558333,
                    0.692917,
                    0.728333,
                    0.815,
                    0.572917,
                    0.51,
                    0.568333,
                    0.641667,
                    0.63625,
                    0.800417,
                    0.807083,
                    0.72,
                    0.694583,
                    0.88,
                    0.825455,
                    0.666667,
                    0.581667,
                    0.522083,
                    0.49125,
                    0.532917,
                    0.494167,
                    0.567083,
                    0.5475,
                    0.333478,
                    0.540833,
                    0.645417,
                    0.659167,
                    0.741667,
                    0.662917,
                    0.552083,
                    0.620417,
                    0.524583,
                    0.545417,
                    0.692917,
                    0.623333,
                    0.685,
                    0.61375,
                    0.580417,
                    0.56875,
                    0.404583,
                    0.468333,
                    0.535417,
                    0.786667,
                    0.50625,
                    0.555652,
                    0.649583,
                    0.806667,
                    0.823333,
                    0.7675,
                    0.73375,
                    0.485,
                    0.50875,
                    0.764167,
                    0.91125,
                    0.905417,
                    0.925,
                    0.596667,
                    0.538333,
                    0.485833,
                    0.642917,
                    0.650417,
                    0.83875,
                    0.907083,
                    0.66625,
                    0.625417,
                    0.667917,
                    0.556667,
                    0.44125,
                    0.515417,
                    0.791304,
                    0.734783,
                    0.823333,
                    0.652917,
                    0.59,
                    0.752917,
                    0.483333,
                    0.5775
                  ],
                  "xaxis": "x",
                  "y": [
                    985,
                    801,
                    1349,
                    1562,
                    1600,
                    1606,
                    1510,
                    959,
                    822,
                    1321,
                    1263,
                    1162,
                    1406,
                    1421,
                    1248,
                    1204,
                    1000,
                    683,
                    1650,
                    1927,
                    1543,
                    981,
                    986,
                    1416,
                    1985,
                    506,
                    431,
                    1167,
                    1098,
                    1096,
                    1501,
                    1360,
                    1526,
                    1550,
                    1708,
                    1005,
                    1623,
                    1712,
                    1530,
                    1605,
                    1538,
                    1746,
                    1472,
                    1589,
                    1913,
                    1815,
                    2115,
                    2475,
                    2927,
                    1635,
                    1812,
                    1107,
                    1450,
                    1917,
                    1807,
                    1461,
                    1969,
                    2402,
                    1446,
                    1851,
                    2134,
                    1685,
                    1944,
                    2077,
                    605,
                    1872,
                    2133,
                    1891,
                    623,
                    1977,
                    2132,
                    2417,
                    2046,
                    2056,
                    2192,
                    2744,
                    3239,
                    3117,
                    2471,
                    2077,
                    2703,
                    2121,
                    1865,
                    2210,
                    2496,
                    1693,
                    2028,
                    2425,
                    1536,
                    1685,
                    2227,
                    2252,
                    3249,
                    3115,
                    1795,
                    2808,
                    3141,
                    1471,
                    2455,
                    2895,
                    3348,
                    2034,
                    2162,
                    3267,
                    3126,
                    795,
                    3744,
                    3429,
                    3204,
                    3944,
                    4189,
                    1683,
                    4036,
                    4191,
                    4073,
                    4400,
                    3872,
                    4058,
                    4595,
                    5312,
                    3351,
                    4401,
                    4451,
                    2633,
                    4433,
                    4608,
                    4714,
                    4333,
                    4362,
                    4803,
                    4182,
                    4864,
                    4105,
                    3409,
                    4553,
                    3958,
                    4123,
                    3855,
                    4575,
                    4917,
                    5805,
                    4660,
                    4274,
                    4492,
                    4978,
                    4677,
                    4679,
                    4758,
                    4788,
                    4098,
                    3982,
                    3974,
                    4968,
                    5312,
                    5342,
                    4906,
                    4548,
                    4833,
                    4401,
                    3915,
                    4586,
                    4966,
                    4460,
                    5020,
                    4891,
                    5180,
                    3767,
                    4844,
                    5119,
                    4744,
                    4010,
                    4835,
                    4507,
                    4790,
                    4991,
                    5202,
                    5305,
                    4708,
                    4648,
                    5225,
                    5515,
                    5362,
                    5119,
                    4649,
                    6043,
                    4665,
                    4629,
                    4592,
                    4040,
                    5336,
                    4881,
                    4086,
                    4258,
                    4342,
                    5084,
                    5538,
                    5923,
                    5302,
                    4458,
                    4541,
                    4332,
                    3784,
                    3387,
                    3285,
                    3606,
                    3840,
                    4590,
                    4656,
                    4390,
                    3846,
                    4475,
                    4302,
                    4266,
                    4845,
                    3574,
                    4576,
                    4866,
                    4294,
                    3785,
                    4326,
                    4602,
                    4780,
                    4792,
                    4905,
                    4150,
                    3820,
                    4338,
                    4725,
                    4694,
                    3805,
                    4153,
                    5191,
                    3873,
                    4758,
                    5895,
                    5130,
                    3542,
                    4661,
                    1115,
                    4334,
                    4634,
                    5204,
                    5058,
                    5115,
                    4727,
                    4484,
                    4940,
                    3351,
                    2710,
                    1996,
                    1842,
                    3544,
                    5345,
                    5046,
                    4713,
                    4763,
                    4785,
                    3659,
                    4760,
                    4511,
                    4274,
                    4539,
                    3641,
                    4352,
                    4795,
                    2395,
                    5423,
                    5010,
                    4630,
                    4120,
                    3907,
                    4839,
                    5202,
                    2429,
                    2918,
                    3570,
                    4456,
                    4826,
                    4765,
                    4985,
                    5409,
                    5511,
                    5117,
                    4563,
                    2416,
                    2913,
                    3644,
                    5217,
                    5041,
                    4570,
                    4748,
                    2424,
                    4195,
                    4304,
                    4308,
                    4381,
                    4187,
                    4687,
                    3894,
                    2659,
                    3747,
                    627,
                    3331,
                    3669,
                    4068,
                    4186,
                    3974,
                    4046,
                    3926,
                    3649,
                    4035,
                    4205,
                    4109,
                    2933,
                    3368,
                    4067,
                    3717,
                    4486,
                    4195,
                    1817,
                    3053,
                    3392,
                    3663,
                    3520,
                    2765,
                    1607,
                    2566,
                    1495,
                    2792,
                    3068,
                    3071,
                    3867,
                    2914,
                    3613,
                    3727,
                    3940,
                    3614,
                    3485,
                    3811,
                    2594,
                    705,
                    3322,
                    3620,
                    3190,
                    2743,
                    3310,
                    3523,
                    3740,
                    3709,
                    3577,
                    2739,
                    2431,
                    3403,
                    3750,
                    2660,
                    3068,
                    2209,
                    1011,
                    754,
                    1317,
                    1162,
                    2302,
                    2423,
                    2999,
                    2485,
                    2294,
                    1951,
                    2236,
                    2368,
                    3272,
                    4098,
                    4521,
                    3425,
                    2376,
                    3598,
                    2177,
                    4097,
                    3214,
                    2493,
                    2311,
                    2298,
                    2935,
                    3376,
                    3292,
                    3163,
                    1301,
                    1977,
                    2432,
                    4339,
                    4270,
                    4075,
                    3456,
                    4023,
                    3243,
                    3624,
                    4509,
                    4579,
                    3761,
                    4151,
                    2832,
                    2947,
                    3784,
                    4375,
                    2802,
                    3830,
                    3831,
                    2169,
                    1529,
                    3422,
                    3922,
                    4169,
                    3005,
                    4154,
                    4318,
                    2689,
                    3129,
                    3777,
                    4773,
                    5062,
                    3487,
                    2732,
                    3389,
                    4322,
                    4363,
                    1834,
                    4990,
                    3194,
                    4066,
                    3423,
                    3333,
                    3956,
                    4916,
                    5382,
                    4569,
                    4118,
                    4911,
                    5298,
                    5847,
                    6312,
                    6192,
                    4378,
                    7836,
                    5892,
                    6153,
                    6093,
                    6230,
                    6871,
                    8362,
                    3372,
                    4996,
                    5558,
                    5102,
                    5698,
                    6133,
                    5459,
                    6235,
                    6041,
                    5936,
                    6772,
                    6436,
                    6457,
                    6460,
                    6857,
                    5169,
                    5585,
                    5918,
                    4862,
                    5409,
                    6398,
                    7460,
                    7132,
                    6370,
                    6691,
                    4367,
                    6565,
                    7290,
                    6624,
                    1027,
                    3214,
                    5633,
                    6196,
                    5026,
                    6233,
                    4220,
                    6304,
                    5572,
                    5740,
                    6169,
                    6421,
                    6296,
                    6883,
                    6359,
                    6273,
                    5728,
                    4717,
                    6572,
                    7030,
                    7429,
                    6118,
                    2843,
                    5115,
                    7424,
                    7384,
                    7639,
                    8294,
                    7129,
                    4359,
                    6073,
                    5260,
                    6770,
                    6734,
                    6536,
                    6591,
                    6043,
                    5743,
                    6855,
                    7338,
                    4127,
                    8120,
                    7641,
                    6998,
                    7001,
                    7055,
                    7494,
                    7736,
                    7498,
                    6598,
                    6664,
                    4972,
                    7421,
                    7363,
                    7665,
                    7702,
                    6978,
                    5099,
                    6825,
                    6211,
                    5905,
                    5823,
                    7458,
                    6891,
                    6779,
                    7442,
                    7335,
                    6879,
                    5463,
                    5687,
                    5531,
                    6227,
                    6660,
                    7403,
                    6241,
                    6207,
                    4840,
                    4672,
                    6569,
                    6290,
                    7264,
                    7446,
                    7499,
                    6969,
                    6031,
                    6830,
                    6786,
                    5713,
                    6591,
                    5870,
                    4459,
                    7410,
                    6966,
                    7592,
                    8173,
                    6861,
                    6904,
                    6685,
                    6597,
                    7105,
                    7216,
                    7580,
                    7261,
                    7175,
                    6824,
                    5464,
                    7013,
                    7273,
                    7534,
                    7286,
                    5786,
                    6299,
                    6544,
                    6883,
                    6784,
                    7347,
                    7605,
                    7148,
                    7865,
                    4549,
                    6530,
                    7006,
                    7375,
                    7765,
                    7582,
                    6053,
                    5255,
                    6917,
                    7040,
                    7697,
                    7713,
                    7350,
                    6140,
                    5810,
                    6034,
                    6864,
                    7112,
                    6203,
                    7504,
                    5976,
                    8227,
                    7525,
                    7767,
                    7870,
                    7804,
                    8009,
                    8714,
                    7333,
                    6869,
                    4073,
                    7591,
                    7720,
                    8167,
                    8395,
                    7907,
                    7436,
                    7538,
                    7733,
                    7393,
                    7415,
                    8555,
                    6889,
                    6778,
                    4639,
                    7572,
                    7328,
                    8156,
                    7965,
                    3510,
                    5478,
                    6392,
                    7691,
                    7570,
                    7282,
                    7109,
                    6639,
                    5875,
                    7534,
                    7461,
                    7509,
                    5424,
                    8090,
                    6824,
                    7058,
                    7466,
                    7693,
                    7359,
                    7444,
                    7852,
                    4459,
                    22,
                    1096,
                    5566,
                    5986,
                    5847,
                    5138,
                    5107,
                    5259,
                    5686,
                    5035,
                    5315,
                    5992,
                    6536,
                    6852,
                    6269,
                    4094,
                    5495,
                    5445,
                    5698,
                    5629,
                    4669,
                    5499,
                    5634,
                    5146,
                    2425,
                    3910,
                    2277,
                    2424,
                    5087,
                    3959,
                    5260,
                    5323,
                    5668,
                    5191,
                    4649,
                    6234,
                    6606,
                    5729,
                    5375,
                    5008,
                    5582,
                    3228,
                    5170,
                    5501,
                    5319,
                    5532,
                    5611,
                    5047,
                    3786,
                    4585,
                    5557,
                    5267,
                    4128,
                    3623,
                    1749,
                    1787,
                    920,
                    1013,
                    441,
                    2114,
                    3095,
                    1341,
                    1796,
                    2729
                  ],
                  "yaxis": "y"
                }
              ],
              "layout": {
                "legend": {
                  "tracegroupgap": 0
                },
                "template": {
                  "data": {
                    "bar": [
                      {
                        "error_x": {
                          "color": "#2a3f5f"
                        },
                        "error_y": {
                          "color": "#2a3f5f"
                        },
                        "marker": {
                          "line": {
                            "color": "#E5ECF6",
                            "width": 0.5
                          },
                          "pattern": {
                            "fillmode": "overlay",
                            "size": 10,
                            "solidity": 0.2
                          }
                        },
                        "type": "bar"
                      }
                    ],
                    "barpolar": [
                      {
                        "marker": {
                          "line": {
                            "color": "#E5ECF6",
                            "width": 0.5
                          },
                          "pattern": {
                            "fillmode": "overlay",
                            "size": 10,
                            "solidity": 0.2
                          }
                        },
                        "type": "barpolar"
                      }
                    ],
                    "carpet": [
                      {
                        "aaxis": {
                          "endlinecolor": "#2a3f5f",
                          "gridcolor": "white",
                          "linecolor": "white",
                          "minorgridcolor": "white",
                          "startlinecolor": "#2a3f5f"
                        },
                        "baxis": {
                          "endlinecolor": "#2a3f5f",
                          "gridcolor": "white",
                          "linecolor": "white",
                          "minorgridcolor": "white",
                          "startlinecolor": "#2a3f5f"
                        },
                        "type": "carpet"
                      }
                    ],
                    "choropleth": [
                      {
                        "colorbar": {
                          "outlinewidth": 0,
                          "ticks": ""
                        },
                        "type": "choropleth"
                      }
                    ],
                    "contour": [
                      {
                        "colorbar": {
                          "outlinewidth": 0,
                          "ticks": ""
                        },
                        "colorscale": [
                          [
                            0,
                            "#0d0887"
                          ],
                          [
                            0.1111111111111111,
                            "#46039f"
                          ],
                          [
                            0.2222222222222222,
                            "#7201a8"
                          ],
                          [
                            0.3333333333333333,
                            "#9c179e"
                          ],
                          [
                            0.4444444444444444,
                            "#bd3786"
                          ],
                          [
                            0.5555555555555556,
                            "#d8576b"
                          ],
                          [
                            0.6666666666666666,
                            "#ed7953"
                          ],
                          [
                            0.7777777777777778,
                            "#fb9f3a"
                          ],
                          [
                            0.8888888888888888,
                            "#fdca26"
                          ],
                          [
                            1,
                            "#f0f921"
                          ]
                        ],
                        "type": "contour"
                      }
                    ],
                    "contourcarpet": [
                      {
                        "colorbar": {
                          "outlinewidth": 0,
                          "ticks": ""
                        },
                        "type": "contourcarpet"
                      }
                    ],
                    "heatmap": [
                      {
                        "colorbar": {
                          "outlinewidth": 0,
                          "ticks": ""
                        },
                        "colorscale": [
                          [
                            0,
                            "#0d0887"
                          ],
                          [
                            0.1111111111111111,
                            "#46039f"
                          ],
                          [
                            0.2222222222222222,
                            "#7201a8"
                          ],
                          [
                            0.3333333333333333,
                            "#9c179e"
                          ],
                          [
                            0.4444444444444444,
                            "#bd3786"
                          ],
                          [
                            0.5555555555555556,
                            "#d8576b"
                          ],
                          [
                            0.6666666666666666,
                            "#ed7953"
                          ],
                          [
                            0.7777777777777778,
                            "#fb9f3a"
                          ],
                          [
                            0.8888888888888888,
                            "#fdca26"
                          ],
                          [
                            1,
                            "#f0f921"
                          ]
                        ],
                        "type": "heatmap"
                      }
                    ],
                    "heatmapgl": [
                      {
                        "colorbar": {
                          "outlinewidth": 0,
                          "ticks": ""
                        },
                        "colorscale": [
                          [
                            0,
                            "#0d0887"
                          ],
                          [
                            0.1111111111111111,
                            "#46039f"
                          ],
                          [
                            0.2222222222222222,
                            "#7201a8"
                          ],
                          [
                            0.3333333333333333,
                            "#9c179e"
                          ],
                          [
                            0.4444444444444444,
                            "#bd3786"
                          ],
                          [
                            0.5555555555555556,
                            "#d8576b"
                          ],
                          [
                            0.6666666666666666,
                            "#ed7953"
                          ],
                          [
                            0.7777777777777778,
                            "#fb9f3a"
                          ],
                          [
                            0.8888888888888888,
                            "#fdca26"
                          ],
                          [
                            1,
                            "#f0f921"
                          ]
                        ],
                        "type": "heatmapgl"
                      }
                    ],
                    "histogram": [
                      {
                        "marker": {
                          "pattern": {
                            "fillmode": "overlay",
                            "size": 10,
                            "solidity": 0.2
                          }
                        },
                        "type": "histogram"
                      }
                    ],
                    "histogram2d": [
                      {
                        "colorbar": {
                          "outlinewidth": 0,
                          "ticks": ""
                        },
                        "colorscale": [
                          [
                            0,
                            "#0d0887"
                          ],
                          [
                            0.1111111111111111,
                            "#46039f"
                          ],
                          [
                            0.2222222222222222,
                            "#7201a8"
                          ],
                          [
                            0.3333333333333333,
                            "#9c179e"
                          ],
                          [
                            0.4444444444444444,
                            "#bd3786"
                          ],
                          [
                            0.5555555555555556,
                            "#d8576b"
                          ],
                          [
                            0.6666666666666666,
                            "#ed7953"
                          ],
                          [
                            0.7777777777777778,
                            "#fb9f3a"
                          ],
                          [
                            0.8888888888888888,
                            "#fdca26"
                          ],
                          [
                            1,
                            "#f0f921"
                          ]
                        ],
                        "type": "histogram2d"
                      }
                    ],
                    "histogram2dcontour": [
                      {
                        "colorbar": {
                          "outlinewidth": 0,
                          "ticks": ""
                        },
                        "colorscale": [
                          [
                            0,
                            "#0d0887"
                          ],
                          [
                            0.1111111111111111,
                            "#46039f"
                          ],
                          [
                            0.2222222222222222,
                            "#7201a8"
                          ],
                          [
                            0.3333333333333333,
                            "#9c179e"
                          ],
                          [
                            0.4444444444444444,
                            "#bd3786"
                          ],
                          [
                            0.5555555555555556,
                            "#d8576b"
                          ],
                          [
                            0.6666666666666666,
                            "#ed7953"
                          ],
                          [
                            0.7777777777777778,
                            "#fb9f3a"
                          ],
                          [
                            0.8888888888888888,
                            "#fdca26"
                          ],
                          [
                            1,
                            "#f0f921"
                          ]
                        ],
                        "type": "histogram2dcontour"
                      }
                    ],
                    "mesh3d": [
                      {
                        "colorbar": {
                          "outlinewidth": 0,
                          "ticks": ""
                        },
                        "type": "mesh3d"
                      }
                    ],
                    "parcoords": [
                      {
                        "line": {
                          "colorbar": {
                            "outlinewidth": 0,
                            "ticks": ""
                          }
                        },
                        "type": "parcoords"
                      }
                    ],
                    "pie": [
                      {
                        "automargin": true,
                        "type": "pie"
                      }
                    ],
                    "scatter": [
                      {
                        "fillpattern": {
                          "fillmode": "overlay",
                          "size": 10,
                          "solidity": 0.2
                        },
                        "type": "scatter"
                      }
                    ],
                    "scatter3d": [
                      {
                        "line": {
                          "colorbar": {
                            "outlinewidth": 0,
                            "ticks": ""
                          }
                        },
                        "marker": {
                          "colorbar": {
                            "outlinewidth": 0,
                            "ticks": ""
                          }
                        },
                        "type": "scatter3d"
                      }
                    ],
                    "scattercarpet": [
                      {
                        "marker": {
                          "colorbar": {
                            "outlinewidth": 0,
                            "ticks": ""
                          }
                        },
                        "type": "scattercarpet"
                      }
                    ],
                    "scattergeo": [
                      {
                        "marker": {
                          "colorbar": {
                            "outlinewidth": 0,
                            "ticks": ""
                          }
                        },
                        "type": "scattergeo"
                      }
                    ],
                    "scattergl": [
                      {
                        "marker": {
                          "colorbar": {
                            "outlinewidth": 0,
                            "ticks": ""
                          }
                        },
                        "type": "scattergl"
                      }
                    ],
                    "scattermapbox": [
                      {
                        "marker": {
                          "colorbar": {
                            "outlinewidth": 0,
                            "ticks": ""
                          }
                        },
                        "type": "scattermapbox"
                      }
                    ],
                    "scatterpolar": [
                      {
                        "marker": {
                          "colorbar": {
                            "outlinewidth": 0,
                            "ticks": ""
                          }
                        },
                        "type": "scatterpolar"
                      }
                    ],
                    "scatterpolargl": [
                      {
                        "marker": {
                          "colorbar": {
                            "outlinewidth": 0,
                            "ticks": ""
                          }
                        },
                        "type": "scatterpolargl"
                      }
                    ],
                    "scatterternary": [
                      {
                        "marker": {
                          "colorbar": {
                            "outlinewidth": 0,
                            "ticks": ""
                          }
                        },
                        "type": "scatterternary"
                      }
                    ],
                    "surface": [
                      {
                        "colorbar": {
                          "outlinewidth": 0,
                          "ticks": ""
                        },
                        "colorscale": [
                          [
                            0,
                            "#0d0887"
                          ],
                          [
                            0.1111111111111111,
                            "#46039f"
                          ],
                          [
                            0.2222222222222222,
                            "#7201a8"
                          ],
                          [
                            0.3333333333333333,
                            "#9c179e"
                          ],
                          [
                            0.4444444444444444,
                            "#bd3786"
                          ],
                          [
                            0.5555555555555556,
                            "#d8576b"
                          ],
                          [
                            0.6666666666666666,
                            "#ed7953"
                          ],
                          [
                            0.7777777777777778,
                            "#fb9f3a"
                          ],
                          [
                            0.8888888888888888,
                            "#fdca26"
                          ],
                          [
                            1,
                            "#f0f921"
                          ]
                        ],
                        "type": "surface"
                      }
                    ],
                    "table": [
                      {
                        "cells": {
                          "fill": {
                            "color": "#EBF0F8"
                          },
                          "line": {
                            "color": "white"
                          }
                        },
                        "header": {
                          "fill": {
                            "color": "#C8D4E3"
                          },
                          "line": {
                            "color": "white"
                          }
                        },
                        "type": "table"
                      }
                    ]
                  },
                  "layout": {
                    "annotationdefaults": {
                      "arrowcolor": "#2a3f5f",
                      "arrowhead": 0,
                      "arrowwidth": 1
                    },
                    "autotypenumbers": "strict",
                    "coloraxis": {
                      "colorbar": {
                        "outlinewidth": 0,
                        "ticks": ""
                      }
                    },
                    "colorscale": {
                      "diverging": [
                        [
                          0,
                          "#8e0152"
                        ],
                        [
                          0.1,
                          "#c51b7d"
                        ],
                        [
                          0.2,
                          "#de77ae"
                        ],
                        [
                          0.3,
                          "#f1b6da"
                        ],
                        [
                          0.4,
                          "#fde0ef"
                        ],
                        [
                          0.5,
                          "#f7f7f7"
                        ],
                        [
                          0.6,
                          "#e6f5d0"
                        ],
                        [
                          0.7,
                          "#b8e186"
                        ],
                        [
                          0.8,
                          "#7fbc41"
                        ],
                        [
                          0.9,
                          "#4d9221"
                        ],
                        [
                          1,
                          "#276419"
                        ]
                      ],
                      "sequential": [
                        [
                          0,
                          "#0d0887"
                        ],
                        [
                          0.1111111111111111,
                          "#46039f"
                        ],
                        [
                          0.2222222222222222,
                          "#7201a8"
                        ],
                        [
                          0.3333333333333333,
                          "#9c179e"
                        ],
                        [
                          0.4444444444444444,
                          "#bd3786"
                        ],
                        [
                          0.5555555555555556,
                          "#d8576b"
                        ],
                        [
                          0.6666666666666666,
                          "#ed7953"
                        ],
                        [
                          0.7777777777777778,
                          "#fb9f3a"
                        ],
                        [
                          0.8888888888888888,
                          "#fdca26"
                        ],
                        [
                          1,
                          "#f0f921"
                        ]
                      ],
                      "sequentialminus": [
                        [
                          0,
                          "#0d0887"
                        ],
                        [
                          0.1111111111111111,
                          "#46039f"
                        ],
                        [
                          0.2222222222222222,
                          "#7201a8"
                        ],
                        [
                          0.3333333333333333,
                          "#9c179e"
                        ],
                        [
                          0.4444444444444444,
                          "#bd3786"
                        ],
                        [
                          0.5555555555555556,
                          "#d8576b"
                        ],
                        [
                          0.6666666666666666,
                          "#ed7953"
                        ],
                        [
                          0.7777777777777778,
                          "#fb9f3a"
                        ],
                        [
                          0.8888888888888888,
                          "#fdca26"
                        ],
                        [
                          1,
                          "#f0f921"
                        ]
                      ]
                    },
                    "colorway": [
                      "#636efa",
                      "#EF553B",
                      "#00cc96",
                      "#ab63fa",
                      "#FFA15A",
                      "#19d3f3",
                      "#FF6692",
                      "#B6E880",
                      "#FF97FF",
                      "#FECB52"
                    ],
                    "font": {
                      "color": "#2a3f5f"
                    },
                    "geo": {
                      "bgcolor": "white",
                      "lakecolor": "white",
                      "landcolor": "#E5ECF6",
                      "showlakes": true,
                      "showland": true,
                      "subunitcolor": "white"
                    },
                    "hoverlabel": {
                      "align": "left"
                    },
                    "hovermode": "closest",
                    "mapbox": {
                      "style": "light"
                    },
                    "paper_bgcolor": "white",
                    "plot_bgcolor": "#E5ECF6",
                    "polar": {
                      "angularaxis": {
                        "gridcolor": "white",
                        "linecolor": "white",
                        "ticks": ""
                      },
                      "bgcolor": "#E5ECF6",
                      "radialaxis": {
                        "gridcolor": "white",
                        "linecolor": "white",
                        "ticks": ""
                      }
                    },
                    "scene": {
                      "xaxis": {
                        "backgroundcolor": "#E5ECF6",
                        "gridcolor": "white",
                        "gridwidth": 2,
                        "linecolor": "white",
                        "showbackground": true,
                        "ticks": "",
                        "zerolinecolor": "white"
                      },
                      "yaxis": {
                        "backgroundcolor": "#E5ECF6",
                        "gridcolor": "white",
                        "gridwidth": 2,
                        "linecolor": "white",
                        "showbackground": true,
                        "ticks": "",
                        "zerolinecolor": "white"
                      },
                      "zaxis": {
                        "backgroundcolor": "#E5ECF6",
                        "gridcolor": "white",
                        "gridwidth": 2,
                        "linecolor": "white",
                        "showbackground": true,
                        "ticks": "",
                        "zerolinecolor": "white"
                      }
                    },
                    "shapedefaults": {
                      "line": {
                        "color": "#2a3f5f"
                      }
                    },
                    "ternary": {
                      "aaxis": {
                        "gridcolor": "white",
                        "linecolor": "white",
                        "ticks": ""
                      },
                      "baxis": {
                        "gridcolor": "white",
                        "linecolor": "white",
                        "ticks": ""
                      },
                      "bgcolor": "#E5ECF6",
                      "caxis": {
                        "gridcolor": "white",
                        "linecolor": "white",
                        "ticks": ""
                      }
                    },
                    "title": {
                      "x": 0.05
                    },
                    "xaxis": {
                      "automargin": true,
                      "gridcolor": "white",
                      "linecolor": "white",
                      "ticks": "",
                      "title": {
                        "standoff": 15
                      },
                      "zerolinecolor": "white",
                      "zerolinewidth": 2
                    },
                    "yaxis": {
                      "automargin": true,
                      "gridcolor": "white",
                      "linecolor": "white",
                      "ticks": "",
                      "title": {
                        "standoff": 15
                      },
                      "zerolinecolor": "white",
                      "zerolinewidth": 2
                    }
                  }
                },
                "title": {
                  "text": "Hubungan Antara Kelembapan (hum) dan Jumlah Penyewaan"
                },
                "xaxis": {
                  "anchor": "y",
                  "domain": [
                    0,
                    1
                  ],
                  "title": {
                    "text": "Humidity"
                  }
                },
                "yaxis": {
                  "anchor": "x",
                  "domain": [
                    0,
                    1
                  ],
                  "title": {
                    "text": "Jumlah Penyewaan"
                  }
                }
              }
            }
          },
          "metadata": {},
          "output_type": "display_data"
        }
      ],
      "source": [
        "# Hubungan antara suhu (temp) dan penyewaan\n",
        "fig = px.scatter(day_df, x='temp', y='count',\n",
        "                 title=\"Hubungan Antara Suhu (temp) dan Jumlah Penyewaan\",\n",
        "                 labels={\"temp\": \"Temperature\", \"count\": \"Jumlah Penyewaan\"})\n",
        "fig.show()\n",
        "\n",
        "# Hubungan antara 'feels like' suhu (atemp) dan penyewaan\n",
        "fig = px.scatter(day_df, x='atemp', y='count',\n",
        "                 title=\"Hubungan Antara Feels Like Temperature (atemp) dan Jumlah Penyewaan\",\n",
        "                 labels={\"atemp\": \"Atemp\", \"count\": \"Jumlah Penyewaan\"})\n",
        "fig.show()\n",
        "\n",
        "# Hubungan antara kelembapan (hum) dan penyewaan\n",
        "fig = px.scatter(day_df, x='hum', y='count',\n",
        "                 title=\"Hubungan Antara Kelembapan (hum) dan Jumlah Penyewaan\",\n",
        "                 labels={\"hum\": \"Humidity\", \"count\": \"Jumlah Penyewaan\"})\n",
        "fig.show()"
      ]
    },
    {
      "cell_type": "markdown",
      "metadata": {},
      "source": [
        "Analisis diatas menunjukkan bahwa suhu, baik suhu aktual maupun suhu yang dirasakan, memiliki korelasi positif dengan jumlah penyewaan sepeda. Artinya, semakin hangat suhu udara, semakin banyak orang yang cenderung menyewa sepeda. Sebaliknya, kelembapan udara yang tinggi menunjukkan korelasi negatif dengan jumlah penyewaan. Hal ini menunjukkan bahwa kondisi lembap dapat mengurangi minat orang untuk bersepeda, kemungkinan besar karena ketidaknyamanan yang ditimbulkan."
      ]
    },
    {
      "cell_type": "markdown",
      "metadata": {
        "id": "J2CnXYGT9Tc2"
      },
      "source": [
        "\n",
        "## **Conclusion**"
      ]
    },
    {
      "cell_type": "markdown",
      "metadata": {
        "id": "f73FBkLw9V8C"
      },
      "source": [
        "- Conclusion pertanyaan 1:\n",
        "Analisis data menunjukkan bahwa kondisi cuaca memiliki pengaruh yang signifikan terhadap jumlah penyewaan sepeda. Ketika cuaca tidak mendukung, seperti saat hujan salju ringan atau cuaca ekstrem, terjadi penurunan yang mencolok dalam jumlah penyewaan. Hal ini terlihat jelas dari analisis boxplot, yang mengonfirmasi bahwa cuaca merupakan faktor penting dalam menentukan aktivitas penyewaan sepeda.\n",
        "\n",
        "- conclusion pertanyaan 2:\n",
        "Analisis tren diatas dari tahun 2011 hingga 2012 menunjukkan adanya perbedaan pola yang signifikan. Perbedaan ini mengindikasikan bahwa terdapat faktor-faktor eksternal yang memengaruhi peningkatan jumlah penyewaan di tahun tertentu. Faktor-faktor tersebut dapat berupa promosi yang gencar, peningkatan kesadaran masyarakat akan manfaat bersepeda, atau pengembangan infrastruktur yang lebih baik untuk mendukung penggunaan sepeda.\n",
        "\n",
        "- Conclusion pertanyaan 3:\n",
        "erdasarkan analisis diatas menunjukkan perbedaan perilaku antara pelanggan kasual dan pelanggan terdaftar. Pelanggan terdaftar cenderung lebih aktif menyewa sepeda pada musim panas, kemungkinan besar untuk kegiatan aktivitas rutin lainnya. Sementara itu, pelanggan kasual menunjukkan preferensi yang lebih beragam, dengan peningkatan aktivitas penyewaan pada musim semi atau musim gugur, yang mungkin mencerminkan minat mereka pada kegiatan rekreasi di luar ruangan saat cuaca lebih nyaman.\n",
        "\n",
        "- conclusion pertanyaan 4:\n",
        "Pada gambar diatas menunjukkan perbedaan yang signifikan antara hari kerja dan akhir pekan. Pada hari kerja, pengguna terdaftar (Registered) cenderung lebih aktif. Sebaliknya, pada hari libur atau akhir pekan, terjadi peningkatan penyewaan oleh pengguna kasual (Casual), yang menunjukkan preferensi untuk penggunaan rekreasi atau santai. \n",
        "\n",
        "- Conclusion pertanyaan 5:\n",
        "Analisis diatas menunjukkan bahwa suhu, baik suhu aktual maupun suhu yang dirasakan, memiliki korelasi positif dengan jumlah penyewaan sepeda. Artinya, semakin hangat suhu udara, semakin banyak orang yang cenderung menyewa sepeda. Sebaliknya, kelembapan udara yang tinggi menunjukkan korelasi negatif dengan jumlah penyewaan. Hal ini menunjukkan bahwa kondisi lembap dapat mengurangi minat orang untuk bersepeda, kemungkinan besar karena ketidaknyamanan yang ditimbulkan."
      ]
    }
  ],
  "metadata": {
    "colab": {
      "provenance": []
    },
    "kernelspec": {
      "display_name": "Python 3",
      "name": "python3"
    },
    "language_info": {
      "codemirror_mode": {
        "name": "ipython",
        "version": 3
      },
      "file_extension": ".py",
      "mimetype": "text/x-python",
      "name": "python",
      "nbconvert_exporter": "python",
      "pygments_lexer": "ipython3",
      "version": "3.11.4"
    }
  },
  "nbformat": 4,
  "nbformat_minor": 0
}
